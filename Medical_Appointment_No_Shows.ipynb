{
  "nbformat": 4,
  "nbformat_minor": 0,
  "metadata": {
    "kernelspec": {
      "display_name": "Python [default]",
      "language": "python",
      "name": "python3"
    },
    "language_info": {
      "codemirror_mode": {
        "name": "ipython",
        "version": 3
      },
      "file_extension": ".py",
      "mimetype": "text/x-python",
      "name": "python",
      "nbconvert_exporter": "python",
      "pygments_lexer": "ipython3",
      "version": "3.5.3"
    },
    "colab": {
      "name": "Medical-Appointment-No-Shows.ipynb",
      "provenance": [],
      "collapsed_sections": [],
      "toc_visible": true,
      "include_colab_link": true
    },
    "accelerator": "TPU"
  },
  "cells": [
    {
      "cell_type": "markdown",
      "metadata": {
        "id": "view-in-github",
        "colab_type": "text"
      },
      "source": [
        "<a href=\"https://colab.research.google.com/github/dishankkalra23/Medical-Appointment-No-Shows/blob/main/Medical_Appointment_No_Shows.ipynb\" target=\"_parent\"><img src=\"https://colab.research.google.com/assets/colab-badge.svg\" alt=\"Open In Colab\"/></a>"
      ]
    },
    {
      "cell_type": "code",
      "metadata": {
        "id": "QgYpBB4u6wLQ"
      },
      "source": [
        "import os\n",
        "os.environ['KAGGLE_USERNAME'] = 'replace_this_with_your_kaggle_username'\n",
        "os.environ['KAGGLE_KEY'] = \"replace_this_with_your_kaggle_api_key\"\n",
        "!kaggle datasets download -d joniarroba/noshowappointments\n",
        "!mkdir -p input/\n",
        "!sudo unzip -oq /content/noshowappointments.zip -d input\n",
        "!rm /content/noshowappointments.zip"
      ],
      "execution_count": null,
      "outputs": []
    },
    {
      "cell_type": "markdown",
      "metadata": {
        "id": "BmfbjWRNOPeO"
      },
      "source": [
        "# Project: [Medical Appointment No Shows](https://www.kaggle.com/joniarroba/noshowappointments)\n",
        "\n",
        "In this notebook we will be analysing Medical Appointment No show dataset available at Kaggle"
      ]
    },
    {
      "cell_type": "markdown",
      "metadata": {
        "colab_type": "toc",
        "id": "tAhGZL4ucyhU"
      },
      "source": [
        ">[Project: Medical Appointment No Shows](#scrollTo=BmfbjWRNOPeO)\n",
        "\n",
        ">[Introduction](#scrollTo=Ty8z814ybwk5)\n",
        "\n",
        ">[Importing Libraries](#scrollTo=zy3dSfeNPPCc)\n",
        "\n",
        ">[Downloading dataset](#scrollTo=by5KNcWYVbXS)\n",
        "\n",
        ">[Loading dataset](#scrollTo=N14ODJZWXEZd)\n",
        "\n",
        ">[Summary of attributes](#scrollTo=onDkJqoYmhN3)\n",
        "\n",
        ">[Data Wrangling](#scrollTo=zzG5_tl6_OJF)\n",
        "\n",
        ">>[Changing Data type](#scrollTo=Av40NiNdoqHt)\n",
        "\n",
        ">>[Adding new columns](#scrollTo=kislWLDHJly8)\n",
        "\n",
        ">>[Dropping column](#scrollTo=w6Ew9cf6_ZRT)\n",
        "\n",
        ">>[Removing Rows](#scrollTo=qNXsjzP1_rzd)\n",
        "\n",
        ">>[Renaming columns](#scrollTo=HaJI_xlfgW12)\n",
        "\n",
        ">>[Changing Target Variable](#scrollTo=FHgwFcz7kNr4)\n",
        "\n",
        ">>[Appointment day before Scheduled Day](#scrollTo=TVfMxC9B8vOC)\n",
        "\n",
        ">>[Checking Duplicates](#scrollTo=KLgc2zuUrD_9)\n",
        "\n",
        ">[Exploratory Data Analysis](#scrollTo=rMEMqZ45HXKF)\n",
        "\n",
        ">>>[Descriptive statistics](#scrollTo=m9SF62eI4sAD)\n",
        "\n",
        ">[TO DO - Summarizing features using Pie chart for show and no-show description](#scrollTo=_MjjYX1dC-Re)\n",
        "\n",
        ">>>[Correlation b/w columns of dataset](#scrollTo=67sSwwka4l20)\n",
        "\n",
        ">>[Gender](#scrollTo=WcgzTUpVHeBB)\n",
        "\n",
        ">>>[Number of males and females that showed up at appointment](#scrollTo=doajAKAP26Mk)\n",
        "\n",
        ">>>[Total number of males and females in dataset](#scrollTo=tHoAOmv-3JX0)\n",
        "\n",
        ">>>[Proportion of male and female patients](#scrollTo=VCkc-mqi3amn)\n",
        "\n",
        ">>>[Proportion of male and female patients to show up for scheduled appointment](#scrollTo=25FL_9Ak3ixH)\n",
        "\n",
        ">>>[Converting males and females to quantative variable to find correlation with other features in dataset](#scrollTo=Vvf1k8jF6sFU)\n",
        "\n",
        ">>>[Function to find relationship b/w gender and different features](#scrollTo=Bo37oz8VR6jn)\n",
        "\n",
        ">>>[Relation of showing up wrt gender and alcoholism](#scrollTo=7_wdoUDOR3z6)\n",
        "\n",
        ">>>[Relation of showing up wrt gender and diabetes](#scrollTo=tEShAcy__WCg)\n",
        "\n",
        ">>>[Relation of showing up wrt gender and hypertension](#scrollTo=Wcqb-5dXJAmG)\n",
        "\n",
        ">>>[Relation of showing up wrt gender and Handicap](#scrollTo=MdBS29qlcb-l)\n",
        "\n",
        ">>>>[Converting values in handicap to boolean values(0-non-handicap and 1-handicap)](#scrollTo=triGohxBj6gf)\n",
        "\n",
        ">>>[Relation of showing up wrt gender and scholarship](#scrollTo=l0wvEBQqjWuy)\n",
        "\n",
        ">>>[Relation of showing up wrt gender and sms reminder](#scrollTo=vUAnn8KShqH2)\n",
        "\n",
        ">>[Age](#scrollTo=I_CNHEcq1hLx)\n",
        "\n",
        ">>>[Oultliers in age column](#scrollTo=Kboa67Hq0E0Q)\n",
        "\n",
        ">>>[Converting ages column from numerical to categorical](#scrollTo=mpgjV5QsDq7P)\n",
        "\n",
        ">>[Waiting Days](#scrollTo=sJLu0SWRatit)\n",
        "\n",
        ">>[Neighbourhood](#scrollTo=dRe7WyNYFttN)\n",
        "\n",
        ">>>[Top Neighbourhoods with highest appointments](#scrollTo=a6to9l2zrhI7)\n",
        "\n",
        ">>>[Top Neighbourhoods with lowest appointments](#scrollTo=_Gxr1qwhtm6f)\n",
        "\n",
        ">>>[Total Appointments and actual show-up appointments](#scrollTo=WY3uzuLgCw7w)\n",
        "\n",
        ">>>[Neighbourhood where show-up rate is high](#scrollTo=WQD_HHoHMmGy)\n",
        "\n",
        ">>>[Neighbourhood where show-up rate is low](#scrollTo=EmJdhv9WMv2h)\n",
        "\n",
        ">>[Day of the week](#scrollTo=mwH-m6BSLNcd)\n",
        "\n",
        ">>[Relation of showing up wrt month](#scrollTo=EoemVexZp7Fa)\n",
        "\n",
        ">[Conclusion](#scrollTo=_jWkcJ9e05Fq)\n",
        "\n",
        ">[Limitations](#scrollTo=6QdaSperKHOb)\n",
        "\n",
        ">>[References](#scrollTo=-hVJsk9WAQaZ)\n",
        "\n"
      ]
    },
    {
      "cell_type": "markdown",
      "metadata": {
        "id": "Ty8z814ybwk5"
      },
      "source": [
        "# Introduction"
      ]
    },
    {
      "cell_type": "markdown",
      "metadata": {
        "id": "dRM_sr6Ybyt1"
      },
      "source": [
        "The Medical-Appointment-No-Shows dataset includes details of appointments of Brazilian people with the doctor.Data of appointments was combined from more than 45 clinics and hospitals at municipal level in Brazil betweeen 29/4/2016 and 6/6/2016\n",
        "\n",
        "**Problem** - Many patients book the appointment with doctor then didn't show up on scheduled day. After so many studies happening on this data the average No-Show is 20%. The city has to lose [20 million](https://www.kaggle.com/joniarroba/noshowappointments/discussion/38330#275226) every year due to patients not showing at their scheduled appointment. \n",
        "\n",
        "**Objective** of the analysis is to investigate the reason why some patients do not show up to their scheduled appointments. "
      ]
    },
    {
      "cell_type": "markdown",
      "metadata": {
        "id": "zy3dSfeNPPCc"
      },
      "source": [
        "# Importing Libraries"
      ]
    },
    {
      "cell_type": "code",
      "metadata": {
        "id": "Ce-GkaqxrXsj",
        "colab": {
          "base_uri": "https://localhost:8080/"
        },
        "outputId": "476eae48-70d6-4e94-8716-d68f6a5c8247"
      },
      "source": [
        "pip install squarify"
      ],
      "execution_count": null,
      "outputs": [
        {
          "output_type": "stream",
          "text": [
            "Requirement already satisfied: squarify in /usr/local/lib/python3.7/dist-packages (0.4.3)\n"
          ],
          "name": "stdout"
        }
      ]
    },
    {
      "cell_type": "code",
      "metadata": {
        "collapsed": true,
        "id": "pXIP6ChHOPeY"
      },
      "source": [
        "import pandas as pd\n",
        "import numpy as np\n",
        "import matplotlib.pyplot as plt\n",
        "import seaborn as sns\n",
        "import squarify\n",
        "import matplotlib"
      ],
      "execution_count": null,
      "outputs": []
    },
    {
      "cell_type": "markdown",
      "metadata": {
        "id": "by5KNcWYVbXS"
      },
      "source": [
        "# Downloading dataset"
      ]
    },
    {
      "cell_type": "code",
      "metadata": {
        "colab": {
          "base_uri": "https://localhost:8080/"
        },
        "id": "XReCHzrrflue",
        "outputId": "d038ef6e-95c8-4eef-bd94-c5a59596f9cd"
      },
      "source": [
        "import os\n",
        "os.environ['KAGGLE_USERNAME'] = 'dishankkalra'\n",
        "os.environ['KAGGLE_KEY'] = \"5abad073757d331a7d75acb03508b92d\"\n",
        "!kaggle datasets download -d joniarroba/noshowappointments\n",
        "\n",
        "# Dataset will be downloaded in input folder\n",
        "!mkdir -p input/\n",
        "!sudo unzip -oq /content/noshowappointments.zip -d input\n",
        "!rm /content/noshowappointments.zip"
      ],
      "execution_count": null,
      "outputs": [
        {
          "output_type": "stream",
          "text": [
            "Downloading noshowappointments.zip to /content\n",
            "\r  0% 0.00/2.40M [00:00<?, ?B/s]\n",
            "\r100% 2.40M/2.40M [00:00<00:00, 78.1MB/s]\n"
          ],
          "name": "stdout"
        }
      ]
    },
    {
      "cell_type": "markdown",
      "metadata": {
        "id": "N14ODJZWXEZd"
      },
      "source": [
        "# Loading dataset"
      ]
    },
    {
      "cell_type": "code",
      "metadata": {
        "collapsed": true,
        "id": "FPn5EbIKOPeb"
      },
      "source": [
        "df = pd.read_csv('/content/input/KaggleV2-May-2016.csv')"
      ],
      "execution_count": null,
      "outputs": []
    },
    {
      "cell_type": "code",
      "metadata": {
        "colab": {
          "base_uri": "https://localhost:8080/",
          "height": 324
        },
        "id": "IwKrGeK_XQX6",
        "outputId": "67ecb358-b650-4c66-a041-8703eb3b759b"
      },
      "source": [
        "df.sample(5)"
      ],
      "execution_count": null,
      "outputs": [
        {
          "output_type": "execute_result",
          "data": {
            "text/html": [
              "<div>\n",
              "<style scoped>\n",
              "    .dataframe tbody tr th:only-of-type {\n",
              "        vertical-align: middle;\n",
              "    }\n",
              "\n",
              "    .dataframe tbody tr th {\n",
              "        vertical-align: top;\n",
              "    }\n",
              "\n",
              "    .dataframe thead th {\n",
              "        text-align: right;\n",
              "    }\n",
              "</style>\n",
              "<table border=\"1\" class=\"dataframe\">\n",
              "  <thead>\n",
              "    <tr style=\"text-align: right;\">\n",
              "      <th></th>\n",
              "      <th>PatientId</th>\n",
              "      <th>AppointmentID</th>\n",
              "      <th>Gender</th>\n",
              "      <th>ScheduledDay</th>\n",
              "      <th>AppointmentDay</th>\n",
              "      <th>Age</th>\n",
              "      <th>Neighbourhood</th>\n",
              "      <th>Scholarship</th>\n",
              "      <th>Hipertension</th>\n",
              "      <th>Diabetes</th>\n",
              "      <th>Alcoholism</th>\n",
              "      <th>Handcap</th>\n",
              "      <th>SMS_received</th>\n",
              "      <th>No-show</th>\n",
              "    </tr>\n",
              "  </thead>\n",
              "  <tbody>\n",
              "    <tr>\n",
              "      <th>107145</th>\n",
              "      <td>2.358317e+09</td>\n",
              "      <td>5763556</td>\n",
              "      <td>F</td>\n",
              "      <td>2016-06-02T09:06:36Z</td>\n",
              "      <td>2016-06-02T00:00:00Z</td>\n",
              "      <td>19</td>\n",
              "      <td>MONTE BELO</td>\n",
              "      <td>0</td>\n",
              "      <td>0</td>\n",
              "      <td>0</td>\n",
              "      <td>0</td>\n",
              "      <td>0</td>\n",
              "      <td>0</td>\n",
              "      <td>No</td>\n",
              "    </tr>\n",
              "    <tr>\n",
              "      <th>93643</th>\n",
              "      <td>2.626314e+12</td>\n",
              "      <td>5742589</td>\n",
              "      <td>F</td>\n",
              "      <td>2016-05-30T08:08:51Z</td>\n",
              "      <td>2016-06-01T00:00:00Z</td>\n",
              "      <td>1</td>\n",
              "      <td>ITARARÉ</td>\n",
              "      <td>0</td>\n",
              "      <td>0</td>\n",
              "      <td>0</td>\n",
              "      <td>0</td>\n",
              "      <td>0</td>\n",
              "      <td>0</td>\n",
              "      <td>Yes</td>\n",
              "    </tr>\n",
              "    <tr>\n",
              "      <th>96006</th>\n",
              "      <td>9.566283e+13</td>\n",
              "      <td>5697150</td>\n",
              "      <td>F</td>\n",
              "      <td>2016-05-13T15:03:57Z</td>\n",
              "      <td>2016-06-02T00:00:00Z</td>\n",
              "      <td>50</td>\n",
              "      <td>SANTA CECÍLIA</td>\n",
              "      <td>0</td>\n",
              "      <td>1</td>\n",
              "      <td>0</td>\n",
              "      <td>0</td>\n",
              "      <td>0</td>\n",
              "      <td>1</td>\n",
              "      <td>No</td>\n",
              "    </tr>\n",
              "    <tr>\n",
              "      <th>53618</th>\n",
              "      <td>2.957378e+12</td>\n",
              "      <td>5660347</td>\n",
              "      <td>F</td>\n",
              "      <td>2016-05-04T16:11:58Z</td>\n",
              "      <td>2016-05-04T00:00:00Z</td>\n",
              "      <td>12</td>\n",
              "      <td>DA PENHA</td>\n",
              "      <td>0</td>\n",
              "      <td>0</td>\n",
              "      <td>0</td>\n",
              "      <td>0</td>\n",
              "      <td>0</td>\n",
              "      <td>0</td>\n",
              "      <td>No</td>\n",
              "    </tr>\n",
              "    <tr>\n",
              "      <th>49531</th>\n",
              "      <td>5.885734e+14</td>\n",
              "      <td>5636815</td>\n",
              "      <td>M</td>\n",
              "      <td>2016-04-28T16:08:53Z</td>\n",
              "      <td>2016-05-16T00:00:00Z</td>\n",
              "      <td>3</td>\n",
              "      <td>GRANDE VITÓRIA</td>\n",
              "      <td>0</td>\n",
              "      <td>0</td>\n",
              "      <td>0</td>\n",
              "      <td>0</td>\n",
              "      <td>0</td>\n",
              "      <td>0</td>\n",
              "      <td>No</td>\n",
              "    </tr>\n",
              "  </tbody>\n",
              "</table>\n",
              "</div>"
            ],
            "text/plain": [
              "           PatientId  AppointmentID Gender  ... Handcap SMS_received  No-show\n",
              "107145  2.358317e+09        5763556      F  ...       0            0       No\n",
              "93643   2.626314e+12        5742589      F  ...       0            0      Yes\n",
              "96006   9.566283e+13        5697150      F  ...       0            1       No\n",
              "53618   2.957378e+12        5660347      F  ...       0            0       No\n",
              "49531   5.885734e+14        5636815      M  ...       0            0       No\n",
              "\n",
              "[5 rows x 14 columns]"
            ]
          },
          "metadata": {
            "tags": []
          },
          "execution_count": 68
        }
      ]
    },
    {
      "cell_type": "markdown",
      "metadata": {
        "id": "onDkJqoYmhN3"
      },
      "source": [
        "# Summary of attributes\n",
        "\n",
        "A concise summary of a DataFrame including the index dtype and columns, non-null values and memory usage."
      ]
    },
    {
      "cell_type": "code",
      "metadata": {
        "colab": {
          "base_uri": "https://localhost:8080/"
        },
        "id": "aae4EobvsOel",
        "outputId": "e1aecb0b-9e5a-4a42-9831-d87ace47189d"
      },
      "source": [
        "df.info()"
      ],
      "execution_count": null,
      "outputs": [
        {
          "output_type": "stream",
          "text": [
            "<class 'pandas.core.frame.DataFrame'>\n",
            "RangeIndex: 110527 entries, 0 to 110526\n",
            "Data columns (total 14 columns):\n",
            " #   Column          Non-Null Count   Dtype  \n",
            "---  ------          --------------   -----  \n",
            " 0   PatientId       110527 non-null  float64\n",
            " 1   AppointmentID   110527 non-null  int64  \n",
            " 2   Gender          110527 non-null  object \n",
            " 3   ScheduledDay    110527 non-null  object \n",
            " 4   AppointmentDay  110527 non-null  object \n",
            " 5   Age             110527 non-null  int64  \n",
            " 6   Neighbourhood   110527 non-null  object \n",
            " 7   Scholarship     110527 non-null  int64  \n",
            " 8   Hipertension    110527 non-null  int64  \n",
            " 9   Diabetes        110527 non-null  int64  \n",
            " 10  Alcoholism      110527 non-null  int64  \n",
            " 11  Handcap         110527 non-null  int64  \n",
            " 12  SMS_received    110527 non-null  int64  \n",
            " 13  No-show         110527 non-null  object \n",
            "dtypes: float64(1), int64(8), object(5)\n",
            "memory usage: 11.8+ MB\n"
          ],
          "name": "stdout"
        }
      ]
    },
    {
      "cell_type": "markdown",
      "metadata": {
        "id": "Ph-eZXQXkI8S"
      },
      "source": [
        "The dataset consists of **14 variables** as follows:\n",
        "\n",
        "**PatientId** : Unique identification of a patient\n",
        "\n",
        "**AppointmentID** : Unique identification of each appointment\n",
        "\n",
        "**Gender**: Male or Female\n",
        "\n",
        "**ScheduledDay**: The date on which appointment was scheduled\n",
        "\n",
        "**AppointmentDay**: The date on which pateint has to show-up for the appointment\n",
        "\n",
        "**Age**: How old is the patient\n",
        "\n",
        "**Neighbourhood**: Place where pateint lives (where pateint comes from to visit the doctor)\n",
        "\n",
        "**Scholarship**: Whether the patient is enrolled in [Bolsa_Família](https://en.wikipedia.org/wiki/Bolsa_Fam%C3%ADlia), which is a social welfare program of the Government of Brazil\n",
        "\n",
        "**Hipertension**: Hypertension, also known as high blood pressure. Part of patient's medical history.\n",
        "\n",
        "**Diabetes**: Part of patient's medical history.\n",
        "\n",
        "**Alcoholism**: Drinking of alcohol that results in significant mental or physical health problems. Part of patient's medical history.\n",
        "\n",
        "**Handcap**: Handicap, part of patient's medical history.\n",
        "\n",
        "**SMS_received**: Frequent reminders of scheduled appointment.\n",
        "\n",
        "**No-show**: Whether the patient attended the appointment or not. 'Yes' means the patient did not attended the appointment"
      ]
    },
    {
      "cell_type": "markdown",
      "metadata": {
        "id": "J2h2IAz83j2F"
      },
      "source": [
        "> No missing values in data"
      ]
    },
    {
      "cell_type": "markdown",
      "metadata": {
        "id": "q4xtoEgY3rbG"
      },
      "source": [
        "> **Data type of columns to be fixed,**\n",
        "1. PatientId is the unique id for identification of a patient and datatype of PatientId is float that is inappropriate.\n",
        "2. ScheduledDay and AppointmentDay can be used in analysis if we convert them into date-time format. We can extract the date, day of the week, month and time from the ScheduledDay and AppointmentDay\n"
      ]
    },
    {
      "cell_type": "markdown",
      "metadata": {
        "id": "zzG5_tl6_OJF"
      },
      "source": [
        "# Data Wrangling\n",
        "\n",
        "In this section we will assess our dataset and clean the dataset"
      ]
    },
    {
      "cell_type": "markdown",
      "metadata": {
        "id": "Av40NiNdoqHt"
      },
      "source": [
        "## Changing Data type\n",
        "\n",
        "Changing data type PatientID to pandas datetime "
      ]
    },
    {
      "cell_type": "code",
      "metadata": {
        "colab": {
          "base_uri": "https://localhost:8080/"
        },
        "id": "zh-kkK4G7P_s",
        "outputId": "7c4edf1f-2fe0-4d36-f810-7d1f7954ef46"
      },
      "source": [
        "df.PatientId = df.PatientId.astype('int')\n",
        "df.PatientId.dtypes"
      ],
      "execution_count": null,
      "outputs": [
        {
          "output_type": "execute_result",
          "data": {
            "text/plain": [
              "dtype('int64')"
            ]
          },
          "metadata": {
            "tags": []
          },
          "execution_count": 70
        }
      ]
    },
    {
      "cell_type": "code",
      "metadata": {
        "colab": {
          "base_uri": "https://localhost:8080/"
        },
        "id": "o9OD19g8_9Ze",
        "outputId": "606fb4d9-75bd-4676-fd48-a7c3976b2f45"
      },
      "source": [
        "df.ScheduledDay = pd.to_datetime(df.ScheduledDay)\n",
        "df.AppointmentDay = pd.to_datetime(df.AppointmentDay)\n",
        "df[['ScheduledDay','AppointmentDay']].dtypes"
      ],
      "execution_count": null,
      "outputs": [
        {
          "output_type": "execute_result",
          "data": {
            "text/plain": [
              "ScheduledDay      datetime64[ns, UTC]\n",
              "AppointmentDay    datetime64[ns, UTC]\n",
              "dtype: object"
            ]
          },
          "metadata": {
            "tags": []
          },
          "execution_count": 71
        }
      ]
    },
    {
      "cell_type": "markdown",
      "metadata": {
        "id": "kislWLDHJly8"
      },
      "source": [
        "## Adding new columns\n",
        "**Adding new columns** -  Scheduled date, Scheduled time and Appointment date, Appointment time, Appointment day of week, Appointment month\n",
        "\n",
        "**ScheduleDate & AppointmentDate** stores date of Scheduled Day and Appointment Day\n",
        "\n",
        "**ScheduledTime & AppointmentTime** stores time of Scheduled Day and Appointment Day\n",
        "\n",
        "**appointment_dow** stores the day of the week of Appointment Day\n",
        "\n",
        "**appointment_month** stores the month of Appointment\n",
        "\n",
        "\n"
      ]
    },
    {
      "cell_type": "code",
      "metadata": {
        "id": "HnXzHUhiJlPt"
      },
      "source": [
        "df['ScheduledTime'] = pd.to_datetime(df.ScheduledDay).dt.time\n",
        "df['AppointmentTime'] = pd.to_datetime(df.AppointmentDay).dt.time"
      ],
      "execution_count": null,
      "outputs": []
    },
    {
      "cell_type": "code",
      "metadata": {
        "id": "IMEVtEQXBRAt"
      },
      "source": [
        "df['appointment_dow'] = pd.to_datetime(df.AppointmentDay).dt.day_name()\n",
        "df['appointment_month'] = pd.to_datetime(df.AppointmentDay).dt.month_name()"
      ],
      "execution_count": null,
      "outputs": []
    },
    {
      "cell_type": "code",
      "metadata": {
        "id": "wwJ42lkJK_M4"
      },
      "source": [
        "df['ScheduledDay'] = df['ScheduledDay'].dt.date\n",
        "df['AppointmentDay'] = df['AppointmentDay'].dt.date"
      ],
      "execution_count": null,
      "outputs": []
    },
    {
      "cell_type": "code",
      "metadata": {
        "colab": {
          "base_uri": "https://localhost:8080/"
        },
        "id": "vrLXg3W9_2CM",
        "outputId": "d237d68e-caf9-44f4-a017-2fff3b6149f8"
      },
      "source": [
        "df.AppointmentTime.sample(5)"
      ],
      "execution_count": null,
      "outputs": [
        {
          "output_type": "execute_result",
          "data": {
            "text/plain": [
              "64034     00:00:00\n",
              "25673     00:00:00\n",
              "102347    00:00:00\n",
              "41790     00:00:00\n",
              "86814     00:00:00\n",
              "Name: AppointmentTime, dtype: object"
            ]
          },
          "metadata": {
            "tags": []
          },
          "execution_count": 75
        }
      ]
    },
    {
      "cell_type": "code",
      "metadata": {
        "colab": {
          "base_uri": "https://localhost:8080/"
        },
        "id": "o9WQIJtALs42",
        "outputId": "7dff086d-8fe5-4058-e8a8-97098a509ecd"
      },
      "source": [
        "df.AppointmentTime.nunique()"
      ],
      "execution_count": null,
      "outputs": [
        {
          "output_type": "execute_result",
          "data": {
            "text/plain": [
              "1"
            ]
          },
          "metadata": {
            "tags": []
          },
          "execution_count": 76
        }
      ]
    },
    {
      "cell_type": "markdown",
      "metadata": {
        "id": "74mbCT-QL9hX"
      },
      "source": [
        "> Appointment Time is 00:00:00 in all the rows, it is not relevant to analysis. Hence dropping AppointmentTime column "
      ]
    },
    {
      "cell_type": "markdown",
      "metadata": {
        "id": "w6Ew9cf6_ZRT"
      },
      "source": [
        "## Dropping column\n",
        "\n",
        "Removing appointment time column from dataset"
      ]
    },
    {
      "cell_type": "code",
      "metadata": {
        "colab": {
          "base_uri": "https://localhost:8080/"
        },
        "id": "ceIBlz2LQVPJ",
        "outputId": "a8456136-f3ae-494f-b706-33095835d46e"
      },
      "source": [
        "df.drop(columns='AppointmentTime',inplace=True)\n",
        "df.columns"
      ],
      "execution_count": null,
      "outputs": [
        {
          "output_type": "execute_result",
          "data": {
            "text/plain": [
              "Index(['PatientId', 'AppointmentID', 'Gender', 'ScheduledDay',\n",
              "       'AppointmentDay', 'Age', 'Neighbourhood', 'Scholarship', 'Hipertension',\n",
              "       'Diabetes', 'Alcoholism', 'Handcap', 'SMS_received', 'No-show',\n",
              "       'ScheduledTime', 'appointment_dow', 'appointment_month'],\n",
              "      dtype='object')"
            ]
          },
          "metadata": {
            "tags": []
          },
          "execution_count": 77
        }
      ]
    },
    {
      "cell_type": "markdown",
      "metadata": {
        "id": "qNXsjzP1_rzd"
      },
      "source": [
        "## Removing Rows\n",
        "\n",
        "Removing records/rows which have age in negative"
      ]
    },
    {
      "cell_type": "code",
      "metadata": {
        "colab": {
          "base_uri": "https://localhost:8080/"
        },
        "id": "nYCkC4DFOjGq",
        "outputId": "d65a1037-9e5e-4ed7-fa15-de68e71cc601"
      },
      "source": [
        "df.Age.describe()"
      ],
      "execution_count": null,
      "outputs": [
        {
          "output_type": "execute_result",
          "data": {
            "text/plain": [
              "count    110527.000000\n",
              "mean         37.088874\n",
              "std          23.110205\n",
              "min          -1.000000\n",
              "25%          18.000000\n",
              "50%          37.000000\n",
              "75%          55.000000\n",
              "max         115.000000\n",
              "Name: Age, dtype: float64"
            ]
          },
          "metadata": {
            "tags": []
          },
          "execution_count": 78
        }
      ]
    },
    {
      "cell_type": "markdown",
      "metadata": {
        "id": "9CwOAcx6QChv"
      },
      "source": [
        "> Age can never be negative, removing rows which have age less than 0"
      ]
    },
    {
      "cell_type": "code",
      "metadata": {
        "colab": {
          "base_uri": "https://localhost:8080/"
        },
        "id": "-oXOeGUMNf2S",
        "outputId": "ae171eca-dea7-472d-dfea-e0e3a679dbf3"
      },
      "source": [
        "df_less_0 = df.query('Age < 0')\n",
        "df_less_0.Age.count()"
      ],
      "execution_count": null,
      "outputs": [
        {
          "output_type": "execute_result",
          "data": {
            "text/plain": [
              "1"
            ]
          },
          "metadata": {
            "tags": []
          },
          "execution_count": 79
        }
      ]
    },
    {
      "cell_type": "markdown",
      "metadata": {
        "id": "zaMfsvnnRvCu"
      },
      "source": [
        "> Only single row with age less than 0"
      ]
    },
    {
      "cell_type": "code",
      "metadata": {
        "id": "p1LcZRFsRtG8"
      },
      "source": [
        "df = df.query('Age >= 0')"
      ],
      "execution_count": null,
      "outputs": []
    },
    {
      "cell_type": "markdown",
      "metadata": {
        "id": "HaJI_xlfgW12"
      },
      "source": [
        "## Renaming columns\n",
        "\n",
        "Using [snake case](https://en.wikipedia.org/wiki/Snake_case)(lower case with underscores) where column name should be in lowercase seperated with underscore. In this way we can access the column using period like this df.column_name"
      ]
    },
    {
      "cell_type": "code",
      "metadata": {
        "id": "BBF4_wN5hHqg"
      },
      "source": [
        "labels = {'PatientId':\"patient_id\", 'AppointmentID':'appointment_id', 'Gender':'gender', \n",
        "        'ScheduledDay':'scheduled_day',\n",
        "       'AppointmentDay':'appointment_day', 'Age':'age', 'Neighbourhood':'neighbourhood', \n",
        "       'Scholarship':'scholarship', 'Hipertension':'hypertension',\n",
        "       'Diabetes':'diabetes', 'Alcoholism':'alcoholism', 'Handcap':'handicap', \n",
        "       'SMS_received':'sms_received', 'No-show':'show',\n",
        "       'ScheduledTime':'scheduled_time'}\n",
        "df.rename(columns=labels,inplace=True)"
      ],
      "execution_count": null,
      "outputs": []
    },
    {
      "cell_type": "code",
      "metadata": {
        "colab": {
          "base_uri": "https://localhost:8080/"
        },
        "id": "w6PHw93Gj7HL",
        "outputId": "ec59bcec-6ec9-4f4f-894b-1130123442ca"
      },
      "source": [
        "df.columns"
      ],
      "execution_count": null,
      "outputs": [
        {
          "output_type": "execute_result",
          "data": {
            "text/plain": [
              "Index(['patient_id', 'appointment_id', 'gender', 'scheduled_day',\n",
              "       'appointment_day', 'age', 'neighbourhood', 'scholarship',\n",
              "       'hypertension', 'diabetes', 'alcoholism', 'handicap', 'sms_received',\n",
              "       'show', 'scheduled_time', 'appointment_dow', 'appointment_month'],\n",
              "      dtype='object')"
            ]
          },
          "metadata": {
            "tags": []
          },
          "execution_count": 82
        }
      ]
    },
    {
      "cell_type": "markdown",
      "metadata": {
        "id": "FHgwFcz7kNr4"
      },
      "source": [
        "## Changing Target Variable \n",
        "\n",
        "Changing target variable from no_show(to show) to avoid misconception and easily understand show-up rates\n",
        "\n",
        "Substituting **Yes with 0** and **No with 1**"
      ]
    },
    {
      "cell_type": "code",
      "metadata": {
        "id": "3ngpRSjqqb8p"
      },
      "source": [
        "df.show = df.show.map({'Yes':0,'No':1})\n",
        "df.show.astype(int);"
      ],
      "execution_count": null,
      "outputs": []
    },
    {
      "cell_type": "markdown",
      "metadata": {
        "id": "TVfMxC9B8vOC"
      },
      "source": [
        "## Appointment day before Scheduled Day\n",
        "\n",
        "Appointment day i.e the day on which pateint has to visit doctor is before Scheduled Day i.e. the day on which appointment was booked."
      ]
    },
    {
      "cell_type": "code",
      "metadata": {
        "colab": {
          "base_uri": "https://localhost:8080/",
          "height": 203
        },
        "id": "EL0sFG-P8rsb",
        "outputId": "d227d3ad-4207-4f2f-b81c-d22ad346f3d6"
      },
      "source": [
        "df_error = df[df.scheduled_day > df.appointment_day ][['patient_id','appointment_id','scheduled_day','appointment_day','show']]\n",
        "df_error"
      ],
      "execution_count": null,
      "outputs": [
        {
          "output_type": "execute_result",
          "data": {
            "text/html": [
              "<div>\n",
              "<style scoped>\n",
              "    .dataframe tbody tr th:only-of-type {\n",
              "        vertical-align: middle;\n",
              "    }\n",
              "\n",
              "    .dataframe tbody tr th {\n",
              "        vertical-align: top;\n",
              "    }\n",
              "\n",
              "    .dataframe thead th {\n",
              "        text-align: right;\n",
              "    }\n",
              "</style>\n",
              "<table border=\"1\" class=\"dataframe\">\n",
              "  <thead>\n",
              "    <tr style=\"text-align: right;\">\n",
              "      <th></th>\n",
              "      <th>patient_id</th>\n",
              "      <th>appointment_id</th>\n",
              "      <th>scheduled_day</th>\n",
              "      <th>appointment_day</th>\n",
              "      <th>show</th>\n",
              "    </tr>\n",
              "  </thead>\n",
              "  <tbody>\n",
              "    <tr>\n",
              "      <th>27033</th>\n",
              "      <td>7839272661752</td>\n",
              "      <td>5679978</td>\n",
              "      <td>2016-05-10</td>\n",
              "      <td>2016-05-09</td>\n",
              "      <td>0</td>\n",
              "    </tr>\n",
              "    <tr>\n",
              "      <th>55226</th>\n",
              "      <td>7896293967868</td>\n",
              "      <td>5715660</td>\n",
              "      <td>2016-05-18</td>\n",
              "      <td>2016-05-17</td>\n",
              "      <td>0</td>\n",
              "    </tr>\n",
              "    <tr>\n",
              "      <th>64175</th>\n",
              "      <td>24252258389979</td>\n",
              "      <td>5664962</td>\n",
              "      <td>2016-05-05</td>\n",
              "      <td>2016-05-04</td>\n",
              "      <td>0</td>\n",
              "    </tr>\n",
              "    <tr>\n",
              "      <th>71533</th>\n",
              "      <td>998231581612122</td>\n",
              "      <td>5686628</td>\n",
              "      <td>2016-05-11</td>\n",
              "      <td>2016-05-05</td>\n",
              "      <td>0</td>\n",
              "    </tr>\n",
              "    <tr>\n",
              "      <th>72362</th>\n",
              "      <td>3787481966821</td>\n",
              "      <td>5655637</td>\n",
              "      <td>2016-05-04</td>\n",
              "      <td>2016-05-03</td>\n",
              "      <td>0</td>\n",
              "    </tr>\n",
              "  </tbody>\n",
              "</table>\n",
              "</div>"
            ],
            "text/plain": [
              "            patient_id  appointment_id scheduled_day appointment_day  show\n",
              "27033    7839272661752         5679978    2016-05-10      2016-05-09     0\n",
              "55226    7896293967868         5715660    2016-05-18      2016-05-17     0\n",
              "64175   24252258389979         5664962    2016-05-05      2016-05-04     0\n",
              "71533  998231581612122         5686628    2016-05-11      2016-05-05     0\n",
              "72362    3787481966821         5655637    2016-05-04      2016-05-03     0"
            ]
          },
          "metadata": {
            "tags": []
          },
          "execution_count": 84
        }
      ]
    },
    {
      "cell_type": "markdown",
      "metadata": {
        "id": "WCsEWR789GRe"
      },
      "source": [
        "> In the first row, appointment day is **9th May** and scheduled day is **10th May** which doesn't make any sense. So, dropping rows where appointment day is before scheduled day"
      ]
    },
    {
      "cell_type": "code",
      "metadata": {
        "colab": {
          "base_uri": "https://localhost:8080/"
        },
        "id": "D3_eKsAf_k5m",
        "outputId": "3687c4a3-1ce1-41c6-add8-2f7c5fb6edd5"
      },
      "source": [
        "print('Number of rows with appointment day before scheduled day:',df_error.patient_id.count())"
      ],
      "execution_count": null,
      "outputs": [
        {
          "output_type": "stream",
          "text": [
            "Number of rows with appointment day before scheduled day: 5\n"
          ],
          "name": "stdout"
        }
      ]
    },
    {
      "cell_type": "code",
      "metadata": {
        "colab": {
          "base_uri": "https://localhost:8080/"
        },
        "id": "gbDyf_pFIbOV",
        "outputId": "cd0bd5ad-ac59-4cb1-f85b-b018adaa71d3"
      },
      "source": [
        "print('Number of rows before dropping above rows:', df.patient_id.count())"
      ],
      "execution_count": null,
      "outputs": [
        {
          "output_type": "stream",
          "text": [
            "Number of rows before dropping above rows: 110526\n"
          ],
          "name": "stdout"
        }
      ]
    },
    {
      "cell_type": "code",
      "metadata": {
        "colab": {
          "base_uri": "https://localhost:8080/"
        },
        "id": "0ieQjIgY-itJ",
        "outputId": "d763481e-2b85-4e04-9c56-4ba6bf4d5d03"
      },
      "source": [
        "df = df[df.scheduled_day <= df.appointment_day ]\n",
        "print('Number of rows after dropping above rows:', df.patient_id.count())"
      ],
      "execution_count": null,
      "outputs": [
        {
          "output_type": "stream",
          "text": [
            "Number of rows after dropping above rows: 110521\n"
          ],
          "name": "stdout"
        }
      ]
    },
    {
      "cell_type": "markdown",
      "metadata": {
        "id": "KLgc2zuUrD_9"
      },
      "source": [
        "## Checking Duplicates"
      ]
    },
    {
      "cell_type": "code",
      "metadata": {
        "colab": {
          "base_uri": "https://localhost:8080/"
        },
        "id": "aU7zP4T-vyGA",
        "outputId": "b26175c3-86f1-46a9-fbfb-b2682e9da234"
      },
      "source": [
        "df.duplicated().sum()"
      ],
      "execution_count": null,
      "outputs": [
        {
          "output_type": "execute_result",
          "data": {
            "text/plain": [
              "0"
            ]
          },
          "metadata": {
            "tags": []
          },
          "execution_count": 88
        }
      ]
    },
    {
      "cell_type": "markdown",
      "metadata": {
        "id": "HL0Coa3q6yDE"
      },
      "source": [
        "> No duplicate rows in data"
      ]
    },
    {
      "cell_type": "markdown",
      "metadata": {
        "id": "rMEMqZ45HXKF"
      },
      "source": [
        "<a id='eda'></a>\n",
        "# Exploratory Data Analysis"
      ]
    },
    {
      "cell_type": "markdown",
      "metadata": {
        "id": "m9SF62eI4sAD"
      },
      "source": [
        "### Descriptive statistics\n",
        "\n",
        "Summarizing features and providing quantative summary about the features in dataset"
      ]
    },
    {
      "cell_type": "code",
      "metadata": {
        "id": "oWESNB4NEW0D",
        "colab": {
          "base_uri": "https://localhost:8080/",
          "height": 142
        },
        "outputId": "272f8b19-031e-44ce-9459-51398871b111"
      },
      "source": [
        "table = df.groupby('show').mean().iloc[:,3:]\n",
        "table"
      ],
      "execution_count": null,
      "outputs": [
        {
          "output_type": "execute_result",
          "data": {
            "text/html": [
              "<div>\n",
              "<style scoped>\n",
              "    .dataframe tbody tr th:only-of-type {\n",
              "        vertical-align: middle;\n",
              "    }\n",
              "\n",
              "    .dataframe tbody tr th {\n",
              "        vertical-align: top;\n",
              "    }\n",
              "\n",
              "    .dataframe thead th {\n",
              "        text-align: right;\n",
              "    }\n",
              "</style>\n",
              "<table border=\"1\" class=\"dataframe\">\n",
              "  <thead>\n",
              "    <tr style=\"text-align: right;\">\n",
              "      <th></th>\n",
              "      <th>scholarship</th>\n",
              "      <th>hypertension</th>\n",
              "      <th>diabetes</th>\n",
              "      <th>alcoholism</th>\n",
              "      <th>handicap</th>\n",
              "      <th>sms_received</th>\n",
              "    </tr>\n",
              "    <tr>\n",
              "      <th>show</th>\n",
              "      <th></th>\n",
              "      <th></th>\n",
              "      <th></th>\n",
              "      <th></th>\n",
              "      <th></th>\n",
              "      <th></th>\n",
              "    </tr>\n",
              "  </thead>\n",
              "  <tbody>\n",
              "    <tr>\n",
              "      <th>0</th>\n",
              "      <td>0.115533</td>\n",
              "      <td>0.169042</td>\n",
              "      <td>0.064085</td>\n",
              "      <td>0.030340</td>\n",
              "      <td>0.020212</td>\n",
              "      <td>0.438469</td>\n",
              "    </tr>\n",
              "    <tr>\n",
              "      <th>1</th>\n",
              "      <td>0.093904</td>\n",
              "      <td>0.204394</td>\n",
              "      <td>0.073838</td>\n",
              "      <td>0.030417</td>\n",
              "      <td>0.022742</td>\n",
              "      <td>0.291337</td>\n",
              "    </tr>\n",
              "  </tbody>\n",
              "</table>\n",
              "</div>"
            ],
            "text/plain": [
              "      scholarship  hypertension  diabetes  alcoholism  handicap  sms_received\n",
              "show                                                                         \n",
              "0        0.115533      0.169042  0.064085    0.030340  0.020212      0.438469\n",
              "1        0.093904      0.204394  0.073838    0.030417  0.022742      0.291337"
            ]
          },
          "metadata": {
            "tags": []
          },
          "execution_count": 89
        }
      ]
    },
    {
      "cell_type": "code",
      "metadata": {
        "id": "f9qBGmsKPbXD"
      },
      "source": [
        "def get_pie_chart(data, title):\n",
        "  i, j = 0, 0\n",
        "  fig, ax = plt.subplots(2, 3, figsize=(15, 8))\n",
        "\n",
        "  for index, value in data.items():\n",
        "    ax[i, j].pie(x=[value, 1-value], labels=[True, False], \n",
        "                 autopct='%1.1f%%', textprops={'fontsize': 14})\n",
        "    ax[i, j].set_title(index, size=14)\n",
        "    \n",
        "    j += 1\n",
        "    if j == 3:\n",
        "      j = 0\n",
        "      i = 1\n",
        "\n",
        "  fig.suptitle(title, size=20)\n",
        "  plt.show()"
      ],
      "execution_count": null,
      "outputs": []
    },
    {
      "cell_type": "code",
      "metadata": {
        "colab": {
          "base_uri": "https://localhost:8080/",
          "height": 523
        },
        "id": "sk8cbJe9PjbJ",
        "outputId": "5cc546a4-223a-4197-d529-eddd107cebaa"
      },
      "source": [
        "get_pie_chart(table.loc[0, :], 'Characteristics of Patients Skipping Medical Appointments')"
      ],
      "execution_count": null,
      "outputs": [
        {
          "output_type": "display_data",
          "data": {
            "image/png": "[encoded data removed]",
            "text/plain": [
              "<Figure size 1080x576 with 6 Axes>"
            ]
          },
          "metadata": {
            "tags": []
          }
        }
      ]
    },
    {
      "cell_type": "code",
      "metadata": {
        "colab": {
          "base_uri": "https://localhost:8080/",
          "height": 523
        },
        "id": "Kb-PmSbLPv5h",
        "outputId": "0ac7b31e-c3c8-447e-f1dd-8012468252ee"
      },
      "source": [
        "get_pie_chart(table.loc[1, :], 'Characteristics of Patients Medical Appointments')"
      ],
      "execution_count": null,
      "outputs": [
        {
          "output_type": "display_data",
          "data": {
            "image/png": "[encoded data removed]",
            "text/plain": [
              "<Figure size 1080x576 with 6 Axes>"
            ]
          },
          "metadata": {
            "tags": []
          }
        }
      ]
    },
    {
      "cell_type": "markdown",
      "metadata": {
        "id": "Vk59Op97zJJB"
      },
      "source": [
        "> Patients having sholarship i.e 11% patients with scholarship doesn't appeared for the scheduled appointment while people with no scholarship are more towards attending their appointment.\n",
        "\n",
        "> Patients having hypertension and diabetes i.e 7% and 3% respectively are more likely to show for their appointment because of disease\n",
        "\n",
        "> It seems like patients consuming alcohol has no effect over no-show\n",
        "\n",
        "> Patients receiving reminders are more likely to do not show for the appointments. 43% of patients who received the sms reminder regarding upcoming appointment missed the appointment. \n",
        "\n",
        "> It seems like failing to remember the appointment is not an issue for no-show \n"
      ]
    },
    {
      "cell_type": "code",
      "metadata": {
        "colab": {
          "base_uri": "https://localhost:8080/"
        },
        "id": "qYa42aWWAHq2",
        "outputId": "4375030b-7bcf-4229-d290-3892f643ece6"
      },
      "source": [
        "val = df.describe().iloc[2:,2:].T.iloc[0,:]\n",
        "q1 = val[2]\n",
        "q3 = val[4]\n",
        "iqr = q3 - q1\n",
        "val"
      ],
      "execution_count": null,
      "outputs": [
        {
          "output_type": "execute_result",
          "data": {
            "text/plain": [
              "std     23.109885\n",
              "min      0.000000\n",
              "25%     18.000000\n",
              "50%     37.000000\n",
              "75%     55.000000\n",
              "max    115.000000\n",
              "Name: age, dtype: float64"
            ]
          },
          "metadata": {
            "tags": []
          },
          "execution_count": 93
        }
      ]
    },
    {
      "cell_type": "markdown",
      "metadata": {
        "id": "5Yw2bjEb5aLJ"
      },
      "source": [
        "> Minimum Age - Patient with age zero is representing pregenant womens\n",
        "\n",
        "> First Quartile(25%) - 25% patients have age b/w 0 and 18 years\n",
        "\n",
        "> Second Quartile(50%) - 50% patients have age b/w 0 and 37 years\n",
        "\n",
        "> Third Quartile(75%) - 75% patients have age b/w 0 and 55 years\n",
        "\n",
        "> Maximim Age - Patient with maximum age is 115 years\n",
        "\n",
        "> Range is maximum age - minimum age\n",
        ">>Range = 115 - 0 = 115\n",
        "\n",
        "> Interquartile Range is Third Quartile - First Quartile\n",
        ">> Interquartile Range = 55 - 18 = 37\n",
        "\n",
        "> Median Age is 37 "
      ]
    },
    {
      "cell_type": "markdown",
      "metadata": {
        "id": "67sSwwka4l20"
      },
      "source": [
        "### Correlation b/w columns of dataset"
      ]
    },
    {
      "cell_type": "code",
      "metadata": {
        "colab": {
          "base_uri": "https://localhost:8080/",
          "height": 488
        },
        "id": "eWTIePhQbXX4",
        "outputId": "92a04950-5f93-482e-cb45-b0eea0ece43e"
      },
      "source": [
        "fig, ax = plt.subplots(1, 1, figsize=(13, 8))\n",
        "sns.heatmap(df.corr().iloc[2:,2:], annot=True, \n",
        "            ax=ax, linewidth=2, cmap='Blues')\n",
        "plt.show()"
      ],
      "execution_count": null,
      "outputs": [
        {
          "output_type": "display_data",
          "data": {
            "image/png": "[encoded data removed]",
            "text/plain": [
              "<Figure size 936x576 with 2 Axes>"
            ]
          },
          "metadata": {
            "tags": [],
            "needs_background": "light"
          }
        }
      ]
    },
    {
      "cell_type": "markdown",
      "metadata": {
        "id": "T8MIpRWHcEet"
      },
      "source": [
        "> There is no strong correlation b/w show-up and other features\n",
        "\n",
        "> There is positive correlation b/w diabetes and hypertension i.e 0.43 \n",
        "\n",
        "> Patients getting reminders via sms and show-up rate have negative correlation. It is possible that patients getting reminders regarding appointment are more likely to no-show."
      ]
    },
    {
      "cell_type": "markdown",
      "metadata": {
        "id": "WcgzTUpVHeBB"
      },
      "source": [
        "## Gender\n",
        "\n",
        "Is there any specific gender whose no-show is frequent?\n",
        "\n"
      ]
    },
    {
      "cell_type": "markdown",
      "metadata": {
        "id": "doajAKAP26Mk"
      },
      "source": [
        "### Number of males and females that showed up at appointment"
      ]
    },
    {
      "cell_type": "code",
      "metadata": {
        "colab": {
          "base_uri": "https://localhost:8080/"
        },
        "id": "zGqHWeT9_XOE",
        "outputId": "69b331d7-80a6-4cdb-a9a9-ac9c27938509"
      },
      "source": [
        "gender_show = df.groupby('gender').show.sum()\n",
        "gender_show"
      ],
      "execution_count": null,
      "outputs": [
        {
          "output_type": "execute_result",
          "data": {
            "text/plain": [
              "gender\n",
              "F    57245\n",
              "M    30962\n",
              "Name: show, dtype: int64"
            ]
          },
          "metadata": {
            "tags": []
          },
          "execution_count": 96
        }
      ]
    },
    {
      "cell_type": "markdown",
      "metadata": {
        "id": "tHoAOmv-3JX0"
      },
      "source": [
        "### Total number of males and females in dataset"
      ]
    },
    {
      "cell_type": "code",
      "metadata": {
        "colab": {
          "base_uri": "https://localhost:8080/"
        },
        "id": "UoM3Ms5S_0es",
        "outputId": "1f939dc3-057b-46f6-d951-a87cf0eefbcc"
      },
      "source": [
        "gender_total = df.groupby('gender').patient_id.count()\n",
        "gender_total"
      ],
      "execution_count": null,
      "outputs": [
        {
          "output_type": "execute_result",
          "data": {
            "text/plain": [
              "gender\n",
              "F    71836\n",
              "M    38685\n",
              "Name: patient_id, dtype: int64"
            ]
          },
          "metadata": {
            "tags": []
          },
          "execution_count": 97
        }
      ]
    },
    {
      "cell_type": "markdown",
      "metadata": {
        "id": "VCkc-mqi3amn"
      },
      "source": [
        "### Proportion of male and female patients"
      ]
    },
    {
      "cell_type": "code",
      "metadata": {
        "colab": {
          "base_uri": "https://localhost:8080/"
        },
        "id": "gLAqlwC9Huef",
        "outputId": "799fd98f-5900-44f2-c0a2-d675a24d0235"
      },
      "source": [
        "prop_female_patients = gender_total.F/(gender_total.F + gender_total.M)*100\n",
        "prop_female_patients"
      ],
      "execution_count": null,
      "outputs": [
        {
          "output_type": "execute_result",
          "data": {
            "text/plain": [
              "64.99760226563278"
            ]
          },
          "metadata": {
            "tags": []
          },
          "execution_count": 98
        }
      ]
    },
    {
      "cell_type": "code",
      "metadata": {
        "colab": {
          "base_uri": "https://localhost:8080/"
        },
        "id": "_wCyzxjRHxmO",
        "outputId": "d13b1e0a-dbab-4e34-a830-8815892b4f3d"
      },
      "source": [
        "prop_male_patients = gender_total.M/(gender_total.F + gender_total.M)*100\n",
        "prop_male_patients"
      ],
      "execution_count": null,
      "outputs": [
        {
          "output_type": "execute_result",
          "data": {
            "text/plain": [
              "35.00239773436722"
            ]
          },
          "metadata": {
            "tags": []
          },
          "execution_count": 99
        }
      ]
    },
    {
      "cell_type": "code",
      "metadata": {
        "id": "j54IdyyoH1Hh"
      },
      "source": [
        "def horizontal_bars(name,prop,title):\n",
        "  '''\n",
        "  name: column name\n",
        "  prop: proportion of male/female show-up \n",
        "  title: title of graph\n",
        "  return: horizontal bar graph\n",
        "  '''\n",
        "  fig, ax = plt.subplots(figsize =(10, 5))\n",
        "  ax.barh(name, prop)\n",
        "\n",
        "  # To add grid\n",
        "  ax.grid(b = True, color ='grey',\n",
        "          linestyle ='-.', linewidth = 0.5,\n",
        "          alpha = 0.2)\n",
        "\n",
        "  # To remove axes\n",
        "  for s in ['top', 'bottom', 'left', 'right']:\n",
        "      ax.spines[s].set_visible(False)\n",
        "\n",
        "  # To remove x and y ticks\n",
        "  ax.xaxis.set_ticks_position('none')\n",
        "  ax.yaxis.set_ticks_position('none')\n",
        "\n",
        "  plt.xticks(fontsize=10)\n",
        "  plt.yticks(fontsize=12)\n",
        "\n",
        "  # Add padding between axes and labels\n",
        "  ax.xaxis.set_tick_params(pad = 5)\n",
        "  ax.yaxis.set_tick_params(pad = 15)\n",
        "\n",
        "  plt.xlabel('\\n\\nPercentage of Patients',fontsize=12)\n",
        "  plt.ylabel('Gender',fontsize=12)\n",
        "  ax.set_title(title,fontsize = 15 )\n",
        "\n",
        "  for i in ax.patches:\n",
        "      plt.text(i.get_width()+0.01, i.get_y()+0.4,\n",
        "              str(round((i.get_width()), 2)),\n",
        "              fontsize = 12, fontweight ='bold',\n",
        "              color ='grey')\n",
        "      \n",
        "  plt.show()"
      ],
      "execution_count": null,
      "outputs": []
    },
    {
      "cell_type": "code",
      "metadata": {
        "colab": {
          "base_uri": "https://localhost:8080/",
          "height": 438
        },
        "id": "v3qry4IKjP20",
        "outputId": "cb0b4945-9398-4dac-aaa3-13ec658a3927"
      },
      "source": [
        "gend = ['Females','Males']\n",
        "prop = [prop_female_patients,prop_male_patients]\n",
        "title = '\\nProportion of male and female patients\\n\\n'\n",
        "horizontal_bars(gend,prop,title)"
      ],
      "execution_count": null,
      "outputs": [
        {
          "output_type": "display_data",
          "data": {
            "image/png": "[encoded data removed]",
            "text/plain": [
              "<Figure size 720x360 with 1 Axes>"
            ]
          },
          "metadata": {
            "tags": [],
            "needs_background": "light"
          }
        }
      ]
    },
    {
      "cell_type": "markdown",
      "metadata": {
        "id": "a-LGyGedeI4e"
      },
      "source": [
        "> Proportion of males and females patient in the dataset are 35% and 65% respectively. Proportion of females is much more than males in dataset\""
      ]
    },
    {
      "cell_type": "markdown",
      "metadata": {
        "id": "25FL_9Ak3ixH"
      },
      "source": [
        "### Proportion of male and female patients to show up for scheduled appointment"
      ]
    },
    {
      "cell_type": "code",
      "metadata": {
        "colab": {
          "base_uri": "https://localhost:8080/"
        },
        "id": "SvFs5ceeAKA0",
        "outputId": "58f28d71-54eb-45ca-e8a1-fe25941a0525"
      },
      "source": [
        "prop_female_show = (gender_show.F/gender_total.F)*100\n",
        "prop_female_show"
      ],
      "execution_count": null,
      "outputs": [
        {
          "output_type": "execute_result",
          "data": {
            "text/plain": [
              "79.68845704103792"
            ]
          },
          "metadata": {
            "tags": []
          },
          "execution_count": 102
        }
      ]
    },
    {
      "cell_type": "code",
      "metadata": {
        "colab": {
          "base_uri": "https://localhost:8080/"
        },
        "id": "nLy6LF7vAy0S",
        "outputId": "aa53e7a1-8b18-4353-fa47-2186216e9e78"
      },
      "source": [
        "prop_male_show = (gender_show.M/gender_total.M)*100\n",
        "prop_male_show"
      ],
      "execution_count": null,
      "outputs": [
        {
          "output_type": "execute_result",
          "data": {
            "text/plain": [
              "80.0361897376244"
            ]
          },
          "metadata": {
            "tags": []
          },
          "execution_count": 103
        }
      ]
    },
    {
      "cell_type": "code",
      "metadata": {
        "colab": {
          "base_uri": "https://localhost:8080/",
          "height": 456
        },
        "id": "kLGmuDLdiSW5",
        "outputId": "120d7d7c-c2f3-41e3-c65a-060458087d0d"
      },
      "source": [
        "gend = ['Females','Males']\n",
        "prop = [prop_female_show,prop_male_show]\n",
        "title = '\\nProportion of male and female that showed up \\nfor scheduled appointments\\n\\n'\n",
        "\n",
        "horizontal_bars(gend,prop,title)"
      ],
      "execution_count": null,
      "outputs": [
        {
          "output_type": "display_data",
          "data": {
            "image/png": "[encoded data removed]",
            "text/plain": [
              "<Figure size 720x360 with 1 Axes>"
            ]
          },
          "metadata": {
            "tags": [],
            "needs_background": "light"
          }
        }
      ]
    },
    {
      "cell_type": "markdown",
      "metadata": {
        "id": "OacP-zTAe43a"
      },
      "source": [
        "> Proportion of males and females showing-up for scheduled appointments are almost equal i.e 80%\n",
        "\n",
        "> Proportion of men and women that do not show are similar"
      ]
    },
    {
      "cell_type": "markdown",
      "metadata": {
        "id": "Vvf1k8jF6sFU"
      },
      "source": [
        "### Converting males and females to quantative variable to find correlation with other features in dataset"
      ]
    },
    {
      "cell_type": "code",
      "metadata": {
        "id": "ObodAt255Fhy",
        "colab": {
          "base_uri": "https://localhost:8080/",
          "height": 326
        },
        "outputId": "3ce1cb7e-b094-43ab-e36b-70470884f4bc"
      },
      "source": [
        "df_new = df.copy()\n",
        "df_new.gender = df_new.gender.map({'F':1,'M':0})\n",
        "df_new.corr().iloc[2:,2:]"
      ],
      "execution_count": null,
      "outputs": [
        {
          "output_type": "execute_result",
          "data": {
            "text/html": [
              "<div>\n",
              "<style scoped>\n",
              "    .dataframe tbody tr th:only-of-type {\n",
              "        vertical-align: middle;\n",
              "    }\n",
              "\n",
              "    .dataframe tbody tr th {\n",
              "        vertical-align: top;\n",
              "    }\n",
              "\n",
              "    .dataframe thead th {\n",
              "        text-align: right;\n",
              "    }\n",
              "</style>\n",
              "<table border=\"1\" class=\"dataframe\">\n",
              "  <thead>\n",
              "    <tr style=\"text-align: right;\">\n",
              "      <th></th>\n",
              "      <th>gender</th>\n",
              "      <th>age</th>\n",
              "      <th>scholarship</th>\n",
              "      <th>hypertension</th>\n",
              "      <th>diabetes</th>\n",
              "      <th>alcoholism</th>\n",
              "      <th>handicap</th>\n",
              "      <th>sms_received</th>\n",
              "      <th>show</th>\n",
              "    </tr>\n",
              "  </thead>\n",
              "  <tbody>\n",
              "    <tr>\n",
              "      <th>gender</th>\n",
              "      <td>1.000000</td>\n",
              "      <td>0.106439</td>\n",
              "      <td>0.114297</td>\n",
              "      <td>0.055721</td>\n",
              "      <td>0.032555</td>\n",
              "      <td>-0.106170</td>\n",
              "      <td>-0.022787</td>\n",
              "      <td>0.046301</td>\n",
              "      <td>-0.004132</td>\n",
              "    </tr>\n",
              "    <tr>\n",
              "      <th>age</th>\n",
              "      <td>0.106439</td>\n",
              "      <td>1.000000</td>\n",
              "      <td>-0.092469</td>\n",
              "      <td>0.504599</td>\n",
              "      <td>0.292398</td>\n",
              "      <td>0.095811</td>\n",
              "      <td>0.078101</td>\n",
              "      <td>0.012629</td>\n",
              "      <td>0.060320</td>\n",
              "    </tr>\n",
              "    <tr>\n",
              "      <th>scholarship</th>\n",
              "      <td>0.114297</td>\n",
              "      <td>-0.092469</td>\n",
              "      <td>1.000000</td>\n",
              "      <td>-0.019738</td>\n",
              "      <td>-0.024899</td>\n",
              "      <td>0.035019</td>\n",
              "      <td>-0.008555</td>\n",
              "      <td>0.001182</td>\n",
              "      <td>-0.029166</td>\n",
              "    </tr>\n",
              "    <tr>\n",
              "      <th>hypertension</th>\n",
              "      <td>0.055721</td>\n",
              "      <td>0.504599</td>\n",
              "      <td>-0.019738</td>\n",
              "      <td>1.000000</td>\n",
              "      <td>0.433082</td>\n",
              "      <td>0.087967</td>\n",
              "      <td>0.080162</td>\n",
              "      <td>-0.006285</td>\n",
              "      <td>0.035662</td>\n",
              "    </tr>\n",
              "    <tr>\n",
              "      <th>diabetes</th>\n",
              "      <td>0.032555</td>\n",
              "      <td>0.292398</td>\n",
              "      <td>-0.024899</td>\n",
              "      <td>0.433082</td>\n",
              "      <td>1.000000</td>\n",
              "      <td>0.018471</td>\n",
              "      <td>0.057578</td>\n",
              "      <td>-0.014561</td>\n",
              "      <td>0.015158</td>\n",
              "    </tr>\n",
              "    <tr>\n",
              "      <th>alcoholism</th>\n",
              "      <td>-0.106170</td>\n",
              "      <td>0.095811</td>\n",
              "      <td>0.035019</td>\n",
              "      <td>0.087967</td>\n",
              "      <td>0.018471</td>\n",
              "      <td>1.000000</td>\n",
              "      <td>0.004668</td>\n",
              "      <td>-0.026154</td>\n",
              "      <td>0.000181</td>\n",
              "    </tr>\n",
              "    <tr>\n",
              "      <th>handicap</th>\n",
              "      <td>-0.022787</td>\n",
              "      <td>0.078101</td>\n",
              "      <td>-0.008555</td>\n",
              "      <td>0.080162</td>\n",
              "      <td>0.057578</td>\n",
              "      <td>0.004668</td>\n",
              "      <td>1.000000</td>\n",
              "      <td>-0.024097</td>\n",
              "      <td>0.006290</td>\n",
              "    </tr>\n",
              "    <tr>\n",
              "      <th>sms_received</th>\n",
              "      <td>0.046301</td>\n",
              "      <td>0.012629</td>\n",
              "      <td>0.001182</td>\n",
              "      <td>-0.006285</td>\n",
              "      <td>-0.014561</td>\n",
              "      <td>-0.026154</td>\n",
              "      <td>-0.024097</td>\n",
              "      <td>1.000000</td>\n",
              "      <td>-0.126502</td>\n",
              "    </tr>\n",
              "    <tr>\n",
              "      <th>show</th>\n",
              "      <td>-0.004132</td>\n",
              "      <td>0.060320</td>\n",
              "      <td>-0.029166</td>\n",
              "      <td>0.035662</td>\n",
              "      <td>0.015158</td>\n",
              "      <td>0.000181</td>\n",
              "      <td>0.006290</td>\n",
              "      <td>-0.126502</td>\n",
              "      <td>1.000000</td>\n",
              "    </tr>\n",
              "  </tbody>\n",
              "</table>\n",
              "</div>"
            ],
            "text/plain": [
              "                gender       age  scholarship  ...  handicap  sms_received      show\n",
              "gender        1.000000  0.106439     0.114297  ... -0.022787      0.046301 -0.004132\n",
              "age           0.106439  1.000000    -0.092469  ...  0.078101      0.012629  0.060320\n",
              "scholarship   0.114297 -0.092469     1.000000  ... -0.008555      0.001182 -0.029166\n",
              "hypertension  0.055721  0.504599    -0.019738  ...  0.080162     -0.006285  0.035662\n",
              "diabetes      0.032555  0.292398    -0.024899  ...  0.057578     -0.014561  0.015158\n",
              "alcoholism   -0.106170  0.095811     0.035019  ...  0.004668     -0.026154  0.000181\n",
              "handicap     -0.022787  0.078101    -0.008555  ...  1.000000     -0.024097  0.006290\n",
              "sms_received  0.046301  0.012629     0.001182  ... -0.024097      1.000000 -0.126502\n",
              "show         -0.004132  0.060320    -0.029166  ...  0.006290     -0.126502  1.000000\n",
              "\n",
              "[9 rows x 9 columns]"
            ]
          },
          "metadata": {
            "tags": []
          },
          "execution_count": 105
        }
      ]
    },
    {
      "cell_type": "markdown",
      "metadata": {
        "id": "jA5nVEDt64nt"
      },
      "source": [
        "> There is no direct relation of gender with any other feature "
      ]
    },
    {
      "cell_type": "markdown",
      "metadata": {
        "id": "Bo37oz8VR6jn"
      },
      "source": [
        "### Function to find relationship b/w gender and different features"
      ]
    },
    {
      "cell_type": "code",
      "metadata": {
        "id": "xjUUhxWd6Rzy"
      },
      "source": [
        "def rel_with_gender(_feature,_title,legend_title):\n",
        "  extracted_df = pd.pivot_table(data=df,index=['gender',_feature],values='show')\n",
        "  extracted_df.show = extracted_df.show*100\n",
        "  extracted_df.reset_index(inplace=True)\n",
        "\n",
        "  display(extracted_df)\n",
        "\n",
        "  # To set figure size \n",
        "  plt.figure(figsize=(8,6),dpi=70)\n",
        "  \n",
        "  # To make bar plot\n",
        "  graph = sns.barplot(data=extracted_df,x='gender',y='show',hue=_feature,palette='Paired');\n",
        "  \n",
        "  # To add padding b/w axis and ticks\n",
        "  graph.xaxis.set_tick_params(pad = 10)\n",
        "  graph.yaxis.set_tick_params(pad = 3)\n",
        "\n",
        "  graph.set_xlabel('Gender',fontsize=13)\n",
        "  graph.set_ylabel('% of people who showed up\\n',fontsize=13)\n",
        "  graph.set_title(_title,fontsize=16)\n",
        "  graph.set_xticklabels(['Females','Males'],fontsize=11.5)\n",
        "\n",
        "  # To set y-axis limits\n",
        "  graph.set_ylim(0,90)\n",
        "\n",
        "  # To place legend outside top right corner of plot\n",
        "  plt.legend(title=legend_title,bbox_to_anchor=(1.02, 0.5), loc='upper left', borderaxespad=0)\n",
        "  # plt.legend(title='Consume Alcohol',bbox_to_anchor=(1.02, 1), loc='upper left', borderaxespad=0,labels=['No','Yes'])\n",
        "  # plt.legend(title='Alcoholism',labels=['A', 'A'], loc='upper left')\n",
        "\n",
        "  # To remove spines \n",
        "  sns.despine( left=True, bottom=True)\n",
        "\n",
        "  print('\\n')\n",
        "  # TO DO: Add padding between axes and labels\n",
        "  plt.show(graph)\n"
      ],
      "execution_count": null,
      "outputs": []
    },
    {
      "cell_type": "markdown",
      "metadata": {
        "id": "7_wdoUDOR3z6"
      },
      "source": [
        "### Relation of showing up wrt gender and alcoholism \n",
        "\n",
        "Is alcohol consumption a factor for no-show?"
      ]
    },
    {
      "cell_type": "code",
      "metadata": {
        "colab": {
          "base_uri": "https://localhost:8080/",
          "height": 612
        },
        "id": "6be5DfPRO_fp",
        "outputId": "656142a1-a021-41b9-dbf9-fb6a97607ad3"
      },
      "source": [
        "rel_with_gender(_feature='alcoholism',_title='Ratio of Showing-up based on alcoholism\\n',legend_title='Consume Alcohol')"
      ],
      "execution_count": null,
      "outputs": [
        {
          "output_type": "display_data",
          "data": {
            "text/html": [
              "<div>\n",
              "<style scoped>\n",
              "    .dataframe tbody tr th:only-of-type {\n",
              "        vertical-align: middle;\n",
              "    }\n",
              "\n",
              "    .dataframe tbody tr th {\n",
              "        vertical-align: top;\n",
              "    }\n",
              "\n",
              "    .dataframe thead th {\n",
              "        text-align: right;\n",
              "    }\n",
              "</style>\n",
              "<table border=\"1\" class=\"dataframe\">\n",
              "  <thead>\n",
              "    <tr style=\"text-align: right;\">\n",
              "      <th></th>\n",
              "      <th>gender</th>\n",
              "      <th>alcoholism</th>\n",
              "      <th>show</th>\n",
              "    </tr>\n",
              "  </thead>\n",
              "  <tbody>\n",
              "    <tr>\n",
              "      <th>0</th>\n",
              "      <td>F</td>\n",
              "      <td>0</td>\n",
              "      <td>79.772846</td>\n",
              "    </tr>\n",
              "    <tr>\n",
              "      <th>1</th>\n",
              "      <td>F</td>\n",
              "      <td>1</td>\n",
              "      <td>74.816026</td>\n",
              "    </tr>\n",
              "    <tr>\n",
              "      <th>2</th>\n",
              "      <td>M</td>\n",
              "      <td>0</td>\n",
              "      <td>79.878516</td>\n",
              "    </tr>\n",
              "    <tr>\n",
              "      <th>3</th>\n",
              "      <td>M</td>\n",
              "      <td>1</td>\n",
              "      <td>82.732803</td>\n",
              "    </tr>\n",
              "  </tbody>\n",
              "</table>\n",
              "</div>"
            ],
            "text/plain": [
              "  gender  alcoholism       show\n",
              "0      F           0  79.772846\n",
              "1      F           1  74.816026\n",
              "2      M           0  79.878516\n",
              "3      M           1  82.732803"
            ]
          },
          "metadata": {
            "tags": []
          }
        },
        {
          "output_type": "stream",
          "text": [
            "\n",
            "\n"
          ],
          "name": "stdout"
        },
        {
          "output_type": "display_data",
          "data": {
            "image/png": "[encoded data removed]",
            "text/plain": [
              "<Figure size 560x420 with 1 Axes>"
            ]
          },
          "metadata": {
            "tags": [],
            "needs_background": "light"
          }
        }
      ]
    },
    {
      "cell_type": "markdown",
      "metadata": {
        "id": "UHk7p-6PfwDo"
      },
      "source": [
        "> There is no signifigant relation of showing up with alcoholism wrt gender. \n",
        "\n",
        "> There is an increase of 3.6% in show up rate of males who consume alcohol.\n",
        "\n",
        "> On the other hand there is decrease of 6.2% in show up rate with females who consume alcohol.\n",
        "\n",
        ">So we can't conclude that alcoholism wrt gender determines showing up for appointment"
      ]
    },
    {
      "cell_type": "markdown",
      "metadata": {
        "id": "tEShAcy__WCg"
      },
      "source": [
        "### Relation of showing up wrt gender and diabetes \n",
        "\n",
        "Are diabetic patients more concerned regarding their health and show up in scheduled appointment?"
      ]
    },
    {
      "cell_type": "code",
      "metadata": {
        "colab": {
          "base_uri": "https://localhost:8080/",
          "height": 612
        },
        "id": "kz1br-pPf5fY",
        "outputId": "fe5fa376-cdf3-49dd-a0ad-ff98cdb62cf0"
      },
      "source": [
        "rel_with_gender(_feature='diabetes',_title='Relation of Showing-up based on diabetes\\n',legend_title='Diabetic')"
      ],
      "execution_count": null,
      "outputs": [
        {
          "output_type": "display_data",
          "data": {
            "text/html": [
              "<div>\n",
              "<style scoped>\n",
              "    .dataframe tbody tr th:only-of-type {\n",
              "        vertical-align: middle;\n",
              "    }\n",
              "\n",
              "    .dataframe tbody tr th {\n",
              "        vertical-align: top;\n",
              "    }\n",
              "\n",
              "    .dataframe thead th {\n",
              "        text-align: right;\n",
              "    }\n",
              "</style>\n",
              "<table border=\"1\" class=\"dataframe\">\n",
              "  <thead>\n",
              "    <tr style=\"text-align: right;\">\n",
              "      <th></th>\n",
              "      <th>gender</th>\n",
              "      <th>diabetes</th>\n",
              "      <th>show</th>\n",
              "    </tr>\n",
              "  </thead>\n",
              "  <tbody>\n",
              "    <tr>\n",
              "      <th>0</th>\n",
              "      <td>F</td>\n",
              "      <td>0</td>\n",
              "      <td>79.504756</td>\n",
              "    </tr>\n",
              "    <tr>\n",
              "      <th>1</th>\n",
              "      <td>F</td>\n",
              "      <td>1</td>\n",
              "      <td>81.858723</td>\n",
              "    </tr>\n",
              "    <tr>\n",
              "      <th>2</th>\n",
              "      <td>M</td>\n",
              "      <td>0</td>\n",
              "      <td>79.888852</td>\n",
              "    </tr>\n",
              "    <tr>\n",
              "      <th>3</th>\n",
              "      <td>M</td>\n",
              "      <td>1</td>\n",
              "      <td>82.327771</td>\n",
              "    </tr>\n",
              "  </tbody>\n",
              "</table>\n",
              "</div>"
            ],
            "text/plain": [
              "  gender  diabetes       show\n",
              "0      F         0  79.504756\n",
              "1      F         1  81.858723\n",
              "2      M         0  79.888852\n",
              "3      M         1  82.327771"
            ]
          },
          "metadata": {
            "tags": []
          }
        },
        {
          "output_type": "stream",
          "text": [
            "\n",
            "\n"
          ],
          "name": "stdout"
        },
        {
          "output_type": "display_data",
          "data": {
            "image/png": "[encoded data removed]",
            "text/plain": [
              "<Figure size 560x420 with 1 Axes>"
            ]
          },
          "metadata": {
            "tags": [],
            "needs_background": "light"
          }
        }
      ]
    },
    {
      "cell_type": "markdown",
      "metadata": {
        "id": "9xW7fuUWf8rG"
      },
      "source": [
        "> There is an increase of show-up rate with diabetic males and females. We can say that diabetic patients are more likely to attend the scheduled appointment"
      ]
    },
    {
      "cell_type": "markdown",
      "metadata": {
        "id": "Wcqb-5dXJAmG"
      },
      "source": [
        "### Relation of showing up wrt gender and hypertension\n",
        "\n",
        "Are patients with hypertension(high blood pressure) more concerned regarding their health and show up in scheduled appointment?"
      ]
    },
    {
      "cell_type": "code",
      "metadata": {
        "colab": {
          "base_uri": "https://localhost:8080/",
          "height": 612
        },
        "id": "ygG8QOvwRQaF",
        "outputId": "0a5a3e73-5a04-417c-a4b0-06ea29620e7a"
      },
      "source": [
        "rel_with_gender(_feature='hypertension',_title='Relation of Showing-up based on hypertension\\n',legend_title='Hypertension')"
      ],
      "execution_count": null,
      "outputs": [
        {
          "output_type": "display_data",
          "data": {
            "text/html": [
              "<div>\n",
              "<style scoped>\n",
              "    .dataframe tbody tr th:only-of-type {\n",
              "        vertical-align: middle;\n",
              "    }\n",
              "\n",
              "    .dataframe tbody tr th {\n",
              "        vertical-align: top;\n",
              "    }\n",
              "\n",
              "    .dataframe thead th {\n",
              "        text-align: right;\n",
              "    }\n",
              "</style>\n",
              "<table border=\"1\" class=\"dataframe\">\n",
              "  <thead>\n",
              "    <tr style=\"text-align: right;\">\n",
              "      <th></th>\n",
              "      <th>gender</th>\n",
              "      <th>hypertension</th>\n",
              "      <th>show</th>\n",
              "    </tr>\n",
              "  </thead>\n",
              "  <tbody>\n",
              "    <tr>\n",
              "      <th>0</th>\n",
              "      <td>F</td>\n",
              "      <td>0</td>\n",
              "      <td>78.876755</td>\n",
              "    </tr>\n",
              "    <tr>\n",
              "      <th>1</th>\n",
              "      <td>F</td>\n",
              "      <td>1</td>\n",
              "      <td>82.678141</td>\n",
              "    </tr>\n",
              "    <tr>\n",
              "      <th>2</th>\n",
              "      <td>M</td>\n",
              "      <td>0</td>\n",
              "      <td>79.492909</td>\n",
              "    </tr>\n",
              "    <tr>\n",
              "      <th>3</th>\n",
              "      <td>M</td>\n",
              "      <td>1</td>\n",
              "      <td>82.745280</td>\n",
              "    </tr>\n",
              "  </tbody>\n",
              "</table>\n",
              "</div>"
            ],
            "text/plain": [
              "  gender  hypertension       show\n",
              "0      F             0  78.876755\n",
              "1      F             1  82.678141\n",
              "2      M             0  79.492909\n",
              "3      M             1  82.745280"
            ]
          },
          "metadata": {
            "tags": []
          }
        },
        {
          "output_type": "stream",
          "text": [
            "\n",
            "\n"
          ],
          "name": "stdout"
        },
        {
          "output_type": "display_data",
          "data": {
            "image/png": "[encoded data removed]",
            "text/plain": [
              "<Figure size 560x420 with 1 Axes>"
            ]
          },
          "metadata": {
            "tags": [],
            "needs_background": "light"
          }
        }
      ]
    },
    {
      "cell_type": "markdown",
      "metadata": {
        "id": "rZDZUa1IgEmT"
      },
      "source": [
        "> There is an increase of show-up rate with males and females who have hypertension. We can say that patients with high blood pressure are more concerned towards their health and show-up at scheduled appointment"
      ]
    },
    {
      "cell_type": "markdown",
      "metadata": {
        "id": "MdBS29qlcb-l"
      },
      "source": [
        "### Relation of showing up wrt gender and Handicap\n",
        "\n",
        "Are patients with diabilities show-up at their scheduled appointments?\n"
      ]
    },
    {
      "cell_type": "markdown",
      "metadata": {
        "id": "triGohxBj6gf"
      },
      "source": [
        "#### Converting values in handicap to boolean values(0-non-handicap and 1-handicap)"
      ]
    },
    {
      "cell_type": "code",
      "metadata": {
        "colab": {
          "base_uri": "https://localhost:8080/"
        },
        "id": "2o43UASzcpUN",
        "outputId": "cc925d20-b8cd-4570-d9a6-cb4668a0e49c"
      },
      "source": [
        "df.handicap.unique()"
      ],
      "execution_count": null,
      "outputs": [
        {
          "output_type": "execute_result",
          "data": {
            "text/plain": [
              "array([0, 1, 2, 3, 4])"
            ]
          },
          "metadata": {
            "tags": []
          },
          "execution_count": 110
        }
      ]
    },
    {
      "cell_type": "code",
      "metadata": {
        "id": "xGYp-0Wkc8Pz"
      },
      "source": [
        "df.handicap = df.handicap.map({0:0, 1:1, 2:1, 3:1, 4:1})"
      ],
      "execution_count": null,
      "outputs": []
    },
    {
      "cell_type": "code",
      "metadata": {
        "colab": {
          "base_uri": "https://localhost:8080/"
        },
        "id": "LrLWEzEFdWn-",
        "outputId": "3319c914-cd7c-42eb-ce60-988d6f695465"
      },
      "source": [
        "df.handicap.unique()"
      ],
      "execution_count": null,
      "outputs": [
        {
          "output_type": "execute_result",
          "data": {
            "text/plain": [
              "array([0, 1])"
            ]
          },
          "metadata": {
            "tags": []
          },
          "execution_count": 112
        }
      ]
    },
    {
      "cell_type": "code",
      "metadata": {
        "colab": {
          "base_uri": "https://localhost:8080/",
          "height": 612
        },
        "id": "cSEcMxd3dZO5",
        "outputId": "9cc275ad-53c2-4387-f4fd-4a5e6c4293c7"
      },
      "source": [
        "rel_with_gender(_feature='handicap',_title='Relation of Showing-up based on handicap\\n',legend_title='Handicap')"
      ],
      "execution_count": null,
      "outputs": [
        {
          "output_type": "display_data",
          "data": {
            "text/html": [
              "<div>\n",
              "<style scoped>\n",
              "    .dataframe tbody tr th:only-of-type {\n",
              "        vertical-align: middle;\n",
              "    }\n",
              "\n",
              "    .dataframe tbody tr th {\n",
              "        vertical-align: top;\n",
              "    }\n",
              "\n",
              "    .dataframe thead th {\n",
              "        text-align: right;\n",
              "    }\n",
              "</style>\n",
              "<table border=\"1\" class=\"dataframe\">\n",
              "  <thead>\n",
              "    <tr style=\"text-align: right;\">\n",
              "      <th></th>\n",
              "      <th>gender</th>\n",
              "      <th>handicap</th>\n",
              "      <th>show</th>\n",
              "    </tr>\n",
              "  </thead>\n",
              "  <tbody>\n",
              "    <tr>\n",
              "      <th>0</th>\n",
              "      <td>F</td>\n",
              "      <td>0</td>\n",
              "      <td>79.660368</td>\n",
              "    </tr>\n",
              "    <tr>\n",
              "      <th>1</th>\n",
              "      <td>F</td>\n",
              "      <td>1</td>\n",
              "      <td>81.225756</td>\n",
              "    </tr>\n",
              "    <tr>\n",
              "      <th>2</th>\n",
              "      <td>M</td>\n",
              "      <td>0</td>\n",
              "      <td>79.965549</td>\n",
              "    </tr>\n",
              "    <tr>\n",
              "      <th>3</th>\n",
              "      <td>M</td>\n",
              "      <td>1</td>\n",
              "      <td>82.842105</td>\n",
              "    </tr>\n",
              "  </tbody>\n",
              "</table>\n",
              "</div>"
            ],
            "text/plain": [
              "  gender  handicap       show\n",
              "0      F         0  79.660368\n",
              "1      F         1  81.225756\n",
              "2      M         0  79.965549\n",
              "3      M         1  82.842105"
            ]
          },
          "metadata": {
            "tags": []
          }
        },
        {
          "output_type": "stream",
          "text": [
            "\n",
            "\n"
          ],
          "name": "stdout"
        },
        {
          "output_type": "display_data",
          "data": {
            "image/png": "[encoded data removed]",
            "text/plain": [
              "<Figure size 560x420 with 1 Axes>"
            ]
          },
          "metadata": {
            "tags": [],
            "needs_background": "light"
          }
        }
      ]
    },
    {
      "cell_type": "markdown",
      "metadata": {
        "id": "n9zXSqXojrY3"
      },
      "source": [
        "> There is an increase of show-up rate with males and females who have disabilities. We can say patients with disabilities are more concerned towards their health and attend their scheduled appointment"
      ]
    },
    {
      "cell_type": "markdown",
      "metadata": {
        "id": "l0wvEBQqjWuy"
      },
      "source": [
        "### Relation of showing up wrt gender and scholarship\n",
        "\n",
        "Are patients with scholarship more tend to show-up?"
      ]
    },
    {
      "cell_type": "code",
      "metadata": {
        "colab": {
          "base_uri": "https://localhost:8080/",
          "height": 612
        },
        "id": "H45B85TkjWS6",
        "outputId": "b16c7360-0306-4cd8-d453-079cfda2f49b"
      },
      "source": [
        "rel_with_gender(_feature='scholarship',_title='Relation of Showing-up based on scholarship\\n',legend_title='Scholarship')"
      ],
      "execution_count": null,
      "outputs": [
        {
          "output_type": "display_data",
          "data": {
            "text/html": [
              "<div>\n",
              "<style scoped>\n",
              "    .dataframe tbody tr th:only-of-type {\n",
              "        vertical-align: middle;\n",
              "    }\n",
              "\n",
              "    .dataframe tbody tr th {\n",
              "        vertical-align: top;\n",
              "    }\n",
              "\n",
              "    .dataframe thead th {\n",
              "        text-align: right;\n",
              "    }\n",
              "</style>\n",
              "<table border=\"1\" class=\"dataframe\">\n",
              "  <thead>\n",
              "    <tr style=\"text-align: right;\">\n",
              "      <th></th>\n",
              "      <th>gender</th>\n",
              "      <th>scholarship</th>\n",
              "      <th>show</th>\n",
              "    </tr>\n",
              "  </thead>\n",
              "  <tbody>\n",
              "    <tr>\n",
              "      <th>0</th>\n",
              "      <td>F</td>\n",
              "      <td>0</td>\n",
              "      <td>80.177191</td>\n",
              "    </tr>\n",
              "    <tr>\n",
              "      <th>1</th>\n",
              "      <td>F</td>\n",
              "      <td>1</td>\n",
              "      <td>76.211454</td>\n",
              "    </tr>\n",
              "    <tr>\n",
              "      <th>2</th>\n",
              "      <td>M</td>\n",
              "      <td>0</td>\n",
              "      <td>80.230117</td>\n",
              "    </tr>\n",
              "    <tr>\n",
              "      <th>3</th>\n",
              "      <td>M</td>\n",
              "      <td>1</td>\n",
              "      <td>76.494024</td>\n",
              "    </tr>\n",
              "  </tbody>\n",
              "</table>\n",
              "</div>"
            ],
            "text/plain": [
              "  gender  scholarship       show\n",
              "0      F            0  80.177191\n",
              "1      F            1  76.211454\n",
              "2      M            0  80.230117\n",
              "3      M            1  76.494024"
            ]
          },
          "metadata": {
            "tags": []
          }
        },
        {
          "output_type": "stream",
          "text": [
            "\n",
            "\n"
          ],
          "name": "stdout"
        },
        {
          "output_type": "display_data",
          "data": {
            "image/png": "[encoded data removed]",
            "text/plain": [
              "<Figure size 560x420 with 1 Axes>"
            ]
          },
          "metadata": {
            "tags": [],
            "needs_background": "light"
          }
        }
      ]
    },
    {
      "cell_type": "markdown",
      "metadata": {
        "id": "TdHSsVZEjhGG"
      },
      "source": [
        "> People with scholarship irrespective of their gender are more tend to not show-up for appointment. People with scholarship doesn't tend to show-up in scheduled appointment which may means that showing-up for appointment is not concerned with high fees that non-scholarshop patient has to pay."
      ]
    },
    {
      "cell_type": "markdown",
      "metadata": {
        "id": "vUAnn8KShqH2"
      },
      "source": [
        "### Relation of showing up wrt gender and sms reminder\n",
        "\n",
        "Are show-up rate high with patients who get reminder via sms?"
      ]
    },
    {
      "cell_type": "code",
      "metadata": {
        "colab": {
          "base_uri": "https://localhost:8080/",
          "height": 612
        },
        "id": "KpN_EOsQhaOo",
        "outputId": "dc693114-1009-4813-b7f8-ff0daa778101"
      },
      "source": [
        "rel_with_gender('sms_received','Relation of showing-up based on sms-received\\n','SMS received')"
      ],
      "execution_count": null,
      "outputs": [
        {
          "output_type": "display_data",
          "data": {
            "text/html": [
              "<div>\n",
              "<style scoped>\n",
              "    .dataframe tbody tr th:only-of-type {\n",
              "        vertical-align: middle;\n",
              "    }\n",
              "\n",
              "    .dataframe tbody tr th {\n",
              "        vertical-align: top;\n",
              "    }\n",
              "\n",
              "    .dataframe thead th {\n",
              "        text-align: right;\n",
              "    }\n",
              "</style>\n",
              "<table border=\"1\" class=\"dataframe\">\n",
              "  <thead>\n",
              "    <tr style=\"text-align: right;\">\n",
              "      <th></th>\n",
              "      <th>gender</th>\n",
              "      <th>sms_received</th>\n",
              "      <th>show</th>\n",
              "    </tr>\n",
              "  </thead>\n",
              "  <tbody>\n",
              "    <tr>\n",
              "      <th>0</th>\n",
              "      <td>F</td>\n",
              "      <td>0</td>\n",
              "      <td>83.476089</td>\n",
              "    </tr>\n",
              "    <tr>\n",
              "      <th>1</th>\n",
              "      <td>F</td>\n",
              "      <td>1</td>\n",
              "      <td>72.233700</td>\n",
              "    </tr>\n",
              "    <tr>\n",
              "      <th>2</th>\n",
              "      <td>M</td>\n",
              "      <td>0</td>\n",
              "      <td>82.999453</td>\n",
              "    </tr>\n",
              "    <tr>\n",
              "      <th>3</th>\n",
              "      <td>M</td>\n",
              "      <td>1</td>\n",
              "      <td>72.836879</td>\n",
              "    </tr>\n",
              "  </tbody>\n",
              "</table>\n",
              "</div>"
            ],
            "text/plain": [
              "  gender  sms_received       show\n",
              "0      F             0  83.476089\n",
              "1      F             1  72.233700\n",
              "2      M             0  82.999453\n",
              "3      M             1  72.836879"
            ]
          },
          "metadata": {
            "tags": []
          }
        },
        {
          "output_type": "stream",
          "text": [
            "\n",
            "\n"
          ],
          "name": "stdout"
        },
        {
          "output_type": "display_data",
          "data": {
            "image/png": "[encoded data removed]",
            "text/plain": [
              "<Figure size 560x420 with 1 Axes>"
            ]
          },
          "metadata": {
            "tags": [],
            "needs_background": "light"
          }
        }
      ]
    },
    {
      "cell_type": "markdown",
      "metadata": {
        "id": "91l1OF4PiI_3"
      },
      "source": [
        "> It is evident from above graph people who got sms reminders irrespective of their gender were the ones with less show-up rate. Our above asumption in descriptive statistics is correct i.e. failing to remember the appointment is not an issue for no-show. "
      ]
    },
    {
      "cell_type": "markdown",
      "metadata": {
        "id": "I_CNHEcq1hLx"
      },
      "source": [
        "## Age \n",
        "How people of different age group are showing-up for the appointments? Is there any specific age group that determine showing to the appointment?"
      ]
    },
    {
      "cell_type": "markdown",
      "metadata": {
        "id": "Kboa67Hq0E0Q"
      },
      "source": [
        "### Oultliers in age column"
      ]
    },
    {
      "cell_type": "code",
      "metadata": {
        "colab": {
          "base_uri": "https://localhost:8080/"
        },
        "id": "BRbJd_mel34m",
        "outputId": "88a03367-d4ba-4b8c-def4-de4a905d2aaa"
      },
      "source": [
        "df.age.describe()"
      ],
      "execution_count": null,
      "outputs": [
        {
          "output_type": "execute_result",
          "data": {
            "text/plain": [
              "count    110521.000000\n",
              "mean         37.089386\n",
              "std          23.109885\n",
              "min           0.000000\n",
              "25%          18.000000\n",
              "50%          37.000000\n",
              "75%          55.000000\n",
              "max         115.000000\n",
              "Name: age, dtype: float64"
            ]
          },
          "metadata": {
            "tags": []
          },
          "execution_count": 116
        }
      ]
    },
    {
      "cell_type": "markdown",
      "metadata": {
        "id": "CZG1Qy-qlHVS"
      },
      "source": [
        ">Condition for a data point value to be outlier\n",
        "\n",
        ">>data point value) < left bound\n",
        "\n",
        ">>(data point value) > right bound\n",
        "\n",
        ">where left bound = Q1 – 1.5 * IQR and right bound = Q3 + 1.5 * IQR\n",
        "\n",
        "\n",
        "\n"
      ]
    },
    {
      "cell_type": "code",
      "metadata": {
        "colab": {
          "base_uri": "https://localhost:8080/"
        },
        "id": "9S6KCYYtirbE",
        "outputId": "d88b13a7-03ac-4fea-b681-594467d3aa90"
      },
      "source": [
        "left_bound = q1 - (1.5 * iqr)\n",
        "right_bound = q3 + (1.5 * iqr)\n",
        "print('Left bound:',left_bound)\n",
        "print('Right bound:',right_bound)"
      ],
      "execution_count": null,
      "outputs": [
        {
          "output_type": "stream",
          "text": [
            "Left bound: -37.5\n",
            "Right bound: 110.5\n"
          ],
          "name": "stdout"
        }
      ]
    },
    {
      "cell_type": "code",
      "metadata": {
        "id": "FW59Drp1n6kf",
        "colab": {
          "base_uri": "https://localhost:8080/"
        },
        "outputId": "dcf35846-53ba-45fb-cbaf-1a08a02a84bc"
      },
      "source": [
        "# Age can never be negative so changing left bound to 0\n",
        "left_bound = 0\n",
        "count = 0 # counting number of outliers\n",
        "value = [] # value of outliers\n",
        "for outlier in df.age:\n",
        "  if outlier < left_bound or outlier > right_bound:\n",
        "    count += 1\n",
        "    value.append(outlier)\n",
        "print('Number of outliers:',count)\n",
        "print('Values of outliers:',value)"
      ],
      "execution_count": null,
      "outputs": [
        {
          "output_type": "stream",
          "text": [
            "Number of outliers: 5\n",
            "Values of outliers: [115, 115, 115, 115, 115]\n"
          ],
          "name": "stdout"
        }
      ]
    },
    {
      "cell_type": "code",
      "metadata": {
        "colab": {
          "base_uri": "https://localhost:8080/",
          "height": 523
        },
        "id": "TvqJPZjGmK4A",
        "outputId": "71246089-d3a9-4395-b48a-8b67ab51f011"
      },
      "source": [
        "data = df.age\n",
        "plt.figure(figsize=(7,8),dpi=70)\n",
        "bp = plt.boxplot(data,patch_artist = True,notch ='True');\n",
        "\n",
        "for whisker in bp['whiskers']:\n",
        "    whisker.set(color ='#8B008B',\n",
        "                linewidth = 2,\n",
        "                linestyle =\":\")\n",
        "    \n",
        "for cap in bp['caps']:\n",
        "    cap.set(color ='#8B008B',\n",
        "            linewidth = 4)\n",
        "    \n",
        "for median in bp['medians']:\n",
        "    median.set(color ='red',\n",
        "               linewidth = 5)\n",
        "    \n",
        "plt.ylabel(\"Age\",size=12)\n",
        "plt.title(\"\\nBox plot of age column\\n\",size=15);"
      ],
      "execution_count": null,
      "outputs": [
        {
          "output_type": "display_data",
          "data": {
            "image/png": "[encoded data removed]",
            "text/plain": [
              "<Figure size 490x560 with 1 Axes>"
            ]
          },
          "metadata": {
            "tags": [],
            "needs_background": "light"
          }
        }
      ]
    },
    {
      "cell_type": "markdown",
      "metadata": {
        "id": "uyTjVTtnjFHx"
      },
      "source": [
        "> An outlier is defined as a data point that is located outside the whiskers of the box plot.Their is outlier at 115 and right bound is 110."
      ]
    },
    {
      "cell_type": "code",
      "metadata": {
        "id": "WOxM8uhi6PE2"
      },
      "source": [
        "def ranges(feature,bins_edges,bins_names):\n",
        "  arr = df[feature]\n",
        "  df[feature] = pd.cut(x=arr,bins=bins_edges,labels=bins_names)"
      ],
      "execution_count": null,
      "outputs": []
    },
    {
      "cell_type": "code",
      "metadata": {
        "id": "Hj-oUMJO_zo7"
      },
      "source": [
        "def create_bar_plot(_feature,_title,x_label):\n",
        "  extracted_df = pd.pivot_table(data=df,index=_feature,values='show')\n",
        "  extracted_df.show = extracted_df.show*100\n",
        "  extracted_df.reset_index(inplace=True)\n",
        "\n",
        "  display(extracted_df)\n",
        "\n",
        "  # To set figure size \n",
        "  plt.figure(figsize=(8,6),dpi=70)\n",
        "  \n",
        "  # To make bar plot\n",
        "  graph = sns.barplot(data=extracted_df,x=_feature,y='show',palette=\"crest\");\n",
        "\n",
        "  # To add padding b/w axis and ticks\n",
        "  graph.xaxis.set_tick_params(pad = 9)\n",
        "  graph.yaxis.set_tick_params(pad = 3)\n",
        "  graph.tick_params(bottom=False)\n",
        "\n",
        "  if _feature == 'waiting_days':\n",
        "    plt.xticks(rotation=45)\n",
        "\n",
        "  graph.set_xlabel(x_label,fontsize=13)\n",
        "  graph.set_ylabel('% of people who showed up\\n',fontsize=13)\n",
        "  graph.set_title(_title,fontsize=16)\n",
        "\n",
        "  # To set y-axis limits\n",
        "  graph.set_ylim(0,90)\n",
        "\n",
        "  # To remove spines \n",
        "  sns.despine( left=True, bottom=True)\n",
        "\n",
        "  print('\\n')\n",
        "  # TO DO: Add padding between axes and labels\n",
        "  plt.show(graph)\n"
      ],
      "execution_count": null,
      "outputs": []
    },
    {
      "cell_type": "markdown",
      "metadata": {
        "id": "mpgjV5QsDq7P"
      },
      "source": [
        "### Converting ages column from numerical to categorical "
      ]
    },
    {
      "cell_type": "markdown",
      "metadata": {
        "id": "cvFpVqUyqZXS"
      },
      "source": [
        "Ranges on the basis of standard deviation i.e. 23"
      ]
    },
    {
      "cell_type": "code",
      "metadata": {
        "colab": {
          "base_uri": "https://localhost:8080/",
          "height": 642
        },
        "id": "03L8_z7_qMQN",
        "outputId": "fad40b1a-557f-42a9-f259-98e78c7c08ca"
      },
      "source": [
        "feature = 'age'\n",
        "bins_edges = [0,23,46,69,111]\n",
        "bins_names = ['Children','Youth','Adult','Senior']\n",
        "print('Children(0-22),Youth(23-45),Adult(46-68),Senior(69-111)')\n",
        "ranges(feature,bins_edges,bins_names)\n",
        "create_bar_plot(_feature=feature,_title='Relation of Showing-up based on different age groups\\n',x_label='\\nDifferent Age Groups')"
      ],
      "execution_count": null,
      "outputs": [
        {
          "output_type": "stream",
          "text": [
            "Children(0-22),Youth(23-45),Adult(46-68),Senior(69-111)\n"
          ],
          "name": "stdout"
        },
        {
          "output_type": "display_data",
          "data": {
            "text/html": [
              "<div>\n",
              "<style scoped>\n",
              "    .dataframe tbody tr th:only-of-type {\n",
              "        vertical-align: middle;\n",
              "    }\n",
              "\n",
              "    .dataframe tbody tr th {\n",
              "        vertical-align: top;\n",
              "    }\n",
              "\n",
              "    .dataframe thead th {\n",
              "        text-align: right;\n",
              "    }\n",
              "</style>\n",
              "<table border=\"1\" class=\"dataframe\">\n",
              "  <thead>\n",
              "    <tr style=\"text-align: right;\">\n",
              "      <th></th>\n",
              "      <th>age</th>\n",
              "      <th>show</th>\n",
              "    </tr>\n",
              "  </thead>\n",
              "  <tbody>\n",
              "    <tr>\n",
              "      <th>0</th>\n",
              "      <td>Children</td>\n",
              "      <td>76.901764</td>\n",
              "    </tr>\n",
              "    <tr>\n",
              "      <th>1</th>\n",
              "      <td>Youth</td>\n",
              "      <td>77.833974</td>\n",
              "    </tr>\n",
              "    <tr>\n",
              "      <th>2</th>\n",
              "      <td>Adult</td>\n",
              "      <td>83.215262</td>\n",
              "    </tr>\n",
              "    <tr>\n",
              "      <th>3</th>\n",
              "      <td>Senior</td>\n",
              "      <td>84.415025</td>\n",
              "    </tr>\n",
              "  </tbody>\n",
              "</table>\n",
              "</div>"
            ],
            "text/plain": [
              "        age       show\n",
              "0  Children  76.901764\n",
              "1     Youth  77.833974\n",
              "2     Adult  83.215262\n",
              "3    Senior  84.415025"
            ]
          },
          "metadata": {
            "tags": []
          }
        },
        {
          "output_type": "stream",
          "text": [
            "\n",
            "\n"
          ],
          "name": "stdout"
        },
        {
          "output_type": "display_data",
          "data": {
            "image/png": "[encoded data removed]",
            "text/plain": [
              "<Figure size 560x420 with 1 Axes>"
            ]
          },
          "metadata": {
            "tags": [],
            "needs_background": "light"
          }
        }
      ]
    },
    {
      "cell_type": "markdown",
      "metadata": {
        "id": "PEZPgE2EQqmd"
      },
      "source": [
        "> Showing rate for appointment is more in older people than young people maybe because people are more concerned for their health in old age than than in younger age"
      ]
    },
    {
      "cell_type": "markdown",
      "metadata": {
        "id": "sJLu0SWRatit"
      },
      "source": [
        "## Waiting Days\n",
        "\n",
        "Is longer waiting days between appointment day and scheduled day is the reason for no-show?"
      ]
    },
    {
      "cell_type": "code",
      "metadata": {
        "id": "N8J5_mXnawGQ"
      },
      "source": [
        "df['waiting_days'] = df.appointment_day - df.scheduled_day"
      ],
      "execution_count": null,
      "outputs": []
    },
    {
      "cell_type": "code",
      "metadata": {
        "colab": {
          "base_uri": "https://localhost:8080/"
        },
        "id": "ZDPxF4o0kr_H",
        "outputId": "0fc5070f-2822-4d10-a06b-02967d5a8426"
      },
      "source": [
        "df.waiting_days.dtypes"
      ],
      "execution_count": null,
      "outputs": [
        {
          "output_type": "execute_result",
          "data": {
            "text/plain": [
              "dtype('<m8[ns]')"
            ]
          },
          "metadata": {
            "tags": []
          },
          "execution_count": 124
        }
      ]
    },
    {
      "cell_type": "code",
      "metadata": {
        "id": "Z6IWSa-leMou"
      },
      "source": [
        "df.waiting_days = df.waiting_days.astype('str')\n",
        "df.waiting_days = df.waiting_days.apply(lambda x: x.split()[0])\n",
        "df.waiting_days = df.waiting_days.astype('int')"
      ],
      "execution_count": null,
      "outputs": []
    },
    {
      "cell_type": "code",
      "metadata": {
        "colab": {
          "base_uri": "https://localhost:8080/"
        },
        "id": "bAdHKYIXiqvL",
        "outputId": "76f86ce3-8d24-499f-ed32-c91c548f0549"
      },
      "source": [
        "df.waiting_days.dtypes"
      ],
      "execution_count": null,
      "outputs": [
        {
          "output_type": "execute_result",
          "data": {
            "text/plain": [
              "dtype('int64')"
            ]
          },
          "metadata": {
            "tags": []
          },
          "execution_count": 126
        }
      ]
    },
    {
      "cell_type": "code",
      "metadata": {
        "colab": {
          "base_uri": "https://localhost:8080/"
        },
        "id": "t13SxstAk5a5",
        "outputId": "97f94658-0fbc-44a0-e7e8-8f459c253024"
      },
      "source": [
        "df.waiting_days.describe()"
      ],
      "execution_count": null,
      "outputs": [
        {
          "output_type": "execute_result",
          "data": {
            "text/plain": [
              "count    110521.000000\n",
              "mean         10.184345\n",
              "std          15.255153\n",
              "min           0.000000\n",
              "25%           0.000000\n",
              "50%           4.000000\n",
              "75%          15.000000\n",
              "max         179.000000\n",
              "Name: waiting_days, dtype: float64"
            ]
          },
          "metadata": {
            "tags": []
          },
          "execution_count": 127
        }
      ]
    },
    {
      "cell_type": "code",
      "metadata": {
        "colab": {
          "base_uri": "https://localhost:8080/",
          "height": 883
        },
        "id": "C-UIQ2OnlGqn",
        "outputId": "1fa4d88a-4991-4b91-ea4a-508bb53fd120"
      },
      "source": [
        "print('Note: Here waiting days are delay in days of appointment and scheduled day')\n",
        "feature = 'waiting_days'\n",
        "bins_edges = [-1,16,31,46,61,76,91,116,131,146,161,180]\n",
        "bins_names = ['0-15','16-30','31-45','46-60','61-75','76-90','91-115','116-130','131-145','146-160','161-179']\n",
        "ranges(feature,bins_edges,bins_names)\n",
        "create_bar_plot(_feature=feature,_title='Relation of Showing-up based on waiting days\\n',x_label='\\nDelay in days')"
      ],
      "execution_count": null,
      "outputs": [
        {
          "output_type": "stream",
          "text": [
            "Note: Here waiting days are delay in days of appointment and scheduled day\n"
          ],
          "name": "stdout"
        },
        {
          "output_type": "display_data",
          "data": {
            "text/html": [
              "<div>\n",
              "<style scoped>\n",
              "    .dataframe tbody tr th:only-of-type {\n",
              "        vertical-align: middle;\n",
              "    }\n",
              "\n",
              "    .dataframe tbody tr th {\n",
              "        vertical-align: top;\n",
              "    }\n",
              "\n",
              "    .dataframe thead th {\n",
              "        text-align: right;\n",
              "    }\n",
              "</style>\n",
              "<table border=\"1\" class=\"dataframe\">\n",
              "  <thead>\n",
              "    <tr style=\"text-align: right;\">\n",
              "      <th></th>\n",
              "      <th>waiting_days</th>\n",
              "      <th>show</th>\n",
              "    </tr>\n",
              "  </thead>\n",
              "  <tbody>\n",
              "    <tr>\n",
              "      <th>0</th>\n",
              "      <td>0-15</td>\n",
              "      <td>83.516728</td>\n",
              "    </tr>\n",
              "    <tr>\n",
              "      <th>1</th>\n",
              "      <td>16-30</td>\n",
              "      <td>67.327312</td>\n",
              "    </tr>\n",
              "    <tr>\n",
              "      <th>2</th>\n",
              "      <td>31-45</td>\n",
              "      <td>65.317434</td>\n",
              "    </tr>\n",
              "    <tr>\n",
              "      <th>3</th>\n",
              "      <td>46-60</td>\n",
              "      <td>67.912946</td>\n",
              "    </tr>\n",
              "    <tr>\n",
              "      <th>4</th>\n",
              "      <td>61-75</td>\n",
              "      <td>70.997846</td>\n",
              "    </tr>\n",
              "    <tr>\n",
              "      <th>5</th>\n",
              "      <td>76-90</td>\n",
              "      <td>71.182266</td>\n",
              "    </tr>\n",
              "    <tr>\n",
              "      <th>6</th>\n",
              "      <td>91-115</td>\n",
              "      <td>78.873239</td>\n",
              "    </tr>\n",
              "    <tr>\n",
              "      <th>7</th>\n",
              "      <td>116-130</td>\n",
              "      <td>91.666667</td>\n",
              "    </tr>\n",
              "    <tr>\n",
              "      <th>8</th>\n",
              "      <td>131-145</td>\n",
              "      <td>54.545455</td>\n",
              "    </tr>\n",
              "    <tr>\n",
              "      <th>9</th>\n",
              "      <td>146-160</td>\n",
              "      <td>36.363636</td>\n",
              "    </tr>\n",
              "    <tr>\n",
              "      <th>10</th>\n",
              "      <td>161-179</td>\n",
              "      <td>75.555556</td>\n",
              "    </tr>\n",
              "  </tbody>\n",
              "</table>\n",
              "</div>"
            ],
            "text/plain": [
              "   waiting_days       show\n",
              "0          0-15  83.516728\n",
              "1         16-30  67.327312\n",
              "2         31-45  65.317434\n",
              "3         46-60  67.912946\n",
              "4         61-75  70.997846\n",
              "5         76-90  71.182266\n",
              "6        91-115  78.873239\n",
              "7       116-130  91.666667\n",
              "8       131-145  54.545455\n",
              "9       146-160  36.363636\n",
              "10      161-179  75.555556"
            ]
          },
          "metadata": {
            "tags": []
          }
        },
        {
          "output_type": "stream",
          "text": [
            "\n",
            "\n"
          ],
          "name": "stdout"
        },
        {
          "output_type": "display_data",
          "data": {
            "image/png": "[encoded data removed]",
            "text/plain": [
              "<Figure size 560x420 with 1 Axes>"
            ]
          },
          "metadata": {
            "tags": [],
            "needs_background": "light"
          }
        }
      ]
    },
    {
      "cell_type": "markdown",
      "metadata": {
        "id": "0dVtWStAILex"
      },
      "source": [
        ">There is no direct relation of No-Show with waiting days"
      ]
    },
    {
      "cell_type": "markdown",
      "metadata": {
        "id": "dRe7WyNYFttN"
      },
      "source": [
        "## Neighbourhood\n",
        "Is their neighbourhoods where no-show is frequent? Neighbourhoods are places where the patients comes from to visit the doctor. "
      ]
    },
    {
      "cell_type": "code",
      "metadata": {
        "id": "6sqa2LisS4ht"
      },
      "source": [
        "neighbour_df = pd.DataFrame()"
      ],
      "execution_count": null,
      "outputs": []
    },
    {
      "cell_type": "code",
      "metadata": {
        "id": "-XOVh9m5SMrf"
      },
      "source": [
        "neighbour_df['total_appointments'] = df.groupby(by='neighbourhood').show.count()\n",
        "neighbour_df['show_appointments'] = df.groupby(by='neighbourhood').show.sum()\n",
        "neighbour_df['show_prop'] = df.groupby(by='neighbourhood').show.mean()\n",
        "neighbour_df.reset_index(inplace=True)"
      ],
      "execution_count": null,
      "outputs": []
    },
    {
      "cell_type": "code",
      "metadata": {
        "colab": {
          "base_uri": "https://localhost:8080/",
          "height": 357
        },
        "id": "qmP8dZ52TPOs",
        "outputId": "762c2b11-df90-4d08-f0ae-ea91bcc50bae"
      },
      "source": [
        "neighbour_df.sample(10)"
      ],
      "execution_count": null,
      "outputs": [
        {
          "output_type": "execute_result",
          "data": {
            "text/html": [
              "<div>\n",
              "<style scoped>\n",
              "    .dataframe tbody tr th:only-of-type {\n",
              "        vertical-align: middle;\n",
              "    }\n",
              "\n",
              "    .dataframe tbody tr th {\n",
              "        vertical-align: top;\n",
              "    }\n",
              "\n",
              "    .dataframe thead th {\n",
              "        text-align: right;\n",
              "    }\n",
              "</style>\n",
              "<table border=\"1\" class=\"dataframe\">\n",
              "  <thead>\n",
              "    <tr style=\"text-align: right;\">\n",
              "      <th></th>\n",
              "      <th>neighbourhood</th>\n",
              "      <th>total_appointments</th>\n",
              "      <th>show_appointments</th>\n",
              "      <th>show_prop</th>\n",
              "    </tr>\n",
              "  </thead>\n",
              "  <tbody>\n",
              "    <tr>\n",
              "      <th>44</th>\n",
              "      <td>MARUÍPE</td>\n",
              "      <td>1902</td>\n",
              "      <td>1478</td>\n",
              "      <td>0.777077</td>\n",
              "    </tr>\n",
              "    <tr>\n",
              "      <th>25</th>\n",
              "      <td>GOIABEIRAS</td>\n",
              "      <td>700</td>\n",
              "      <td>563</td>\n",
              "      <td>0.804286</td>\n",
              "    </tr>\n",
              "    <tr>\n",
              "      <th>8</th>\n",
              "      <td>BONFIM</td>\n",
              "      <td>2773</td>\n",
              "      <td>2223</td>\n",
              "      <td>0.801659</td>\n",
              "    </tr>\n",
              "    <tr>\n",
              "      <th>3</th>\n",
              "      <td>ARIOVALDO FAVALESSA</td>\n",
              "      <td>282</td>\n",
              "      <td>220</td>\n",
              "      <td>0.780142</td>\n",
              "    </tr>\n",
              "    <tr>\n",
              "      <th>39</th>\n",
              "      <td>JARDIM DA PENHA</td>\n",
              "      <td>3877</td>\n",
              "      <td>3246</td>\n",
              "      <td>0.837245</td>\n",
              "    </tr>\n",
              "    <tr>\n",
              "      <th>51</th>\n",
              "      <td>PARQUE INDUSTRIAL</td>\n",
              "      <td>1</td>\n",
              "      <td>1</td>\n",
              "      <td>1.000000</td>\n",
              "    </tr>\n",
              "    <tr>\n",
              "      <th>2</th>\n",
              "      <td>ANTÔNIO HONÓRIO</td>\n",
              "      <td>271</td>\n",
              "      <td>221</td>\n",
              "      <td>0.815498</td>\n",
              "    </tr>\n",
              "    <tr>\n",
              "      <th>53</th>\n",
              "      <td>PIEDADE</td>\n",
              "      <td>452</td>\n",
              "      <td>364</td>\n",
              "      <td>0.805310</td>\n",
              "    </tr>\n",
              "    <tr>\n",
              "      <th>1</th>\n",
              "      <td>ANDORINHAS</td>\n",
              "      <td>2262</td>\n",
              "      <td>1741</td>\n",
              "      <td>0.769673</td>\n",
              "    </tr>\n",
              "    <tr>\n",
              "      <th>0</th>\n",
              "      <td>AEROPORTO</td>\n",
              "      <td>8</td>\n",
              "      <td>7</td>\n",
              "      <td>0.875000</td>\n",
              "    </tr>\n",
              "  </tbody>\n",
              "</table>\n",
              "</div>"
            ],
            "text/plain": [
              "          neighbourhood  total_appointments  show_appointments  show_prop\n",
              "44              MARUÍPE                1902               1478   0.777077\n",
              "25           GOIABEIRAS                 700                563   0.804286\n",
              "8                BONFIM                2773               2223   0.801659\n",
              "3   ARIOVALDO FAVALESSA                 282                220   0.780142\n",
              "39      JARDIM DA PENHA                3877               3246   0.837245\n",
              "51    PARQUE INDUSTRIAL                   1                  1   1.000000\n",
              "2       ANTÔNIO HONÓRIO                 271                221   0.815498\n",
              "53              PIEDADE                 452                364   0.805310\n",
              "1            ANDORINHAS                2262               1741   0.769673\n",
              "0             AEROPORTO                   8                  7   0.875000"
            ]
          },
          "metadata": {
            "tags": []
          },
          "execution_count": 131
        }
      ]
    },
    {
      "cell_type": "markdown",
      "metadata": {
        "id": "a6to9l2zrhI7"
      },
      "source": [
        "### Top Neighbourhoods with highest appointments "
      ]
    },
    {
      "cell_type": "code",
      "metadata": {
        "colab": {
          "base_uri": "https://localhost:8080/",
          "height": 357
        },
        "id": "yXRm9w63uNic",
        "outputId": "ba7db9af-785f-419c-ec7e-4e2ac8f61a53"
      },
      "source": [
        "high_appointment_neigh = neighbour_df.sort_values('total_appointments',ascending=False).head(10)\n",
        "high_appointment_neigh"
      ],
      "execution_count": null,
      "outputs": [
        {
          "output_type": "execute_result",
          "data": {
            "text/html": [
              "<div>\n",
              "<style scoped>\n",
              "    .dataframe tbody tr th:only-of-type {\n",
              "        vertical-align: middle;\n",
              "    }\n",
              "\n",
              "    .dataframe tbody tr th {\n",
              "        vertical-align: top;\n",
              "    }\n",
              "\n",
              "    .dataframe thead th {\n",
              "        text-align: right;\n",
              "    }\n",
              "</style>\n",
              "<table border=\"1\" class=\"dataframe\">\n",
              "  <thead>\n",
              "    <tr style=\"text-align: right;\">\n",
              "      <th></th>\n",
              "      <th>neighbourhood</th>\n",
              "      <th>total_appointments</th>\n",
              "      <th>show_appointments</th>\n",
              "      <th>show_prop</th>\n",
              "    </tr>\n",
              "  </thead>\n",
              "  <tbody>\n",
              "    <tr>\n",
              "      <th>38</th>\n",
              "      <td>JARDIM CAMBURI</td>\n",
              "      <td>7717</td>\n",
              "      <td>6252</td>\n",
              "      <td>0.810159</td>\n",
              "    </tr>\n",
              "    <tr>\n",
              "      <th>43</th>\n",
              "      <td>MARIA ORTIZ</td>\n",
              "      <td>5805</td>\n",
              "      <td>4586</td>\n",
              "      <td>0.790009</td>\n",
              "    </tr>\n",
              "    <tr>\n",
              "      <th>59</th>\n",
              "      <td>RESISTÊNCIA</td>\n",
              "      <td>4430</td>\n",
              "      <td>3525</td>\n",
              "      <td>0.795711</td>\n",
              "    </tr>\n",
              "    <tr>\n",
              "      <th>39</th>\n",
              "      <td>JARDIM DA PENHA</td>\n",
              "      <td>3877</td>\n",
              "      <td>3246</td>\n",
              "      <td>0.837245</td>\n",
              "    </tr>\n",
              "    <tr>\n",
              "      <th>36</th>\n",
              "      <td>ITARARÉ</td>\n",
              "      <td>3514</td>\n",
              "      <td>2591</td>\n",
              "      <td>0.737336</td>\n",
              "    </tr>\n",
              "    <tr>\n",
              "      <th>10</th>\n",
              "      <td>CENTRO</td>\n",
              "      <td>3334</td>\n",
              "      <td>2631</td>\n",
              "      <td>0.789142</td>\n",
              "    </tr>\n",
              "    <tr>\n",
              "      <th>78</th>\n",
              "      <td>TABUAZEIRO</td>\n",
              "      <td>3131</td>\n",
              "      <td>2559</td>\n",
              "      <td>0.817311</td>\n",
              "    </tr>\n",
              "    <tr>\n",
              "      <th>66</th>\n",
              "      <td>SANTA MARTHA</td>\n",
              "      <td>3131</td>\n",
              "      <td>2635</td>\n",
              "      <td>0.841584</td>\n",
              "    </tr>\n",
              "    <tr>\n",
              "      <th>40</th>\n",
              "      <td>JESUS DE NAZARETH</td>\n",
              "      <td>2853</td>\n",
              "      <td>2157</td>\n",
              "      <td>0.756046</td>\n",
              "    </tr>\n",
              "    <tr>\n",
              "      <th>8</th>\n",
              "      <td>BONFIM</td>\n",
              "      <td>2773</td>\n",
              "      <td>2223</td>\n",
              "      <td>0.801659</td>\n",
              "    </tr>\n",
              "  </tbody>\n",
              "</table>\n",
              "</div>"
            ],
            "text/plain": [
              "        neighbourhood  total_appointments  show_appointments  show_prop\n",
              "38     JARDIM CAMBURI                7717               6252   0.810159\n",
              "43        MARIA ORTIZ                5805               4586   0.790009\n",
              "59        RESISTÊNCIA                4430               3525   0.795711\n",
              "39    JARDIM DA PENHA                3877               3246   0.837245\n",
              "36            ITARARÉ                3514               2591   0.737336\n",
              "10             CENTRO                3334               2631   0.789142\n",
              "78         TABUAZEIRO                3131               2559   0.817311\n",
              "66       SANTA MARTHA                3131               2635   0.841584\n",
              "40  JESUS DE NAZARETH                2853               2157   0.756046\n",
              "8              BONFIM                2773               2223   0.801659"
            ]
          },
          "metadata": {
            "tags": []
          },
          "execution_count": 132
        }
      ]
    },
    {
      "cell_type": "code",
      "metadata": {
        "id": "fYRDMtf6sacz"
      },
      "source": [
        "def color_squarify(data_frame):\n",
        "  cmap = matplotlib.cm.tab20c\n",
        "  mini=min(data_frame.total_appointments)\n",
        "  maxi=max(data_frame.total_appointments)\n",
        "  norm = matplotlib.colors.Normalize(mini,maxi)\n",
        "  colors = [cmap(norm(value)) for value in data_frame.total_appointments]\n",
        "  return colors"
      ],
      "execution_count": null,
      "outputs": []
    },
    {
      "cell_type": "code",
      "metadata": {
        "colab": {
          "base_uri": "https://localhost:8080/",
          "height": 512
        },
        "id": "nLy6GWAnk-Ks",
        "outputId": "e8770d4d-4319-4628-9a6e-6564306fdf88"
      },
      "source": [
        "plt.figure(figsize=(10,8))\n",
        "squarify.plot(sizes=high_appointment_neigh.total_appointments,\n",
        "              label=high_appointment_neigh.neighbourhood,\n",
        "              color = color_squarify(high_appointment_neigh),\n",
        "              pad=True)\n",
        "plt.axis('off')\n",
        "plt.title('\\nNeighbourhoods with maximum appointments\\n')\n",
        "plt.show()"
      ],
      "execution_count": null,
      "outputs": [
        {
          "output_type": "display_data",
          "data": {
            "image/png": "[encoded data removed]",
            "text/plain": [
              "<Figure size 720x576 with 1 Axes>"
            ]
          },
          "metadata": {
            "tags": [],
            "needs_background": "light"
          }
        }
      ]
    },
    {
      "cell_type": "markdown",
      "metadata": {
        "id": "gbXhDTcQO3Ls"
      },
      "source": [
        "> From JARDIM CAMBURI there were highest appointments i.e. 7717"
      ]
    },
    {
      "cell_type": "markdown",
      "metadata": {
        "id": "_Gxr1qwhtm6f"
      },
      "source": [
        "### Top Neighbourhoods with lowest appointments"
      ]
    },
    {
      "cell_type": "code",
      "metadata": {
        "id": "-FxtRSmruD_U"
      },
      "source": [
        "low_appointment_neigh = neighbour_df.sort_values('total_appointments').head(5)"
      ],
      "execution_count": null,
      "outputs": []
    },
    {
      "cell_type": "code",
      "metadata": {
        "colab": {
          "base_uri": "https://localhost:8080/"
        },
        "id": "4K1tKQj9w8o0",
        "outputId": "ed9cb485-7960-40c5-a484-b1f42e42fa8c"
      },
      "source": [
        "low_appointment_neigh.neighbourhood.iloc[0] = 'PQ'\n",
        "low_appointment_neigh.neighbourhood.iloc[1] = 'IOCDT'"
      ],
      "execution_count": null,
      "outputs": [
        {
          "output_type": "stream",
          "text": [
            "/usr/local/lib/python3.7/dist-packages/pandas/core/indexing.py:670: SettingWithCopyWarning: \n",
            "A value is trying to be set on a copy of a slice from a DataFrame\n",
            "\n",
            "See the caveats in the documentation: https://pandas.pydata.org/pandas-docs/stable/user_guide/indexing.html#returning-a-view-versus-a-copy\n",
            "  iloc._setitem_with_indexer(indexer, value)\n"
          ],
          "name": "stderr"
        }
      ]
    },
    {
      "cell_type": "code",
      "metadata": {
        "colab": {
          "base_uri": "https://localhost:8080/",
          "height": 203
        },
        "id": "VZdR4uq_wKdM",
        "outputId": "66d9a66b-957a-4fa4-8a89-ae7c141d70fa"
      },
      "source": [
        "low_appointment_neigh"
      ],
      "execution_count": null,
      "outputs": [
        {
          "output_type": "execute_result",
          "data": {
            "text/html": [
              "<div>\n",
              "<style scoped>\n",
              "    .dataframe tbody tr th:only-of-type {\n",
              "        vertical-align: middle;\n",
              "    }\n",
              "\n",
              "    .dataframe tbody tr th {\n",
              "        vertical-align: top;\n",
              "    }\n",
              "\n",
              "    .dataframe thead th {\n",
              "        text-align: right;\n",
              "    }\n",
              "</style>\n",
              "<table border=\"1\" class=\"dataframe\">\n",
              "  <thead>\n",
              "    <tr style=\"text-align: right;\">\n",
              "      <th></th>\n",
              "      <th>neighbourhood</th>\n",
              "      <th>total_appointments</th>\n",
              "      <th>show_appointments</th>\n",
              "      <th>show_prop</th>\n",
              "    </tr>\n",
              "  </thead>\n",
              "  <tbody>\n",
              "    <tr>\n",
              "      <th>51</th>\n",
              "      <td>PQ</td>\n",
              "      <td>1</td>\n",
              "      <td>1</td>\n",
              "      <td>1.000000</td>\n",
              "    </tr>\n",
              "    <tr>\n",
              "      <th>34</th>\n",
              "      <td>IOCDT</td>\n",
              "      <td>2</td>\n",
              "      <td>0</td>\n",
              "      <td>0.000000</td>\n",
              "    </tr>\n",
              "    <tr>\n",
              "      <th>0</th>\n",
              "      <td>AEROPORTO</td>\n",
              "      <td>8</td>\n",
              "      <td>7</td>\n",
              "      <td>0.875000</td>\n",
              "    </tr>\n",
              "    <tr>\n",
              "      <th>32</th>\n",
              "      <td>ILHA DO FRADE</td>\n",
              "      <td>10</td>\n",
              "      <td>8</td>\n",
              "      <td>0.800000</td>\n",
              "    </tr>\n",
              "    <tr>\n",
              "      <th>31</th>\n",
              "      <td>ILHA DO BOI</td>\n",
              "      <td>35</td>\n",
              "      <td>32</td>\n",
              "      <td>0.914286</td>\n",
              "    </tr>\n",
              "  </tbody>\n",
              "</table>\n",
              "</div>"
            ],
            "text/plain": [
              "    neighbourhood  total_appointments  show_appointments  show_prop\n",
              "51             PQ                   1                  1   1.000000\n",
              "34          IOCDT                   2                  0   0.000000\n",
              "0       AEROPORTO                   8                  7   0.875000\n",
              "32  ILHA DO FRADE                  10                  8   0.800000\n",
              "31    ILHA DO BOI                  35                 32   0.914286"
            ]
          },
          "metadata": {
            "tags": []
          },
          "execution_count": 137
        }
      ]
    },
    {
      "cell_type": "code",
      "metadata": {
        "colab": {
          "base_uri": "https://localhost:8080/",
          "height": 512
        },
        "id": "32W2t4hCu3fW",
        "outputId": "6b455f22-284e-4226-b528-628e9ea30c40"
      },
      "source": [
        "plt.figure(figsize=(10,8))\n",
        "squarify.plot(sizes=low_appointment_neigh.total_appointments,\n",
        "              label=low_appointment_neigh.neighbourhood,\n",
        "              color = color_squarify(low_appointment_neigh),\n",
        "              pad=True)\n",
        "plt.axis('off')\n",
        "plt.title('\\nNeighbourhoods with minimum appointments\\n')\n",
        "plt.show()"
      ],
      "execution_count": null,
      "outputs": [
        {
          "output_type": "display_data",
          "data": {
            "image/png": "[encoded data removed]",
            "text/plain": [
              "<Figure size 720x576 with 1 Axes>"
            ]
          },
          "metadata": {
            "tags": [],
            "needs_background": "light"
          }
        }
      ]
    },
    {
      "cell_type": "markdown",
      "metadata": {
        "id": "7LPJEcLbOapH"
      },
      "source": [
        "> From Parque Industrial(PQ) there were only one appointment"
      ]
    },
    {
      "cell_type": "markdown",
      "metadata": {
        "id": "WY3uzuLgCw7w"
      },
      "source": [
        "### Total Appointments and actual show-up appointments"
      ]
    },
    {
      "cell_type": "code",
      "metadata": {
        "colab": {
          "base_uri": "https://localhost:8080/",
          "height": 357
        },
        "id": "hMrWBrkfTXX6",
        "outputId": "ae7e4eb5-f361-459a-98ed-cdac18c775a3"
      },
      "source": [
        "neighbour_df.sort_values('total_appointments', ascending=False).head(n=10)"
      ],
      "execution_count": null,
      "outputs": [
        {
          "output_type": "execute_result",
          "data": {
            "text/html": [
              "<div>\n",
              "<style scoped>\n",
              "    .dataframe tbody tr th:only-of-type {\n",
              "        vertical-align: middle;\n",
              "    }\n",
              "\n",
              "    .dataframe tbody tr th {\n",
              "        vertical-align: top;\n",
              "    }\n",
              "\n",
              "    .dataframe thead th {\n",
              "        text-align: right;\n",
              "    }\n",
              "</style>\n",
              "<table border=\"1\" class=\"dataframe\">\n",
              "  <thead>\n",
              "    <tr style=\"text-align: right;\">\n",
              "      <th></th>\n",
              "      <th>neighbourhood</th>\n",
              "      <th>total_appointments</th>\n",
              "      <th>show_appointments</th>\n",
              "      <th>show_prop</th>\n",
              "    </tr>\n",
              "  </thead>\n",
              "  <tbody>\n",
              "    <tr>\n",
              "      <th>38</th>\n",
              "      <td>JARDIM CAMBURI</td>\n",
              "      <td>7717</td>\n",
              "      <td>6252</td>\n",
              "      <td>0.810159</td>\n",
              "    </tr>\n",
              "    <tr>\n",
              "      <th>43</th>\n",
              "      <td>MARIA ORTIZ</td>\n",
              "      <td>5805</td>\n",
              "      <td>4586</td>\n",
              "      <td>0.790009</td>\n",
              "    </tr>\n",
              "    <tr>\n",
              "      <th>59</th>\n",
              "      <td>RESISTÊNCIA</td>\n",
              "      <td>4430</td>\n",
              "      <td>3525</td>\n",
              "      <td>0.795711</td>\n",
              "    </tr>\n",
              "    <tr>\n",
              "      <th>39</th>\n",
              "      <td>JARDIM DA PENHA</td>\n",
              "      <td>3877</td>\n",
              "      <td>3246</td>\n",
              "      <td>0.837245</td>\n",
              "    </tr>\n",
              "    <tr>\n",
              "      <th>36</th>\n",
              "      <td>ITARARÉ</td>\n",
              "      <td>3514</td>\n",
              "      <td>2591</td>\n",
              "      <td>0.737336</td>\n",
              "    </tr>\n",
              "    <tr>\n",
              "      <th>10</th>\n",
              "      <td>CENTRO</td>\n",
              "      <td>3334</td>\n",
              "      <td>2631</td>\n",
              "      <td>0.789142</td>\n",
              "    </tr>\n",
              "    <tr>\n",
              "      <th>78</th>\n",
              "      <td>TABUAZEIRO</td>\n",
              "      <td>3131</td>\n",
              "      <td>2559</td>\n",
              "      <td>0.817311</td>\n",
              "    </tr>\n",
              "    <tr>\n",
              "      <th>66</th>\n",
              "      <td>SANTA MARTHA</td>\n",
              "      <td>3131</td>\n",
              "      <td>2635</td>\n",
              "      <td>0.841584</td>\n",
              "    </tr>\n",
              "    <tr>\n",
              "      <th>40</th>\n",
              "      <td>JESUS DE NAZARETH</td>\n",
              "      <td>2853</td>\n",
              "      <td>2157</td>\n",
              "      <td>0.756046</td>\n",
              "    </tr>\n",
              "    <tr>\n",
              "      <th>8</th>\n",
              "      <td>BONFIM</td>\n",
              "      <td>2773</td>\n",
              "      <td>2223</td>\n",
              "      <td>0.801659</td>\n",
              "    </tr>\n",
              "  </tbody>\n",
              "</table>\n",
              "</div>"
            ],
            "text/plain": [
              "        neighbourhood  total_appointments  show_appointments  show_prop\n",
              "38     JARDIM CAMBURI                7717               6252   0.810159\n",
              "43        MARIA ORTIZ                5805               4586   0.790009\n",
              "59        RESISTÊNCIA                4430               3525   0.795711\n",
              "39    JARDIM DA PENHA                3877               3246   0.837245\n",
              "36            ITARARÉ                3514               2591   0.737336\n",
              "10             CENTRO                3334               2631   0.789142\n",
              "78         TABUAZEIRO                3131               2559   0.817311\n",
              "66       SANTA MARTHA                3131               2635   0.841584\n",
              "40  JESUS DE NAZARETH                2853               2157   0.756046\n",
              "8              BONFIM                2773               2223   0.801659"
            ]
          },
          "metadata": {
            "tags": []
          },
          "execution_count": 167
        }
      ]
    },
    {
      "cell_type": "code",
      "metadata": {
        "colab": {
          "base_uri": "https://localhost:8080/",
          "height": 443
        },
        "id": "yhzVZINnT81K",
        "outputId": "f3388605-01c0-4766-b5b2-a23746e17467"
      },
      "source": [
        "plt.figure(figsize=(15, 8))\n",
        "graph1 = sns.barplot(data=neighbour_df.sort_values('show_appointments', ascending=False).head(n=15),\n",
        "                     x='neighbourhood',y='total_appointments', color='red', label='Total Appts')\n",
        "\n",
        "graph2 = sns.barplot(data=neighbour_df.sort_values('show_appointments', ascending=False).head(n=15),\n",
        "                     x='neighbourhood',y='show_appointments',color='blue', label='Show Appts')\n",
        "\n",
        "graph1.set_xlabel('Neighbourhood',fontsize=13)\n",
        "graph1.set_ylabel('% of people who showed up\\n',fontsize=13)\n",
        "graph1.set_title('\\nNeighbourhoods with highest show-up rate',fontsize=16)\n",
        "\n",
        "sns.despine(left=True, bottom=True)\n",
        "plt.xticks(rotation=75)\n",
        "plt.legend()\n",
        "plt.show()"
      ],
      "execution_count": 125,
      "outputs": [
        {
          "output_type": "display_data",
          "data": {
            "image/png": "[encoded data removed]",
            "text/plain": [
              "<Figure size 1080x576 with 1 Axes>"
            ]
          },
          "metadata": {
            "tags": [],
            "needs_background": "light"
          }
        }
      ]
    },
    {
      "cell_type": "markdown",
      "metadata": {
        "id": "WQD_HHoHMmGy"
      },
      "source": [
        "### Neighbourhood where show-up rate is high"
      ]
    },
    {
      "cell_type": "code",
      "metadata": {
        "id": "ELUh3UQ4Ms-W",
        "colab": {
          "base_uri": "https://localhost:8080/",
          "height": 295
        },
        "outputId": "c14c5116-efb4-487b-f375-9384a2203ef4"
      },
      "source": [
        "neigh_high_show = neighbour_df.nlargest(n=8,columns='show_prop')\n",
        "neigh_high_show.show_prop = neigh_high_show.show_prop*100\n",
        "neigh_high_show"
      ],
      "execution_count": null,
      "outputs": [
        {
          "output_type": "execute_result",
          "data": {
            "text/html": [
              "<div>\n",
              "<style scoped>\n",
              "    .dataframe tbody tr th:only-of-type {\n",
              "        vertical-align: middle;\n",
              "    }\n",
              "\n",
              "    .dataframe tbody tr th {\n",
              "        vertical-align: top;\n",
              "    }\n",
              "\n",
              "    .dataframe thead th {\n",
              "        text-align: right;\n",
              "    }\n",
              "</style>\n",
              "<table border=\"1\" class=\"dataframe\">\n",
              "  <thead>\n",
              "    <tr style=\"text-align: right;\">\n",
              "      <th></th>\n",
              "      <th>neighbourhood</th>\n",
              "      <th>total_appointments</th>\n",
              "      <th>show_appointments</th>\n",
              "      <th>show_prop</th>\n",
              "    </tr>\n",
              "  </thead>\n",
              "  <tbody>\n",
              "    <tr>\n",
              "      <th>51</th>\n",
              "      <td>PARQUE INDUSTRIAL</td>\n",
              "      <td>1</td>\n",
              "      <td>1</td>\n",
              "      <td>100.000000</td>\n",
              "    </tr>\n",
              "    <tr>\n",
              "      <th>31</th>\n",
              "      <td>ILHA DO BOI</td>\n",
              "      <td>35</td>\n",
              "      <td>32</td>\n",
              "      <td>91.428571</td>\n",
              "    </tr>\n",
              "    <tr>\n",
              "      <th>0</th>\n",
              "      <td>AEROPORTO</td>\n",
              "      <td>8</td>\n",
              "      <td>7</td>\n",
              "      <td>87.500000</td>\n",
              "    </tr>\n",
              "    <tr>\n",
              "      <th>48</th>\n",
              "      <td>MÁRIO CYPRESTE</td>\n",
              "      <td>371</td>\n",
              "      <td>317</td>\n",
              "      <td>85.444744</td>\n",
              "    </tr>\n",
              "    <tr>\n",
              "      <th>73</th>\n",
              "      <td>SOLON BORGES</td>\n",
              "      <td>469</td>\n",
              "      <td>400</td>\n",
              "      <td>85.287846</td>\n",
              "    </tr>\n",
              "    <tr>\n",
              "      <th>16</th>\n",
              "      <td>DE LOURDES</td>\n",
              "      <td>305</td>\n",
              "      <td>258</td>\n",
              "      <td>84.590164</td>\n",
              "    </tr>\n",
              "    <tr>\n",
              "      <th>17</th>\n",
              "      <td>DO CABRAL</td>\n",
              "      <td>560</td>\n",
              "      <td>472</td>\n",
              "      <td>84.285714</td>\n",
              "    </tr>\n",
              "    <tr>\n",
              "      <th>66</th>\n",
              "      <td>SANTA MARTHA</td>\n",
              "      <td>3131</td>\n",
              "      <td>2635</td>\n",
              "      <td>84.158416</td>\n",
              "    </tr>\n",
              "  </tbody>\n",
              "</table>\n",
              "</div>"
            ],
            "text/plain": [
              "        neighbourhood  total_appointments  show_appointments   show_prop\n",
              "51  PARQUE INDUSTRIAL                   1                  1  100.000000\n",
              "31        ILHA DO BOI                  35                 32   91.428571\n",
              "0           AEROPORTO                   8                  7   87.500000\n",
              "48     MÁRIO CYPRESTE                 371                317   85.444744\n",
              "73       SOLON BORGES                 469                400   85.287846\n",
              "16         DE LOURDES                 305                258   84.590164\n",
              "17          DO CABRAL                 560                472   84.285714\n",
              "66       SANTA MARTHA                3131               2635   84.158416"
            ]
          },
          "metadata": {
            "tags": []
          },
          "execution_count": 140
        }
      ]
    },
    {
      "cell_type": "markdown",
      "metadata": {
        "id": "kMjqVaHVJh8y"
      },
      "source": [
        "> Removing first 3 rows beacuse total appointments are very less from other neighbourhoods so concluding high show up rate in first three nighbourhood will be inappropriate\n",
        "\n",
        "> Show-up rate of other neighbourhoods are approximately equal to 85%"
      ]
    },
    {
      "cell_type": "markdown",
      "metadata": {
        "id": "EmJdhv9WMv2h"
      },
      "source": [
        "### Neighbourhood where show-up rate is low"
      ]
    },
    {
      "cell_type": "code",
      "metadata": {
        "colab": {
          "base_uri": "https://localhost:8080/",
          "height": 234
        },
        "id": "YBaEVqn5GDgU",
        "outputId": "24e07211-55bd-4637-925b-6fcfdd06d683"
      },
      "source": [
        "neigh_low_show = neighbour_df.nsmallest(n=6,columns='show_prop')\n",
        "neigh_low_show.show_prop = neigh_low_show.show_prop*100\n",
        "neigh_low_show"
      ],
      "execution_count": null,
      "outputs": [
        {
          "output_type": "execute_result",
          "data": {
            "text/html": [
              "<div>\n",
              "<style scoped>\n",
              "    .dataframe tbody tr th:only-of-type {\n",
              "        vertical-align: middle;\n",
              "    }\n",
              "\n",
              "    .dataframe tbody tr th {\n",
              "        vertical-align: top;\n",
              "    }\n",
              "\n",
              "    .dataframe thead th {\n",
              "        text-align: right;\n",
              "    }\n",
              "</style>\n",
              "<table border=\"1\" class=\"dataframe\">\n",
              "  <thead>\n",
              "    <tr style=\"text-align: right;\">\n",
              "      <th></th>\n",
              "      <th>neighbourhood</th>\n",
              "      <th>total_appointments</th>\n",
              "      <th>show_appointments</th>\n",
              "      <th>show_prop</th>\n",
              "    </tr>\n",
              "  </thead>\n",
              "  <tbody>\n",
              "    <tr>\n",
              "      <th>34</th>\n",
              "      <td>ILHAS OCEÂNICAS DE TRINDADE</td>\n",
              "      <td>2</td>\n",
              "      <td>0</td>\n",
              "      <td>0.000000</td>\n",
              "    </tr>\n",
              "    <tr>\n",
              "      <th>70</th>\n",
              "      <td>SANTOS DUMONT</td>\n",
              "      <td>1276</td>\n",
              "      <td>907</td>\n",
              "      <td>71.081505</td>\n",
              "    </tr>\n",
              "    <tr>\n",
              "      <th>61</th>\n",
              "      <td>SANTA CECÍLIA</td>\n",
              "      <td>448</td>\n",
              "      <td>325</td>\n",
              "      <td>72.544643</td>\n",
              "    </tr>\n",
              "    <tr>\n",
              "      <th>62</th>\n",
              "      <td>SANTA CLARA</td>\n",
              "      <td>506</td>\n",
              "      <td>372</td>\n",
              "      <td>73.517787</td>\n",
              "    </tr>\n",
              "    <tr>\n",
              "      <th>36</th>\n",
              "      <td>ITARARÉ</td>\n",
              "      <td>3514</td>\n",
              "      <td>2591</td>\n",
              "      <td>73.733637</td>\n",
              "    </tr>\n",
              "    <tr>\n",
              "      <th>40</th>\n",
              "      <td>JESUS DE NAZARETH</td>\n",
              "      <td>2853</td>\n",
              "      <td>2157</td>\n",
              "      <td>75.604627</td>\n",
              "    </tr>\n",
              "  </tbody>\n",
              "</table>\n",
              "</div>"
            ],
            "text/plain": [
              "                  neighbourhood  ...  show_prop\n",
              "34  ILHAS OCEÂNICAS DE TRINDADE  ...   0.000000\n",
              "70                SANTOS DUMONT  ...  71.081505\n",
              "61                SANTA CECÍLIA  ...  72.544643\n",
              "62                  SANTA CLARA  ...  73.517787\n",
              "36                      ITARARÉ  ...  73.733637\n",
              "40            JESUS DE NAZARETH  ...  75.604627\n",
              "\n",
              "[6 rows x 4 columns]"
            ]
          },
          "metadata": {
            "tags": []
          },
          "execution_count": 143
        }
      ]
    },
    {
      "cell_type": "markdown",
      "metadata": {
        "id": "CyirLpBiSean"
      },
      "source": [
        "> ILHAS OCEÂNICAS DE TRINDADE has only two appointments that is very less than other neighbourhoods so concluding low show-up rate of ILHAS OCEÂNICAS DE TRINDADE on the basis of only 2 appointments will be inappropriate\n",
        "\n",
        "> Lowest show rate is 71% at SANTOS DUMONT  "
      ]
    },
    {
      "cell_type": "markdown",
      "metadata": {
        "id": "zoZiBJHh4i4o"
      },
      "source": [
        "> We can say that neighbourhoods of MÁRIO CYPRESTE and SOLON BORGES are more likely to attend their scheduled appointment\t"
      ]
    },
    {
      "cell_type": "markdown",
      "metadata": {
        "id": "mwH-m6BSLNcd"
      },
      "source": [
        "## Day of the week\n",
        "Is there any specific day of week where appointment rate is low?"
      ]
    },
    {
      "cell_type": "code",
      "metadata": {
        "id": "XzylkUPtDAFV"
      },
      "source": [
        "appointment_day_of_week = pd.DataFrame()"
      ],
      "execution_count": null,
      "outputs": []
    },
    {
      "cell_type": "code",
      "metadata": {
        "id": "izoQL7E9DG-F"
      },
      "source": [
        "appointment_day_of_week['total_dow'] = df.groupby('appointment_dow').show.count()\n",
        "appointment_day_of_week['show_dow'] = df.groupby('appointment_dow').show.sum()\n",
        "appointment_day_of_week['show_prop'] = df.groupby('appointment_dow').show.mean()\n",
        "appointment_day_of_week.reset_index(inplace=True)"
      ],
      "execution_count": null,
      "outputs": []
    },
    {
      "cell_type": "code",
      "metadata": {
        "colab": {
          "base_uri": "https://localhost:8080/",
          "height": 234
        },
        "id": "XTZbuoXjD4Vm",
        "outputId": "bc32b29d-8ca4-49bc-eee4-19be77dbcb49"
      },
      "source": [
        "appointment_day_of_week"
      ],
      "execution_count": null,
      "outputs": [
        {
          "output_type": "execute_result",
          "data": {
            "text/html": [
              "<div>\n",
              "<style scoped>\n",
              "    .dataframe tbody tr th:only-of-type {\n",
              "        vertical-align: middle;\n",
              "    }\n",
              "\n",
              "    .dataframe tbody tr th {\n",
              "        vertical-align: top;\n",
              "    }\n",
              "\n",
              "    .dataframe thead th {\n",
              "        text-align: right;\n",
              "    }\n",
              "</style>\n",
              "<table border=\"1\" class=\"dataframe\">\n",
              "  <thead>\n",
              "    <tr style=\"text-align: right;\">\n",
              "      <th></th>\n",
              "      <th>appointment_dow</th>\n",
              "      <th>total_dow</th>\n",
              "      <th>show_dow</th>\n",
              "      <th>show_prop</th>\n",
              "    </tr>\n",
              "  </thead>\n",
              "  <tbody>\n",
              "    <tr>\n",
              "      <th>0</th>\n",
              "      <td>Friday</td>\n",
              "      <td>19019</td>\n",
              "      <td>14982</td>\n",
              "      <td>0.787739</td>\n",
              "    </tr>\n",
              "    <tr>\n",
              "      <th>1</th>\n",
              "      <td>Monday</td>\n",
              "      <td>22713</td>\n",
              "      <td>18024</td>\n",
              "      <td>0.793554</td>\n",
              "    </tr>\n",
              "    <tr>\n",
              "      <th>2</th>\n",
              "      <td>Saturday</td>\n",
              "      <td>39</td>\n",
              "      <td>30</td>\n",
              "      <td>0.769231</td>\n",
              "    </tr>\n",
              "    <tr>\n",
              "      <th>3</th>\n",
              "      <td>Thursday</td>\n",
              "      <td>17246</td>\n",
              "      <td>13909</td>\n",
              "      <td>0.806506</td>\n",
              "    </tr>\n",
              "    <tr>\n",
              "      <th>4</th>\n",
              "      <td>Tuesday</td>\n",
              "      <td>25638</td>\n",
              "      <td>20488</td>\n",
              "      <td>0.799126</td>\n",
              "    </tr>\n",
              "    <tr>\n",
              "      <th>5</th>\n",
              "      <td>Wednesday</td>\n",
              "      <td>25866</td>\n",
              "      <td>20774</td>\n",
              "      <td>0.803139</td>\n",
              "    </tr>\n",
              "  </tbody>\n",
              "</table>\n",
              "</div>"
            ],
            "text/plain": [
              "  appointment_dow  total_dow  show_dow  show_prop\n",
              "0          Friday      19019     14982   0.787739\n",
              "1          Monday      22713     18024   0.793554\n",
              "2        Saturday         39        30   0.769231\n",
              "3        Thursday      17246     13909   0.806506\n",
              "4         Tuesday      25638     20488   0.799126\n",
              "5       Wednesday      25866     20774   0.803139"
            ]
          },
          "metadata": {
            "tags": []
          },
          "execution_count": 148
        }
      ]
    },
    {
      "cell_type": "code",
      "metadata": {
        "colab": {
          "base_uri": "https://localhost:8080/",
          "height": 436
        },
        "id": "u4_rGeYhFdBl",
        "outputId": "1b04fe08-90a5-401e-eb7c-0e60359e6dae"
      },
      "source": [
        "plt.figure(figsize=(8,6),dpi=70)\n",
        "graph = sns.barplot(data=appointment_day_of_week,x='appointment_dow',y='total_dow',color='orange')\n",
        "graph = sns.barplot(data=appointment_day_of_week,x='appointment_dow',y='show_dow',color='khaki')\n",
        "graph.set_xlabel('Day of the week',fontsize=13.5)\n",
        "graph.set_ylabel('% of people who showed up\\n',fontsize=13.5)\n",
        "graph.set_title('Day with low appointment and show-up',fontsize=16)\n",
        "sns.despine( left=True, bottom=True)\n",
        "plt.xticks(rotation=45);"
      ],
      "execution_count": null,
      "outputs": [
        {
          "output_type": "display_data",
          "data": {
            "image/png": "[encoded data removed]",
            "text/plain": [
              "<Figure size 560x420 with 1 Axes>"
            ]
          },
          "metadata": {
            "tags": [],
            "needs_background": "light"
          }
        }
      ]
    },
    {
      "cell_type": "markdown",
      "metadata": {
        "id": "ug0Vyon3YWAO"
      },
      "source": [
        "> Saturday's have lowest number of appointments maybe due to weekend. People prefer to schedule appointments at weekdays "
      ]
    },
    {
      "cell_type": "code",
      "metadata": {
        "id": "Ytg80q00Gzrj"
      },
      "source": [
        "appointment_day_of_week['no_show_prop'] = 1 - appointment_day_of_week['show_prop']"
      ],
      "execution_count": null,
      "outputs": []
    },
    {
      "cell_type": "code",
      "metadata": {
        "colab": {
          "base_uri": "https://localhost:8080/",
          "height": 234
        },
        "id": "RDR8gVIqIpl_",
        "outputId": "4c29a4a3-f91c-45f3-857c-69a0b9e05257"
      },
      "source": [
        "appointment_day_of_week"
      ],
      "execution_count": null,
      "outputs": [
        {
          "output_type": "execute_result",
          "data": {
            "text/html": [
              "<div>\n",
              "<style scoped>\n",
              "    .dataframe tbody tr th:only-of-type {\n",
              "        vertical-align: middle;\n",
              "    }\n",
              "\n",
              "    .dataframe tbody tr th {\n",
              "        vertical-align: top;\n",
              "    }\n",
              "\n",
              "    .dataframe thead th {\n",
              "        text-align: right;\n",
              "    }\n",
              "</style>\n",
              "<table border=\"1\" class=\"dataframe\">\n",
              "  <thead>\n",
              "    <tr style=\"text-align: right;\">\n",
              "      <th></th>\n",
              "      <th>appointment_dow</th>\n",
              "      <th>total_dow</th>\n",
              "      <th>show_dow</th>\n",
              "      <th>show_prop</th>\n",
              "      <th>no_show_prop</th>\n",
              "    </tr>\n",
              "  </thead>\n",
              "  <tbody>\n",
              "    <tr>\n",
              "      <th>0</th>\n",
              "      <td>Friday</td>\n",
              "      <td>19019</td>\n",
              "      <td>14982</td>\n",
              "      <td>0.787739</td>\n",
              "      <td>0.212261</td>\n",
              "    </tr>\n",
              "    <tr>\n",
              "      <th>1</th>\n",
              "      <td>Monday</td>\n",
              "      <td>22713</td>\n",
              "      <td>18024</td>\n",
              "      <td>0.793554</td>\n",
              "      <td>0.206446</td>\n",
              "    </tr>\n",
              "    <tr>\n",
              "      <th>2</th>\n",
              "      <td>Saturday</td>\n",
              "      <td>39</td>\n",
              "      <td>30</td>\n",
              "      <td>0.769231</td>\n",
              "      <td>0.230769</td>\n",
              "    </tr>\n",
              "    <tr>\n",
              "      <th>3</th>\n",
              "      <td>Thursday</td>\n",
              "      <td>17246</td>\n",
              "      <td>13909</td>\n",
              "      <td>0.806506</td>\n",
              "      <td>0.193494</td>\n",
              "    </tr>\n",
              "    <tr>\n",
              "      <th>4</th>\n",
              "      <td>Tuesday</td>\n",
              "      <td>25638</td>\n",
              "      <td>20488</td>\n",
              "      <td>0.799126</td>\n",
              "      <td>0.200874</td>\n",
              "    </tr>\n",
              "    <tr>\n",
              "      <th>5</th>\n",
              "      <td>Wednesday</td>\n",
              "      <td>25866</td>\n",
              "      <td>20774</td>\n",
              "      <td>0.803139</td>\n",
              "      <td>0.196861</td>\n",
              "    </tr>\n",
              "  </tbody>\n",
              "</table>\n",
              "</div>"
            ],
            "text/plain": [
              "  appointment_dow  total_dow  show_dow  show_prop  no_show_prop\n",
              "0          Friday      19019     14982   0.787739      0.212261\n",
              "1          Monday      22713     18024   0.793554      0.206446\n",
              "2        Saturday         39        30   0.769231      0.230769\n",
              "3        Thursday      17246     13909   0.806506      0.193494\n",
              "4         Tuesday      25638     20488   0.799126      0.200874\n",
              "5       Wednesday      25866     20774   0.803139      0.196861"
            ]
          },
          "metadata": {
            "tags": []
          },
          "execution_count": 151
        }
      ]
    },
    {
      "cell_type": "code",
      "metadata": {
        "colab": {
          "base_uri": "https://localhost:8080/",
          "height": 436
        },
        "id": "ghyAA0NrIyf5",
        "outputId": "d09d24d1-bd43-43dd-983f-6a639303ac81"
      },
      "source": [
        "plt.figure(figsize=(8,6),dpi=70)\n",
        "values = appointment_day_of_week.no_show_prop\n",
        "clrs = ['palegreen' if (x < max(values)) else 'darkgreen' for x in values ]\n",
        "graph = sns.barplot(data=appointment_day_of_week,x='appointment_dow',y='no_show_prop',palette=clrs)\n",
        "graph.set_xlabel('Day of the week',fontsize=13.5)\n",
        "graph.set_ylabel('% of No-Show\\n',fontsize=13.5)\n",
        "graph.set_title('Day with low Show-up',fontsize=16)\n",
        "sns.despine( left=True, bottom=True)\n",
        "plt.xticks(rotation=45);"
      ],
      "execution_count": null,
      "outputs": [
        {
          "output_type": "display_data",
          "data": {
            "image/png": "[encoded data removed]",
            "text/plain": [
              "<Figure size 560x420 with 1 Axes>"
            ]
          },
          "metadata": {
            "tags": [],
            "needs_background": "light"
          }
        }
      ]
    },
    {
      "cell_type": "markdown",
      "metadata": {
        "id": "sChF1FaaYmhS"
      },
      "source": [
        "> Saturday have slightly higher no-show rate in comparison to other days.We can't conclude appointments on Saturdays will be more likely to be not shown due to less number of appointments"
      ]
    },
    {
      "cell_type": "markdown",
      "metadata": {
        "id": "EoemVexZp7Fa"
      },
      "source": [
        "## Relation of showing up wrt month\n",
        "\n",
        "Is there any speciifc month where show-up rate is high?"
      ]
    },
    {
      "cell_type": "code",
      "metadata": {
        "colab": {
          "base_uri": "https://localhost:8080/"
        },
        "id": "4I34ml7Fp-Xh",
        "outputId": "4ffdac34-1f3a-4d0b-badc-ccb3403f5d37"
      },
      "source": [
        "months = df.appointment_month.unique()\n",
        "print(months)"
      ],
      "execution_count": null,
      "outputs": [
        {
          "output_type": "stream",
          "text": [
            "['April' 'May' 'June']\n"
          ],
          "name": "stdout"
        }
      ]
    },
    {
      "cell_type": "code",
      "metadata": {
        "id": "d33QrNppnuOl"
      },
      "source": [
        "appointment_month = pd.DataFrame()"
      ],
      "execution_count": null,
      "outputs": []
    },
    {
      "cell_type": "code",
      "metadata": {
        "id": "JmOO0yownw86"
      },
      "source": [
        "appointment_month['total_appointments'] = df.groupby('appointment_month').show.count()\n",
        "appointment_month['show_appointments'] = df.groupby('appointment_month').show.sum()\n",
        "appointment_month['show_prop'] = df.groupby('appointment_month').show.mean()\n",
        "appointment_month.reset_index(inplace=True)\n",
        "appointment_month.show_prop = appointment_month.show_prop*100;"
      ],
      "execution_count": null,
      "outputs": []
    },
    {
      "cell_type": "code",
      "metadata": {
        "colab": {
          "base_uri": "https://localhost:8080/",
          "height": 142
        },
        "id": "UZd98Mt9oTzD",
        "outputId": "afbafbc9-964b-4a31-baf6-2c206d9f7cf0"
      },
      "source": [
        "appointment_month"
      ],
      "execution_count": null,
      "outputs": [
        {
          "output_type": "execute_result",
          "data": {
            "text/html": [
              "<div>\n",
              "<style scoped>\n",
              "    .dataframe tbody tr th:only-of-type {\n",
              "        vertical-align: middle;\n",
              "    }\n",
              "\n",
              "    .dataframe tbody tr th {\n",
              "        vertical-align: top;\n",
              "    }\n",
              "\n",
              "    .dataframe thead th {\n",
              "        text-align: right;\n",
              "    }\n",
              "</style>\n",
              "<table border=\"1\" class=\"dataframe\">\n",
              "  <thead>\n",
              "    <tr style=\"text-align: right;\">\n",
              "      <th></th>\n",
              "      <th>appointment_month</th>\n",
              "      <th>total_appointments</th>\n",
              "      <th>show_appointments</th>\n",
              "      <th>show_prop</th>\n",
              "    </tr>\n",
              "  </thead>\n",
              "  <tbody>\n",
              "    <tr>\n",
              "      <th>0</th>\n",
              "      <td>April</td>\n",
              "      <td>3235</td>\n",
              "      <td>2602</td>\n",
              "      <td>80.432767</td>\n",
              "    </tr>\n",
              "    <tr>\n",
              "      <th>1</th>\n",
              "      <td>June</td>\n",
              "      <td>26450</td>\n",
              "      <td>21568</td>\n",
              "      <td>81.542533</td>\n",
              "    </tr>\n",
              "    <tr>\n",
              "      <th>2</th>\n",
              "      <td>May</td>\n",
              "      <td>80836</td>\n",
              "      <td>64037</td>\n",
              "      <td>79.218418</td>\n",
              "    </tr>\n",
              "  </tbody>\n",
              "</table>\n",
              "</div>"
            ],
            "text/plain": [
              "  appointment_month  total_appointments  show_appointments  show_prop\n",
              "0             April                3235               2602  80.432767\n",
              "1              June               26450              21568  81.542533\n",
              "2               May               80836              64037  79.218418"
            ]
          },
          "metadata": {
            "tags": []
          },
          "execution_count": 156
        }
      ]
    },
    {
      "cell_type": "code",
      "metadata": {
        "colab": {
          "base_uri": "https://localhost:8080/",
          "height": 361
        },
        "id": "3t6MCAFmZOsH",
        "outputId": "d5e12894-df4a-4c2d-9efd-0f3253aaf5dd"
      },
      "source": [
        "plt.figure(figsize=(7,5),dpi=70)\n",
        "graph = sns.barplot(data=appointment_month,x='appointment_month',y='show_prop',palette='Set2')\n",
        "graph.set_xlabel('\\nMonths',fontsize=13.5)\n",
        "graph.set_ylabel('% of people who showed up\\n',fontsize=13.5)\n",
        "graph.set_title('Monthly Show-up ratio',fontsize=16)\n",
        "sns.despine( left=True, bottom=True)"
      ],
      "execution_count": null,
      "outputs": [
        {
          "output_type": "display_data",
          "data": {
            "image/png": "[encoded data removed]",
            "text/plain": [
              "<Figure size 490x350 with 1 Axes>"
            ]
          },
          "metadata": {
            "tags": [],
            "needs_background": "light"
          }
        }
      ]
    },
    {
      "cell_type": "markdown",
      "metadata": {
        "id": "F3IhW9v_qNJn"
      },
      "source": [
        "> Show up rates in month of May is slightly lower than month of April and June\n",
        "\n",
        "> We can notice that number of appointments in month of May is almost three times from June and 26 times from April. \n",
        "\n",
        "> We can't conclude that any specific month has highest no-show rate  "
      ]
    },
    {
      "cell_type": "markdown",
      "metadata": {
        "id": "_jWkcJ9e05Fq"
      },
      "source": [
        "# Conclusion\n",
        "\n",
        "* Important features to determine no-show are age, hypertension, neighbourhood, scholarship and diabetes.\n",
        "\n",
        "* Showing rate for appointment is more at older age group than younger age group maybe because people are more concerned for their health in old age than than in younger age.\n",
        "\n",
        "* Hypertension is an important characterstic of patients with higher attendance frequency\n",
        "\n",
        "* Showing rate for men and women are similar  \n",
        "\n",
        "* Their is no relation of showing up wrt alcholism and handicaps\n",
        "\n",
        "* Enrolment in Bolsa Familia program or scholarhip is an important feature to determine patients with higher attendance frequency\n",
        "\n",
        "* There is no preference for specific weekday over the other when it comes to attendance frequency.\n",
        "\n",
        "* There is no direct relation of No-Show with shorter or longer waiting days between appointment and schedule day.\n",
        "\n"
      ]
    },
    {
      "cell_type": "markdown",
      "metadata": {
        "id": "k5M_nj_FeP1f"
      },
      "source": [
        "## Improvement opportunities at administration level \n",
        "\n",
        "* Their were no appointments at sundays and appointments at saturday's were signifigantly low in comparison to weekdays. Administration should spread the appointments across months and weekdays regardless of weekends.\n",
        "\n",
        "* Administration should avoid scheduling multiple appointments in the same day for a single patient unless their is emergency. Giving everyone a chance to get second appointment after missing first appointment gives patient a relief of anyway getting another appointment.\n",
        "\n",
        "* Administration should charge a part of fees in advance while patient is scheduling appointment. This may reduce no-show rate.\n",
        "\n",
        "* Administration should follow a systematic approach when sending reminders to patients while closely monitoring the associated costs of sending follow-up reminders "
      ]
    },
    {
      "cell_type": "markdown",
      "metadata": {
        "id": "6QdaSperKHOb"
      },
      "source": [
        "# Limitations"
      ]
    },
    {
      "cell_type": "markdown",
      "metadata": {
        "id": "zMe2sunFjFpJ"
      },
      "source": [
        "* Appointment Time in all the rows is same that is 00:00:00.\n",
        "\n",
        "* If appointment time was specified properly then we could have \n",
        "find time intervals over which people prefer to miss scheduled appointment"
      ]
    },
    {
      "cell_type": "markdown",
      "metadata": {
        "id": "aJg4KjmIjOyv"
      },
      "source": [
        "* Handicap section has five different values(0,1,2,3,4) but on Kaggle author describes it as column with boolean values where 0 represents person with no-handicap and 1 with handicap.\n",
        "* We have assumed that 1,2,3,4 are handicaps and changed them all to 1 to represent person with handicap. While 0 represents person with no handicap."
      ]
    },
    {
      "cell_type": "markdown",
      "metadata": {
        "id": "6eV9jNZqZguv"
      },
      "source": [
        "* Distance from neighbourhood to the hospital is not given which may prove to be very effective in determining neighbourhoods which are far away from hospital  "
      ]
    },
    {
      "cell_type": "markdown",
      "metadata": {
        "id": "BSy4AoW4owuI"
      },
      "source": [
        "* Dataset only have data for month **April, May and June**. \n",
        "* If data for other months was provided then we could have find months with least show-up rates."
      ]
    }
  ]
}