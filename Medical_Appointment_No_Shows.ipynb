{
  "nbformat": 4,
  "nbformat_minor": 0,
  "metadata": {
    "kernelspec": {
      "display_name": "Python [default]",
      "language": "python",
      "name": "python3"
    },
    "language_info": {
      "codemirror_mode": {
        "name": "ipython",
        "version": 3
      },
      "file_extension": ".py",
      "mimetype": "text/x-python",
      "name": "python",
      "nbconvert_exporter": "python",
      "pygments_lexer": "ipython3",
      "version": "3.5.3"
    },
    "colab": {
      "name": "Medical-Appointment-No-Shows.ipynb",
      "provenance": [],
      "collapsed_sections": [
        "z2dmfUqaOPee",
        "2HAUXwNDOPef",
        "LfvthrGmOPeg"
      ],
      "toc_visible": true,
      "include_colab_link": true
    },
    "accelerator": "TPU"
  },
  "cells": [
    {
      "cell_type": "markdown",
      "metadata": {
        "id": "view-in-github",
        "colab_type": "text"
      },
      "source": [
        "<a href=\"https://colab.research.google.com/github/dishankkalra23/Medical-Appointment-No-Shows/blob/main/Medical_Appointment_No_Shows.ipynb\" target=\"_parent\"><img src=\"https://colab.research.google.com/assets/colab-badge.svg\" alt=\"Open In Colab\"/></a>"
      ]
    },
    {
      "cell_type": "markdown",
      "metadata": {
        "id": "BmfbjWRNOPeO"
      },
      "source": [
        "# Project: Medical Appointment No Shows"
      ]
    },
    {
      "cell_type": "markdown",
      "metadata": {
        "colab_type": "toc",
        "id": "tAhGZL4ucyhU"
      },
      "source": [
        ">[Project: Medical Appointment No Shows](#scrollTo=BmfbjWRNOPeO)\n",
        "\n",
        ">>>[Importing Libraries](#scrollTo=zy3dSfeNPPCc)\n",
        "\n",
        ">>>[Downloading dataset](#scrollTo=by5KNcWYVbXS)\n",
        "\n",
        ">>>[Loading dataset](#scrollTo=N14ODJZWXEZd)\n",
        "\n",
        ">[Data Wrangling](#scrollTo=zzG5_tl6_OJF)\n",
        "\n",
        ">>[Making new column Scheduled time](#scrollTo=kislWLDHJly8)\n",
        "\n",
        ">>[Rename columns](#scrollTo=HaJI_xlfgW12)\n",
        "\n",
        ">>[Changing no_show(to show) column to avoid misconception and easily understandable](#scrollTo=FHgwFcz7kNr4)\n",
        "\n",
        ">>[TO BE CHECKED: handicap and sms_received](#scrollTo=Cq1jFItJpjz8)\n",
        "\n",
        ">>[Duplicates in data](#scrollTo=KLgc2zuUrD_9)\n",
        "\n",
        ">>[Exploratory Data Analysis](#scrollTo=z2dmfUqaOPee)\n",
        "\n",
        ">>>[Research Question 1 (Replace this header name!)](#scrollTo=z2dmfUqaOPee)\n",
        "\n",
        ">>>[Research Question 2  (Replace this header name!)](#scrollTo=2HAUXwNDOPef)\n",
        "\n",
        ">>[Conclusions](#scrollTo=LfvthrGmOPeg)\n",
        "\n"
      ]
    },
    {
      "cell_type": "markdown",
      "metadata": {
        "id": "zy3dSfeNPPCc"
      },
      "source": [
        "### Importing Libraries"
      ]
    },
    {
      "cell_type": "code",
      "metadata": {
        "collapsed": true,
        "id": "pXIP6ChHOPeY"
      },
      "source": [
        "import pandas as pd\n",
        "import numpy as np\n",
        "import matplotlib.pyplot as plt\n",
        "import seaborn as sns"
      ],
      "execution_count": 2,
      "outputs": []
    },
    {
      "cell_type": "markdown",
      "metadata": {
        "id": "by5KNcWYVbXS"
      },
      "source": [
        "### Downloading dataset"
      ]
    },
    {
      "cell_type": "code",
      "metadata": {
        "id": "tCJ94esSR6IL"
      },
      "source": [
        "! pip install -q kaggle"
      ],
      "execution_count": 3,
      "outputs": []
    },
    {
      "cell_type": "code",
      "metadata": {
        "id": "0sONxJqfR8eS"
      },
      "source": [
        "# Upload your kaggle.json file containing API token\n",
        "from google.colab import files\n",
        "files.upload()"
      ],
      "execution_count": null,
      "outputs": []
    },
    {
      "cell_type": "code",
      "metadata": {
        "id": "rg7MqSGFWEEv"
      },
      "source": [
        "# Move the downloaded file to a location ~/.kaggle/kaggle.json\n",
        "! mkdir ~/.kaggle\n",
        "! cp kaggle.json ~/.kaggle/\n",
        "\n",
        "# You need to give proper permissions to the file (since this is a hidden folder)\n",
        "! chmod 600 ~/.kaggle/kaggle.json"
      ],
      "execution_count": 5,
      "outputs": []
    },
    {
      "cell_type": "code",
      "metadata": {
        "colab": {
          "base_uri": "https://localhost:8080/"
        },
        "id": "2G-QoXUsWKAu",
        "outputId": "0db1d7b0-9b2f-44d7-eb24-64d6527a296d"
      },
      "source": [
        "# Copy API command to download dataset\n",
        "! kaggle datasets download -d joniarroba/noshowappointments\n",
        "! unzip \\*.zip\n",
        "! rm *.zip"
      ],
      "execution_count": 6,
      "outputs": [
        {
          "output_type": "stream",
          "text": [
            "Downloading noshowappointments.zip to /content\n",
            "\r  0% 0.00/2.40M [00:00<?, ?B/s]\n",
            "\r100% 2.40M/2.40M [00:00<00:00, 80.6MB/s]\n",
            "Archive:  noshowappointments.zip\n",
            "  inflating: KaggleV2-May-2016.csv   \n"
          ],
          "name": "stdout"
        }
      ]
    },
    {
      "cell_type": "markdown",
      "metadata": {
        "id": "N14ODJZWXEZd"
      },
      "source": [
        "### Loading dataset"
      ]
    },
    {
      "cell_type": "code",
      "metadata": {
        "collapsed": true,
        "id": "FPn5EbIKOPeb"
      },
      "source": [
        "df = pd.read_csv('/content/KaggleV2-May-2016.csv')"
      ],
      "execution_count": 7,
      "outputs": []
    },
    {
      "cell_type": "code",
      "metadata": {
        "colab": {
          "base_uri": "https://localhost:8080/",
          "height": 326
        },
        "id": "IwKrGeK_XQX6",
        "outputId": "fe452ff9-fbbf-425f-d0ac-c8e0516bcf31"
      },
      "source": [
        "df.sample(5)"
      ],
      "execution_count": 8,
      "outputs": [
        {
          "output_type": "execute_result",
          "data": {
            "text/html": [
              "<div>\n",
              "<style scoped>\n",
              "    .dataframe tbody tr th:only-of-type {\n",
              "        vertical-align: middle;\n",
              "    }\n",
              "\n",
              "    .dataframe tbody tr th {\n",
              "        vertical-align: top;\n",
              "    }\n",
              "\n",
              "    .dataframe thead th {\n",
              "        text-align: right;\n",
              "    }\n",
              "</style>\n",
              "<table border=\"1\" class=\"dataframe\">\n",
              "  <thead>\n",
              "    <tr style=\"text-align: right;\">\n",
              "      <th></th>\n",
              "      <th>PatientId</th>\n",
              "      <th>AppointmentID</th>\n",
              "      <th>Gender</th>\n",
              "      <th>ScheduledDay</th>\n",
              "      <th>AppointmentDay</th>\n",
              "      <th>Age</th>\n",
              "      <th>Neighbourhood</th>\n",
              "      <th>Scholarship</th>\n",
              "      <th>Hipertension</th>\n",
              "      <th>Diabetes</th>\n",
              "      <th>Alcoholism</th>\n",
              "      <th>Handcap</th>\n",
              "      <th>SMS_received</th>\n",
              "      <th>No-show</th>\n",
              "    </tr>\n",
              "  </thead>\n",
              "  <tbody>\n",
              "    <tr>\n",
              "      <th>94929</th>\n",
              "      <td>6.352154e+11</td>\n",
              "      <td>5768415</td>\n",
              "      <td>F</td>\n",
              "      <td>2016-06-03T07:34:25Z</td>\n",
              "      <td>2016-06-06T00:00:00Z</td>\n",
              "      <td>56</td>\n",
              "      <td>ILHA DO PRÍNCIPE</td>\n",
              "      <td>0</td>\n",
              "      <td>1</td>\n",
              "      <td>1</td>\n",
              "      <td>0</td>\n",
              "      <td>0</td>\n",
              "      <td>1</td>\n",
              "      <td>No</td>\n",
              "    </tr>\n",
              "    <tr>\n",
              "      <th>25203</th>\n",
              "      <td>9.844782e+11</td>\n",
              "      <td>5580936</td>\n",
              "      <td>F</td>\n",
              "      <td>2016-04-14T07:28:39Z</td>\n",
              "      <td>2016-05-09T00:00:00Z</td>\n",
              "      <td>41</td>\n",
              "      <td>JESUS DE NAZARETH</td>\n",
              "      <td>0</td>\n",
              "      <td>0</td>\n",
              "      <td>0</td>\n",
              "      <td>1</td>\n",
              "      <td>0</td>\n",
              "      <td>0</td>\n",
              "      <td>Yes</td>\n",
              "    </tr>\n",
              "    <tr>\n",
              "      <th>107286</th>\n",
              "      <td>2.545695e+12</td>\n",
              "      <td>5558644</td>\n",
              "      <td>F</td>\n",
              "      <td>2016-04-07T17:48:27Z</td>\n",
              "      <td>2016-06-07T00:00:00Z</td>\n",
              "      <td>51</td>\n",
              "      <td>JUCUTUQUARA</td>\n",
              "      <td>0</td>\n",
              "      <td>0</td>\n",
              "      <td>0</td>\n",
              "      <td>0</td>\n",
              "      <td>0</td>\n",
              "      <td>1</td>\n",
              "      <td>No</td>\n",
              "    </tr>\n",
              "    <tr>\n",
              "      <th>43229</th>\n",
              "      <td>1.691565e+13</td>\n",
              "      <td>5682207</td>\n",
              "      <td>F</td>\n",
              "      <td>2016-05-10T16:01:41Z</td>\n",
              "      <td>2016-05-30T00:00:00Z</td>\n",
              "      <td>13</td>\n",
              "      <td>CENTRO</td>\n",
              "      <td>1</td>\n",
              "      <td>0</td>\n",
              "      <td>0</td>\n",
              "      <td>0</td>\n",
              "      <td>0</td>\n",
              "      <td>1</td>\n",
              "      <td>Yes</td>\n",
              "    </tr>\n",
              "    <tr>\n",
              "      <th>77295</th>\n",
              "      <td>3.716914e+12</td>\n",
              "      <td>5679447</td>\n",
              "      <td>F</td>\n",
              "      <td>2016-05-10T09:56:49Z</td>\n",
              "      <td>2016-05-10T00:00:00Z</td>\n",
              "      <td>32</td>\n",
              "      <td>BELA VISTA</td>\n",
              "      <td>1</td>\n",
              "      <td>0</td>\n",
              "      <td>0</td>\n",
              "      <td>0</td>\n",
              "      <td>0</td>\n",
              "      <td>0</td>\n",
              "      <td>No</td>\n",
              "    </tr>\n",
              "  </tbody>\n",
              "</table>\n",
              "</div>"
            ],
            "text/plain": [
              "           PatientId  AppointmentID Gender  ... Handcap SMS_received  No-show\n",
              "94929   6.352154e+11        5768415      F  ...       0            1       No\n",
              "25203   9.844782e+11        5580936      F  ...       0            0      Yes\n",
              "107286  2.545695e+12        5558644      F  ...       0            1       No\n",
              "43229   1.691565e+13        5682207      F  ...       0            1      Yes\n",
              "77295   3.716914e+12        5679447      F  ...       0            0       No\n",
              "\n",
              "[5 rows x 14 columns]"
            ]
          },
          "metadata": {
            "tags": []
          },
          "execution_count": 8
        }
      ]
    },
    {
      "cell_type": "code",
      "metadata": {
        "colab": {
          "base_uri": "https://localhost:8080/"
        },
        "id": "aae4EobvsOel",
        "outputId": "aa4f99c0-8f0f-4aef-b5d6-aed7553ba7ab"
      },
      "source": [
        "df.info()"
      ],
      "execution_count": 9,
      "outputs": [
        {
          "output_type": "stream",
          "text": [
            "<class 'pandas.core.frame.DataFrame'>\n",
            "RangeIndex: 110527 entries, 0 to 110526\n",
            "Data columns (total 14 columns):\n",
            " #   Column          Non-Null Count   Dtype  \n",
            "---  ------          --------------   -----  \n",
            " 0   PatientId       110527 non-null  float64\n",
            " 1   AppointmentID   110527 non-null  int64  \n",
            " 2   Gender          110527 non-null  object \n",
            " 3   ScheduledDay    110527 non-null  object \n",
            " 4   AppointmentDay  110527 non-null  object \n",
            " 5   Age             110527 non-null  int64  \n",
            " 6   Neighbourhood   110527 non-null  object \n",
            " 7   Scholarship     110527 non-null  int64  \n",
            " 8   Hipertension    110527 non-null  int64  \n",
            " 9   Diabetes        110527 non-null  int64  \n",
            " 10  Alcoholism      110527 non-null  int64  \n",
            " 11  Handcap         110527 non-null  int64  \n",
            " 12  SMS_received    110527 non-null  int64  \n",
            " 13  No-show         110527 non-null  object \n",
            "dtypes: float64(1), int64(8), object(5)\n",
            "memory usage: 11.8+ MB\n"
          ],
          "name": "stdout"
        }
      ]
    },
    {
      "cell_type": "markdown",
      "metadata": {
        "id": "vzAhzp4k10iO"
      },
      "source": [
        "> "
      ]
    },
    {
      "cell_type": "markdown",
      "metadata": {
        "id": "J2h2IAz83j2F"
      },
      "source": [
        "> No missing values in data"
      ]
    },
    {
      "cell_type": "markdown",
      "metadata": {
        "id": "q4xtoEgY3rbG"
      },
      "source": [
        "> **Data type of columns to be fixed,**\n",
        "1. PatientId is the unique id for identification of a patient and float datatype doesn't make sense.\n",
        "2. ScheduledDay and AppointmentDay can be used in analysis if we convert them into date-time format.\n"
      ]
    },
    {
      "cell_type": "markdown",
      "metadata": {
        "id": "zzG5_tl6_OJF"
      },
      "source": [
        "# Data Wrangling"
      ]
    },
    {
      "cell_type": "code",
      "metadata": {
        "colab": {
          "base_uri": "https://localhost:8080/"
        },
        "id": "zh-kkK4G7P_s",
        "outputId": "eeb73a5d-1054-4cc5-c95b-8a672f376d37"
      },
      "source": [
        "df.PatientId = df.PatientId.astype('int')\n",
        "df.PatientId.dtypes"
      ],
      "execution_count": 10,
      "outputs": [
        {
          "output_type": "execute_result",
          "data": {
            "text/plain": [
              "dtype('int64')"
            ]
          },
          "metadata": {
            "tags": []
          },
          "execution_count": 10
        }
      ]
    },
    {
      "cell_type": "code",
      "metadata": {
        "colab": {
          "base_uri": "https://localhost:8080/"
        },
        "id": "o9OD19g8_9Ze",
        "outputId": "0ee8e5e3-d604-49ae-c5f5-397b1ea15a6d"
      },
      "source": [
        "df.ScheduledDay = pd.to_datetime(df.ScheduledDay)\n",
        "df.AppointmentDay = pd.to_datetime(df.AppointmentDay)\n",
        "df[['ScheduledDay','AppointmentDay']].dtypes"
      ],
      "execution_count": 11,
      "outputs": [
        {
          "output_type": "execute_result",
          "data": {
            "text/plain": [
              "ScheduledDay      datetime64[ns, UTC]\n",
              "AppointmentDay    datetime64[ns, UTC]\n",
              "dtype: object"
            ]
          },
          "metadata": {
            "tags": []
          },
          "execution_count": 11
        }
      ]
    },
    {
      "cell_type": "markdown",
      "metadata": {
        "id": "kislWLDHJly8"
      },
      "source": [
        "## Making new column Scheduled time \n",
        "> Converting ScheduleDate & AppointmentDate column to store dates and ScheduledTime & AppointmentTime to  store time of appointment"
      ]
    },
    {
      "cell_type": "code",
      "metadata": {
        "id": "HnXzHUhiJlPt"
      },
      "source": [
        "df['ScheduledTime'] = pd.to_datetime(df.ScheduledDay).dt.time\n",
        "df['AppointmentTime'] = pd.to_datetime(df.AppointmentDay).dt.time"
      ],
      "execution_count": 12,
      "outputs": []
    },
    {
      "cell_type": "code",
      "metadata": {
        "id": "wwJ42lkJK_M4"
      },
      "source": [
        "df['ScheduledDay'] = df['ScheduledDay'].dt.date\n",
        "df['AppointmentDay'] = df['AppointmentDay'].dt.date"
      ],
      "execution_count": 13,
      "outputs": []
    },
    {
      "cell_type": "code",
      "metadata": {
        "colab": {
          "base_uri": "https://localhost:8080/"
        },
        "id": "vrLXg3W9_2CM",
        "outputId": "4e810206-cc29-412c-a56b-3437fb076ee3"
      },
      "source": [
        "df.AppointmentTime.sample(5)"
      ],
      "execution_count": 14,
      "outputs": [
        {
          "output_type": "execute_result",
          "data": {
            "text/plain": [
              "8723     00:00:00\n",
              "85350    00:00:00\n",
              "49938    00:00:00\n",
              "26113    00:00:00\n",
              "81464    00:00:00\n",
              "Name: AppointmentTime, dtype: object"
            ]
          },
          "metadata": {
            "tags": []
          },
          "execution_count": 14
        }
      ]
    },
    {
      "cell_type": "code",
      "metadata": {
        "colab": {
          "base_uri": "https://localhost:8080/"
        },
        "id": "o9WQIJtALs42",
        "outputId": "361de4f0-9562-4748-d581-15c4bd6dd075"
      },
      "source": [
        "df.AppointmentTime.nunique()"
      ],
      "execution_count": 15,
      "outputs": [
        {
          "output_type": "execute_result",
          "data": {
            "text/plain": [
              "1"
            ]
          },
          "metadata": {
            "tags": []
          },
          "execution_count": 15
        }
      ]
    },
    {
      "cell_type": "markdown",
      "metadata": {
        "id": "74mbCT-QL9hX"
      },
      "source": [
        "> Appointment Time is 00:00:00 in all the rows, it is not relevant to analysis. Hence dropping AppointmentTime column "
      ]
    },
    {
      "cell_type": "code",
      "metadata": {
        "colab": {
          "base_uri": "https://localhost:8080/"
        },
        "id": "ceIBlz2LQVPJ",
        "outputId": "0baf6220-d7d2-4057-8eee-6572caef7097"
      },
      "source": [
        "df.drop(columns='AppointmentTime',inplace=True)\n",
        "df.columns"
      ],
      "execution_count": 16,
      "outputs": [
        {
          "output_type": "execute_result",
          "data": {
            "text/plain": [
              "Index(['PatientId', 'AppointmentID', 'Gender', 'ScheduledDay',\n",
              "       'AppointmentDay', 'Age', 'Neighbourhood', 'Scholarship', 'Hipertension',\n",
              "       'Diabetes', 'Alcoholism', 'Handcap', 'SMS_received', 'No-show',\n",
              "       'ScheduledTime'],\n",
              "      dtype='object')"
            ]
          },
          "metadata": {
            "tags": []
          },
          "execution_count": 16
        }
      ]
    },
    {
      "cell_type": "code",
      "metadata": {
        "colab": {
          "base_uri": "https://localhost:8080/"
        },
        "id": "nYCkC4DFOjGq",
        "outputId": "e03b7845-99af-471f-98c8-663f4216feec"
      },
      "source": [
        "df.Age.describe()"
      ],
      "execution_count": 17,
      "outputs": [
        {
          "output_type": "execute_result",
          "data": {
            "text/plain": [
              "count    110527.000000\n",
              "mean         37.088874\n",
              "std          23.110205\n",
              "min          -1.000000\n",
              "25%          18.000000\n",
              "50%          37.000000\n",
              "75%          55.000000\n",
              "max         115.000000\n",
              "Name: Age, dtype: float64"
            ]
          },
          "metadata": {
            "tags": []
          },
          "execution_count": 17
        }
      ]
    },
    {
      "cell_type": "markdown",
      "metadata": {
        "id": "9CwOAcx6QChv"
      },
      "source": [
        "> Age can never be negative, removing rows which have age less than 0"
      ]
    },
    {
      "cell_type": "code",
      "metadata": {
        "colab": {
          "base_uri": "https://localhost:8080/"
        },
        "id": "-oXOeGUMNf2S",
        "outputId": "5e7ab3a1-c63c-445f-e043-df94976e8cc7"
      },
      "source": [
        "df_less_0 = df.query('Age < 0')\n",
        "df_less_0.Age.count()"
      ],
      "execution_count": 18,
      "outputs": [
        {
          "output_type": "execute_result",
          "data": {
            "text/plain": [
              "1"
            ]
          },
          "metadata": {
            "tags": []
          },
          "execution_count": 18
        }
      ]
    },
    {
      "cell_type": "markdown",
      "metadata": {
        "id": "zaMfsvnnRvCu"
      },
      "source": [
        "> Only single row with age less than 0"
      ]
    },
    {
      "cell_type": "code",
      "metadata": {
        "id": "p1LcZRFsRtG8"
      },
      "source": [
        "df = df.query('Age >= 0')"
      ],
      "execution_count": 19,
      "outputs": []
    },
    {
      "cell_type": "markdown",
      "metadata": {
        "id": "HaJI_xlfgW12"
      },
      "source": [
        "## Rename columns"
      ]
    },
    {
      "cell_type": "code",
      "metadata": {
        "id": "BBF4_wN5hHqg"
      },
      "source": [
        "labels = {'PatientId':\"patient_id\", 'AppointmentID':'appointment_id', 'Gender':'gender', \n",
        "        'ScheduledDay':'scheduled_day',\n",
        "       'AppointmentDay':'appointment_day', 'Age':'age', 'Neighbourhood':'neighbourhood', \n",
        "       'Scholarship':'scholarship', 'Hipertension':'hypertension',\n",
        "       'Diabetes':'diabetes', 'Alcoholism':'alcoholism', 'Handcap':'handicap', \n",
        "       'SMS_received':'sms_received', 'No-show':'show',\n",
        "       'ScheduledTime':'scheduled_time'}\n",
        "df.rename(columns=labels,inplace=True)"
      ],
      "execution_count": 20,
      "outputs": []
    },
    {
      "cell_type": "code",
      "metadata": {
        "colab": {
          "base_uri": "https://localhost:8080/"
        },
        "id": "w6PHw93Gj7HL",
        "outputId": "53babe51-7473-44f0-bc50-ec2c30ec8b6c"
      },
      "source": [
        "df.columns"
      ],
      "execution_count": 21,
      "outputs": [
        {
          "output_type": "execute_result",
          "data": {
            "text/plain": [
              "Index(['patient_id', 'appointment_id', 'gender', 'scheduled_day',\n",
              "       'appointment_day', 'age', 'neighbourhood', 'scholarship',\n",
              "       'hypertension', 'diabetes', 'alcoholism', 'handicap', 'sms_received',\n",
              "       'show', 'scheduled_time'],\n",
              "      dtype='object')"
            ]
          },
          "metadata": {
            "tags": []
          },
          "execution_count": 21
        }
      ]
    },
    {
      "cell_type": "markdown",
      "metadata": {
        "id": "FHgwFcz7kNr4"
      },
      "source": [
        "## Changing no_show(to show) column to avoid misconception and easily understandable\n",
        "\n",
        "Substituting Yes with 0 and No with 1"
      ]
    },
    {
      "cell_type": "code",
      "metadata": {
        "id": "3ngpRSjqqb8p",
        "colab": {
          "base_uri": "https://localhost:8080/"
        },
        "outputId": "f272e2b8-ad5e-4e02-f06f-627ee2e9b039"
      },
      "source": [
        "df.show = df.show.map({'Yes':0,'No':1})\n",
        "df.show.astype(int)"
      ],
      "execution_count": 22,
      "outputs": [
        {
          "output_type": "execute_result",
          "data": {
            "text/plain": [
              "0         1\n",
              "1         1\n",
              "2         1\n",
              "3         1\n",
              "4         1\n",
              "         ..\n",
              "110522    1\n",
              "110523    1\n",
              "110524    1\n",
              "110525    1\n",
              "110526    1\n",
              "Name: show, Length: 110526, dtype: int64"
            ]
          },
          "metadata": {
            "tags": []
          },
          "execution_count": 22
        }
      ]
    },
    {
      "cell_type": "code",
      "metadata": {
        "colab": {
          "base_uri": "https://localhost:8080/"
        },
        "id": "6f4OPrZhgJiY",
        "outputId": "c63e0fad-0d24-4c3f-b6e2-44dc1c614125"
      },
      "source": [
        "df.columns"
      ],
      "execution_count": 23,
      "outputs": [
        {
          "output_type": "execute_result",
          "data": {
            "text/plain": [
              "Index(['patient_id', 'appointment_id', 'gender', 'scheduled_day',\n",
              "       'appointment_day', 'age', 'neighbourhood', 'scholarship',\n",
              "       'hypertension', 'diabetes', 'alcoholism', 'handicap', 'sms_received',\n",
              "       'show', 'scheduled_time'],\n",
              "      dtype='object')"
            ]
          },
          "metadata": {
            "tags": []
          },
          "execution_count": 23
        }
      ]
    },
    {
      "cell_type": "markdown",
      "metadata": {
        "id": "Cq1jFItJpjz8"
      },
      "source": [
        "## TO BE CHECKED: handicap and sms_received\n",
        "\n",
        " "
      ]
    },
    {
      "cell_type": "code",
      "metadata": {
        "colab": {
          "base_uri": "https://localhost:8080/"
        },
        "id": "0KF39a_khohT",
        "outputId": "856afad1-e5a5-4dac-917b-6a34f7b97574"
      },
      "source": [
        "handicap_patients = df.query(\"handicap > 0\").handicap.count()\n",
        "total_patients = df.handicap.count()\n",
        "handicap_patients/total_patients"
      ],
      "execution_count": 24,
      "outputs": [
        {
          "output_type": "execute_result",
          "data": {
            "text/plain": [
              "0.020275772216492047"
            ]
          },
          "metadata": {
            "tags": []
          },
          "execution_count": 24
        }
      ]
    },
    {
      "cell_type": "code",
      "metadata": {
        "colab": {
          "base_uri": "https://localhost:8080/"
        },
        "id": "ZZV6Ix0yk_4t",
        "outputId": "8a6eba86-e0cc-4336-e739-b5fd79557070"
      },
      "source": [
        "got_sms = df.query(\"sms_received == 1\").sms_received.count()\n",
        "total_patients = df.sms_received.count()\n",
        "got_sms/total_patients"
      ],
      "execution_count": 25,
      "outputs": [
        {
          "output_type": "execute_result",
          "data": {
            "text/plain": [
              "0.3210285362720084"
            ]
          },
          "metadata": {
            "tags": []
          },
          "execution_count": 25
        }
      ]
    },
    {
      "cell_type": "markdown",
      "metadata": {
        "id": "TVfMxC9B8vOC"
      },
      "source": [
        "## Appointment day is before Scheduled Day"
      ]
    },
    {
      "cell_type": "code",
      "metadata": {
        "colab": {
          "base_uri": "https://localhost:8080/"
        },
        "id": "5UwXKTdM-w3X",
        "outputId": "b9c65ddc-d751-4418-ee90-c118472d7f8d"
      },
      "source": [
        "df.patient_id.count()"
      ],
      "execution_count": 64,
      "outputs": [
        {
          "output_type": "execute_result",
          "data": {
            "text/plain": [
              "110526"
            ]
          },
          "metadata": {
            "tags": []
          },
          "execution_count": 64
        }
      ]
    },
    {
      "cell_type": "code",
      "metadata": {
        "colab": {
          "base_uri": "https://localhost:8080/",
          "height": 204
        },
        "id": "EL0sFG-P8rsb",
        "outputId": "2f079226-9453-4b06-a63e-61c8c7a42d6c"
      },
      "source": [
        "df_error = df[df.scheduled_day > df.appointment_day ][['patient_id','appointment_id','scheduled_day','appointment_day','show']]\n",
        "df_error"
      ],
      "execution_count": 68,
      "outputs": [
        {
          "output_type": "execute_result",
          "data": {
            "text/html": [
              "<div>\n",
              "<style scoped>\n",
              "    .dataframe tbody tr th:only-of-type {\n",
              "        vertical-align: middle;\n",
              "    }\n",
              "\n",
              "    .dataframe tbody tr th {\n",
              "        vertical-align: top;\n",
              "    }\n",
              "\n",
              "    .dataframe thead th {\n",
              "        text-align: right;\n",
              "    }\n",
              "</style>\n",
              "<table border=\"1\" class=\"dataframe\">\n",
              "  <thead>\n",
              "    <tr style=\"text-align: right;\">\n",
              "      <th></th>\n",
              "      <th>patient_id</th>\n",
              "      <th>appointment_id</th>\n",
              "      <th>scheduled_day</th>\n",
              "      <th>appointment_day</th>\n",
              "      <th>show</th>\n",
              "    </tr>\n",
              "  </thead>\n",
              "  <tbody>\n",
              "    <tr>\n",
              "      <th>27033</th>\n",
              "      <td>7839272661752</td>\n",
              "      <td>5679978</td>\n",
              "      <td>2016-05-10</td>\n",
              "      <td>2016-05-09</td>\n",
              "      <td>0</td>\n",
              "    </tr>\n",
              "    <tr>\n",
              "      <th>55226</th>\n",
              "      <td>7896293967868</td>\n",
              "      <td>5715660</td>\n",
              "      <td>2016-05-18</td>\n",
              "      <td>2016-05-17</td>\n",
              "      <td>0</td>\n",
              "    </tr>\n",
              "    <tr>\n",
              "      <th>64175</th>\n",
              "      <td>24252258389979</td>\n",
              "      <td>5664962</td>\n",
              "      <td>2016-05-05</td>\n",
              "      <td>2016-05-04</td>\n",
              "      <td>0</td>\n",
              "    </tr>\n",
              "    <tr>\n",
              "      <th>71533</th>\n",
              "      <td>998231581612122</td>\n",
              "      <td>5686628</td>\n",
              "      <td>2016-05-11</td>\n",
              "      <td>2016-05-05</td>\n",
              "      <td>0</td>\n",
              "    </tr>\n",
              "    <tr>\n",
              "      <th>72362</th>\n",
              "      <td>3787481966821</td>\n",
              "      <td>5655637</td>\n",
              "      <td>2016-05-04</td>\n",
              "      <td>2016-05-03</td>\n",
              "      <td>0</td>\n",
              "    </tr>\n",
              "  </tbody>\n",
              "</table>\n",
              "</div>"
            ],
            "text/plain": [
              "            patient_id  appointment_id scheduled_day appointment_day  show\n",
              "27033    7839272661752         5679978    2016-05-10      2016-05-09     0\n",
              "55226    7896293967868         5715660    2016-05-18      2016-05-17     0\n",
              "64175   24252258389979         5664962    2016-05-05      2016-05-04     0\n",
              "71533  998231581612122         5686628    2016-05-11      2016-05-05     0\n",
              "72362    3787481966821         5655637    2016-05-04      2016-05-03     0"
            ]
          },
          "metadata": {
            "tags": []
          },
          "execution_count": 68
        }
      ]
    },
    {
      "cell_type": "markdown",
      "metadata": {
        "id": "WCsEWR789GRe"
      },
      "source": [
        "> In the first row, appointment day is **9th May** and scheduled day is **10th May** which doesn't make any sense. So we will be dropping these rows where appointment day is before scheduled day"
      ]
    },
    {
      "cell_type": "code",
      "metadata": {
        "colab": {
          "base_uri": "https://localhost:8080/"
        },
        "id": "D3_eKsAf_k5m",
        "outputId": "255d10ab-75e2-4bb0-83d4-59949b7bd90e"
      },
      "source": [
        "print('Number of rows with appointment day before scheduled day:',df_error.patient_id.count())"
      ],
      "execution_count": 71,
      "outputs": [
        {
          "output_type": "stream",
          "text": [
            "Number of rows with appointment day before scheduled day: 5\n"
          ],
          "name": "stdout"
        }
      ]
    },
    {
      "cell_type": "code",
      "metadata": {
        "colab": {
          "base_uri": "https://localhost:8080/"
        },
        "id": "0ieQjIgY-itJ",
        "outputId": "0dacce85-381c-4d9c-ff37-d2cb2e5bd271"
      },
      "source": [
        "df = df[df.scheduled_day <= df.appointment_day ]\n",
        "df.patient_id.count()"
      ],
      "execution_count": 72,
      "outputs": [
        {
          "output_type": "execute_result",
          "data": {
            "text/plain": [
              "110521"
            ]
          },
          "metadata": {
            "tags": []
          },
          "execution_count": 72
        }
      ]
    },
    {
      "cell_type": "markdown",
      "metadata": {
        "id": "KLgc2zuUrD_9"
      },
      "source": [
        "## Duplicates in data"
      ]
    },
    {
      "cell_type": "code",
      "metadata": {
        "colab": {
          "base_uri": "https://localhost:8080/"
        },
        "id": "aU7zP4T-vyGA",
        "outputId": "bd639630-e5b1-4972-a0ac-b51dfb27bd5d"
      },
      "source": [
        "df.duplicated().sum()"
      ],
      "execution_count": 73,
      "outputs": [
        {
          "output_type": "execute_result",
          "data": {
            "text/plain": [
              "0"
            ]
          },
          "metadata": {
            "tags": []
          },
          "execution_count": 73
        }
      ]
    },
    {
      "cell_type": "markdown",
      "metadata": {
        "id": "HL0Coa3q6yDE"
      },
      "source": [
        "> No duplicates in data"
      ]
    },
    {
      "cell_type": "markdown",
      "metadata": {
        "id": "rMEMqZ45HXKF"
      },
      "source": [
        "<a id='eda'></a>\n",
        "# Exploratory Data Analysis"
      ]
    },
    {
      "cell_type": "code",
      "metadata": {
        "colab": {
          "base_uri": "https://localhost:8080/",
          "height": 235
        },
        "id": "qYa42aWWAHq2",
        "outputId": "6cb54845-0c89-4e58-ccc0-35dfad1e5035"
      },
      "source": [
        "df.describe().iloc[2:,2:]"
      ],
      "execution_count": 105,
      "outputs": [
        {
          "output_type": "execute_result",
          "data": {
            "text/html": [
              "<div>\n",
              "<style scoped>\n",
              "    .dataframe tbody tr th:only-of-type {\n",
              "        vertical-align: middle;\n",
              "    }\n",
              "\n",
              "    .dataframe tbody tr th {\n",
              "        vertical-align: top;\n",
              "    }\n",
              "\n",
              "    .dataframe thead th {\n",
              "        text-align: right;\n",
              "    }\n",
              "</style>\n",
              "<table border=\"1\" class=\"dataframe\">\n",
              "  <thead>\n",
              "    <tr style=\"text-align: right;\">\n",
              "      <th></th>\n",
              "      <th>age</th>\n",
              "      <th>scholarship</th>\n",
              "      <th>hypertension</th>\n",
              "      <th>diabetes</th>\n",
              "      <th>alcoholism</th>\n",
              "      <th>handicap</th>\n",
              "      <th>sms_received</th>\n",
              "      <th>show</th>\n",
              "    </tr>\n",
              "  </thead>\n",
              "  <tbody>\n",
              "    <tr>\n",
              "      <th>std</th>\n",
              "      <td>23.109885</td>\n",
              "      <td>0.297682</td>\n",
              "      <td>0.397929</td>\n",
              "      <td>0.258272</td>\n",
              "      <td>0.17169</td>\n",
              "      <td>0.161494</td>\n",
              "      <td>0.466879</td>\n",
              "      <td>0.401419</td>\n",
              "    </tr>\n",
              "    <tr>\n",
              "      <th>min</th>\n",
              "      <td>0.000000</td>\n",
              "      <td>0.000000</td>\n",
              "      <td>0.000000</td>\n",
              "      <td>0.000000</td>\n",
              "      <td>0.00000</td>\n",
              "      <td>0.000000</td>\n",
              "      <td>0.000000</td>\n",
              "      <td>0.000000</td>\n",
              "    </tr>\n",
              "    <tr>\n",
              "      <th>25%</th>\n",
              "      <td>18.000000</td>\n",
              "      <td>0.000000</td>\n",
              "      <td>0.000000</td>\n",
              "      <td>0.000000</td>\n",
              "      <td>0.00000</td>\n",
              "      <td>0.000000</td>\n",
              "      <td>0.000000</td>\n",
              "      <td>1.000000</td>\n",
              "    </tr>\n",
              "    <tr>\n",
              "      <th>50%</th>\n",
              "      <td>37.000000</td>\n",
              "      <td>0.000000</td>\n",
              "      <td>0.000000</td>\n",
              "      <td>0.000000</td>\n",
              "      <td>0.00000</td>\n",
              "      <td>0.000000</td>\n",
              "      <td>0.000000</td>\n",
              "      <td>1.000000</td>\n",
              "    </tr>\n",
              "    <tr>\n",
              "      <th>75%</th>\n",
              "      <td>55.000000</td>\n",
              "      <td>0.000000</td>\n",
              "      <td>0.000000</td>\n",
              "      <td>0.000000</td>\n",
              "      <td>0.00000</td>\n",
              "      <td>0.000000</td>\n",
              "      <td>1.000000</td>\n",
              "      <td>1.000000</td>\n",
              "    </tr>\n",
              "    <tr>\n",
              "      <th>max</th>\n",
              "      <td>115.000000</td>\n",
              "      <td>1.000000</td>\n",
              "      <td>1.000000</td>\n",
              "      <td>1.000000</td>\n",
              "      <td>1.00000</td>\n",
              "      <td>4.000000</td>\n",
              "      <td>1.000000</td>\n",
              "      <td>1.000000</td>\n",
              "    </tr>\n",
              "  </tbody>\n",
              "</table>\n",
              "</div>"
            ],
            "text/plain": [
              "            age  scholarship  hypertension  ...  handicap  sms_received      show\n",
              "std   23.109885     0.297682      0.397929  ...  0.161494      0.466879  0.401419\n",
              "min    0.000000     0.000000      0.000000  ...  0.000000      0.000000  0.000000\n",
              "25%   18.000000     0.000000      0.000000  ...  0.000000      0.000000  1.000000\n",
              "50%   37.000000     0.000000      0.000000  ...  0.000000      0.000000  1.000000\n",
              "75%   55.000000     0.000000      0.000000  ...  0.000000      1.000000  1.000000\n",
              "max  115.000000     1.000000      1.000000  ...  4.000000      1.000000  1.000000\n",
              "\n",
              "[6 rows x 8 columns]"
            ]
          },
          "metadata": {
            "tags": []
          },
          "execution_count": 105
        }
      ]
    },
    {
      "cell_type": "code",
      "metadata": {
        "colab": {
          "base_uri": "https://localhost:8080/",
          "height": 297
        },
        "id": "A_nmzVHnBM8r",
        "outputId": "336f5635-dc2a-4d2b-9a8f-9d8d8154aebf"
      },
      "source": [
        "df.corr().iloc[2:,2:]"
      ],
      "execution_count": 104,
      "outputs": [
        {
          "output_type": "execute_result",
          "data": {
            "text/html": [
              "<div>\n",
              "<style scoped>\n",
              "    .dataframe tbody tr th:only-of-type {\n",
              "        vertical-align: middle;\n",
              "    }\n",
              "\n",
              "    .dataframe tbody tr th {\n",
              "        vertical-align: top;\n",
              "    }\n",
              "\n",
              "    .dataframe thead th {\n",
              "        text-align: right;\n",
              "    }\n",
              "</style>\n",
              "<table border=\"1\" class=\"dataframe\">\n",
              "  <thead>\n",
              "    <tr style=\"text-align: right;\">\n",
              "      <th></th>\n",
              "      <th>age</th>\n",
              "      <th>scholarship</th>\n",
              "      <th>hypertension</th>\n",
              "      <th>diabetes</th>\n",
              "      <th>alcoholism</th>\n",
              "      <th>handicap</th>\n",
              "      <th>sms_received</th>\n",
              "      <th>show</th>\n",
              "    </tr>\n",
              "  </thead>\n",
              "  <tbody>\n",
              "    <tr>\n",
              "      <th>age</th>\n",
              "      <td>1.000000</td>\n",
              "      <td>-0.092469</td>\n",
              "      <td>0.504599</td>\n",
              "      <td>0.292398</td>\n",
              "      <td>0.095811</td>\n",
              "      <td>0.078101</td>\n",
              "      <td>0.012629</td>\n",
              "      <td>0.060320</td>\n",
              "    </tr>\n",
              "    <tr>\n",
              "      <th>scholarship</th>\n",
              "      <td>-0.092469</td>\n",
              "      <td>1.000000</td>\n",
              "      <td>-0.019738</td>\n",
              "      <td>-0.024899</td>\n",
              "      <td>0.035019</td>\n",
              "      <td>-0.008555</td>\n",
              "      <td>0.001182</td>\n",
              "      <td>-0.029166</td>\n",
              "    </tr>\n",
              "    <tr>\n",
              "      <th>hypertension</th>\n",
              "      <td>0.504599</td>\n",
              "      <td>-0.019738</td>\n",
              "      <td>1.000000</td>\n",
              "      <td>0.433082</td>\n",
              "      <td>0.087967</td>\n",
              "      <td>0.080162</td>\n",
              "      <td>-0.006285</td>\n",
              "      <td>0.035662</td>\n",
              "    </tr>\n",
              "    <tr>\n",
              "      <th>diabetes</th>\n",
              "      <td>0.292398</td>\n",
              "      <td>-0.024899</td>\n",
              "      <td>0.433082</td>\n",
              "      <td>1.000000</td>\n",
              "      <td>0.018471</td>\n",
              "      <td>0.057578</td>\n",
              "      <td>-0.014561</td>\n",
              "      <td>0.015158</td>\n",
              "    </tr>\n",
              "    <tr>\n",
              "      <th>alcoholism</th>\n",
              "      <td>0.095811</td>\n",
              "      <td>0.035019</td>\n",
              "      <td>0.087967</td>\n",
              "      <td>0.018471</td>\n",
              "      <td>1.000000</td>\n",
              "      <td>0.004668</td>\n",
              "      <td>-0.026154</td>\n",
              "      <td>0.000181</td>\n",
              "    </tr>\n",
              "    <tr>\n",
              "      <th>handicap</th>\n",
              "      <td>0.078101</td>\n",
              "      <td>-0.008555</td>\n",
              "      <td>0.080162</td>\n",
              "      <td>0.057578</td>\n",
              "      <td>0.004668</td>\n",
              "      <td>1.000000</td>\n",
              "      <td>-0.024097</td>\n",
              "      <td>0.006290</td>\n",
              "    </tr>\n",
              "    <tr>\n",
              "      <th>sms_received</th>\n",
              "      <td>0.012629</td>\n",
              "      <td>0.001182</td>\n",
              "      <td>-0.006285</td>\n",
              "      <td>-0.014561</td>\n",
              "      <td>-0.026154</td>\n",
              "      <td>-0.024097</td>\n",
              "      <td>1.000000</td>\n",
              "      <td>-0.126502</td>\n",
              "    </tr>\n",
              "    <tr>\n",
              "      <th>show</th>\n",
              "      <td>0.060320</td>\n",
              "      <td>-0.029166</td>\n",
              "      <td>0.035662</td>\n",
              "      <td>0.015158</td>\n",
              "      <td>0.000181</td>\n",
              "      <td>0.006290</td>\n",
              "      <td>-0.126502</td>\n",
              "      <td>1.000000</td>\n",
              "    </tr>\n",
              "  </tbody>\n",
              "</table>\n",
              "</div>"
            ],
            "text/plain": [
              "                   age  scholarship  ...  sms_received      show\n",
              "age           1.000000    -0.092469  ...      0.012629  0.060320\n",
              "scholarship  -0.092469     1.000000  ...      0.001182 -0.029166\n",
              "hypertension  0.504599    -0.019738  ...     -0.006285  0.035662\n",
              "diabetes      0.292398    -0.024899  ...     -0.014561  0.015158\n",
              "alcoholism    0.095811     0.035019  ...     -0.026154  0.000181\n",
              "handicap      0.078101    -0.008555  ...     -0.024097  0.006290\n",
              "sms_received  0.012629     0.001182  ...      1.000000 -0.126502\n",
              "show          0.060320    -0.029166  ...     -0.126502  1.000000\n",
              "\n",
              "[8 rows x 8 columns]"
            ]
          },
          "metadata": {
            "tags": []
          },
          "execution_count": 104
        }
      ]
    },
    {
      "cell_type": "markdown",
      "metadata": {
        "id": "WcgzTUpVHeBB"
      },
      "source": [
        "## Age"
      ]
    },
    {
      "cell_type": "code",
      "metadata": {
        "colab": {
          "base_uri": "https://localhost:8080/"
        },
        "id": "zGqHWeT9_XOE",
        "outputId": "d6c279e3-f670-41fa-992a-8090b8403857"
      },
      "source": [
        "gender_show = df.groupby('gender').show.sum()\n",
        "gender_show"
      ],
      "execution_count": 32,
      "outputs": [
        {
          "output_type": "execute_result",
          "data": {
            "text/plain": [
              "gender\n",
              "F    57245\n",
              "M    30962\n",
              "Name: show, dtype: int64"
            ]
          },
          "metadata": {
            "tags": []
          },
          "execution_count": 32
        }
      ]
    },
    {
      "cell_type": "code",
      "metadata": {
        "colab": {
          "base_uri": "https://localhost:8080/"
        },
        "id": "UoM3Ms5S_0es",
        "outputId": "a8ad21e3-7277-49d8-c610-ed240db21e4f"
      },
      "source": [
        "gender_total = df.groupby('gender').patient_id.count()\n",
        "gender_total"
      ],
      "execution_count": 33,
      "outputs": [
        {
          "output_type": "execute_result",
          "data": {
            "text/plain": [
              "gender\n",
              "F    71839\n",
              "M    38687\n",
              "Name: patient_id, dtype: int64"
            ]
          },
          "metadata": {
            "tags": []
          },
          "execution_count": 33
        }
      ]
    },
    {
      "cell_type": "code",
      "metadata": {
        "colab": {
          "base_uri": "https://localhost:8080/"
        },
        "id": "gLAqlwC9Huef",
        "outputId": "204c60a5-5fa3-437f-e239-b9911225e045"
      },
      "source": [
        "prop_female_patients = gender_total.F/(gender_total.F + gender_total.M)*100\n",
        "prop_female_patients"
      ],
      "execution_count": 34,
      "outputs": [
        {
          "output_type": "execute_result",
          "data": {
            "text/plain": [
              "64.99737618297956"
            ]
          },
          "metadata": {
            "tags": []
          },
          "execution_count": 34
        }
      ]
    },
    {
      "cell_type": "code",
      "metadata": {
        "colab": {
          "base_uri": "https://localhost:8080/"
        },
        "id": "_wCyzxjRHxmO",
        "outputId": "592a5da2-8414-4332-c12f-cffa3f9325a2"
      },
      "source": [
        "prop_male_patients = gender_total.M/(gender_total.F + gender_total.M)*100\n",
        "prop_male_patients"
      ],
      "execution_count": 35,
      "outputs": [
        {
          "output_type": "execute_result",
          "data": {
            "text/plain": [
              "35.00262381702043"
            ]
          },
          "metadata": {
            "tags": []
          },
          "execution_count": 35
        }
      ]
    },
    {
      "cell_type": "markdown",
      "metadata": {
        "id": "HW5jqLvAH1uQ"
      },
      "source": [
        "### Proportion of female and male patients"
      ]
    },
    {
      "cell_type": "code",
      "metadata": {
        "id": "j54IdyyoH1Hh"
      },
      "source": [
        "def horizontal_bars(name,prop,title):\n",
        "  fig, ax = plt.subplots(figsize =(10, 5))\n",
        "  ax.barh(name, prop)\n",
        "\n",
        "  # To add grid\n",
        "  ax.grid(b = True, color ='grey',\n",
        "          linestyle ='-.', linewidth = 0.5,\n",
        "          alpha = 0.2)\n",
        "\n",
        "  # To remove axes\n",
        "  for s in ['top', 'bottom', 'left', 'right']:\n",
        "      ax.spines[s].set_visible(False)\n",
        "\n",
        "  # To remove x and y ticks\n",
        "  ax.xaxis.set_ticks_position('none')\n",
        "  ax.yaxis.set_ticks_position('none')\n",
        "\n",
        "  plt.xticks(fontsize=10)\n",
        "  plt.yticks(fontsize=12)\n",
        "\n",
        "  # Add padding between axes and labels\n",
        "  ax.xaxis.set_tick_params(pad = 5)\n",
        "  ax.yaxis.set_tick_params(pad = 15)\n",
        "\n",
        "  plt.xlabel('\\n\\nPercentage of Patients',fontsize=12)\n",
        "  plt.ylabel('Gender',fontsize=12)\n",
        "  ax.set_title(title,fontsize = 15 )\n",
        "\n",
        "  for i in ax.patches:\n",
        "      plt.text(i.get_width()+0.01, i.get_y()+0.4,\n",
        "              str(round((i.get_width()), 2)),\n",
        "              fontsize = 12, fontweight ='bold',\n",
        "              color ='grey')\n",
        "      \n",
        "  plt.show()"
      ],
      "execution_count": 36,
      "outputs": []
    },
    {
      "cell_type": "code",
      "metadata": {
        "colab": {
          "base_uri": "https://localhost:8080/",
          "height": 438
        },
        "id": "v3qry4IKjP20",
        "outputId": "c4f04b5a-ad26-453c-d1e3-9a184a3532d5"
      },
      "source": [
        "gend = ['Females','Males']\n",
        "prop = [prop_female_patients,prop_male_patients]\n",
        "title = '\\nProportion of male and female patients\\n\\n'\n",
        "horizontal_bars(gend,prop,title)"
      ],
      "execution_count": 37,
      "outputs": [
        {
          "output_type": "display_data",
          "data": {
            "image/png": "[encoded data removed]",
            "text/plain": [
              "<Figure size 720x360 with 1 Axes>"
            ]
          },
          "metadata": {
            "tags": [],
            "needs_background": "light"
          }
        }
      ]
    },
    {
      "cell_type": "code",
      "metadata": {
        "colab": {
          "base_uri": "https://localhost:8080/"
        },
        "id": "SvFs5ceeAKA0",
        "outputId": "5a09e134-f86b-4caa-c2b7-c4b5c6af5615"
      },
      "source": [
        "prop_female_show = (gender_show.F/gender_total.F)*100\n",
        "prop_female_show"
      ],
      "execution_count": 38,
      "outputs": [
        {
          "output_type": "execute_result",
          "data": {
            "text/plain": [
              "79.68512924734476"
            ]
          },
          "metadata": {
            "tags": []
          },
          "execution_count": 38
        }
      ]
    },
    {
      "cell_type": "code",
      "metadata": {
        "colab": {
          "base_uri": "https://localhost:8080/"
        },
        "id": "nLy6LF7vAy0S",
        "outputId": "bafe84e4-3b08-4135-e25c-8c81bb8613e1"
      },
      "source": [
        "prop_male_show = (gender_show.M/gender_total.M)*100\n",
        "prop_male_show"
      ],
      "execution_count": 39,
      "outputs": [
        {
          "output_type": "execute_result",
          "data": {
            "text/plain": [
              "80.03205211052808"
            ]
          },
          "metadata": {
            "tags": []
          },
          "execution_count": 39
        }
      ]
    },
    {
      "cell_type": "code",
      "metadata": {
        "colab": {
          "base_uri": "https://localhost:8080/",
          "height": 438
        },
        "id": "kLGmuDLdiSW5",
        "outputId": "09f551de-d706-4ad5-e8df-f275706400cf"
      },
      "source": [
        "gend = ['Females','Males']\n",
        "prop = [prop_female_show,prop_male_show]\n",
        "title = '\\nProportion of male and female to show up for scheduled appointments\\n\\n'\n",
        "\n",
        "horizontal_bars(gend,prop,title)"
      ],
      "execution_count": 40,
      "outputs": [
        {
          "output_type": "display_data",
          "data": {
            "image/png": "[encoded data removed]",
            "text/plain": [
              "<Figure size 720x360 with 1 Axes>"
            ]
          },
          "metadata": {
            "tags": [],
            "needs_background": "light"
          }
        }
      ]
    },
    {
      "cell_type": "code",
      "metadata": {
        "id": "e4OiVVjKT43X",
        "colab": {
          "base_uri": "https://localhost:8080/"
        },
        "outputId": "a3e6af7a-a640-4d46-b5c8-a80e158e165c"
      },
      "source": [
        "df.columns"
      ],
      "execution_count": 41,
      "outputs": [
        {
          "output_type": "execute_result",
          "data": {
            "text/plain": [
              "Index(['patient_id', 'appointment_id', 'gender', 'scheduled_day',\n",
              "       'appointment_day', 'age', 'neighbourhood', 'scholarship',\n",
              "       'hypertension', 'diabetes', 'alcoholism', 'handicap', 'sms_received',\n",
              "       'show', 'scheduled_time'],\n",
              "      dtype='object')"
            ]
          },
          "metadata": {
            "tags": []
          },
          "execution_count": 41
        }
      ]
    },
    {
      "cell_type": "code",
      "metadata": {
        "id": "ObodAt255Fhy"
      },
      "source": [
        ""
      ],
      "execution_count": 41,
      "outputs": []
    },
    {
      "cell_type": "code",
      "metadata": {
        "id": "DWuYm2fGHlYU",
        "colab": {
          "base_uri": "https://localhost:8080/"
        },
        "outputId": "edd8ab64-351a-413b-9e88-441c307fb132"
      },
      "source": [
        "gender_show_1 = df.groupby('scholarship').show.sum()\n",
        "gender_show_1"
      ],
      "execution_count": 42,
      "outputs": [
        {
          "output_type": "execute_result",
          "data": {
            "text/plain": [
              "scholarship\n",
              "0    79924\n",
              "1     8283\n",
              "Name: show, dtype: int64"
            ]
          },
          "metadata": {
            "tags": []
          },
          "execution_count": 42
        }
      ]
    },
    {
      "cell_type": "code",
      "metadata": {
        "colab": {
          "base_uri": "https://localhost:8080/"
        },
        "id": "PkeRKbZolfaI",
        "outputId": "1cbe7313-c713-4f79-fa36-7e41306215a5"
      },
      "source": [
        "gender_total_1 = df.groupby(['scholarship']).patient_id.count()\n",
        "gender_total_1"
      ],
      "execution_count": 43,
      "outputs": [
        {
          "output_type": "execute_result",
          "data": {
            "text/plain": [
              "scholarship\n",
              "0    99665\n",
              "1    10861\n",
              "Name: patient_id, dtype: int64"
            ]
          },
          "metadata": {
            "tags": []
          },
          "execution_count": 43
        }
      ]
    },
    {
      "cell_type": "code",
      "metadata": {
        "colab": {
          "base_uri": "https://localhost:8080/"
        },
        "id": "Q0zKBDT-mKDC",
        "outputId": "c49c9ce2-a43f-400d-d833-952f037e1b4e"
      },
      "source": [
        "(gender_show_1[0]/gender_total_1[0])*100"
      ],
      "execution_count": 44,
      "outputs": [
        {
          "output_type": "execute_result",
          "data": {
            "text/plain": [
              "80.19264536196258"
            ]
          },
          "metadata": {
            "tags": []
          },
          "execution_count": 44
        }
      ]
    },
    {
      "cell_type": "code",
      "metadata": {
        "colab": {
          "base_uri": "https://localhost:8080/"
        },
        "id": "a9kL_1hGlrIU",
        "outputId": "427ed77d-002a-4a63-9f1d-4e61035812d3"
      },
      "source": [
        "(gender_show_1[1]/gender_total_1[1])*100"
      ],
      "execution_count": 45,
      "outputs": [
        {
          "output_type": "execute_result",
          "data": {
            "text/plain": [
              "76.26369579228432"
            ]
          },
          "metadata": {
            "tags": []
          },
          "execution_count": 45
        }
      ]
    },
    {
      "cell_type": "code",
      "metadata": {
        "colab": {
          "base_uri": "https://localhost:8080/"
        },
        "id": "nAKZkcp0mrKu",
        "outputId": "893ba759-69a1-4ebb-f97c-30b03ddeb4b8"
      },
      "source": [
        "gender_total_1[1]/(gender_total_1[1] + gender_total_1[0])*100"
      ],
      "execution_count": 46,
      "outputs": [
        {
          "output_type": "execute_result",
          "data": {
            "text/plain": [
              "9.826647123753688"
            ]
          },
          "metadata": {
            "tags": []
          },
          "execution_count": 46
        }
      ]
    },
    {
      "cell_type": "markdown",
      "metadata": {
        "id": "z2dmfUqaOPee"
      },
      "source": [
        "\n",
        "\n",
        "### Research Question 1 (Replace this header name!)"
      ]
    },
    {
      "cell_type": "code",
      "metadata": {
        "collapsed": true,
        "id": "xliwvEQOOPef"
      },
      "source": [
        "# Use this, and more code cells, to explore your data. Don't forget to add\n",
        "#   Markdown cells to document your observations and findings.\n"
      ],
      "execution_count": 47,
      "outputs": []
    },
    {
      "cell_type": "markdown",
      "metadata": {
        "id": "2HAUXwNDOPef"
      },
      "source": [
        "### Research Question 2  (Replace this header name!)"
      ]
    },
    {
      "cell_type": "code",
      "metadata": {
        "collapsed": true,
        "id": "4PQuo5a_OPeg"
      },
      "source": [
        "# Continue to explore the data to address your additional research\n",
        "#   questions. Add more headers as needed if you have more questions to\n",
        "#   investigate.\n"
      ],
      "execution_count": 48,
      "outputs": []
    },
    {
      "cell_type": "markdown",
      "metadata": {
        "id": "LfvthrGmOPeg"
      },
      "source": [
        "<a id='conclusions'></a>\n",
        "## Conclusions\n",
        "\n",
        "> **Tip**: Finally, summarize your findings and the results that have been performed. Make sure that you are clear with regards to the limitations of your exploration. If you haven't done any statistical tests, do not imply any statistical conclusions. And make sure you avoid implying causation from correlation!\n",
        "\n",
        "> **Tip**: Once you are satisfied with your work, you should save a copy of the report in HTML or PDF form via the **File** > **Download as** submenu. Before exporting your report, check over it to make sure that the flow of the report is complete. You should probably remove all of the \"Tip\" quotes like this one so that the presentation is as tidy as possible. Congratulations!"
      ]
    },
    {
      "cell_type": "code",
      "metadata": {
        "collapsed": true,
        "id": "6NPYkkMaOPei"
      },
      "source": [
        ""
      ],
      "execution_count": 48,
      "outputs": []
    }
  ]
}