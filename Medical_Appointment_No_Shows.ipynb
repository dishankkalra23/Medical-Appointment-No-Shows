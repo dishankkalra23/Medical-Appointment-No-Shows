{
  "nbformat": 4,
  "nbformat_minor": 0,
  "metadata": {
    "kernelspec": {
      "display_name": "Python [default]",
      "language": "python",
      "name": "python3"
    },
    "language_info": {
      "codemirror_mode": {
        "name": "ipython",
        "version": 3
      },
      "file_extension": ".py",
      "mimetype": "text/x-python",
      "name": "python",
      "nbconvert_exporter": "python",
      "pygments_lexer": "ipython3",
      "version": "3.5.3"
    },
    "colab": {
      "name": "Medical-Appointment-No-Shows.ipynb",
      "provenance": [],
      "collapsed_sections": [],
      "toc_visible": true,
      "include_colab_link": true
    },
    "accelerator": "TPU"
  },
  "cells": [
    {
      "cell_type": "markdown",
      "metadata": {
        "id": "view-in-github",
        "colab_type": "text"
      },
      "source": [
        "<a href=\"https://colab.research.google.com/github/dishankkalra23/Medical-Appointment-No-Shows/blob/main/Medical_Appointment_No_Shows.ipynb\" target=\"_parent\"><img src=\"https://colab.research.google.com/assets/colab-badge.svg\" alt=\"Open In Colab\"/></a>"
      ]
    },
    {
      "cell_type": "markdown",
      "metadata": {
        "id": "BmfbjWRNOPeO"
      },
      "source": [
        "# Project: Medical Appointment No Shows"
      ]
    },
    {
      "cell_type": "markdown",
      "metadata": {
        "colab_type": "toc",
        "id": "tAhGZL4ucyhU"
      },
      "source": [
        ">[Project: Medical Appointment No Shows](#scrollTo=BmfbjWRNOPeO)\n",
        "\n",
        ">>>[Importing Libraries](#scrollTo=zy3dSfeNPPCc)\n",
        "\n",
        ">>>[Downloading dataset](#scrollTo=by5KNcWYVbXS)\n",
        "\n",
        ">>>[Loading dataset](#scrollTo=N14ODJZWXEZd)\n",
        "\n",
        ">[Data Wrangling](#scrollTo=zzG5_tl6_OJF)\n",
        "\n",
        ">>[Making new column Scheduled time](#scrollTo=kislWLDHJly8)\n",
        "\n",
        ">>[Rename columns](#scrollTo=HaJI_xlfgW12)\n",
        "\n",
        ">>[Changing no_show(to show) column to avoid misconception and easily understandable](#scrollTo=FHgwFcz7kNr4)\n",
        "\n",
        ">>[Appointment day(day on which pateint has to visit doctor) is before Scheduled Day](#scrollTo=TVfMxC9B8vOC)\n",
        "\n",
        ">>[Duplicates in data](#scrollTo=KLgc2zuUrD_9)\n",
        "\n",
        ">[Exploratory Data Analysis](#scrollTo=rMEMqZ45HXKF)\n",
        "\n",
        ">>>[Descriptive statistics](#scrollTo=m9SF62eI4sAD)\n",
        "\n",
        ">>>[Correlation b/w columns of dataset](#scrollTo=67sSwwka4l20)\n",
        "\n",
        ">>[Gender](#scrollTo=WcgzTUpVHeBB)\n",
        "\n",
        ">>>[No of males and females that showed up at appointment](#scrollTo=doajAKAP26Mk)\n",
        "\n",
        ">>>[Total number of males and females in dataset](#scrollTo=tHoAOmv-3JX0)\n",
        "\n",
        ">>>[Proportion of male and female patients](#scrollTo=VCkc-mqi3amn)\n",
        "\n",
        ">>>[Proportion of male and female patients to show up for scheduled appointment](#scrollTo=25FL_9Ak3ixH)\n",
        "\n",
        ">>>[Converting males and femlaes to quantative variable to find correlation with other features in dataset](#scrollTo=Vvf1k8jF6sFU)\n",
        "\n",
        ">>>[Function to find relationship b/w gender and different features](#scrollTo=Bo37oz8VR6jn)\n",
        "\n",
        ">>>[Relation of showing up wrt gender and alcoholism](#scrollTo=7_wdoUDOR3z6)\n",
        "\n",
        ">>>[Relation of showing up wrt gender and diabetes](#scrollTo=tEShAcy__WCg)\n",
        "\n",
        ">>>[Relation of showing up wrt gender and hypertension](#scrollTo=Wcqb-5dXJAmG)\n",
        "\n",
        ">>>[Relation of showing up wrt gender and Handicap](#scrollTo=MdBS29qlcb-l)\n",
        "\n",
        ">>>>[Converting values in handicap to boolean values(0-non-handicap and 1-handicap)](#scrollTo=triGohxBj6gf)\n",
        "\n",
        ">>>[Relation of showing up wrt gender and scholarship](#scrollTo=l0wvEBQqjWuy)\n",
        "\n",
        ">>>[Relation of showing up wrt gender and sms reminder](#scrollTo=vUAnn8KShqH2)\n",
        "\n",
        ">[Age](#scrollTo=I_CNHEcq1hLx)\n",
        "\n",
        ">>[Converting ages to groups of age ranges.](#scrollTo=bdccaJW3mlEo)\n",
        "\n",
        ">[Waiting Days](#scrollTo=sJLu0SWRatit)\n",
        "\n",
        ">[Conclusion](#scrollTo=_jWkcJ9e05Fq)\n",
        "\n",
        ">[Limitations](#scrollTo=6QdaSperKHOb)\n",
        "\n"
      ]
    },
    {
      "cell_type": "markdown",
      "metadata": {
        "id": "zy3dSfeNPPCc"
      },
      "source": [
        "### Importing Libraries"
      ]
    },
    {
      "cell_type": "code",
      "metadata": {
        "collapsed": true,
        "id": "pXIP6ChHOPeY"
      },
      "source": [
        "import pandas as pd\n",
        "import numpy as np\n",
        "import matplotlib.pyplot as plt\n",
        "import seaborn as sns"
      ],
      "execution_count": 2,
      "outputs": []
    },
    {
      "cell_type": "markdown",
      "metadata": {
        "id": "by5KNcWYVbXS"
      },
      "source": [
        "### Downloading dataset"
      ]
    },
    {
      "cell_type": "code",
      "metadata": {
        "id": "tCJ94esSR6IL"
      },
      "source": [
        "! pip install -q kaggle"
      ],
      "execution_count": 3,
      "outputs": []
    },
    {
      "cell_type": "code",
      "metadata": {
        "id": "0sONxJqfR8eS"
      },
      "source": [
        "# Upload your kaggle.json file containing API token\n",
        "from google.colab import files\n",
        "files.upload()"
      ],
      "execution_count": null,
      "outputs": []
    },
    {
      "cell_type": "code",
      "metadata": {
        "id": "rg7MqSGFWEEv"
      },
      "source": [
        "# Move the downloaded file to a location ~/.kaggle/kaggle.json\n",
        "! mkdir ~/.kaggle\n",
        "! cp kaggle.json ~/.kaggle/\n",
        "\n",
        "# You need to give proper permissions to the file (since this is a hidden folder)\n",
        "! chmod 600 ~/.kaggle/kaggle.json"
      ],
      "execution_count": 5,
      "outputs": []
    },
    {
      "cell_type": "code",
      "metadata": {
        "colab": {
          "base_uri": "https://localhost:8080/"
        },
        "id": "2G-QoXUsWKAu",
        "outputId": "9102dca7-4aa2-4d5e-c12a-2a25c1e09019"
      },
      "source": [
        "# Copy API command to download dataset\n",
        "! kaggle datasets download -d joniarroba/noshowappointments\n",
        "! unzip \\*.zip\n",
        "! rm *.zip"
      ],
      "execution_count": 6,
      "outputs": [
        {
          "output_type": "stream",
          "text": [
            "Downloading noshowappointments.zip to /content\n",
            "\r  0% 0.00/2.40M [00:00<?, ?B/s]\n",
            "\r100% 2.40M/2.40M [00:00<00:00, 80.5MB/s]\n",
            "Archive:  noshowappointments.zip\n",
            "  inflating: KaggleV2-May-2016.csv   \n"
          ],
          "name": "stdout"
        }
      ]
    },
    {
      "cell_type": "markdown",
      "metadata": {
        "id": "N14ODJZWXEZd"
      },
      "source": [
        "### Loading dataset"
      ]
    },
    {
      "cell_type": "code",
      "metadata": {
        "collapsed": true,
        "id": "FPn5EbIKOPeb"
      },
      "source": [
        "df = pd.read_csv('/content/KaggleV2-May-2016.csv')"
      ],
      "execution_count": 7,
      "outputs": []
    },
    {
      "cell_type": "code",
      "metadata": {
        "colab": {
          "base_uri": "https://localhost:8080/",
          "height": 326
        },
        "id": "IwKrGeK_XQX6",
        "outputId": "d3acf88f-7d62-4fa3-c615-cd190831bd1e"
      },
      "source": [
        "df.sample(5)"
      ],
      "execution_count": 8,
      "outputs": [
        {
          "output_type": "execute_result",
          "data": {
            "text/html": [
              "<div>\n",
              "<style scoped>\n",
              "    .dataframe tbody tr th:only-of-type {\n",
              "        vertical-align: middle;\n",
              "    }\n",
              "\n",
              "    .dataframe tbody tr th {\n",
              "        vertical-align: top;\n",
              "    }\n",
              "\n",
              "    .dataframe thead th {\n",
              "        text-align: right;\n",
              "    }\n",
              "</style>\n",
              "<table border=\"1\" class=\"dataframe\">\n",
              "  <thead>\n",
              "    <tr style=\"text-align: right;\">\n",
              "      <th></th>\n",
              "      <th>PatientId</th>\n",
              "      <th>AppointmentID</th>\n",
              "      <th>Gender</th>\n",
              "      <th>ScheduledDay</th>\n",
              "      <th>AppointmentDay</th>\n",
              "      <th>Age</th>\n",
              "      <th>Neighbourhood</th>\n",
              "      <th>Scholarship</th>\n",
              "      <th>Hipertension</th>\n",
              "      <th>Diabetes</th>\n",
              "      <th>Alcoholism</th>\n",
              "      <th>Handcap</th>\n",
              "      <th>SMS_received</th>\n",
              "      <th>No-show</th>\n",
              "    </tr>\n",
              "  </thead>\n",
              "  <tbody>\n",
              "    <tr>\n",
              "      <th>109563</th>\n",
              "      <td>5.161354e+13</td>\n",
              "      <td>5773720</td>\n",
              "      <td>F</td>\n",
              "      <td>2016-06-06T07:28:42Z</td>\n",
              "      <td>2016-06-08T00:00:00Z</td>\n",
              "      <td>50</td>\n",
              "      <td>SANTA CLARA</td>\n",
              "      <td>0</td>\n",
              "      <td>0</td>\n",
              "      <td>0</td>\n",
              "      <td>0</td>\n",
              "      <td>0</td>\n",
              "      <td>0</td>\n",
              "      <td>Yes</td>\n",
              "    </tr>\n",
              "    <tr>\n",
              "      <th>5922</th>\n",
              "      <td>7.764934e+13</td>\n",
              "      <td>5685462</td>\n",
              "      <td>F</td>\n",
              "      <td>2016-05-11T10:24:53Z</td>\n",
              "      <td>2016-05-11T00:00:00Z</td>\n",
              "      <td>15</td>\n",
              "      <td>SANTO ANDRÉ</td>\n",
              "      <td>0</td>\n",
              "      <td>0</td>\n",
              "      <td>0</td>\n",
              "      <td>0</td>\n",
              "      <td>0</td>\n",
              "      <td>0</td>\n",
              "      <td>No</td>\n",
              "    </tr>\n",
              "    <tr>\n",
              "      <th>54499</th>\n",
              "      <td>5.315673e+11</td>\n",
              "      <td>5685043</td>\n",
              "      <td>F</td>\n",
              "      <td>2016-05-11T09:36:54Z</td>\n",
              "      <td>2016-05-16T00:00:00Z</td>\n",
              "      <td>0</td>\n",
              "      <td>ILHA DO PRÍNCIPE</td>\n",
              "      <td>0</td>\n",
              "      <td>0</td>\n",
              "      <td>0</td>\n",
              "      <td>0</td>\n",
              "      <td>0</td>\n",
              "      <td>0</td>\n",
              "      <td>No</td>\n",
              "    </tr>\n",
              "    <tr>\n",
              "      <th>40840</th>\n",
              "      <td>8.474693e+12</td>\n",
              "      <td>5675431</td>\n",
              "      <td>F</td>\n",
              "      <td>2016-05-09T13:43:06Z</td>\n",
              "      <td>2016-05-09T00:00:00Z</td>\n",
              "      <td>32</td>\n",
              "      <td>MARIA ORTIZ</td>\n",
              "      <td>0</td>\n",
              "      <td>0</td>\n",
              "      <td>0</td>\n",
              "      <td>0</td>\n",
              "      <td>0</td>\n",
              "      <td>0</td>\n",
              "      <td>No</td>\n",
              "    </tr>\n",
              "    <tr>\n",
              "      <th>89938</th>\n",
              "      <td>9.934391e+13</td>\n",
              "      <td>5780434</td>\n",
              "      <td>F</td>\n",
              "      <td>2016-06-07T08:03:20Z</td>\n",
              "      <td>2016-06-07T00:00:00Z</td>\n",
              "      <td>53</td>\n",
              "      <td>SANTA LÚCIA</td>\n",
              "      <td>0</td>\n",
              "      <td>0</td>\n",
              "      <td>0</td>\n",
              "      <td>0</td>\n",
              "      <td>0</td>\n",
              "      <td>0</td>\n",
              "      <td>No</td>\n",
              "    </tr>\n",
              "  </tbody>\n",
              "</table>\n",
              "</div>"
            ],
            "text/plain": [
              "           PatientId  AppointmentID Gender  ... Handcap SMS_received  No-show\n",
              "109563  5.161354e+13        5773720      F  ...       0            0      Yes\n",
              "5922    7.764934e+13        5685462      F  ...       0            0       No\n",
              "54499   5.315673e+11        5685043      F  ...       0            0       No\n",
              "40840   8.474693e+12        5675431      F  ...       0            0       No\n",
              "89938   9.934391e+13        5780434      F  ...       0            0       No\n",
              "\n",
              "[5 rows x 14 columns]"
            ]
          },
          "metadata": {
            "tags": []
          },
          "execution_count": 8
        }
      ]
    },
    {
      "cell_type": "code",
      "metadata": {
        "colab": {
          "base_uri": "https://localhost:8080/"
        },
        "id": "aae4EobvsOel",
        "outputId": "a5ee7557-3fc3-41db-d0dc-9624eba445c9"
      },
      "source": [
        "df.info()"
      ],
      "execution_count": 9,
      "outputs": [
        {
          "output_type": "stream",
          "text": [
            "<class 'pandas.core.frame.DataFrame'>\n",
            "RangeIndex: 110527 entries, 0 to 110526\n",
            "Data columns (total 14 columns):\n",
            " #   Column          Non-Null Count   Dtype  \n",
            "---  ------          --------------   -----  \n",
            " 0   PatientId       110527 non-null  float64\n",
            " 1   AppointmentID   110527 non-null  int64  \n",
            " 2   Gender          110527 non-null  object \n",
            " 3   ScheduledDay    110527 non-null  object \n",
            " 4   AppointmentDay  110527 non-null  object \n",
            " 5   Age             110527 non-null  int64  \n",
            " 6   Neighbourhood   110527 non-null  object \n",
            " 7   Scholarship     110527 non-null  int64  \n",
            " 8   Hipertension    110527 non-null  int64  \n",
            " 9   Diabetes        110527 non-null  int64  \n",
            " 10  Alcoholism      110527 non-null  int64  \n",
            " 11  Handcap         110527 non-null  int64  \n",
            " 12  SMS_received    110527 non-null  int64  \n",
            " 13  No-show         110527 non-null  object \n",
            "dtypes: float64(1), int64(8), object(5)\n",
            "memory usage: 11.8+ MB\n"
          ],
          "name": "stdout"
        }
      ]
    },
    {
      "cell_type": "markdown",
      "metadata": {
        "id": "vzAhzp4k10iO"
      },
      "source": [
        "> "
      ]
    },
    {
      "cell_type": "markdown",
      "metadata": {
        "id": "J2h2IAz83j2F"
      },
      "source": [
        "> No missing values in data"
      ]
    },
    {
      "cell_type": "markdown",
      "metadata": {
        "id": "q4xtoEgY3rbG"
      },
      "source": [
        "> **Data type of columns to be fixed,**\n",
        "1. PatientId is the unique id for identification of a patient and float datatype doesn't make sense.\n",
        "2. ScheduledDay and AppointmentDay can be used in analysis if we convert them into date-time format.\n"
      ]
    },
    {
      "cell_type": "markdown",
      "metadata": {
        "id": "zzG5_tl6_OJF"
      },
      "source": [
        "# Data Wrangling"
      ]
    },
    {
      "cell_type": "code",
      "metadata": {
        "colab": {
          "base_uri": "https://localhost:8080/"
        },
        "id": "zh-kkK4G7P_s",
        "outputId": "8dafebf0-e442-4c9c-9d6e-d0f5751ee827"
      },
      "source": [
        "df.PatientId = df.PatientId.astype('int')\n",
        "df.PatientId.dtypes"
      ],
      "execution_count": 10,
      "outputs": [
        {
          "output_type": "execute_result",
          "data": {
            "text/plain": [
              "dtype('int64')"
            ]
          },
          "metadata": {
            "tags": []
          },
          "execution_count": 10
        }
      ]
    },
    {
      "cell_type": "code",
      "metadata": {
        "colab": {
          "base_uri": "https://localhost:8080/"
        },
        "id": "o9OD19g8_9Ze",
        "outputId": "45c1133b-46ca-4694-e97f-59e956391b0f"
      },
      "source": [
        "df.ScheduledDay = pd.to_datetime(df.ScheduledDay)\n",
        "df.AppointmentDay = pd.to_datetime(df.AppointmentDay)\n",
        "df[['ScheduledDay','AppointmentDay']].dtypes"
      ],
      "execution_count": 11,
      "outputs": [
        {
          "output_type": "execute_result",
          "data": {
            "text/plain": [
              "ScheduledDay      datetime64[ns, UTC]\n",
              "AppointmentDay    datetime64[ns, UTC]\n",
              "dtype: object"
            ]
          },
          "metadata": {
            "tags": []
          },
          "execution_count": 11
        }
      ]
    },
    {
      "cell_type": "markdown",
      "metadata": {
        "id": "kislWLDHJly8"
      },
      "source": [
        "## Making new column Scheduled time \n",
        "> Converting ScheduleDate & AppointmentDate column to store dates and ScheduledTime & AppointmentTime to  store time of appointment"
      ]
    },
    {
      "cell_type": "code",
      "metadata": {
        "id": "HnXzHUhiJlPt"
      },
      "source": [
        "df['ScheduledTime'] = pd.to_datetime(df.ScheduledDay).dt.time\n",
        "df['AppointmentTime'] = pd.to_datetime(df.AppointmentDay).dt.time"
      ],
      "execution_count": 12,
      "outputs": []
    },
    {
      "cell_type": "code",
      "metadata": {
        "id": "wwJ42lkJK_M4"
      },
      "source": [
        "df['ScheduledDay'] = df['ScheduledDay'].dt.date\n",
        "df['AppointmentDay'] = df['AppointmentDay'].dt.date"
      ],
      "execution_count": 13,
      "outputs": []
    },
    {
      "cell_type": "code",
      "metadata": {
        "colab": {
          "base_uri": "https://localhost:8080/"
        },
        "id": "vrLXg3W9_2CM",
        "outputId": "9990a966-fdaa-482c-c0e7-5a016a2a9796"
      },
      "source": [
        "df.AppointmentTime.sample(5)"
      ],
      "execution_count": 14,
      "outputs": [
        {
          "output_type": "execute_result",
          "data": {
            "text/plain": [
              "65952    00:00:00\n",
              "7904     00:00:00\n",
              "81554    00:00:00\n",
              "73696    00:00:00\n",
              "96585    00:00:00\n",
              "Name: AppointmentTime, dtype: object"
            ]
          },
          "metadata": {
            "tags": []
          },
          "execution_count": 14
        }
      ]
    },
    {
      "cell_type": "code",
      "metadata": {
        "colab": {
          "base_uri": "https://localhost:8080/"
        },
        "id": "o9WQIJtALs42",
        "outputId": "289f2e03-ad38-452c-ce85-7b74988f3071"
      },
      "source": [
        "df.AppointmentTime.nunique()"
      ],
      "execution_count": 15,
      "outputs": [
        {
          "output_type": "execute_result",
          "data": {
            "text/plain": [
              "1"
            ]
          },
          "metadata": {
            "tags": []
          },
          "execution_count": 15
        }
      ]
    },
    {
      "cell_type": "markdown",
      "metadata": {
        "id": "74mbCT-QL9hX"
      },
      "source": [
        "> Appointment Time is 00:00:00 in all the rows, it is not relevant to analysis. Hence dropping AppointmentTime column "
      ]
    },
    {
      "cell_type": "code",
      "metadata": {
        "colab": {
          "base_uri": "https://localhost:8080/"
        },
        "id": "ceIBlz2LQVPJ",
        "outputId": "4bbe33b7-bece-4fc8-8c9d-8f81d634b182"
      },
      "source": [
        "df.drop(columns='AppointmentTime',inplace=True)\n",
        "df.columns"
      ],
      "execution_count": 16,
      "outputs": [
        {
          "output_type": "execute_result",
          "data": {
            "text/plain": [
              "Index(['PatientId', 'AppointmentID', 'Gender', 'ScheduledDay',\n",
              "       'AppointmentDay', 'Age', 'Neighbourhood', 'Scholarship', 'Hipertension',\n",
              "       'Diabetes', 'Alcoholism', 'Handcap', 'SMS_received', 'No-show',\n",
              "       'ScheduledTime'],\n",
              "      dtype='object')"
            ]
          },
          "metadata": {
            "tags": []
          },
          "execution_count": 16
        }
      ]
    },
    {
      "cell_type": "code",
      "metadata": {
        "colab": {
          "base_uri": "https://localhost:8080/"
        },
        "id": "nYCkC4DFOjGq",
        "outputId": "eadd0a24-51b0-4a47-ef80-b83364fbe736"
      },
      "source": [
        "df.Age.describe()"
      ],
      "execution_count": 17,
      "outputs": [
        {
          "output_type": "execute_result",
          "data": {
            "text/plain": [
              "count    110527.000000\n",
              "mean         37.088874\n",
              "std          23.110205\n",
              "min          -1.000000\n",
              "25%          18.000000\n",
              "50%          37.000000\n",
              "75%          55.000000\n",
              "max         115.000000\n",
              "Name: Age, dtype: float64"
            ]
          },
          "metadata": {
            "tags": []
          },
          "execution_count": 17
        }
      ]
    },
    {
      "cell_type": "markdown",
      "metadata": {
        "id": "9CwOAcx6QChv"
      },
      "source": [
        "> Age can never be negative, removing rows which have age less than 0"
      ]
    },
    {
      "cell_type": "code",
      "metadata": {
        "colab": {
          "base_uri": "https://localhost:8080/"
        },
        "id": "-oXOeGUMNf2S",
        "outputId": "9b924a07-f362-4943-be58-07a25fd00b3e"
      },
      "source": [
        "df_less_0 = df.query('Age < 0')\n",
        "df_less_0.Age.count()"
      ],
      "execution_count": 18,
      "outputs": [
        {
          "output_type": "execute_result",
          "data": {
            "text/plain": [
              "1"
            ]
          },
          "metadata": {
            "tags": []
          },
          "execution_count": 18
        }
      ]
    },
    {
      "cell_type": "markdown",
      "metadata": {
        "id": "zaMfsvnnRvCu"
      },
      "source": [
        "> Only single row with age less than 0"
      ]
    },
    {
      "cell_type": "code",
      "metadata": {
        "id": "p1LcZRFsRtG8"
      },
      "source": [
        "df = df.query('Age >= 0')"
      ],
      "execution_count": 19,
      "outputs": []
    },
    {
      "cell_type": "markdown",
      "metadata": {
        "id": "HaJI_xlfgW12"
      },
      "source": [
        "## Rename columns"
      ]
    },
    {
      "cell_type": "code",
      "metadata": {
        "id": "BBF4_wN5hHqg"
      },
      "source": [
        "labels = {'PatientId':\"patient_id\", 'AppointmentID':'appointment_id', 'Gender':'gender', \n",
        "        'ScheduledDay':'scheduled_day',\n",
        "       'AppointmentDay':'appointment_day', 'Age':'age', 'Neighbourhood':'neighbourhood', \n",
        "       'Scholarship':'scholarship', 'Hipertension':'hypertension',\n",
        "       'Diabetes':'diabetes', 'Alcoholism':'alcoholism', 'Handcap':'handicap', \n",
        "       'SMS_received':'sms_received', 'No-show':'show',\n",
        "       'ScheduledTime':'scheduled_time'}\n",
        "df.rename(columns=labels,inplace=True)"
      ],
      "execution_count": 20,
      "outputs": []
    },
    {
      "cell_type": "code",
      "metadata": {
        "colab": {
          "base_uri": "https://localhost:8080/"
        },
        "id": "w6PHw93Gj7HL",
        "outputId": "fc7ea41c-c8a6-4e8f-c53f-d2e4dbcf1d24"
      },
      "source": [
        "df.columns"
      ],
      "execution_count": 21,
      "outputs": [
        {
          "output_type": "execute_result",
          "data": {
            "text/plain": [
              "Index(['patient_id', 'appointment_id', 'gender', 'scheduled_day',\n",
              "       'appointment_day', 'age', 'neighbourhood', 'scholarship',\n",
              "       'hypertension', 'diabetes', 'alcoholism', 'handicap', 'sms_received',\n",
              "       'show', 'scheduled_time'],\n",
              "      dtype='object')"
            ]
          },
          "metadata": {
            "tags": []
          },
          "execution_count": 21
        }
      ]
    },
    {
      "cell_type": "markdown",
      "metadata": {
        "id": "FHgwFcz7kNr4"
      },
      "source": [
        "## Changing no_show(to show) column to avoid misconception and easily understandable\n",
        "\n",
        "Substituting Yes with 0 and No with 1"
      ]
    },
    {
      "cell_type": "code",
      "metadata": {
        "id": "3ngpRSjqqb8p"
      },
      "source": [
        "df.show = df.show.map({'Yes':0,'No':1})\n",
        "df.show.astype(int)"
      ],
      "execution_count": null,
      "outputs": []
    },
    {
      "cell_type": "markdown",
      "metadata": {
        "id": "TVfMxC9B8vOC"
      },
      "source": [
        "## Appointment day(day on which pateint has to visit doctor) is before Scheduled Day"
      ]
    },
    {
      "cell_type": "code",
      "metadata": {
        "colab": {
          "base_uri": "https://localhost:8080/",
          "height": 204
        },
        "id": "EL0sFG-P8rsb",
        "outputId": "b444c82a-dec6-47ea-e2fc-34a32b19a872"
      },
      "source": [
        "df_error = df[df.scheduled_day > df.appointment_day ][['patient_id','appointment_id','scheduled_day','appointment_day','show']]\n",
        "df_error"
      ],
      "execution_count": 23,
      "outputs": [
        {
          "output_type": "execute_result",
          "data": {
            "text/html": [
              "<div>\n",
              "<style scoped>\n",
              "    .dataframe tbody tr th:only-of-type {\n",
              "        vertical-align: middle;\n",
              "    }\n",
              "\n",
              "    .dataframe tbody tr th {\n",
              "        vertical-align: top;\n",
              "    }\n",
              "\n",
              "    .dataframe thead th {\n",
              "        text-align: right;\n",
              "    }\n",
              "</style>\n",
              "<table border=\"1\" class=\"dataframe\">\n",
              "  <thead>\n",
              "    <tr style=\"text-align: right;\">\n",
              "      <th></th>\n",
              "      <th>patient_id</th>\n",
              "      <th>appointment_id</th>\n",
              "      <th>scheduled_day</th>\n",
              "      <th>appointment_day</th>\n",
              "      <th>show</th>\n",
              "    </tr>\n",
              "  </thead>\n",
              "  <tbody>\n",
              "    <tr>\n",
              "      <th>27033</th>\n",
              "      <td>7839272661752</td>\n",
              "      <td>5679978</td>\n",
              "      <td>2016-05-10</td>\n",
              "      <td>2016-05-09</td>\n",
              "      <td>0</td>\n",
              "    </tr>\n",
              "    <tr>\n",
              "      <th>55226</th>\n",
              "      <td>7896293967868</td>\n",
              "      <td>5715660</td>\n",
              "      <td>2016-05-18</td>\n",
              "      <td>2016-05-17</td>\n",
              "      <td>0</td>\n",
              "    </tr>\n",
              "    <tr>\n",
              "      <th>64175</th>\n",
              "      <td>24252258389979</td>\n",
              "      <td>5664962</td>\n",
              "      <td>2016-05-05</td>\n",
              "      <td>2016-05-04</td>\n",
              "      <td>0</td>\n",
              "    </tr>\n",
              "    <tr>\n",
              "      <th>71533</th>\n",
              "      <td>998231581612122</td>\n",
              "      <td>5686628</td>\n",
              "      <td>2016-05-11</td>\n",
              "      <td>2016-05-05</td>\n",
              "      <td>0</td>\n",
              "    </tr>\n",
              "    <tr>\n",
              "      <th>72362</th>\n",
              "      <td>3787481966821</td>\n",
              "      <td>5655637</td>\n",
              "      <td>2016-05-04</td>\n",
              "      <td>2016-05-03</td>\n",
              "      <td>0</td>\n",
              "    </tr>\n",
              "  </tbody>\n",
              "</table>\n",
              "</div>"
            ],
            "text/plain": [
              "            patient_id  appointment_id scheduled_day appointment_day  show\n",
              "27033    7839272661752         5679978    2016-05-10      2016-05-09     0\n",
              "55226    7896293967868         5715660    2016-05-18      2016-05-17     0\n",
              "64175   24252258389979         5664962    2016-05-05      2016-05-04     0\n",
              "71533  998231581612122         5686628    2016-05-11      2016-05-05     0\n",
              "72362    3787481966821         5655637    2016-05-04      2016-05-03     0"
            ]
          },
          "metadata": {
            "tags": []
          },
          "execution_count": 23
        }
      ]
    },
    {
      "cell_type": "markdown",
      "metadata": {
        "id": "WCsEWR789GRe"
      },
      "source": [
        "> In the first row, appointment day is **9th May** and scheduled day is **10th May** which doesn't make any sense. So, dropping rows where appointment day is before scheduled day"
      ]
    },
    {
      "cell_type": "code",
      "metadata": {
        "colab": {
          "base_uri": "https://localhost:8080/"
        },
        "id": "D3_eKsAf_k5m",
        "outputId": "e5bba15f-041b-4433-c9cd-2ba87137360f"
      },
      "source": [
        "print('Number of rows with appointment day before scheduled day:',df_error.patient_id.count())"
      ],
      "execution_count": 24,
      "outputs": [
        {
          "output_type": "stream",
          "text": [
            "Number of rows with appointment day before scheduled day: 5\n"
          ],
          "name": "stdout"
        }
      ]
    },
    {
      "cell_type": "code",
      "metadata": {
        "colab": {
          "base_uri": "https://localhost:8080/"
        },
        "id": "gbDyf_pFIbOV",
        "outputId": "68a2df2f-2f06-48b1-acbf-b146c869470a"
      },
      "source": [
        "print('Number of rows before dropping above rows:', df.patient_id.count())"
      ],
      "execution_count": 25,
      "outputs": [
        {
          "output_type": "stream",
          "text": [
            "Number of rows before dropping above rows: 110526\n"
          ],
          "name": "stdout"
        }
      ]
    },
    {
      "cell_type": "code",
      "metadata": {
        "colab": {
          "base_uri": "https://localhost:8080/"
        },
        "id": "0ieQjIgY-itJ",
        "outputId": "03aa5158-4ae3-41e0-deaf-46479d13da76"
      },
      "source": [
        "df = df[df.scheduled_day <= df.appointment_day ]\n",
        "print('Number of rows after dropping above rows:', df.patient_id.count())"
      ],
      "execution_count": 26,
      "outputs": [
        {
          "output_type": "stream",
          "text": [
            "Number of rows after dropping above rows: 110521\n"
          ],
          "name": "stdout"
        }
      ]
    },
    {
      "cell_type": "markdown",
      "metadata": {
        "id": "KLgc2zuUrD_9"
      },
      "source": [
        "## Duplicates in data"
      ]
    },
    {
      "cell_type": "code",
      "metadata": {
        "colab": {
          "base_uri": "https://localhost:8080/"
        },
        "id": "aU7zP4T-vyGA",
        "outputId": "f654ae20-d463-40b6-908c-625102cd3adf"
      },
      "source": [
        "df.duplicated().sum()"
      ],
      "execution_count": 27,
      "outputs": [
        {
          "output_type": "execute_result",
          "data": {
            "text/plain": [
              "0"
            ]
          },
          "metadata": {
            "tags": []
          },
          "execution_count": 27
        }
      ]
    },
    {
      "cell_type": "markdown",
      "metadata": {
        "id": "HL0Coa3q6yDE"
      },
      "source": [
        "> No duplicate rows in data"
      ]
    },
    {
      "cell_type": "markdown",
      "metadata": {
        "id": "rMEMqZ45HXKF"
      },
      "source": [
        "<a id='eda'></a>\n",
        "# Exploratory Data Analysis"
      ]
    },
    {
      "cell_type": "markdown",
      "metadata": {
        "id": "m9SF62eI4sAD"
      },
      "source": [
        "### Descriptive statistics"
      ]
    },
    {
      "cell_type": "code",
      "metadata": {
        "colab": {
          "base_uri": "https://localhost:8080/",
          "height": 255
        },
        "id": "qYa42aWWAHq2",
        "outputId": "4ff710dd-c163-42b9-d7dc-5a3574cedc9e"
      },
      "source": [
        "df.describe().iloc[2:,2:]"
      ],
      "execution_count": 28,
      "outputs": [
        {
          "output_type": "execute_result",
          "data": {
            "text/html": [
              "<div>\n",
              "<style scoped>\n",
              "    .dataframe tbody tr th:only-of-type {\n",
              "        vertical-align: middle;\n",
              "    }\n",
              "\n",
              "    .dataframe tbody tr th {\n",
              "        vertical-align: top;\n",
              "    }\n",
              "\n",
              "    .dataframe thead th {\n",
              "        text-align: right;\n",
              "    }\n",
              "</style>\n",
              "<table border=\"1\" class=\"dataframe\">\n",
              "  <thead>\n",
              "    <tr style=\"text-align: right;\">\n",
              "      <th></th>\n",
              "      <th>age</th>\n",
              "      <th>scholarship</th>\n",
              "      <th>hypertension</th>\n",
              "      <th>diabetes</th>\n",
              "      <th>alcoholism</th>\n",
              "      <th>handicap</th>\n",
              "      <th>sms_received</th>\n",
              "      <th>show</th>\n",
              "    </tr>\n",
              "  </thead>\n",
              "  <tbody>\n",
              "    <tr>\n",
              "      <th>std</th>\n",
              "      <td>23.109885</td>\n",
              "      <td>0.297682</td>\n",
              "      <td>0.397929</td>\n",
              "      <td>0.258272</td>\n",
              "      <td>0.17169</td>\n",
              "      <td>0.161494</td>\n",
              "      <td>0.466879</td>\n",
              "      <td>0.401419</td>\n",
              "    </tr>\n",
              "    <tr>\n",
              "      <th>min</th>\n",
              "      <td>0.000000</td>\n",
              "      <td>0.000000</td>\n",
              "      <td>0.000000</td>\n",
              "      <td>0.000000</td>\n",
              "      <td>0.00000</td>\n",
              "      <td>0.000000</td>\n",
              "      <td>0.000000</td>\n",
              "      <td>0.000000</td>\n",
              "    </tr>\n",
              "    <tr>\n",
              "      <th>25%</th>\n",
              "      <td>18.000000</td>\n",
              "      <td>0.000000</td>\n",
              "      <td>0.000000</td>\n",
              "      <td>0.000000</td>\n",
              "      <td>0.00000</td>\n",
              "      <td>0.000000</td>\n",
              "      <td>0.000000</td>\n",
              "      <td>1.000000</td>\n",
              "    </tr>\n",
              "    <tr>\n",
              "      <th>50%</th>\n",
              "      <td>37.000000</td>\n",
              "      <td>0.000000</td>\n",
              "      <td>0.000000</td>\n",
              "      <td>0.000000</td>\n",
              "      <td>0.00000</td>\n",
              "      <td>0.000000</td>\n",
              "      <td>0.000000</td>\n",
              "      <td>1.000000</td>\n",
              "    </tr>\n",
              "    <tr>\n",
              "      <th>75%</th>\n",
              "      <td>55.000000</td>\n",
              "      <td>0.000000</td>\n",
              "      <td>0.000000</td>\n",
              "      <td>0.000000</td>\n",
              "      <td>0.00000</td>\n",
              "      <td>0.000000</td>\n",
              "      <td>1.000000</td>\n",
              "      <td>1.000000</td>\n",
              "    </tr>\n",
              "    <tr>\n",
              "      <th>max</th>\n",
              "      <td>115.000000</td>\n",
              "      <td>1.000000</td>\n",
              "      <td>1.000000</td>\n",
              "      <td>1.000000</td>\n",
              "      <td>1.00000</td>\n",
              "      <td>4.000000</td>\n",
              "      <td>1.000000</td>\n",
              "      <td>1.000000</td>\n",
              "    </tr>\n",
              "  </tbody>\n",
              "</table>\n",
              "</div>"
            ],
            "text/plain": [
              "            age  scholarship  hypertension  ...  handicap  sms_received      show\n",
              "std   23.109885     0.297682      0.397929  ...  0.161494      0.466879  0.401419\n",
              "min    0.000000     0.000000      0.000000  ...  0.000000      0.000000  0.000000\n",
              "25%   18.000000     0.000000      0.000000  ...  0.000000      0.000000  1.000000\n",
              "50%   37.000000     0.000000      0.000000  ...  0.000000      0.000000  1.000000\n",
              "75%   55.000000     0.000000      0.000000  ...  0.000000      1.000000  1.000000\n",
              "max  115.000000     1.000000      1.000000  ...  4.000000      1.000000  1.000000\n",
              "\n",
              "[6 rows x 8 columns]"
            ]
          },
          "metadata": {
            "tags": []
          },
          "execution_count": 28
        }
      ]
    },
    {
      "cell_type": "markdown",
      "metadata": {
        "id": "67sSwwka4l20"
      },
      "source": [
        "### Correlation b/w columns of dataset"
      ]
    },
    {
      "cell_type": "code",
      "metadata": {
        "colab": {
          "base_uri": "https://localhost:8080/",
          "height": 317
        },
        "id": "A_nmzVHnBM8r",
        "outputId": "18111146-4bea-48cc-a662-7f8e411f19a9"
      },
      "source": [
        "df.corr().iloc[2:,2:]"
      ],
      "execution_count": 29,
      "outputs": [
        {
          "output_type": "execute_result",
          "data": {
            "text/html": [
              "<div>\n",
              "<style scoped>\n",
              "    .dataframe tbody tr th:only-of-type {\n",
              "        vertical-align: middle;\n",
              "    }\n",
              "\n",
              "    .dataframe tbody tr th {\n",
              "        vertical-align: top;\n",
              "    }\n",
              "\n",
              "    .dataframe thead th {\n",
              "        text-align: right;\n",
              "    }\n",
              "</style>\n",
              "<table border=\"1\" class=\"dataframe\">\n",
              "  <thead>\n",
              "    <tr style=\"text-align: right;\">\n",
              "      <th></th>\n",
              "      <th>age</th>\n",
              "      <th>scholarship</th>\n",
              "      <th>hypertension</th>\n",
              "      <th>diabetes</th>\n",
              "      <th>alcoholism</th>\n",
              "      <th>handicap</th>\n",
              "      <th>sms_received</th>\n",
              "      <th>show</th>\n",
              "    </tr>\n",
              "  </thead>\n",
              "  <tbody>\n",
              "    <tr>\n",
              "      <th>age</th>\n",
              "      <td>1.000000</td>\n",
              "      <td>-0.092469</td>\n",
              "      <td>0.504599</td>\n",
              "      <td>0.292398</td>\n",
              "      <td>0.095811</td>\n",
              "      <td>0.078101</td>\n",
              "      <td>0.012629</td>\n",
              "      <td>0.060320</td>\n",
              "    </tr>\n",
              "    <tr>\n",
              "      <th>scholarship</th>\n",
              "      <td>-0.092469</td>\n",
              "      <td>1.000000</td>\n",
              "      <td>-0.019738</td>\n",
              "      <td>-0.024899</td>\n",
              "      <td>0.035019</td>\n",
              "      <td>-0.008555</td>\n",
              "      <td>0.001182</td>\n",
              "      <td>-0.029166</td>\n",
              "    </tr>\n",
              "    <tr>\n",
              "      <th>hypertension</th>\n",
              "      <td>0.504599</td>\n",
              "      <td>-0.019738</td>\n",
              "      <td>1.000000</td>\n",
              "      <td>0.433082</td>\n",
              "      <td>0.087967</td>\n",
              "      <td>0.080162</td>\n",
              "      <td>-0.006285</td>\n",
              "      <td>0.035662</td>\n",
              "    </tr>\n",
              "    <tr>\n",
              "      <th>diabetes</th>\n",
              "      <td>0.292398</td>\n",
              "      <td>-0.024899</td>\n",
              "      <td>0.433082</td>\n",
              "      <td>1.000000</td>\n",
              "      <td>0.018471</td>\n",
              "      <td>0.057578</td>\n",
              "      <td>-0.014561</td>\n",
              "      <td>0.015158</td>\n",
              "    </tr>\n",
              "    <tr>\n",
              "      <th>alcoholism</th>\n",
              "      <td>0.095811</td>\n",
              "      <td>0.035019</td>\n",
              "      <td>0.087967</td>\n",
              "      <td>0.018471</td>\n",
              "      <td>1.000000</td>\n",
              "      <td>0.004668</td>\n",
              "      <td>-0.026154</td>\n",
              "      <td>0.000181</td>\n",
              "    </tr>\n",
              "    <tr>\n",
              "      <th>handicap</th>\n",
              "      <td>0.078101</td>\n",
              "      <td>-0.008555</td>\n",
              "      <td>0.080162</td>\n",
              "      <td>0.057578</td>\n",
              "      <td>0.004668</td>\n",
              "      <td>1.000000</td>\n",
              "      <td>-0.024097</td>\n",
              "      <td>0.006290</td>\n",
              "    </tr>\n",
              "    <tr>\n",
              "      <th>sms_received</th>\n",
              "      <td>0.012629</td>\n",
              "      <td>0.001182</td>\n",
              "      <td>-0.006285</td>\n",
              "      <td>-0.014561</td>\n",
              "      <td>-0.026154</td>\n",
              "      <td>-0.024097</td>\n",
              "      <td>1.000000</td>\n",
              "      <td>-0.126502</td>\n",
              "    </tr>\n",
              "    <tr>\n",
              "      <th>show</th>\n",
              "      <td>0.060320</td>\n",
              "      <td>-0.029166</td>\n",
              "      <td>0.035662</td>\n",
              "      <td>0.015158</td>\n",
              "      <td>0.000181</td>\n",
              "      <td>0.006290</td>\n",
              "      <td>-0.126502</td>\n",
              "      <td>1.000000</td>\n",
              "    </tr>\n",
              "  </tbody>\n",
              "</table>\n",
              "</div>"
            ],
            "text/plain": [
              "                   age  scholarship  ...  sms_received      show\n",
              "age           1.000000    -0.092469  ...      0.012629  0.060320\n",
              "scholarship  -0.092469     1.000000  ...      0.001182 -0.029166\n",
              "hypertension  0.504599    -0.019738  ...     -0.006285  0.035662\n",
              "diabetes      0.292398    -0.024899  ...     -0.014561  0.015158\n",
              "alcoholism    0.095811     0.035019  ...     -0.026154  0.000181\n",
              "handicap      0.078101    -0.008555  ...     -0.024097  0.006290\n",
              "sms_received  0.012629     0.001182  ...      1.000000 -0.126502\n",
              "show          0.060320    -0.029166  ...     -0.126502  1.000000\n",
              "\n",
              "[8 rows x 8 columns]"
            ]
          },
          "metadata": {
            "tags": []
          },
          "execution_count": 29
        }
      ]
    },
    {
      "cell_type": "markdown",
      "metadata": {
        "id": "WcgzTUpVHeBB"
      },
      "source": [
        "## Gender"
      ]
    },
    {
      "cell_type": "markdown",
      "metadata": {
        "id": "doajAKAP26Mk"
      },
      "source": [
        "### No of males and females that showed up at appointment"
      ]
    },
    {
      "cell_type": "code",
      "metadata": {
        "colab": {
          "base_uri": "https://localhost:8080/"
        },
        "id": "zGqHWeT9_XOE",
        "outputId": "3a97c7cf-7da4-45a3-c002-f9bd67fd0679"
      },
      "source": [
        "gender_show = df.groupby('gender').show.sum()\n",
        "gender_show"
      ],
      "execution_count": 30,
      "outputs": [
        {
          "output_type": "execute_result",
          "data": {
            "text/plain": [
              "gender\n",
              "F    57245\n",
              "M    30962\n",
              "Name: show, dtype: int64"
            ]
          },
          "metadata": {
            "tags": []
          },
          "execution_count": 30
        }
      ]
    },
    {
      "cell_type": "markdown",
      "metadata": {
        "id": "tHoAOmv-3JX0"
      },
      "source": [
        "### Total number of males and females in dataset"
      ]
    },
    {
      "cell_type": "code",
      "metadata": {
        "colab": {
          "base_uri": "https://localhost:8080/"
        },
        "id": "UoM3Ms5S_0es",
        "outputId": "9bb41952-9fae-428a-b12e-b2199b58246e"
      },
      "source": [
        "gender_total = df.groupby('gender').patient_id.count()\n",
        "gender_total"
      ],
      "execution_count": 31,
      "outputs": [
        {
          "output_type": "execute_result",
          "data": {
            "text/plain": [
              "gender\n",
              "F    71836\n",
              "M    38685\n",
              "Name: patient_id, dtype: int64"
            ]
          },
          "metadata": {
            "tags": []
          },
          "execution_count": 31
        }
      ]
    },
    {
      "cell_type": "markdown",
      "metadata": {
        "id": "VCkc-mqi3amn"
      },
      "source": [
        "### Proportion of male and female patients"
      ]
    },
    {
      "cell_type": "code",
      "metadata": {
        "colab": {
          "base_uri": "https://localhost:8080/"
        },
        "id": "gLAqlwC9Huef",
        "outputId": "3d998f62-c962-4a77-a07b-fc231163596a"
      },
      "source": [
        "prop_female_patients = gender_total.F/(gender_total.F + gender_total.M)*100\n",
        "prop_female_patients"
      ],
      "execution_count": 32,
      "outputs": [
        {
          "output_type": "execute_result",
          "data": {
            "text/plain": [
              "64.99760226563278"
            ]
          },
          "metadata": {
            "tags": []
          },
          "execution_count": 32
        }
      ]
    },
    {
      "cell_type": "code",
      "metadata": {
        "colab": {
          "base_uri": "https://localhost:8080/"
        },
        "id": "_wCyzxjRHxmO",
        "outputId": "e915cd41-1e05-42e9-c98d-e0c9dd5b7dc7"
      },
      "source": [
        "prop_male_patients = gender_total.M/(gender_total.F + gender_total.M)*100\n",
        "prop_male_patients"
      ],
      "execution_count": 33,
      "outputs": [
        {
          "output_type": "execute_result",
          "data": {
            "text/plain": [
              "35.00239773436722"
            ]
          },
          "metadata": {
            "tags": []
          },
          "execution_count": 33
        }
      ]
    },
    {
      "cell_type": "code",
      "metadata": {
        "id": "j54IdyyoH1Hh"
      },
      "source": [
        "def horizontal_bars(name,prop,title):\n",
        "  fig, ax = plt.subplots(figsize =(10, 5))\n",
        "  ax.barh(name, prop)\n",
        "\n",
        "  # To add grid\n",
        "  ax.grid(b = True, color ='grey',\n",
        "          linestyle ='-.', linewidth = 0.5,\n",
        "          alpha = 0.2)\n",
        "\n",
        "  # To remove axes\n",
        "  for s in ['top', 'bottom', 'left', 'right']:\n",
        "      ax.spines[s].set_visible(False)\n",
        "\n",
        "  # To remove x and y ticks\n",
        "  ax.xaxis.set_ticks_position('none')\n",
        "  ax.yaxis.set_ticks_position('none')\n",
        "\n",
        "  plt.xticks(fontsize=10)\n",
        "  plt.yticks(fontsize=12)\n",
        "\n",
        "  # Add padding between axes and labels\n",
        "  ax.xaxis.set_tick_params(pad = 5)\n",
        "  ax.yaxis.set_tick_params(pad = 15)\n",
        "\n",
        "  plt.xlabel('\\n\\nPercentage of Patients',fontsize=12)\n",
        "  plt.ylabel('Gender',fontsize=12)\n",
        "  ax.set_title(title,fontsize = 15 )\n",
        "\n",
        "  for i in ax.patches:\n",
        "      plt.text(i.get_width()+0.01, i.get_y()+0.4,\n",
        "              str(round((i.get_width()), 2)),\n",
        "              fontsize = 12, fontweight ='bold',\n",
        "              color ='grey')\n",
        "      \n",
        "  plt.show()"
      ],
      "execution_count": 34,
      "outputs": []
    },
    {
      "cell_type": "code",
      "metadata": {
        "colab": {
          "base_uri": "https://localhost:8080/",
          "height": 424
        },
        "id": "v3qry4IKjP20",
        "outputId": "c5802439-4d3d-42a4-ef97-84da91884d86"
      },
      "source": [
        "gend = ['Females','Males']\n",
        "prop = [prop_female_patients,prop_male_patients]\n",
        "title = '\\nProportion of male and female patients\\n\\n'\n",
        "horizontal_bars(gend,prop,title)"
      ],
      "execution_count": 35,
      "outputs": [
        {
          "output_type": "display_data",
          "data": {
            "image/png": "[encoded data removed]",
            "text/plain": [
              "<Figure size 720x360 with 1 Axes>"
            ]
          },
          "metadata": {
            "tags": [],
            "needs_background": "light"
          }
        }
      ]
    },
    {
      "cell_type": "markdown",
      "metadata": {
        "id": "25FL_9Ak3ixH"
      },
      "source": [
        "### Proportion of male and female patients to show up for scheduled appointment"
      ]
    },
    {
      "cell_type": "code",
      "metadata": {
        "colab": {
          "base_uri": "https://localhost:8080/"
        },
        "id": "SvFs5ceeAKA0",
        "outputId": "91fdb9c6-907e-4601-d15a-a9744246d9f6"
      },
      "source": [
        "prop_female_show = (gender_show.F/gender_total.F)*100\n",
        "prop_female_show"
      ],
      "execution_count": 36,
      "outputs": [
        {
          "output_type": "execute_result",
          "data": {
            "text/plain": [
              "79.68845704103792"
            ]
          },
          "metadata": {
            "tags": []
          },
          "execution_count": 36
        }
      ]
    },
    {
      "cell_type": "code",
      "metadata": {
        "colab": {
          "base_uri": "https://localhost:8080/"
        },
        "id": "nLy6LF7vAy0S",
        "outputId": "3deb48c0-2f19-492c-b39e-b3cd488675a1"
      },
      "source": [
        "prop_male_show = (gender_show.M/gender_total.M)*100\n",
        "prop_male_show"
      ],
      "execution_count": 37,
      "outputs": [
        {
          "output_type": "execute_result",
          "data": {
            "text/plain": [
              "80.0361897376244"
            ]
          },
          "metadata": {
            "tags": []
          },
          "execution_count": 37
        }
      ]
    },
    {
      "cell_type": "code",
      "metadata": {
        "colab": {
          "base_uri": "https://localhost:8080/",
          "height": 418
        },
        "id": "kLGmuDLdiSW5",
        "outputId": "02ceb66b-7203-4b96-aeab-123b57f839bc"
      },
      "source": [
        "gend = ['Females','Males']\n",
        "prop = [prop_female_show,prop_male_show]\n",
        "title = '\\nProportion of male and female to show up for scheduled appointments\\n\\n'\n",
        "\n",
        "horizontal_bars(gend,prop,title)"
      ],
      "execution_count": 38,
      "outputs": [
        {
          "output_type": "display_data",
          "data": {
            "image/png": "[encoded data removed]",
            "text/plain": [
              "<Figure size 720x360 with 1 Axes>"
            ]
          },
          "metadata": {
            "tags": [],
            "needs_background": "light"
          }
        }
      ]
    },
    {
      "cell_type": "markdown",
      "metadata": {
        "id": "Vvf1k8jF6sFU"
      },
      "source": [
        "### Converting males and femlaes to quantative variable to find correlation with other features in dataset"
      ]
    },
    {
      "cell_type": "code",
      "metadata": {
        "id": "ObodAt255Fhy",
        "colab": {
          "base_uri": "https://localhost:8080/",
          "height": 348
        },
        "outputId": "ad70afb3-1ac1-4b4e-9a4b-b51f6dfb7456"
      },
      "source": [
        "df_new = df.copy()\n",
        "df_new.gender = df_new.gender.map({'F':1,'M':0})\n",
        "df_new.corr().iloc[2:,2:]"
      ],
      "execution_count": 39,
      "outputs": [
        {
          "output_type": "execute_result",
          "data": {
            "text/html": [
              "<div>\n",
              "<style scoped>\n",
              "    .dataframe tbody tr th:only-of-type {\n",
              "        vertical-align: middle;\n",
              "    }\n",
              "\n",
              "    .dataframe tbody tr th {\n",
              "        vertical-align: top;\n",
              "    }\n",
              "\n",
              "    .dataframe thead th {\n",
              "        text-align: right;\n",
              "    }\n",
              "</style>\n",
              "<table border=\"1\" class=\"dataframe\">\n",
              "  <thead>\n",
              "    <tr style=\"text-align: right;\">\n",
              "      <th></th>\n",
              "      <th>gender</th>\n",
              "      <th>age</th>\n",
              "      <th>scholarship</th>\n",
              "      <th>hypertension</th>\n",
              "      <th>diabetes</th>\n",
              "      <th>alcoholism</th>\n",
              "      <th>handicap</th>\n",
              "      <th>sms_received</th>\n",
              "      <th>show</th>\n",
              "    </tr>\n",
              "  </thead>\n",
              "  <tbody>\n",
              "    <tr>\n",
              "      <th>gender</th>\n",
              "      <td>1.000000</td>\n",
              "      <td>0.106439</td>\n",
              "      <td>0.114297</td>\n",
              "      <td>0.055721</td>\n",
              "      <td>0.032555</td>\n",
              "      <td>-0.106170</td>\n",
              "      <td>-0.022787</td>\n",
              "      <td>0.046301</td>\n",
              "      <td>-0.004132</td>\n",
              "    </tr>\n",
              "    <tr>\n",
              "      <th>age</th>\n",
              "      <td>0.106439</td>\n",
              "      <td>1.000000</td>\n",
              "      <td>-0.092469</td>\n",
              "      <td>0.504599</td>\n",
              "      <td>0.292398</td>\n",
              "      <td>0.095811</td>\n",
              "      <td>0.078101</td>\n",
              "      <td>0.012629</td>\n",
              "      <td>0.060320</td>\n",
              "    </tr>\n",
              "    <tr>\n",
              "      <th>scholarship</th>\n",
              "      <td>0.114297</td>\n",
              "      <td>-0.092469</td>\n",
              "      <td>1.000000</td>\n",
              "      <td>-0.019738</td>\n",
              "      <td>-0.024899</td>\n",
              "      <td>0.035019</td>\n",
              "      <td>-0.008555</td>\n",
              "      <td>0.001182</td>\n",
              "      <td>-0.029166</td>\n",
              "    </tr>\n",
              "    <tr>\n",
              "      <th>hypertension</th>\n",
              "      <td>0.055721</td>\n",
              "      <td>0.504599</td>\n",
              "      <td>-0.019738</td>\n",
              "      <td>1.000000</td>\n",
              "      <td>0.433082</td>\n",
              "      <td>0.087967</td>\n",
              "      <td>0.080162</td>\n",
              "      <td>-0.006285</td>\n",
              "      <td>0.035662</td>\n",
              "    </tr>\n",
              "    <tr>\n",
              "      <th>diabetes</th>\n",
              "      <td>0.032555</td>\n",
              "      <td>0.292398</td>\n",
              "      <td>-0.024899</td>\n",
              "      <td>0.433082</td>\n",
              "      <td>1.000000</td>\n",
              "      <td>0.018471</td>\n",
              "      <td>0.057578</td>\n",
              "      <td>-0.014561</td>\n",
              "      <td>0.015158</td>\n",
              "    </tr>\n",
              "    <tr>\n",
              "      <th>alcoholism</th>\n",
              "      <td>-0.106170</td>\n",
              "      <td>0.095811</td>\n",
              "      <td>0.035019</td>\n",
              "      <td>0.087967</td>\n",
              "      <td>0.018471</td>\n",
              "      <td>1.000000</td>\n",
              "      <td>0.004668</td>\n",
              "      <td>-0.026154</td>\n",
              "      <td>0.000181</td>\n",
              "    </tr>\n",
              "    <tr>\n",
              "      <th>handicap</th>\n",
              "      <td>-0.022787</td>\n",
              "      <td>0.078101</td>\n",
              "      <td>-0.008555</td>\n",
              "      <td>0.080162</td>\n",
              "      <td>0.057578</td>\n",
              "      <td>0.004668</td>\n",
              "      <td>1.000000</td>\n",
              "      <td>-0.024097</td>\n",
              "      <td>0.006290</td>\n",
              "    </tr>\n",
              "    <tr>\n",
              "      <th>sms_received</th>\n",
              "      <td>0.046301</td>\n",
              "      <td>0.012629</td>\n",
              "      <td>0.001182</td>\n",
              "      <td>-0.006285</td>\n",
              "      <td>-0.014561</td>\n",
              "      <td>-0.026154</td>\n",
              "      <td>-0.024097</td>\n",
              "      <td>1.000000</td>\n",
              "      <td>-0.126502</td>\n",
              "    </tr>\n",
              "    <tr>\n",
              "      <th>show</th>\n",
              "      <td>-0.004132</td>\n",
              "      <td>0.060320</td>\n",
              "      <td>-0.029166</td>\n",
              "      <td>0.035662</td>\n",
              "      <td>0.015158</td>\n",
              "      <td>0.000181</td>\n",
              "      <td>0.006290</td>\n",
              "      <td>-0.126502</td>\n",
              "      <td>1.000000</td>\n",
              "    </tr>\n",
              "  </tbody>\n",
              "</table>\n",
              "</div>"
            ],
            "text/plain": [
              "                gender       age  scholarship  ...  handicap  sms_received      show\n",
              "gender        1.000000  0.106439     0.114297  ... -0.022787      0.046301 -0.004132\n",
              "age           0.106439  1.000000    -0.092469  ...  0.078101      0.012629  0.060320\n",
              "scholarship   0.114297 -0.092469     1.000000  ... -0.008555      0.001182 -0.029166\n",
              "hypertension  0.055721  0.504599    -0.019738  ...  0.080162     -0.006285  0.035662\n",
              "diabetes      0.032555  0.292398    -0.024899  ...  0.057578     -0.014561  0.015158\n",
              "alcoholism   -0.106170  0.095811     0.035019  ...  0.004668     -0.026154  0.000181\n",
              "handicap     -0.022787  0.078101    -0.008555  ...  1.000000     -0.024097  0.006290\n",
              "sms_received  0.046301  0.012629     0.001182  ... -0.024097      1.000000 -0.126502\n",
              "show         -0.004132  0.060320    -0.029166  ...  0.006290     -0.126502  1.000000\n",
              "\n",
              "[9 rows x 9 columns]"
            ]
          },
          "metadata": {
            "tags": []
          },
          "execution_count": 39
        }
      ]
    },
    {
      "cell_type": "markdown",
      "metadata": {
        "id": "jA5nVEDt64nt"
      },
      "source": [
        "> There is no direct relation of gender with any other feature "
      ]
    },
    {
      "cell_type": "markdown",
      "metadata": {
        "id": "Bo37oz8VR6jn"
      },
      "source": [
        "### Function to find relationship b/w gender and different features"
      ]
    },
    {
      "cell_type": "code",
      "metadata": {
        "id": "xjUUhxWd6Rzy"
      },
      "source": [
        "def rel_with_gender(_feature,_title,legend_title):\n",
        "  extracted_df = pd.pivot_table(data=df,index=['gender',_feature],values='show')\n",
        "  extracted_df.show = extracted_df.show*100\n",
        "  extracted_df.reset_index(inplace=True)\n",
        "\n",
        "  display(extracted_df)\n",
        "\n",
        "  # To set figure size \n",
        "  plt.figure(figsize=(8,6),dpi=70)\n",
        "  \n",
        "  # To make bar plot\n",
        "  graph = sns.barplot(data=extracted_df,x='gender',y='show',hue=_feature);\n",
        "\n",
        "  # To add padding b/w axis and ticks\n",
        "  graph.xaxis.set_tick_params(pad = 10)\n",
        "  graph.yaxis.set_tick_params(pad = 3)\n",
        "\n",
        "  graph.set_xlabel('Gender',fontsize=13)\n",
        "  graph.set_ylabel('% of people who showed up',fontsize=13)\n",
        "  graph.set_title(_title,fontsize=16)\n",
        "  graph.set_xticklabels(['Females','Males'],fontsize=11.5)\n",
        "\n",
        "  # To set y-axis limits\n",
        "  graph.set_ylim(0,90)\n",
        "\n",
        "  # To place legend outside top right corner of plot\n",
        "  plt.legend(title=legend_title,bbox_to_anchor=(1.02, 0.5), loc='upper left', borderaxespad=0)\n",
        "  # plt.legend(title='Consume Alcohol',bbox_to_anchor=(1.02, 1), loc='upper left', borderaxespad=0,labels=['No','Yes'])\n",
        "  # plt.legend(title='Alcoholism',labels=['A', 'A'], loc='upper left')\n",
        "\n",
        "  # To remove spines \n",
        "  sns.despine( left=True, bottom=True)\n",
        "\n",
        "  print('\\n')\n",
        "  # TO DO: Add padding between axes and labels\n",
        "  plt.show(graph)\n"
      ],
      "execution_count": 40,
      "outputs": []
    },
    {
      "cell_type": "markdown",
      "metadata": {
        "id": "7_wdoUDOR3z6"
      },
      "source": [
        "### Relation of showing up wrt gender and alcoholism "
      ]
    },
    {
      "cell_type": "code",
      "metadata": {
        "colab": {
          "base_uri": "https://localhost:8080/",
          "height": 613
        },
        "id": "6be5DfPRO_fp",
        "outputId": "9c910bbe-8519-418a-9ece-4b18d3dab070"
      },
      "source": [
        "rel_with_gender(_feature='alcoholism',_title='Relation of showing up wrt gender and alcoholism\\n',legend_title='Consume Alcohol')"
      ],
      "execution_count": 41,
      "outputs": [
        {
          "output_type": "display_data",
          "data": {
            "text/html": [
              "<div>\n",
              "<style scoped>\n",
              "    .dataframe tbody tr th:only-of-type {\n",
              "        vertical-align: middle;\n",
              "    }\n",
              "\n",
              "    .dataframe tbody tr th {\n",
              "        vertical-align: top;\n",
              "    }\n",
              "\n",
              "    .dataframe thead th {\n",
              "        text-align: right;\n",
              "    }\n",
              "</style>\n",
              "<table border=\"1\" class=\"dataframe\">\n",
              "  <thead>\n",
              "    <tr style=\"text-align: right;\">\n",
              "      <th></th>\n",
              "      <th>gender</th>\n",
              "      <th>alcoholism</th>\n",
              "      <th>show</th>\n",
              "    </tr>\n",
              "  </thead>\n",
              "  <tbody>\n",
              "    <tr>\n",
              "      <th>0</th>\n",
              "      <td>F</td>\n",
              "      <td>0</td>\n",
              "      <td>79.772846</td>\n",
              "    </tr>\n",
              "    <tr>\n",
              "      <th>1</th>\n",
              "      <td>F</td>\n",
              "      <td>1</td>\n",
              "      <td>74.816026</td>\n",
              "    </tr>\n",
              "    <tr>\n",
              "      <th>2</th>\n",
              "      <td>M</td>\n",
              "      <td>0</td>\n",
              "      <td>79.878516</td>\n",
              "    </tr>\n",
              "    <tr>\n",
              "      <th>3</th>\n",
              "      <td>M</td>\n",
              "      <td>1</td>\n",
              "      <td>82.732803</td>\n",
              "    </tr>\n",
              "  </tbody>\n",
              "</table>\n",
              "</div>"
            ],
            "text/plain": [
              "  gender  alcoholism       show\n",
              "0      F           0  79.772846\n",
              "1      F           1  74.816026\n",
              "2      M           0  79.878516\n",
              "3      M           1  82.732803"
            ]
          },
          "metadata": {
            "tags": []
          }
        },
        {
          "output_type": "stream",
          "text": [
            "\n",
            "\n"
          ],
          "name": "stdout"
        },
        {
          "output_type": "display_data",
          "data": {
            "image/png": "[encoded data removed]",
            "text/plain": [
              "<Figure size 560x420 with 1 Axes>"
            ]
          },
          "metadata": {
            "tags": [],
            "needs_background": "light"
          }
        }
      ]
    },
    {
      "cell_type": "markdown",
      "metadata": {
        "id": "UHk7p-6PfwDo"
      },
      "source": [
        "> There is no signifigant relation of showing up with alcoholism wrt gender. \n",
        "\n",
        "> There is an increase of 3.6% in show up rate of males who consume alcohol.\n",
        "\n",
        "> On the other hand there is decrease of 6.2% in show up rate with females who consume alcohol.\n",
        "\n",
        ">So we can't conclude that alcoholism wrt gender determines showing up for appointment"
      ]
    },
    {
      "cell_type": "markdown",
      "metadata": {
        "id": "tEShAcy__WCg"
      },
      "source": [
        "### Relation of showing up wrt gender and diabetes "
      ]
    },
    {
      "cell_type": "code",
      "metadata": {
        "colab": {
          "base_uri": "https://localhost:8080/",
          "height": 613
        },
        "id": "kz1br-pPf5fY",
        "outputId": "9ebab32a-5343-42f5-9197-0a71583c704b"
      },
      "source": [
        "rel_with_gender(_feature='diabetes',_title='Relation of showing up wrt gender and diabetic\\n',legend_title='Diabetic')"
      ],
      "execution_count": 42,
      "outputs": [
        {
          "output_type": "display_data",
          "data": {
            "text/html": [
              "<div>\n",
              "<style scoped>\n",
              "    .dataframe tbody tr th:only-of-type {\n",
              "        vertical-align: middle;\n",
              "    }\n",
              "\n",
              "    .dataframe tbody tr th {\n",
              "        vertical-align: top;\n",
              "    }\n",
              "\n",
              "    .dataframe thead th {\n",
              "        text-align: right;\n",
              "    }\n",
              "</style>\n",
              "<table border=\"1\" class=\"dataframe\">\n",
              "  <thead>\n",
              "    <tr style=\"text-align: right;\">\n",
              "      <th></th>\n",
              "      <th>gender</th>\n",
              "      <th>diabetes</th>\n",
              "      <th>show</th>\n",
              "    </tr>\n",
              "  </thead>\n",
              "  <tbody>\n",
              "    <tr>\n",
              "      <th>0</th>\n",
              "      <td>F</td>\n",
              "      <td>0</td>\n",
              "      <td>79.504756</td>\n",
              "    </tr>\n",
              "    <tr>\n",
              "      <th>1</th>\n",
              "      <td>F</td>\n",
              "      <td>1</td>\n",
              "      <td>81.858723</td>\n",
              "    </tr>\n",
              "    <tr>\n",
              "      <th>2</th>\n",
              "      <td>M</td>\n",
              "      <td>0</td>\n",
              "      <td>79.888852</td>\n",
              "    </tr>\n",
              "    <tr>\n",
              "      <th>3</th>\n",
              "      <td>M</td>\n",
              "      <td>1</td>\n",
              "      <td>82.327771</td>\n",
              "    </tr>\n",
              "  </tbody>\n",
              "</table>\n",
              "</div>"
            ],
            "text/plain": [
              "  gender  diabetes       show\n",
              "0      F         0  79.504756\n",
              "1      F         1  81.858723\n",
              "2      M         0  79.888852\n",
              "3      M         1  82.327771"
            ]
          },
          "metadata": {
            "tags": []
          }
        },
        {
          "output_type": "stream",
          "text": [
            "\n",
            "\n"
          ],
          "name": "stdout"
        },
        {
          "output_type": "display_data",
          "data": {
            "image/png": "[encoded data removed]",
            "text/plain": [
              "<Figure size 560x420 with 1 Axes>"
            ]
          },
          "metadata": {
            "tags": [],
            "needs_background": "light"
          }
        }
      ]
    },
    {
      "cell_type": "markdown",
      "metadata": {
        "id": "9xW7fuUWf8rG"
      },
      "source": [
        "> There is an increase of show-up rate with diabetic males and females who "
      ]
    },
    {
      "cell_type": "markdown",
      "metadata": {
        "id": "Wcqb-5dXJAmG"
      },
      "source": [
        "### Relation of showing up wrt gender and hypertension"
      ]
    },
    {
      "cell_type": "code",
      "metadata": {
        "colab": {
          "base_uri": "https://localhost:8080/",
          "height": 613
        },
        "id": "ygG8QOvwRQaF",
        "outputId": "723a3447-250b-49da-e036-5a3ce2fba0e5"
      },
      "source": [
        "rel_with_gender(_feature='hypertension',_title='Relation of showing up wrt gender and hypertension\\n',legend_title='Hypertension')"
      ],
      "execution_count": 43,
      "outputs": [
        {
          "output_type": "display_data",
          "data": {
            "text/html": [
              "<div>\n",
              "<style scoped>\n",
              "    .dataframe tbody tr th:only-of-type {\n",
              "        vertical-align: middle;\n",
              "    }\n",
              "\n",
              "    .dataframe tbody tr th {\n",
              "        vertical-align: top;\n",
              "    }\n",
              "\n",
              "    .dataframe thead th {\n",
              "        text-align: right;\n",
              "    }\n",
              "</style>\n",
              "<table border=\"1\" class=\"dataframe\">\n",
              "  <thead>\n",
              "    <tr style=\"text-align: right;\">\n",
              "      <th></th>\n",
              "      <th>gender</th>\n",
              "      <th>hypertension</th>\n",
              "      <th>show</th>\n",
              "    </tr>\n",
              "  </thead>\n",
              "  <tbody>\n",
              "    <tr>\n",
              "      <th>0</th>\n",
              "      <td>F</td>\n",
              "      <td>0</td>\n",
              "      <td>78.876755</td>\n",
              "    </tr>\n",
              "    <tr>\n",
              "      <th>1</th>\n",
              "      <td>F</td>\n",
              "      <td>1</td>\n",
              "      <td>82.678141</td>\n",
              "    </tr>\n",
              "    <tr>\n",
              "      <th>2</th>\n",
              "      <td>M</td>\n",
              "      <td>0</td>\n",
              "      <td>79.492909</td>\n",
              "    </tr>\n",
              "    <tr>\n",
              "      <th>3</th>\n",
              "      <td>M</td>\n",
              "      <td>1</td>\n",
              "      <td>82.745280</td>\n",
              "    </tr>\n",
              "  </tbody>\n",
              "</table>\n",
              "</div>"
            ],
            "text/plain": [
              "  gender  hypertension       show\n",
              "0      F             0  78.876755\n",
              "1      F             1  82.678141\n",
              "2      M             0  79.492909\n",
              "3      M             1  82.745280"
            ]
          },
          "metadata": {
            "tags": []
          }
        },
        {
          "output_type": "stream",
          "text": [
            "\n",
            "\n"
          ],
          "name": "stdout"
        },
        {
          "output_type": "display_data",
          "data": {
            "image/png": "[encoded data removed]",
            "text/plain": [
              "<Figure size 560x420 with 1 Axes>"
            ]
          },
          "metadata": {
            "tags": [],
            "needs_background": "light"
          }
        }
      ]
    },
    {
      "cell_type": "markdown",
      "metadata": {
        "id": "rZDZUa1IgEmT"
      },
      "source": [
        "> There is an increase of show-up rate with males and females who have hypertension"
      ]
    },
    {
      "cell_type": "markdown",
      "metadata": {
        "id": "MdBS29qlcb-l"
      },
      "source": [
        "### Relation of showing up wrt gender and Handicap\n"
      ]
    },
    {
      "cell_type": "markdown",
      "metadata": {
        "id": "triGohxBj6gf"
      },
      "source": [
        "#### Converting values in handicap to boolean values(0-non-handicap and 1-handicap)"
      ]
    },
    {
      "cell_type": "code",
      "metadata": {
        "colab": {
          "base_uri": "https://localhost:8080/"
        },
        "id": "2o43UASzcpUN",
        "outputId": "4d273814-c79f-420c-960d-10ba6d2323ab"
      },
      "source": [
        "df.handicap.unique()"
      ],
      "execution_count": 44,
      "outputs": [
        {
          "output_type": "execute_result",
          "data": {
            "text/plain": [
              "array([0, 1, 2, 3, 4])"
            ]
          },
          "metadata": {
            "tags": []
          },
          "execution_count": 44
        }
      ]
    },
    {
      "cell_type": "code",
      "metadata": {
        "id": "xGYp-0Wkc8Pz"
      },
      "source": [
        "df.handicap = df.handicap.map({0:0, 1:1, 2:1, 3:1, 4:1})"
      ],
      "execution_count": 45,
      "outputs": []
    },
    {
      "cell_type": "code",
      "metadata": {
        "colab": {
          "base_uri": "https://localhost:8080/"
        },
        "id": "LrLWEzEFdWn-",
        "outputId": "96e015c7-7bf3-4b85-8c22-ee65d44ce5ae"
      },
      "source": [
        "df.handicap.unique()"
      ],
      "execution_count": 46,
      "outputs": [
        {
          "output_type": "execute_result",
          "data": {
            "text/plain": [
              "array([0, 1])"
            ]
          },
          "metadata": {
            "tags": []
          },
          "execution_count": 46
        }
      ]
    },
    {
      "cell_type": "code",
      "metadata": {
        "colab": {
          "base_uri": "https://localhost:8080/",
          "height": 613
        },
        "id": "cSEcMxd3dZO5",
        "outputId": "f1a42f3a-04b2-45c3-8860-5d51dd283c01"
      },
      "source": [
        "rel_with_gender(_feature='handicap',_title='Relation of showing up wrt gender and handicap\\n',legend_title='Handicap')"
      ],
      "execution_count": 47,
      "outputs": [
        {
          "output_type": "display_data",
          "data": {
            "text/html": [
              "<div>\n",
              "<style scoped>\n",
              "    .dataframe tbody tr th:only-of-type {\n",
              "        vertical-align: middle;\n",
              "    }\n",
              "\n",
              "    .dataframe tbody tr th {\n",
              "        vertical-align: top;\n",
              "    }\n",
              "\n",
              "    .dataframe thead th {\n",
              "        text-align: right;\n",
              "    }\n",
              "</style>\n",
              "<table border=\"1\" class=\"dataframe\">\n",
              "  <thead>\n",
              "    <tr style=\"text-align: right;\">\n",
              "      <th></th>\n",
              "      <th>gender</th>\n",
              "      <th>handicap</th>\n",
              "      <th>show</th>\n",
              "    </tr>\n",
              "  </thead>\n",
              "  <tbody>\n",
              "    <tr>\n",
              "      <th>0</th>\n",
              "      <td>F</td>\n",
              "      <td>0</td>\n",
              "      <td>79.660368</td>\n",
              "    </tr>\n",
              "    <tr>\n",
              "      <th>1</th>\n",
              "      <td>F</td>\n",
              "      <td>1</td>\n",
              "      <td>81.225756</td>\n",
              "    </tr>\n",
              "    <tr>\n",
              "      <th>2</th>\n",
              "      <td>M</td>\n",
              "      <td>0</td>\n",
              "      <td>79.965549</td>\n",
              "    </tr>\n",
              "    <tr>\n",
              "      <th>3</th>\n",
              "      <td>M</td>\n",
              "      <td>1</td>\n",
              "      <td>82.842105</td>\n",
              "    </tr>\n",
              "  </tbody>\n",
              "</table>\n",
              "</div>"
            ],
            "text/plain": [
              "  gender  handicap       show\n",
              "0      F         0  79.660368\n",
              "1      F         1  81.225756\n",
              "2      M         0  79.965549\n",
              "3      M         1  82.842105"
            ]
          },
          "metadata": {
            "tags": []
          }
        },
        {
          "output_type": "stream",
          "text": [
            "\n",
            "\n"
          ],
          "name": "stdout"
        },
        {
          "output_type": "display_data",
          "data": {
            "image/png": "[encoded data removed]",
            "text/plain": [
              "<Figure size 560x420 with 1 Axes>"
            ]
          },
          "metadata": {
            "tags": [],
            "needs_background": "light"
          }
        }
      ]
    },
    {
      "cell_type": "markdown",
      "metadata": {
        "id": "n9zXSqXojrY3"
      },
      "source": [
        "> There is an increase of show-up rate with males and females who have disabilities"
      ]
    },
    {
      "cell_type": "markdown",
      "metadata": {
        "id": "l0wvEBQqjWuy"
      },
      "source": [
        "### Relation of showing up wrt gender and scholarship"
      ]
    },
    {
      "cell_type": "code",
      "metadata": {
        "colab": {
          "base_uri": "https://localhost:8080/",
          "height": 613
        },
        "id": "H45B85TkjWS6",
        "outputId": "902a8986-8027-489e-8f24-8350fb3e2955"
      },
      "source": [
        "rel_with_gender(_feature='scholarship',_title='Relation of showing up wrt gender and scholarship\\n',legend_title='Scholarship')"
      ],
      "execution_count": 48,
      "outputs": [
        {
          "output_type": "display_data",
          "data": {
            "text/html": [
              "<div>\n",
              "<style scoped>\n",
              "    .dataframe tbody tr th:only-of-type {\n",
              "        vertical-align: middle;\n",
              "    }\n",
              "\n",
              "    .dataframe tbody tr th {\n",
              "        vertical-align: top;\n",
              "    }\n",
              "\n",
              "    .dataframe thead th {\n",
              "        text-align: right;\n",
              "    }\n",
              "</style>\n",
              "<table border=\"1\" class=\"dataframe\">\n",
              "  <thead>\n",
              "    <tr style=\"text-align: right;\">\n",
              "      <th></th>\n",
              "      <th>gender</th>\n",
              "      <th>scholarship</th>\n",
              "      <th>show</th>\n",
              "    </tr>\n",
              "  </thead>\n",
              "  <tbody>\n",
              "    <tr>\n",
              "      <th>0</th>\n",
              "      <td>F</td>\n",
              "      <td>0</td>\n",
              "      <td>80.177191</td>\n",
              "    </tr>\n",
              "    <tr>\n",
              "      <th>1</th>\n",
              "      <td>F</td>\n",
              "      <td>1</td>\n",
              "      <td>76.211454</td>\n",
              "    </tr>\n",
              "    <tr>\n",
              "      <th>2</th>\n",
              "      <td>M</td>\n",
              "      <td>0</td>\n",
              "      <td>80.230117</td>\n",
              "    </tr>\n",
              "    <tr>\n",
              "      <th>3</th>\n",
              "      <td>M</td>\n",
              "      <td>1</td>\n",
              "      <td>76.494024</td>\n",
              "    </tr>\n",
              "  </tbody>\n",
              "</table>\n",
              "</div>"
            ],
            "text/plain": [
              "  gender  scholarship       show\n",
              "0      F            0  80.177191\n",
              "1      F            1  76.211454\n",
              "2      M            0  80.230117\n",
              "3      M            1  76.494024"
            ]
          },
          "metadata": {
            "tags": []
          }
        },
        {
          "output_type": "stream",
          "text": [
            "\n",
            "\n"
          ],
          "name": "stdout"
        },
        {
          "output_type": "display_data",
          "data": {
            "image/png": "[encoded data removed]",
            "text/plain": [
              "<Figure size 560x420 with 1 Axes>"
            ]
          },
          "metadata": {
            "tags": [],
            "needs_background": "light"
          }
        }
      ]
    },
    {
      "cell_type": "markdown",
      "metadata": {
        "id": "TdHSsVZEjhGG"
      },
      "source": [
        "> People with scholarship irrespective of their gender are more tend to not show-up for appointment"
      ]
    },
    {
      "cell_type": "markdown",
      "metadata": {
        "id": "vUAnn8KShqH2"
      },
      "source": [
        "### Relation of showing up wrt gender and sms reminder"
      ]
    },
    {
      "cell_type": "code",
      "metadata": {
        "colab": {
          "base_uri": "https://localhost:8080/",
          "height": 613
        },
        "id": "KpN_EOsQhaOo",
        "outputId": "d633f9f0-8573-4a04-e9cc-3417a6024b76"
      },
      "source": [
        "rel_with_gender('sms_received','Relation of showing up wrt gender and sms received\\n','SMS received')"
      ],
      "execution_count": 49,
      "outputs": [
        {
          "output_type": "display_data",
          "data": {
            "text/html": [
              "<div>\n",
              "<style scoped>\n",
              "    .dataframe tbody tr th:only-of-type {\n",
              "        vertical-align: middle;\n",
              "    }\n",
              "\n",
              "    .dataframe tbody tr th {\n",
              "        vertical-align: top;\n",
              "    }\n",
              "\n",
              "    .dataframe thead th {\n",
              "        text-align: right;\n",
              "    }\n",
              "</style>\n",
              "<table border=\"1\" class=\"dataframe\">\n",
              "  <thead>\n",
              "    <tr style=\"text-align: right;\">\n",
              "      <th></th>\n",
              "      <th>gender</th>\n",
              "      <th>sms_received</th>\n",
              "      <th>show</th>\n",
              "    </tr>\n",
              "  </thead>\n",
              "  <tbody>\n",
              "    <tr>\n",
              "      <th>0</th>\n",
              "      <td>F</td>\n",
              "      <td>0</td>\n",
              "      <td>83.476089</td>\n",
              "    </tr>\n",
              "    <tr>\n",
              "      <th>1</th>\n",
              "      <td>F</td>\n",
              "      <td>1</td>\n",
              "      <td>72.233700</td>\n",
              "    </tr>\n",
              "    <tr>\n",
              "      <th>2</th>\n",
              "      <td>M</td>\n",
              "      <td>0</td>\n",
              "      <td>82.999453</td>\n",
              "    </tr>\n",
              "    <tr>\n",
              "      <th>3</th>\n",
              "      <td>M</td>\n",
              "      <td>1</td>\n",
              "      <td>72.836879</td>\n",
              "    </tr>\n",
              "  </tbody>\n",
              "</table>\n",
              "</div>"
            ],
            "text/plain": [
              "  gender  sms_received       show\n",
              "0      F             0  83.476089\n",
              "1      F             1  72.233700\n",
              "2      M             0  82.999453\n",
              "3      M             1  72.836879"
            ]
          },
          "metadata": {
            "tags": []
          }
        },
        {
          "output_type": "stream",
          "text": [
            "\n",
            "\n"
          ],
          "name": "stdout"
        },
        {
          "output_type": "display_data",
          "data": {
            "image/png": "[encoded data removed]",
            "text/plain": [
              "<Figure size 560x420 with 1 Axes>"
            ]
          },
          "metadata": {
            "tags": [],
            "needs_background": "light"
          }
        }
      ]
    },
    {
      "cell_type": "markdown",
      "metadata": {
        "id": "91l1OF4PiI_3"
      },
      "source": [
        "> It is evident from above graph people who got sms reminders irrespective of their gender were the ones with less show-up rate"
      ]
    },
    {
      "cell_type": "markdown",
      "metadata": {
        "id": "I_CNHEcq1hLx"
      },
      "source": [
        "# Age \n",
        "How age can determine not showing to the appointment"
      ]
    },
    {
      "cell_type": "code",
      "metadata": {
        "colab": {
          "base_uri": "https://localhost:8080/"
        },
        "id": "BRbJd_mel34m",
        "outputId": "3dd3a6fc-3ea0-4cde-ff16-af1c98b4ca2c"
      },
      "source": [
        "df.age.describe()"
      ],
      "execution_count": 275,
      "outputs": [
        {
          "output_type": "execute_result",
          "data": {
            "text/plain": [
              "count    110521.000000\n",
              "mean         37.089386\n",
              "std          23.109885\n",
              "min           0.000000\n",
              "25%          18.000000\n",
              "50%          37.000000\n",
              "75%          55.000000\n",
              "max         115.000000\n",
              "Name: age, dtype: float64"
            ]
          },
          "metadata": {
            "tags": []
          },
          "execution_count": 275
        }
      ]
    },
    {
      "cell_type": "markdown",
      "metadata": {
        "id": "bdccaJW3mlEo"
      },
      "source": [
        "## Converting ages to groups of age ranges. \n",
        "Ranges are made based on five number summary(min,first-quartile,median,second-quartile,max)"
      ]
    },
    {
      "cell_type": "code",
      "metadata": {
        "id": "WOxM8uhi6PE2"
      },
      "source": [
        "def ranges(feature,bins_edges,bins_names):\n",
        "  check_df[feature] = df[feature]\n",
        "  arr = check_df[feature]\n",
        "  \n",
        "  display(bins_edges)\n",
        "  display(bins_names)\n",
        "\n",
        "  check_df[feature] = pd.cut(x=arr,bins=bins_edges,labels=bins_names)"
      ],
      "execution_count": 324,
      "outputs": []
    },
    {
      "cell_type": "code",
      "metadata": {
        "id": "Hj-oUMJO_zo7"
      },
      "source": [
        "def create_bar_plot(_feature,_title,x_label):\n",
        "  extracted_df = pd.pivot_table(data=check_df,index=_feature,values='show')\n",
        "  extracted_df.show = extracted_df.show*100\n",
        "  extracted_df.reset_index(inplace=True)\n",
        "\n",
        "  display(extracted_df)\n",
        "\n",
        "  # To set figure size \n",
        "  plt.figure(figsize=(8,6),dpi=70)\n",
        "  \n",
        "  # To make bar plot\n",
        "  graph = sns.barplot(data=extracted_df,x=_feature,y='show');\n",
        "\n",
        "  # To add padding b/w axis and ticks\n",
        "  graph.xaxis.set_tick_params(pad = 10)\n",
        "  graph.yaxis.set_tick_params(pad = 3)\n",
        "  graph.tick_params(bottom=False)\n",
        "\n",
        "  graph.set_xlabel(x_label,fontsize=13)\n",
        "  graph.set_ylabel('% of people who showed up',fontsize=13)\n",
        "  graph.set_title(_title,fontsize=16)\n",
        "\n",
        "  # To set y-axis limits\n",
        "  graph.set_ylim(0,90)\n",
        "\n",
        "  # To remove spines \n",
        "  sns.despine( left=True, bottom=True)\n",
        "\n",
        "  print('\\n')\n",
        "  # TO DO: Add padding between axes and labels\n",
        "  plt.show(graph)\n"
      ],
      "execution_count": 335,
      "outputs": []
    },
    {
      "cell_type": "markdown",
      "metadata": {
        "id": "nSjRzLmSC07c"
      },
      "source": [
        "Age Interval - 25"
      ]
    },
    {
      "cell_type": "code",
      "metadata": {
        "colab": {
          "base_uri": "https://localhost:8080/",
          "height": 647
        },
        "id": "GTnebo9iCxaf",
        "outputId": "79f56342-cd34-4957-a72e-9c34ecbed039"
      },
      "source": [
        "feature = 'age'\n",
        "bins_edges = [0,18,37,55,115]\n",
        "bins_names = ['Children','Youth','Adult','Senior']\n",
        "ranges(feature,bins_edges,bins_names)\n",
        "create_bar_plot(_feature=feature,_title='Relation of showing up wrt to different age groups\\n',x_label='Different Age Groups')"
      ],
      "execution_count": 337,
      "outputs": [
        {
          "output_type": "display_data",
          "data": {
            "text/plain": [
              "[0, 18, 37, 55, 115]"
            ]
          },
          "metadata": {
            "tags": []
          }
        },
        {
          "output_type": "display_data",
          "data": {
            "text/plain": [
              "['Children', 'Youth', 'Adult', 'Senior']"
            ]
          },
          "metadata": {
            "tags": []
          }
        },
        {
          "output_type": "display_data",
          "data": {
            "text/html": [
              "<div>\n",
              "<style scoped>\n",
              "    .dataframe tbody tr th:only-of-type {\n",
              "        vertical-align: middle;\n",
              "    }\n",
              "\n",
              "    .dataframe tbody tr th {\n",
              "        vertical-align: top;\n",
              "    }\n",
              "\n",
              "    .dataframe thead th {\n",
              "        text-align: right;\n",
              "    }\n",
              "</style>\n",
              "<table border=\"1\" class=\"dataframe\">\n",
              "  <thead>\n",
              "    <tr style=\"text-align: right;\">\n",
              "      <th></th>\n",
              "      <th>age</th>\n",
              "      <th>show</th>\n",
              "    </tr>\n",
              "  </thead>\n",
              "  <tbody>\n",
              "    <tr>\n",
              "      <th>0</th>\n",
              "      <td>Children</td>\n",
              "      <td>77.465845</td>\n",
              "    </tr>\n",
              "    <tr>\n",
              "      <th>1</th>\n",
              "      <td>Youth</td>\n",
              "      <td>76.467998</td>\n",
              "    </tr>\n",
              "    <tr>\n",
              "      <th>2</th>\n",
              "      <td>Adult</td>\n",
              "      <td>80.472031</td>\n",
              "    </tr>\n",
              "    <tr>\n",
              "      <th>3</th>\n",
              "      <td>Senior</td>\n",
              "      <td>84.358070</td>\n",
              "    </tr>\n",
              "  </tbody>\n",
              "</table>\n",
              "</div>"
            ],
            "text/plain": [
              "        age       show\n",
              "0  Children  77.465845\n",
              "1     Youth  76.467998\n",
              "2     Adult  80.472031\n",
              "3    Senior  84.358070"
            ]
          },
          "metadata": {
            "tags": []
          }
        },
        {
          "output_type": "stream",
          "text": [
            "\n",
            "\n"
          ],
          "name": "stdout"
        },
        {
          "output_type": "display_data",
          "data": {
            "image/png": "[encoded data removed]",
            "text/plain": [
              "<Figure size 560x420 with 1 Axes>"
            ]
          },
          "metadata": {
            "tags": [],
            "needs_background": "light"
          }
        }
      ]
    },
    {
      "cell_type": "markdown",
      "metadata": {
        "id": "cvFpVqUyqZXS"
      },
      "source": [
        "Ranges on the basis of standard deviation"
      ]
    },
    {
      "cell_type": "code",
      "metadata": {
        "colab": {
          "base_uri": "https://localhost:8080/",
          "height": 647
        },
        "id": "03L8_z7_qMQN",
        "outputId": "d66ac073-1b5f-4d9f-bba9-695b0d3f49bd"
      },
      "source": [
        "feature = 'age'\n",
        "bins_edges = [0,23,46,69,92]\n",
        "bins_names = ['Children','Youth','Adult','Senior']\n",
        "ranges(feature,bins_edges,bins_names)\n",
        "create_bar_plot(_feature=feature,_title='Relation of showing up wrt to different age groups\\n',x_label='Different Age Groups')"
      ],
      "execution_count": 338,
      "outputs": [
        {
          "output_type": "display_data",
          "data": {
            "text/plain": [
              "[0, 23, 46, 69, 92]"
            ]
          },
          "metadata": {
            "tags": []
          }
        },
        {
          "output_type": "display_data",
          "data": {
            "text/plain": [
              "['Children', 'Youth', 'Adult', 'Senior']"
            ]
          },
          "metadata": {
            "tags": []
          }
        },
        {
          "output_type": "display_data",
          "data": {
            "text/html": [
              "<div>\n",
              "<style scoped>\n",
              "    .dataframe tbody tr th:only-of-type {\n",
              "        vertical-align: middle;\n",
              "    }\n",
              "\n",
              "    .dataframe tbody tr th {\n",
              "        vertical-align: top;\n",
              "    }\n",
              "\n",
              "    .dataframe thead th {\n",
              "        text-align: right;\n",
              "    }\n",
              "</style>\n",
              "<table border=\"1\" class=\"dataframe\">\n",
              "  <thead>\n",
              "    <tr style=\"text-align: right;\">\n",
              "      <th></th>\n",
              "      <th>age</th>\n",
              "      <th>show</th>\n",
              "    </tr>\n",
              "  </thead>\n",
              "  <tbody>\n",
              "    <tr>\n",
              "      <th>0</th>\n",
              "      <td>Children</td>\n",
              "      <td>76.901764</td>\n",
              "    </tr>\n",
              "    <tr>\n",
              "      <th>1</th>\n",
              "      <td>Youth</td>\n",
              "      <td>77.833974</td>\n",
              "    </tr>\n",
              "    <tr>\n",
              "      <th>2</th>\n",
              "      <td>Adult</td>\n",
              "      <td>83.215262</td>\n",
              "    </tr>\n",
              "    <tr>\n",
              "      <th>3</th>\n",
              "      <td>Senior</td>\n",
              "      <td>84.442013</td>\n",
              "    </tr>\n",
              "  </tbody>\n",
              "</table>\n",
              "</div>"
            ],
            "text/plain": [
              "        age       show\n",
              "0  Children  76.901764\n",
              "1     Youth  77.833974\n",
              "2     Adult  83.215262\n",
              "3    Senior  84.442013"
            ]
          },
          "metadata": {
            "tags": []
          }
        },
        {
          "output_type": "stream",
          "text": [
            "\n",
            "\n"
          ],
          "name": "stdout"
        },
        {
          "output_type": "display_data",
          "data": {
            "image/png": "[encoded data removed]",
            "text/plain": [
              "<Figure size 560x420 with 1 Axes>"
            ]
          },
          "metadata": {
            "tags": [],
            "needs_background": "light"
          }
        }
      ]
    },
    {
      "cell_type": "markdown",
      "metadata": {
        "id": "sJLu0SWRatit"
      },
      "source": [
        "# Waiting Days"
      ]
    },
    {
      "cell_type": "code",
      "metadata": {
        "id": "N8J5_mXnawGQ"
      },
      "source": [
        "df['waiting_days'] = df.appointment_day - df.scheduled_day"
      ],
      "execution_count": 339,
      "outputs": []
    },
    {
      "cell_type": "code",
      "metadata": {
        "colab": {
          "base_uri": "https://localhost:8080/"
        },
        "id": "ZDPxF4o0kr_H",
        "outputId": "ec56b4e2-c958-4086-a5f7-b699aca59794"
      },
      "source": [
        "df.waiting_days.dtypes"
      ],
      "execution_count": 340,
      "outputs": [
        {
          "output_type": "execute_result",
          "data": {
            "text/plain": [
              "dtype('<m8[ns]')"
            ]
          },
          "metadata": {
            "tags": []
          },
          "execution_count": 340
        }
      ]
    },
    {
      "cell_type": "code",
      "metadata": {
        "id": "Z6IWSa-leMou"
      },
      "source": [
        "df.waiting_days = df.waiting_days.astype('str')\n",
        "df.waiting_days = df.waiting_days.apply(lambda x: x.split()[0])\n",
        "df.waiting_days = df.waiting_days.astype('int')"
      ],
      "execution_count": 341,
      "outputs": []
    },
    {
      "cell_type": "code",
      "metadata": {
        "colab": {
          "base_uri": "https://localhost:8080/"
        },
        "id": "bAdHKYIXiqvL",
        "outputId": "37fcf39d-e124-4d54-b2da-b650ceeb49ea"
      },
      "source": [
        "df.waiting_days.dtypes"
      ],
      "execution_count": 342,
      "outputs": [
        {
          "output_type": "execute_result",
          "data": {
            "text/plain": [
              "dtype('int64')"
            ]
          },
          "metadata": {
            "tags": []
          },
          "execution_count": 342
        }
      ]
    },
    {
      "cell_type": "code",
      "metadata": {
        "colab": {
          "base_uri": "https://localhost:8080/"
        },
        "id": "t13SxstAk5a5",
        "outputId": "fbb71925-764f-4bbf-ab65-d0065ee5d5a9"
      },
      "source": [
        "df.waiting_days.describe()"
      ],
      "execution_count": 343,
      "outputs": [
        {
          "output_type": "execute_result",
          "data": {
            "text/plain": [
              "count    110521.000000\n",
              "mean         10.184345\n",
              "std          15.255153\n",
              "min           0.000000\n",
              "25%           0.000000\n",
              "50%           4.000000\n",
              "75%          15.000000\n",
              "max         179.000000\n",
              "Name: waiting_days, dtype: float64"
            ]
          },
          "metadata": {
            "tags": []
          },
          "execution_count": 343
        }
      ]
    },
    {
      "cell_type": "code",
      "metadata": {
        "colab": {
          "base_uri": "https://localhost:8080/",
          "height": 1000
        },
        "id": "C-UIQ2OnlGqn",
        "outputId": "3bb1db06-1e03-436f-9221-6e84b64a5b7b"
      },
      "source": [
        "feature = 'waiting_days'\n",
        "bins_edges = [0,16,31,46,61,76,91,116,131,146,161,180]\n",
        "bins_names = ['0-15','16-30','31-45','46-60','61-75','76-90','91-115','116-130','131-145','146-160','161-179']\n",
        "ranges(feature,bins_edges,bins_names)\n",
        "create_bar_plot(_feature=feature,_title='Relation of showing up wrt to delay in days of appointment and scheduled day\\n',x_label='Delay in days')"
      ],
      "execution_count": 344,
      "outputs": [
        {
          "output_type": "display_data",
          "data": {
            "text/plain": [
              "[0, 16, 31, 46, 61, 76, 91, 116, 131, 146, 161, 180]"
            ]
          },
          "metadata": {
            "tags": []
          }
        },
        {
          "output_type": "display_data",
          "data": {
            "text/plain": [
              "['0-15',\n",
              " '16-30',\n",
              " '31-45',\n",
              " '46-60',\n",
              " '61-75',\n",
              " '76-90',\n",
              " '91-115',\n",
              " '116-130',\n",
              " '131-145',\n",
              " '146-160',\n",
              " '161-179']"
            ]
          },
          "metadata": {
            "tags": []
          }
        },
        {
          "output_type": "display_data",
          "data": {
            "text/html": [
              "<div>\n",
              "<style scoped>\n",
              "    .dataframe tbody tr th:only-of-type {\n",
              "        vertical-align: middle;\n",
              "    }\n",
              "\n",
              "    .dataframe tbody tr th {\n",
              "        vertical-align: top;\n",
              "    }\n",
              "\n",
              "    .dataframe thead th {\n",
              "        text-align: right;\n",
              "    }\n",
              "</style>\n",
              "<table border=\"1\" class=\"dataframe\">\n",
              "  <thead>\n",
              "    <tr style=\"text-align: right;\">\n",
              "      <th></th>\n",
              "      <th>waiting_days</th>\n",
              "      <th>show</th>\n",
              "    </tr>\n",
              "  </thead>\n",
              "  <tbody>\n",
              "    <tr>\n",
              "      <th>0</th>\n",
              "      <td>0-15</td>\n",
              "      <td>73.777313</td>\n",
              "    </tr>\n",
              "    <tr>\n",
              "      <th>1</th>\n",
              "      <td>16-30</td>\n",
              "      <td>67.327312</td>\n",
              "    </tr>\n",
              "    <tr>\n",
              "      <th>2</th>\n",
              "      <td>31-45</td>\n",
              "      <td>65.317434</td>\n",
              "    </tr>\n",
              "    <tr>\n",
              "      <th>3</th>\n",
              "      <td>46-60</td>\n",
              "      <td>67.912946</td>\n",
              "    </tr>\n",
              "    <tr>\n",
              "      <th>4</th>\n",
              "      <td>61-75</td>\n",
              "      <td>70.997846</td>\n",
              "    </tr>\n",
              "    <tr>\n",
              "      <th>5</th>\n",
              "      <td>76-90</td>\n",
              "      <td>71.182266</td>\n",
              "    </tr>\n",
              "    <tr>\n",
              "      <th>6</th>\n",
              "      <td>91-115</td>\n",
              "      <td>78.873239</td>\n",
              "    </tr>\n",
              "    <tr>\n",
              "      <th>7</th>\n",
              "      <td>116-130</td>\n",
              "      <td>91.666667</td>\n",
              "    </tr>\n",
              "    <tr>\n",
              "      <th>8</th>\n",
              "      <td>131-145</td>\n",
              "      <td>54.545455</td>\n",
              "    </tr>\n",
              "    <tr>\n",
              "      <th>9</th>\n",
              "      <td>146-160</td>\n",
              "      <td>36.363636</td>\n",
              "    </tr>\n",
              "    <tr>\n",
              "      <th>10</th>\n",
              "      <td>161-179</td>\n",
              "      <td>75.555556</td>\n",
              "    </tr>\n",
              "  </tbody>\n",
              "</table>\n",
              "</div>"
            ],
            "text/plain": [
              "   waiting_days       show\n",
              "0          0-15  73.777313\n",
              "1         16-30  67.327312\n",
              "2         31-45  65.317434\n",
              "3         46-60  67.912946\n",
              "4         61-75  70.997846\n",
              "5         76-90  71.182266\n",
              "6        91-115  78.873239\n",
              "7       116-130  91.666667\n",
              "8       131-145  54.545455\n",
              "9       146-160  36.363636\n",
              "10      161-179  75.555556"
            ]
          },
          "metadata": {
            "tags": []
          }
        },
        {
          "output_type": "stream",
          "text": [
            "\n",
            "\n"
          ],
          "name": "stdout"
        },
        {
          "output_type": "display_data",
          "data": {
            "image/png": "[encoded data removed]",
            "text/plain": [
              "<Figure size 560x420 with 1 Axes>"
            ]
          },
          "metadata": {
            "tags": [],
            "needs_background": "light"
          }
        }
      ]
    },
    {
      "cell_type": "markdown",
      "metadata": {
        "id": "_jWkcJ9e05Fq"
      },
      "source": [
        "# Conclusion"
      ]
    },
    {
      "cell_type": "markdown",
      "metadata": {
        "id": "6QdaSperKHOb"
      },
      "source": [
        "# Limitations"
      ]
    },
    {
      "cell_type": "markdown",
      "metadata": {
        "id": "-WrRKbrfEa78"
      },
      "source": [
        "\n",
        ">Appointment Time in all the rows is same that is 00:00:00.\n",
        ">>If appointment time was specified properly then we could have \n",
        "find time intervals over which people prefer to miss scheduled appointment"
      ]
    },
    {
      "cell_type": "markdown",
      "metadata": {
        "id": "QJGgAiP_EkhE"
      },
      "source": [
        "> Handicap section has five different values(0,1,2,3,4) but on Kaggle author describes it as column with boolean values where 0 represents person with no-handicap and 1 with handicap.\n",
        ">> We have assumed that 1,2,3,4 are handicaps and changed them all to 1 to represent person with handicap. While 0 represents person with no handicap."
      ]
    }
  ]
}