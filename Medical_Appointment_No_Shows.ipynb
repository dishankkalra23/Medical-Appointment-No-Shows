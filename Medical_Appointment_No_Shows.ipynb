{
  "nbformat": 4,
  "nbformat_minor": 0,
  "metadata": {
    "kernelspec": {
      "display_name": "Python [default]",
      "language": "python",
      "name": "python3"
    },
    "language_info": {
      "codemirror_mode": {
        "name": "ipython",
        "version": 3
      },
      "file_extension": ".py",
      "mimetype": "text/x-python",
      "name": "python",
      "nbconvert_exporter": "python",
      "pygments_lexer": "ipython3",
      "version": "3.5.3"
    },
    "colab": {
      "name": "Medical-Appointment-No-Shows.ipynb",
      "provenance": [],
      "collapsed_sections": [],
      "toc_visible": true,
      "include_colab_link": true
    },
    "accelerator": "TPU"
  },
  "cells": [
    {
      "cell_type": "markdown",
      "metadata": {
        "id": "view-in-github",
        "colab_type": "text"
      },
      "source": [
        "<a href=\"https://colab.research.google.com/github/dishankkalra23/Medical-Appointment-No-Shows/blob/main/Medical_Appointment_No_Shows.ipynb\" target=\"_parent\"><img src=\"https://colab.research.google.com/assets/colab-badge.svg\" alt=\"Open In Colab\"/></a>"
      ]
    },
    {
      "cell_type": "markdown",
      "metadata": {
        "id": "BmfbjWRNOPeO"
      },
      "source": [
        "# Project: Medical Appointment No Shows"
      ]
    },
    {
      "cell_type": "markdown",
      "metadata": {
        "colab_type": "toc",
        "id": "tAhGZL4ucyhU"
      },
      "source": [
        ">[Project: Medical Appointment No Shows](#scrollTo=BmfbjWRNOPeO)\n",
        "\n",
        ">>>[Importing Libraries](#scrollTo=zy3dSfeNPPCc)\n",
        "\n",
        ">>>[Downloading dataset](#scrollTo=by5KNcWYVbXS)\n",
        "\n",
        ">>>[Loading dataset](#scrollTo=N14ODJZWXEZd)\n",
        "\n",
        ">[Data Wrangling](#scrollTo=zzG5_tl6_OJF)\n",
        "\n",
        ">>[Making new column Scheduled time](#scrollTo=kislWLDHJly8)\n",
        "\n",
        ">>[Rename columns](#scrollTo=HaJI_xlfgW12)\n",
        "\n",
        ">>[Changing no_show(to show) column to avoid misconception and easily understandable](#scrollTo=FHgwFcz7kNr4)\n",
        "\n",
        ">>[Appointment day(day on which pateint has to visit doctor) is before Scheduled Day](#scrollTo=TVfMxC9B8vOC)\n",
        "\n",
        ">>[Duplicates in data](#scrollTo=KLgc2zuUrD_9)\n",
        "\n",
        ">[Exploratory Data Analysis](#scrollTo=rMEMqZ45HXKF)\n",
        "\n",
        ">>>[Descriptive statistics](#scrollTo=m9SF62eI4sAD)\n",
        "\n",
        ">>>[Correlation b/w columns of dataset](#scrollTo=67sSwwka4l20)\n",
        "\n",
        ">>[Gender](#scrollTo=WcgzTUpVHeBB)\n",
        "\n",
        ">>>[No of males and females that showed up at appointment](#scrollTo=doajAKAP26Mk)\n",
        "\n",
        ">>>[Total number of males and females in dataset](#scrollTo=tHoAOmv-3JX0)\n",
        "\n",
        ">>>[Proportion of male and female patients](#scrollTo=VCkc-mqi3amn)\n",
        "\n",
        ">>>[Proportion of male and female patients to show up for scheduled appointment](#scrollTo=25FL_9Ak3ixH)\n",
        "\n",
        ">>>[Converting males and femlaes to quantative variable to find correlation with other features in dataset](#scrollTo=Vvf1k8jF6sFU)\n",
        "\n",
        ">>>[Function to find relationship b/w gender and different features](#scrollTo=Bo37oz8VR6jn)\n",
        "\n",
        ">>>[Relation of showing up wrt gender and alcoholism](#scrollTo=7_wdoUDOR3z6)\n",
        "\n",
        ">>>[Relation of showing up wrt gender and diabetes](#scrollTo=tEShAcy__WCg)\n",
        "\n",
        ">>>[Relation of showing up wrt gender and hypertension](#scrollTo=Wcqb-5dXJAmG)\n",
        "\n",
        ">>>[Relation of showing up wrt gender and Handicap](#scrollTo=MdBS29qlcb-l)\n",
        "\n",
        ">>>>[Converting values in handicap to boolean values(0-non-handicap and 1-handicap)](#scrollTo=triGohxBj6gf)\n",
        "\n",
        ">>>[Relation of showing up wrt gender and scholarship](#scrollTo=l0wvEBQqjWuy)\n",
        "\n",
        ">>>[Relation of showing up wrt gender and sms reminder](#scrollTo=vUAnn8KShqH2)\n",
        "\n",
        ">[Age](#scrollTo=I_CNHEcq1hLx)\n",
        "\n",
        ">>[Patients with age above 100 are total 7.](#scrollTo=3RnWhPpTbQaq)\n",
        "\n",
        ">>[Converting ages to groups of age ranges.](#scrollTo=bdccaJW3mlEo)\n",
        "\n",
        ">[Waiting Days](#scrollTo=sJLu0SWRatit)\n",
        "\n",
        ">[Neighbourhood](#scrollTo=dRe7WyNYFttN)\n",
        "\n",
        ">>[Sorting dataframe on the basis of show-up rate](#scrollTo=sow26gafNr2p)\n",
        "\n",
        ">>[Neighbourhood where show-up rate is high](#scrollTo=WQD_HHoHMmGy)\n",
        "\n",
        ">>[Neighbourhood where show-up rate is low](#scrollTo=EmJdhv9WMv2h)\n",
        "\n",
        ">[Day of the week](#scrollTo=mwH-m6BSLNcd)\n",
        "\n",
        ">[Conclusion](#scrollTo=_jWkcJ9e05Fq)\n",
        "\n",
        ">[Limitations](#scrollTo=6QdaSperKHOb)\n",
        "\n"
      ]
    },
    {
      "cell_type": "markdown",
      "metadata": {
        "id": "zy3dSfeNPPCc"
      },
      "source": [
        "### Importing Libraries"
      ]
    },
    {
      "cell_type": "code",
      "metadata": {
        "collapsed": true,
        "id": "pXIP6ChHOPeY"
      },
      "source": [
        "import pandas as pd\n",
        "import numpy as np\n",
        "import matplotlib.pyplot as plt\n",
        "import seaborn as sns"
      ],
      "execution_count": 1,
      "outputs": []
    },
    {
      "cell_type": "markdown",
      "metadata": {
        "id": "by5KNcWYVbXS"
      },
      "source": [
        "### Downloading dataset"
      ]
    },
    {
      "cell_type": "code",
      "metadata": {
        "id": "tCJ94esSR6IL"
      },
      "source": [
        "! pip install -q kaggle"
      ],
      "execution_count": 2,
      "outputs": []
    },
    {
      "cell_type": "code",
      "metadata": {
        "id": "0sONxJqfR8eS"
      },
      "source": [
        "# Upload your kaggle.json file containing API token\n",
        "from google.colab import files\n",
        "files.upload()"
      ],
      "execution_count": null,
      "outputs": []
    },
    {
      "cell_type": "code",
      "metadata": {
        "id": "rg7MqSGFWEEv"
      },
      "source": [
        "# Move the downloaded file to a location ~/.kaggle/kaggle.json\n",
        "! mkdir ~/.kaggle\n",
        "! cp kaggle.json ~/.kaggle/\n",
        "\n",
        "# You need to give proper permissions to the file (since this is a hidden folder)\n",
        "! chmod 600 ~/.kaggle/kaggle.json"
      ],
      "execution_count": 4,
      "outputs": []
    },
    {
      "cell_type": "code",
      "metadata": {
        "colab": {
          "base_uri": "https://localhost:8080/"
        },
        "id": "2G-QoXUsWKAu",
        "outputId": "d4b4176f-388d-4538-dcad-8b7e77703682"
      },
      "source": [
        "# Copy API command to download dataset\n",
        "! kaggle datasets download -d joniarroba/noshowappointments\n",
        "! unzip \\*.zip\n",
        "! rm *.zip"
      ],
      "execution_count": 5,
      "outputs": [
        {
          "output_type": "stream",
          "text": [
            "Downloading noshowappointments.zip to /content\n",
            "\r  0% 0.00/2.40M [00:00<?, ?B/s]\n",
            "\r100% 2.40M/2.40M [00:00<00:00, 39.1MB/s]\n",
            "Archive:  noshowappointments.zip\n",
            "  inflating: KaggleV2-May-2016.csv   \n"
          ],
          "name": "stdout"
        }
      ]
    },
    {
      "cell_type": "markdown",
      "metadata": {
        "id": "N14ODJZWXEZd"
      },
      "source": [
        "### Loading dataset"
      ]
    },
    {
      "cell_type": "code",
      "metadata": {
        "collapsed": true,
        "id": "FPn5EbIKOPeb"
      },
      "source": [
        "df = pd.read_csv('/content/KaggleV2-May-2016.csv')"
      ],
      "execution_count": 6,
      "outputs": []
    },
    {
      "cell_type": "code",
      "metadata": {
        "colab": {
          "base_uri": "https://localhost:8080/",
          "height": 326
        },
        "id": "IwKrGeK_XQX6",
        "outputId": "eb213fe8-102c-4b97-806e-a2f72881d3eb"
      },
      "source": [
        "df.sample(5)"
      ],
      "execution_count": 7,
      "outputs": [
        {
          "output_type": "execute_result",
          "data": {
            "text/html": [
              "<div>\n",
              "<style scoped>\n",
              "    .dataframe tbody tr th:only-of-type {\n",
              "        vertical-align: middle;\n",
              "    }\n",
              "\n",
              "    .dataframe tbody tr th {\n",
              "        vertical-align: top;\n",
              "    }\n",
              "\n",
              "    .dataframe thead th {\n",
              "        text-align: right;\n",
              "    }\n",
              "</style>\n",
              "<table border=\"1\" class=\"dataframe\">\n",
              "  <thead>\n",
              "    <tr style=\"text-align: right;\">\n",
              "      <th></th>\n",
              "      <th>PatientId</th>\n",
              "      <th>AppointmentID</th>\n",
              "      <th>Gender</th>\n",
              "      <th>ScheduledDay</th>\n",
              "      <th>AppointmentDay</th>\n",
              "      <th>Age</th>\n",
              "      <th>Neighbourhood</th>\n",
              "      <th>Scholarship</th>\n",
              "      <th>Hipertension</th>\n",
              "      <th>Diabetes</th>\n",
              "      <th>Alcoholism</th>\n",
              "      <th>Handcap</th>\n",
              "      <th>SMS_received</th>\n",
              "      <th>No-show</th>\n",
              "    </tr>\n",
              "  </thead>\n",
              "  <tbody>\n",
              "    <tr>\n",
              "      <th>52288</th>\n",
              "      <td>2.347479e+12</td>\n",
              "      <td>5665118</td>\n",
              "      <td>M</td>\n",
              "      <td>2016-05-05T13:58:25Z</td>\n",
              "      <td>2016-05-09T00:00:00Z</td>\n",
              "      <td>73</td>\n",
              "      <td>INHANGUETÁ</td>\n",
              "      <td>0</td>\n",
              "      <td>1</td>\n",
              "      <td>0</td>\n",
              "      <td>0</td>\n",
              "      <td>0</td>\n",
              "      <td>0</td>\n",
              "      <td>No</td>\n",
              "    </tr>\n",
              "    <tr>\n",
              "      <th>69394</th>\n",
              "      <td>3.927849e+14</td>\n",
              "      <td>5693559</td>\n",
              "      <td>F</td>\n",
              "      <td>2016-05-13T07:24:57Z</td>\n",
              "      <td>2016-05-24T00:00:00Z</td>\n",
              "      <td>31</td>\n",
              "      <td>SÃO CRISTÓVÃO</td>\n",
              "      <td>0</td>\n",
              "      <td>0</td>\n",
              "      <td>0</td>\n",
              "      <td>0</td>\n",
              "      <td>0</td>\n",
              "      <td>1</td>\n",
              "      <td>Yes</td>\n",
              "    </tr>\n",
              "    <tr>\n",
              "      <th>107506</th>\n",
              "      <td>6.968155e+13</td>\n",
              "      <td>5786501</td>\n",
              "      <td>M</td>\n",
              "      <td>2016-06-08T08:30:33Z</td>\n",
              "      <td>2016-06-08T00:00:00Z</td>\n",
              "      <td>19</td>\n",
              "      <td>NOVA PALESTINA</td>\n",
              "      <td>0</td>\n",
              "      <td>0</td>\n",
              "      <td>0</td>\n",
              "      <td>0</td>\n",
              "      <td>0</td>\n",
              "      <td>0</td>\n",
              "      <td>No</td>\n",
              "    </tr>\n",
              "    <tr>\n",
              "      <th>54974</th>\n",
              "      <td>3.813885e+13</td>\n",
              "      <td>5645588</td>\n",
              "      <td>F</td>\n",
              "      <td>2016-05-02T10:06:37Z</td>\n",
              "      <td>2016-05-02T00:00:00Z</td>\n",
              "      <td>0</td>\n",
              "      <td>BONFIM</td>\n",
              "      <td>0</td>\n",
              "      <td>0</td>\n",
              "      <td>0</td>\n",
              "      <td>0</td>\n",
              "      <td>0</td>\n",
              "      <td>0</td>\n",
              "      <td>No</td>\n",
              "    </tr>\n",
              "    <tr>\n",
              "      <th>65228</th>\n",
              "      <td>7.968361e+14</td>\n",
              "      <td>5652736</td>\n",
              "      <td>M</td>\n",
              "      <td>2016-05-03T10:33:45Z</td>\n",
              "      <td>2016-05-03T00:00:00Z</td>\n",
              "      <td>15</td>\n",
              "      <td>JARDIM CAMBURI</td>\n",
              "      <td>0</td>\n",
              "      <td>0</td>\n",
              "      <td>0</td>\n",
              "      <td>0</td>\n",
              "      <td>0</td>\n",
              "      <td>0</td>\n",
              "      <td>No</td>\n",
              "    </tr>\n",
              "  </tbody>\n",
              "</table>\n",
              "</div>"
            ],
            "text/plain": [
              "           PatientId  AppointmentID Gender  ... Handcap SMS_received  No-show\n",
              "52288   2.347479e+12        5665118      M  ...       0            0       No\n",
              "69394   3.927849e+14        5693559      F  ...       0            1      Yes\n",
              "107506  6.968155e+13        5786501      M  ...       0            0       No\n",
              "54974   3.813885e+13        5645588      F  ...       0            0       No\n",
              "65228   7.968361e+14        5652736      M  ...       0            0       No\n",
              "\n",
              "[5 rows x 14 columns]"
            ]
          },
          "metadata": {
            "tags": []
          },
          "execution_count": 7
        }
      ]
    },
    {
      "cell_type": "code",
      "metadata": {
        "colab": {
          "base_uri": "https://localhost:8080/"
        },
        "id": "aae4EobvsOel",
        "outputId": "236ac616-2d84-4989-9dba-416e7a289639"
      },
      "source": [
        "df.info()"
      ],
      "execution_count": 8,
      "outputs": [
        {
          "output_type": "stream",
          "text": [
            "<class 'pandas.core.frame.DataFrame'>\n",
            "RangeIndex: 110527 entries, 0 to 110526\n",
            "Data columns (total 14 columns):\n",
            " #   Column          Non-Null Count   Dtype  \n",
            "---  ------          --------------   -----  \n",
            " 0   PatientId       110527 non-null  float64\n",
            " 1   AppointmentID   110527 non-null  int64  \n",
            " 2   Gender          110527 non-null  object \n",
            " 3   ScheduledDay    110527 non-null  object \n",
            " 4   AppointmentDay  110527 non-null  object \n",
            " 5   Age             110527 non-null  int64  \n",
            " 6   Neighbourhood   110527 non-null  object \n",
            " 7   Scholarship     110527 non-null  int64  \n",
            " 8   Hipertension    110527 non-null  int64  \n",
            " 9   Diabetes        110527 non-null  int64  \n",
            " 10  Alcoholism      110527 non-null  int64  \n",
            " 11  Handcap         110527 non-null  int64  \n",
            " 12  SMS_received    110527 non-null  int64  \n",
            " 13  No-show         110527 non-null  object \n",
            "dtypes: float64(1), int64(8), object(5)\n",
            "memory usage: 11.8+ MB\n"
          ],
          "name": "stdout"
        }
      ]
    },
    {
      "cell_type": "markdown",
      "metadata": {
        "id": "vzAhzp4k10iO"
      },
      "source": [
        "> "
      ]
    },
    {
      "cell_type": "markdown",
      "metadata": {
        "id": "J2h2IAz83j2F"
      },
      "source": [
        "> No missing values in data"
      ]
    },
    {
      "cell_type": "markdown",
      "metadata": {
        "id": "q4xtoEgY3rbG"
      },
      "source": [
        "> **Data type of columns to be fixed,**\n",
        "1. PatientId is the unique id for identification of a patient and float datatype doesn't make sense.\n",
        "2. ScheduledDay and AppointmentDay can be used in analysis if we convert them into date-time format.\n"
      ]
    },
    {
      "cell_type": "markdown",
      "metadata": {
        "id": "zzG5_tl6_OJF"
      },
      "source": [
        "# Data Wrangling"
      ]
    },
    {
      "cell_type": "code",
      "metadata": {
        "colab": {
          "base_uri": "https://localhost:8080/"
        },
        "id": "zh-kkK4G7P_s",
        "outputId": "b37a7e25-cb80-44fe-aca0-70c4ed0d1fc2"
      },
      "source": [
        "df.PatientId = df.PatientId.astype('int')\n",
        "df.PatientId.dtypes"
      ],
      "execution_count": 9,
      "outputs": [
        {
          "output_type": "execute_result",
          "data": {
            "text/plain": [
              "dtype('int64')"
            ]
          },
          "metadata": {
            "tags": []
          },
          "execution_count": 9
        }
      ]
    },
    {
      "cell_type": "code",
      "metadata": {
        "colab": {
          "base_uri": "https://localhost:8080/"
        },
        "id": "o9OD19g8_9Ze",
        "outputId": "669bd58f-d36c-4583-92e3-92ffe6dc9ccb"
      },
      "source": [
        "df.ScheduledDay = pd.to_datetime(df.ScheduledDay)\n",
        "df.AppointmentDay = pd.to_datetime(df.AppointmentDay)\n",
        "df[['ScheduledDay','AppointmentDay']].dtypes"
      ],
      "execution_count": 10,
      "outputs": [
        {
          "output_type": "execute_result",
          "data": {
            "text/plain": [
              "ScheduledDay      datetime64[ns, UTC]\n",
              "AppointmentDay    datetime64[ns, UTC]\n",
              "dtype: object"
            ]
          },
          "metadata": {
            "tags": []
          },
          "execution_count": 10
        }
      ]
    },
    {
      "cell_type": "markdown",
      "metadata": {
        "id": "kislWLDHJly8"
      },
      "source": [
        "## Making new column Scheduled time and Appointment time, day of week, month \n",
        "> Converting ScheduleDate & AppointmentDate column to store dates and ScheduledTime & AppointmentTime to  store time of appointment"
      ]
    },
    {
      "cell_type": "code",
      "metadata": {
        "id": "HnXzHUhiJlPt"
      },
      "source": [
        "df['ScheduledTime'] = pd.to_datetime(df.ScheduledDay).dt.time\n",
        "df['AppointmentTime'] = pd.to_datetime(df.AppointmentDay).dt.time"
      ],
      "execution_count": 11,
      "outputs": []
    },
    {
      "cell_type": "code",
      "metadata": {
        "id": "IMEVtEQXBRAt"
      },
      "source": [
        "df['appointment_dow'] = pd.to_datetime(df.AppointmentDay).dt.day_name()\n",
        "df['appointment_month'] = pd.to_datetime(df.AppointmentDay).dt.month_name()"
      ],
      "execution_count": 12,
      "outputs": []
    },
    {
      "cell_type": "code",
      "metadata": {
        "id": "wwJ42lkJK_M4"
      },
      "source": [
        "df['ScheduledDay'] = df['ScheduledDay'].dt.date\n",
        "df['AppointmentDay'] = df['AppointmentDay'].dt.date"
      ],
      "execution_count": 13,
      "outputs": []
    },
    {
      "cell_type": "code",
      "metadata": {
        "colab": {
          "base_uri": "https://localhost:8080/"
        },
        "id": "vrLXg3W9_2CM",
        "outputId": "250b0f5d-5249-4aa7-cec6-8250427f5280"
      },
      "source": [
        "df.AppointmentTime.sample(5)"
      ],
      "execution_count": 14,
      "outputs": [
        {
          "output_type": "execute_result",
          "data": {
            "text/plain": [
              "99565    00:00:00\n",
              "70709    00:00:00\n",
              "77416    00:00:00\n",
              "49658    00:00:00\n",
              "90791    00:00:00\n",
              "Name: AppointmentTime, dtype: object"
            ]
          },
          "metadata": {
            "tags": []
          },
          "execution_count": 14
        }
      ]
    },
    {
      "cell_type": "code",
      "metadata": {
        "colab": {
          "base_uri": "https://localhost:8080/"
        },
        "id": "o9WQIJtALs42",
        "outputId": "e68f8d7a-3633-40e8-dfd5-ec63ed372197"
      },
      "source": [
        "df.AppointmentTime.nunique()"
      ],
      "execution_count": 15,
      "outputs": [
        {
          "output_type": "execute_result",
          "data": {
            "text/plain": [
              "1"
            ]
          },
          "metadata": {
            "tags": []
          },
          "execution_count": 15
        }
      ]
    },
    {
      "cell_type": "markdown",
      "metadata": {
        "id": "74mbCT-QL9hX"
      },
      "source": [
        "> Appointment Time is 00:00:00 in all the rows, it is not relevant to analysis. Hence dropping AppointmentTime column "
      ]
    },
    {
      "cell_type": "code",
      "metadata": {
        "colab": {
          "base_uri": "https://localhost:8080/"
        },
        "id": "ceIBlz2LQVPJ",
        "outputId": "289d85f8-f461-467d-db0f-085cb39a6992"
      },
      "source": [
        "df.drop(columns='AppointmentTime',inplace=True)\n",
        "df.columns"
      ],
      "execution_count": 16,
      "outputs": [
        {
          "output_type": "execute_result",
          "data": {
            "text/plain": [
              "Index(['PatientId', 'AppointmentID', 'Gender', 'ScheduledDay',\n",
              "       'AppointmentDay', 'Age', 'Neighbourhood', 'Scholarship', 'Hipertension',\n",
              "       'Diabetes', 'Alcoholism', 'Handcap', 'SMS_received', 'No-show',\n",
              "       'ScheduledTime', 'appointment_dow', 'appointment_month'],\n",
              "      dtype='object')"
            ]
          },
          "metadata": {
            "tags": []
          },
          "execution_count": 16
        }
      ]
    },
    {
      "cell_type": "code",
      "metadata": {
        "colab": {
          "base_uri": "https://localhost:8080/"
        },
        "id": "nYCkC4DFOjGq",
        "outputId": "adbc5829-3579-4c53-acbb-636ac0c722e6"
      },
      "source": [
        "df.Age.describe()"
      ],
      "execution_count": 17,
      "outputs": [
        {
          "output_type": "execute_result",
          "data": {
            "text/plain": [
              "count    110527.000000\n",
              "mean         37.088874\n",
              "std          23.110205\n",
              "min          -1.000000\n",
              "25%          18.000000\n",
              "50%          37.000000\n",
              "75%          55.000000\n",
              "max         115.000000\n",
              "Name: Age, dtype: float64"
            ]
          },
          "metadata": {
            "tags": []
          },
          "execution_count": 17
        }
      ]
    },
    {
      "cell_type": "markdown",
      "metadata": {
        "id": "9CwOAcx6QChv"
      },
      "source": [
        "> Age can never be negative, removing rows which have age less than 0"
      ]
    },
    {
      "cell_type": "code",
      "metadata": {
        "colab": {
          "base_uri": "https://localhost:8080/"
        },
        "id": "-oXOeGUMNf2S",
        "outputId": "98559409-5d14-4d71-aed3-1790d5ac71c8"
      },
      "source": [
        "df_less_0 = df.query('Age < 0')\n",
        "df_less_0.Age.count()"
      ],
      "execution_count": 18,
      "outputs": [
        {
          "output_type": "execute_result",
          "data": {
            "text/plain": [
              "1"
            ]
          },
          "metadata": {
            "tags": []
          },
          "execution_count": 18
        }
      ]
    },
    {
      "cell_type": "markdown",
      "metadata": {
        "id": "zaMfsvnnRvCu"
      },
      "source": [
        "> Only single row with age less than 0"
      ]
    },
    {
      "cell_type": "code",
      "metadata": {
        "id": "p1LcZRFsRtG8"
      },
      "source": [
        "df = df.query('Age >= 0')"
      ],
      "execution_count": 19,
      "outputs": []
    },
    {
      "cell_type": "markdown",
      "metadata": {
        "id": "HaJI_xlfgW12"
      },
      "source": [
        "## Rename columns"
      ]
    },
    {
      "cell_type": "code",
      "metadata": {
        "id": "BBF4_wN5hHqg"
      },
      "source": [
        "labels = {'PatientId':\"patient_id\", 'AppointmentID':'appointment_id', 'Gender':'gender', \n",
        "        'ScheduledDay':'scheduled_day',\n",
        "       'AppointmentDay':'appointment_day', 'Age':'age', 'Neighbourhood':'neighbourhood', \n",
        "       'Scholarship':'scholarship', 'Hipertension':'hypertension',\n",
        "       'Diabetes':'diabetes', 'Alcoholism':'alcoholism', 'Handcap':'handicap', \n",
        "       'SMS_received':'sms_received', 'No-show':'show',\n",
        "       'ScheduledTime':'scheduled_time'}\n",
        "df.rename(columns=labels,inplace=True)"
      ],
      "execution_count": 20,
      "outputs": []
    },
    {
      "cell_type": "code",
      "metadata": {
        "colab": {
          "base_uri": "https://localhost:8080/"
        },
        "id": "w6PHw93Gj7HL",
        "outputId": "8b891182-d40e-4a63-e828-a29dea26a3ce"
      },
      "source": [
        "df.columns"
      ],
      "execution_count": 21,
      "outputs": [
        {
          "output_type": "execute_result",
          "data": {
            "text/plain": [
              "Index(['patient_id', 'appointment_id', 'gender', 'scheduled_day',\n",
              "       'appointment_day', 'age', 'neighbourhood', 'scholarship',\n",
              "       'hypertension', 'diabetes', 'alcoholism', 'handicap', 'sms_received',\n",
              "       'show', 'scheduled_time', 'appointment_dow', 'appointment_month'],\n",
              "      dtype='object')"
            ]
          },
          "metadata": {
            "tags": []
          },
          "execution_count": 21
        }
      ]
    },
    {
      "cell_type": "markdown",
      "metadata": {
        "id": "FHgwFcz7kNr4"
      },
      "source": [
        "## Changing no_show(to show) column \n",
        "To avoid misconception and easily understandable show-up rates\n",
        "\n",
        "Substituting **Yes with 0** and **No with 1**"
      ]
    },
    {
      "cell_type": "code",
      "metadata": {
        "id": "3ngpRSjqqb8p"
      },
      "source": [
        "df.show = df.show.map({'Yes':0,'No':1})\n",
        "df.show.astype(int);"
      ],
      "execution_count": 22,
      "outputs": []
    },
    {
      "cell_type": "markdown",
      "metadata": {
        "id": "TVfMxC9B8vOC"
      },
      "source": [
        "## Appointment day(day on which pateint has to visit doctor) is before Scheduled Day"
      ]
    },
    {
      "cell_type": "code",
      "metadata": {
        "colab": {
          "base_uri": "https://localhost:8080/",
          "height": 204
        },
        "id": "EL0sFG-P8rsb",
        "outputId": "775976db-3733-4ebe-e2c5-103074b268bd"
      },
      "source": [
        "df_error = df[df.scheduled_day > df.appointment_day ][['patient_id','appointment_id','scheduled_day','appointment_day','show']]\n",
        "df_error"
      ],
      "execution_count": 23,
      "outputs": [
        {
          "output_type": "execute_result",
          "data": {
            "text/html": [
              "<div>\n",
              "<style scoped>\n",
              "    .dataframe tbody tr th:only-of-type {\n",
              "        vertical-align: middle;\n",
              "    }\n",
              "\n",
              "    .dataframe tbody tr th {\n",
              "        vertical-align: top;\n",
              "    }\n",
              "\n",
              "    .dataframe thead th {\n",
              "        text-align: right;\n",
              "    }\n",
              "</style>\n",
              "<table border=\"1\" class=\"dataframe\">\n",
              "  <thead>\n",
              "    <tr style=\"text-align: right;\">\n",
              "      <th></th>\n",
              "      <th>patient_id</th>\n",
              "      <th>appointment_id</th>\n",
              "      <th>scheduled_day</th>\n",
              "      <th>appointment_day</th>\n",
              "      <th>show</th>\n",
              "    </tr>\n",
              "  </thead>\n",
              "  <tbody>\n",
              "    <tr>\n",
              "      <th>27033</th>\n",
              "      <td>7839272661752</td>\n",
              "      <td>5679978</td>\n",
              "      <td>2016-05-10</td>\n",
              "      <td>2016-05-09</td>\n",
              "      <td>0</td>\n",
              "    </tr>\n",
              "    <tr>\n",
              "      <th>55226</th>\n",
              "      <td>7896293967868</td>\n",
              "      <td>5715660</td>\n",
              "      <td>2016-05-18</td>\n",
              "      <td>2016-05-17</td>\n",
              "      <td>0</td>\n",
              "    </tr>\n",
              "    <tr>\n",
              "      <th>64175</th>\n",
              "      <td>24252258389979</td>\n",
              "      <td>5664962</td>\n",
              "      <td>2016-05-05</td>\n",
              "      <td>2016-05-04</td>\n",
              "      <td>0</td>\n",
              "    </tr>\n",
              "    <tr>\n",
              "      <th>71533</th>\n",
              "      <td>998231581612122</td>\n",
              "      <td>5686628</td>\n",
              "      <td>2016-05-11</td>\n",
              "      <td>2016-05-05</td>\n",
              "      <td>0</td>\n",
              "    </tr>\n",
              "    <tr>\n",
              "      <th>72362</th>\n",
              "      <td>3787481966821</td>\n",
              "      <td>5655637</td>\n",
              "      <td>2016-05-04</td>\n",
              "      <td>2016-05-03</td>\n",
              "      <td>0</td>\n",
              "    </tr>\n",
              "  </tbody>\n",
              "</table>\n",
              "</div>"
            ],
            "text/plain": [
              "            patient_id  appointment_id scheduled_day appointment_day  show\n",
              "27033    7839272661752         5679978    2016-05-10      2016-05-09     0\n",
              "55226    7896293967868         5715660    2016-05-18      2016-05-17     0\n",
              "64175   24252258389979         5664962    2016-05-05      2016-05-04     0\n",
              "71533  998231581612122         5686628    2016-05-11      2016-05-05     0\n",
              "72362    3787481966821         5655637    2016-05-04      2016-05-03     0"
            ]
          },
          "metadata": {
            "tags": []
          },
          "execution_count": 23
        }
      ]
    },
    {
      "cell_type": "markdown",
      "metadata": {
        "id": "WCsEWR789GRe"
      },
      "source": [
        "> In the first row, appointment day is **9th May** and scheduled day is **10th May** which doesn't make any sense. So, dropping rows where appointment day is before scheduled day"
      ]
    },
    {
      "cell_type": "code",
      "metadata": {
        "colab": {
          "base_uri": "https://localhost:8080/"
        },
        "id": "D3_eKsAf_k5m",
        "outputId": "54d4cee6-5f78-420c-b3a4-743511fe1605"
      },
      "source": [
        "print('Number of rows with appointment day before scheduled day:',df_error.patient_id.count())"
      ],
      "execution_count": 24,
      "outputs": [
        {
          "output_type": "stream",
          "text": [
            "Number of rows with appointment day before scheduled day: 5\n"
          ],
          "name": "stdout"
        }
      ]
    },
    {
      "cell_type": "code",
      "metadata": {
        "colab": {
          "base_uri": "https://localhost:8080/"
        },
        "id": "gbDyf_pFIbOV",
        "outputId": "839b3122-bb4f-4877-ff43-89ee7fde8e8f"
      },
      "source": [
        "print('Number of rows before dropping above rows:', df.patient_id.count())"
      ],
      "execution_count": 25,
      "outputs": [
        {
          "output_type": "stream",
          "text": [
            "Number of rows before dropping above rows: 110526\n"
          ],
          "name": "stdout"
        }
      ]
    },
    {
      "cell_type": "code",
      "metadata": {
        "colab": {
          "base_uri": "https://localhost:8080/"
        },
        "id": "0ieQjIgY-itJ",
        "outputId": "30c30d2c-ecea-47d7-e015-5c1ecb008078"
      },
      "source": [
        "df = df[df.scheduled_day <= df.appointment_day ]\n",
        "print('Number of rows after dropping above rows:', df.patient_id.count())"
      ],
      "execution_count": 26,
      "outputs": [
        {
          "output_type": "stream",
          "text": [
            "Number of rows after dropping above rows: 110521\n"
          ],
          "name": "stdout"
        }
      ]
    },
    {
      "cell_type": "markdown",
      "metadata": {
        "id": "KLgc2zuUrD_9"
      },
      "source": [
        "## Duplicates in data"
      ]
    },
    {
      "cell_type": "code",
      "metadata": {
        "colab": {
          "base_uri": "https://localhost:8080/"
        },
        "id": "aU7zP4T-vyGA",
        "outputId": "2280ed6c-6c7b-4a98-eaec-64c545b431d7"
      },
      "source": [
        "df.duplicated().sum()"
      ],
      "execution_count": 27,
      "outputs": [
        {
          "output_type": "execute_result",
          "data": {
            "text/plain": [
              "0"
            ]
          },
          "metadata": {
            "tags": []
          },
          "execution_count": 27
        }
      ]
    },
    {
      "cell_type": "markdown",
      "metadata": {
        "id": "HL0Coa3q6yDE"
      },
      "source": [
        "> No duplicate rows in data"
      ]
    },
    {
      "cell_type": "markdown",
      "metadata": {
        "id": "rMEMqZ45HXKF"
      },
      "source": [
        "<a id='eda'></a>\n",
        "# Exploratory Data Analysis"
      ]
    },
    {
      "cell_type": "markdown",
      "metadata": {
        "id": "m9SF62eI4sAD"
      },
      "source": [
        "### Descriptive statistics"
      ]
    },
    {
      "cell_type": "code",
      "metadata": {
        "colab": {
          "base_uri": "https://localhost:8080/",
          "height": 255
        },
        "id": "qYa42aWWAHq2",
        "outputId": "00d259f1-fb47-4377-ef87-3655ef8ce196"
      },
      "source": [
        "df.describe().iloc[2:,2:]"
      ],
      "execution_count": 28,
      "outputs": [
        {
          "output_type": "execute_result",
          "data": {
            "text/html": [
              "<div>\n",
              "<style scoped>\n",
              "    .dataframe tbody tr th:only-of-type {\n",
              "        vertical-align: middle;\n",
              "    }\n",
              "\n",
              "    .dataframe tbody tr th {\n",
              "        vertical-align: top;\n",
              "    }\n",
              "\n",
              "    .dataframe thead th {\n",
              "        text-align: right;\n",
              "    }\n",
              "</style>\n",
              "<table border=\"1\" class=\"dataframe\">\n",
              "  <thead>\n",
              "    <tr style=\"text-align: right;\">\n",
              "      <th></th>\n",
              "      <th>age</th>\n",
              "      <th>scholarship</th>\n",
              "      <th>hypertension</th>\n",
              "      <th>diabetes</th>\n",
              "      <th>alcoholism</th>\n",
              "      <th>handicap</th>\n",
              "      <th>sms_received</th>\n",
              "      <th>show</th>\n",
              "    </tr>\n",
              "  </thead>\n",
              "  <tbody>\n",
              "    <tr>\n",
              "      <th>std</th>\n",
              "      <td>23.109885</td>\n",
              "      <td>0.297682</td>\n",
              "      <td>0.397929</td>\n",
              "      <td>0.258272</td>\n",
              "      <td>0.17169</td>\n",
              "      <td>0.161494</td>\n",
              "      <td>0.466879</td>\n",
              "      <td>0.401419</td>\n",
              "    </tr>\n",
              "    <tr>\n",
              "      <th>min</th>\n",
              "      <td>0.000000</td>\n",
              "      <td>0.000000</td>\n",
              "      <td>0.000000</td>\n",
              "      <td>0.000000</td>\n",
              "      <td>0.00000</td>\n",
              "      <td>0.000000</td>\n",
              "      <td>0.000000</td>\n",
              "      <td>0.000000</td>\n",
              "    </tr>\n",
              "    <tr>\n",
              "      <th>25%</th>\n",
              "      <td>18.000000</td>\n",
              "      <td>0.000000</td>\n",
              "      <td>0.000000</td>\n",
              "      <td>0.000000</td>\n",
              "      <td>0.00000</td>\n",
              "      <td>0.000000</td>\n",
              "      <td>0.000000</td>\n",
              "      <td>1.000000</td>\n",
              "    </tr>\n",
              "    <tr>\n",
              "      <th>50%</th>\n",
              "      <td>37.000000</td>\n",
              "      <td>0.000000</td>\n",
              "      <td>0.000000</td>\n",
              "      <td>0.000000</td>\n",
              "      <td>0.00000</td>\n",
              "      <td>0.000000</td>\n",
              "      <td>0.000000</td>\n",
              "      <td>1.000000</td>\n",
              "    </tr>\n",
              "    <tr>\n",
              "      <th>75%</th>\n",
              "      <td>55.000000</td>\n",
              "      <td>0.000000</td>\n",
              "      <td>0.000000</td>\n",
              "      <td>0.000000</td>\n",
              "      <td>0.00000</td>\n",
              "      <td>0.000000</td>\n",
              "      <td>1.000000</td>\n",
              "      <td>1.000000</td>\n",
              "    </tr>\n",
              "    <tr>\n",
              "      <th>max</th>\n",
              "      <td>115.000000</td>\n",
              "      <td>1.000000</td>\n",
              "      <td>1.000000</td>\n",
              "      <td>1.000000</td>\n",
              "      <td>1.00000</td>\n",
              "      <td>4.000000</td>\n",
              "      <td>1.000000</td>\n",
              "      <td>1.000000</td>\n",
              "    </tr>\n",
              "  </tbody>\n",
              "</table>\n",
              "</div>"
            ],
            "text/plain": [
              "            age  scholarship  hypertension  ...  handicap  sms_received      show\n",
              "std   23.109885     0.297682      0.397929  ...  0.161494      0.466879  0.401419\n",
              "min    0.000000     0.000000      0.000000  ...  0.000000      0.000000  0.000000\n",
              "25%   18.000000     0.000000      0.000000  ...  0.000000      0.000000  1.000000\n",
              "50%   37.000000     0.000000      0.000000  ...  0.000000      0.000000  1.000000\n",
              "75%   55.000000     0.000000      0.000000  ...  0.000000      1.000000  1.000000\n",
              "max  115.000000     1.000000      1.000000  ...  4.000000      1.000000  1.000000\n",
              "\n",
              "[6 rows x 8 columns]"
            ]
          },
          "metadata": {
            "tags": []
          },
          "execution_count": 28
        }
      ]
    },
    {
      "cell_type": "markdown",
      "metadata": {
        "id": "67sSwwka4l20"
      },
      "source": [
        "### Correlation b/w columns of dataset"
      ]
    },
    {
      "cell_type": "code",
      "metadata": {
        "colab": {
          "base_uri": "https://localhost:8080/",
          "height": 317
        },
        "id": "A_nmzVHnBM8r",
        "outputId": "f19cee20-2c15-4c40-8821-8daefda4bed0"
      },
      "source": [
        "df.corr().iloc[2:,2:]"
      ],
      "execution_count": 29,
      "outputs": [
        {
          "output_type": "execute_result",
          "data": {
            "text/html": [
              "<div>\n",
              "<style scoped>\n",
              "    .dataframe tbody tr th:only-of-type {\n",
              "        vertical-align: middle;\n",
              "    }\n",
              "\n",
              "    .dataframe tbody tr th {\n",
              "        vertical-align: top;\n",
              "    }\n",
              "\n",
              "    .dataframe thead th {\n",
              "        text-align: right;\n",
              "    }\n",
              "</style>\n",
              "<table border=\"1\" class=\"dataframe\">\n",
              "  <thead>\n",
              "    <tr style=\"text-align: right;\">\n",
              "      <th></th>\n",
              "      <th>age</th>\n",
              "      <th>scholarship</th>\n",
              "      <th>hypertension</th>\n",
              "      <th>diabetes</th>\n",
              "      <th>alcoholism</th>\n",
              "      <th>handicap</th>\n",
              "      <th>sms_received</th>\n",
              "      <th>show</th>\n",
              "    </tr>\n",
              "  </thead>\n",
              "  <tbody>\n",
              "    <tr>\n",
              "      <th>age</th>\n",
              "      <td>1.000000</td>\n",
              "      <td>-0.092469</td>\n",
              "      <td>0.504599</td>\n",
              "      <td>0.292398</td>\n",
              "      <td>0.095811</td>\n",
              "      <td>0.078101</td>\n",
              "      <td>0.012629</td>\n",
              "      <td>0.060320</td>\n",
              "    </tr>\n",
              "    <tr>\n",
              "      <th>scholarship</th>\n",
              "      <td>-0.092469</td>\n",
              "      <td>1.000000</td>\n",
              "      <td>-0.019738</td>\n",
              "      <td>-0.024899</td>\n",
              "      <td>0.035019</td>\n",
              "      <td>-0.008555</td>\n",
              "      <td>0.001182</td>\n",
              "      <td>-0.029166</td>\n",
              "    </tr>\n",
              "    <tr>\n",
              "      <th>hypertension</th>\n",
              "      <td>0.504599</td>\n",
              "      <td>-0.019738</td>\n",
              "      <td>1.000000</td>\n",
              "      <td>0.433082</td>\n",
              "      <td>0.087967</td>\n",
              "      <td>0.080162</td>\n",
              "      <td>-0.006285</td>\n",
              "      <td>0.035662</td>\n",
              "    </tr>\n",
              "    <tr>\n",
              "      <th>diabetes</th>\n",
              "      <td>0.292398</td>\n",
              "      <td>-0.024899</td>\n",
              "      <td>0.433082</td>\n",
              "      <td>1.000000</td>\n",
              "      <td>0.018471</td>\n",
              "      <td>0.057578</td>\n",
              "      <td>-0.014561</td>\n",
              "      <td>0.015158</td>\n",
              "    </tr>\n",
              "    <tr>\n",
              "      <th>alcoholism</th>\n",
              "      <td>0.095811</td>\n",
              "      <td>0.035019</td>\n",
              "      <td>0.087967</td>\n",
              "      <td>0.018471</td>\n",
              "      <td>1.000000</td>\n",
              "      <td>0.004668</td>\n",
              "      <td>-0.026154</td>\n",
              "      <td>0.000181</td>\n",
              "    </tr>\n",
              "    <tr>\n",
              "      <th>handicap</th>\n",
              "      <td>0.078101</td>\n",
              "      <td>-0.008555</td>\n",
              "      <td>0.080162</td>\n",
              "      <td>0.057578</td>\n",
              "      <td>0.004668</td>\n",
              "      <td>1.000000</td>\n",
              "      <td>-0.024097</td>\n",
              "      <td>0.006290</td>\n",
              "    </tr>\n",
              "    <tr>\n",
              "      <th>sms_received</th>\n",
              "      <td>0.012629</td>\n",
              "      <td>0.001182</td>\n",
              "      <td>-0.006285</td>\n",
              "      <td>-0.014561</td>\n",
              "      <td>-0.026154</td>\n",
              "      <td>-0.024097</td>\n",
              "      <td>1.000000</td>\n",
              "      <td>-0.126502</td>\n",
              "    </tr>\n",
              "    <tr>\n",
              "      <th>show</th>\n",
              "      <td>0.060320</td>\n",
              "      <td>-0.029166</td>\n",
              "      <td>0.035662</td>\n",
              "      <td>0.015158</td>\n",
              "      <td>0.000181</td>\n",
              "      <td>0.006290</td>\n",
              "      <td>-0.126502</td>\n",
              "      <td>1.000000</td>\n",
              "    </tr>\n",
              "  </tbody>\n",
              "</table>\n",
              "</div>"
            ],
            "text/plain": [
              "                   age  scholarship  ...  sms_received      show\n",
              "age           1.000000    -0.092469  ...      0.012629  0.060320\n",
              "scholarship  -0.092469     1.000000  ...      0.001182 -0.029166\n",
              "hypertension  0.504599    -0.019738  ...     -0.006285  0.035662\n",
              "diabetes      0.292398    -0.024899  ...     -0.014561  0.015158\n",
              "alcoholism    0.095811     0.035019  ...     -0.026154  0.000181\n",
              "handicap      0.078101    -0.008555  ...     -0.024097  0.006290\n",
              "sms_received  0.012629     0.001182  ...      1.000000 -0.126502\n",
              "show          0.060320    -0.029166  ...     -0.126502  1.000000\n",
              "\n",
              "[8 rows x 8 columns]"
            ]
          },
          "metadata": {
            "tags": []
          },
          "execution_count": 29
        }
      ]
    },
    {
      "cell_type": "markdown",
      "metadata": {
        "id": "pCu2Mc_K4wcY"
      },
      "source": [
        "> "
      ]
    },
    {
      "cell_type": "markdown",
      "metadata": {
        "id": "WcgzTUpVHeBB"
      },
      "source": [
        "## Gender"
      ]
    },
    {
      "cell_type": "markdown",
      "metadata": {
        "id": "doajAKAP26Mk"
      },
      "source": [
        "### No of males and females that showed up at appointment"
      ]
    },
    {
      "cell_type": "code",
      "metadata": {
        "colab": {
          "base_uri": "https://localhost:8080/"
        },
        "id": "zGqHWeT9_XOE",
        "outputId": "6792cfac-5ae3-4b5d-b3bd-b614d09a6cda"
      },
      "source": [
        "gender_show = df.groupby('gender').show.sum()\n",
        "gender_show"
      ],
      "execution_count": 30,
      "outputs": [
        {
          "output_type": "execute_result",
          "data": {
            "text/plain": [
              "gender\n",
              "F    57245\n",
              "M    30962\n",
              "Name: show, dtype: int64"
            ]
          },
          "metadata": {
            "tags": []
          },
          "execution_count": 30
        }
      ]
    },
    {
      "cell_type": "markdown",
      "metadata": {
        "id": "tHoAOmv-3JX0"
      },
      "source": [
        "### Total number of males and females in dataset"
      ]
    },
    {
      "cell_type": "code",
      "metadata": {
        "colab": {
          "base_uri": "https://localhost:8080/"
        },
        "id": "UoM3Ms5S_0es",
        "outputId": "2ab932ac-8641-43c0-ddcc-f616ce6948db"
      },
      "source": [
        "gender_total = df.groupby('gender').patient_id.count()\n",
        "gender_total"
      ],
      "execution_count": 31,
      "outputs": [
        {
          "output_type": "execute_result",
          "data": {
            "text/plain": [
              "gender\n",
              "F    71836\n",
              "M    38685\n",
              "Name: patient_id, dtype: int64"
            ]
          },
          "metadata": {
            "tags": []
          },
          "execution_count": 31
        }
      ]
    },
    {
      "cell_type": "markdown",
      "metadata": {
        "id": "VCkc-mqi3amn"
      },
      "source": [
        "### Proportion of male and female patients"
      ]
    },
    {
      "cell_type": "code",
      "metadata": {
        "colab": {
          "base_uri": "https://localhost:8080/"
        },
        "id": "gLAqlwC9Huef",
        "outputId": "26d25f53-3c8b-4e29-aed4-3f01d1bf745b"
      },
      "source": [
        "prop_female_patients = gender_total.F/(gender_total.F + gender_total.M)*100\n",
        "prop_female_patients"
      ],
      "execution_count": 32,
      "outputs": [
        {
          "output_type": "execute_result",
          "data": {
            "text/plain": [
              "64.99760226563278"
            ]
          },
          "metadata": {
            "tags": []
          },
          "execution_count": 32
        }
      ]
    },
    {
      "cell_type": "code",
      "metadata": {
        "colab": {
          "base_uri": "https://localhost:8080/"
        },
        "id": "_wCyzxjRHxmO",
        "outputId": "d445f061-61ed-42f1-8ced-fb11f0d336fe"
      },
      "source": [
        "prop_male_patients = gender_total.M/(gender_total.F + gender_total.M)*100\n",
        "prop_male_patients"
      ],
      "execution_count": 33,
      "outputs": [
        {
          "output_type": "execute_result",
          "data": {
            "text/plain": [
              "35.00239773436722"
            ]
          },
          "metadata": {
            "tags": []
          },
          "execution_count": 33
        }
      ]
    },
    {
      "cell_type": "code",
      "metadata": {
        "id": "j54IdyyoH1Hh"
      },
      "source": [
        "def horizontal_bars(name,prop,title):\n",
        "  fig, ax = plt.subplots(figsize =(10, 5))\n",
        "  ax.barh(name, prop)\n",
        "\n",
        "  # To add grid\n",
        "  ax.grid(b = True, color ='grey',\n",
        "          linestyle ='-.', linewidth = 0.5,\n",
        "          alpha = 0.2)\n",
        "\n",
        "  # To remove axes\n",
        "  for s in ['top', 'bottom', 'left', 'right']:\n",
        "      ax.spines[s].set_visible(False)\n",
        "\n",
        "  # To remove x and y ticks\n",
        "  ax.xaxis.set_ticks_position('none')\n",
        "  ax.yaxis.set_ticks_position('none')\n",
        "\n",
        "  plt.xticks(fontsize=10)\n",
        "  plt.yticks(fontsize=12)\n",
        "\n",
        "  # Add padding between axes and labels\n",
        "  ax.xaxis.set_tick_params(pad = 5)\n",
        "  ax.yaxis.set_tick_params(pad = 15)\n",
        "\n",
        "  plt.xlabel('\\n\\nPercentage of Patients',fontsize=12)\n",
        "  plt.ylabel('Gender',fontsize=12)\n",
        "  ax.set_title(title,fontsize = 15 )\n",
        "\n",
        "  for i in ax.patches:\n",
        "      plt.text(i.get_width()+0.01, i.get_y()+0.4,\n",
        "              str(round((i.get_width()), 2)),\n",
        "              fontsize = 12, fontweight ='bold',\n",
        "              color ='grey')\n",
        "      \n",
        "  plt.show()"
      ],
      "execution_count": 34,
      "outputs": []
    },
    {
      "cell_type": "code",
      "metadata": {
        "colab": {
          "base_uri": "https://localhost:8080/",
          "height": 424
        },
        "id": "v3qry4IKjP20",
        "outputId": "ab42a5ba-db70-480a-862a-41140cb18a70"
      },
      "source": [
        "gend = ['Females','Males']\n",
        "prop = [prop_female_patients,prop_male_patients]\n",
        "title = '\\nProportion of male and female patients\\n\\n'\n",
        "horizontal_bars(gend,prop,title)"
      ],
      "execution_count": 35,
      "outputs": [
        {
          "output_type": "display_data",
          "data": {
            "image/png": "[encoded data removed]",
            "text/plain": [
              "<Figure size 720x360 with 1 Axes>"
            ]
          },
          "metadata": {
            "tags": [],
            "needs_background": "light"
          }
        }
      ]
    },
    {
      "cell_type": "markdown",
      "metadata": {
        "id": "25FL_9Ak3ixH"
      },
      "source": [
        "### Proportion of male and female patients to show up for scheduled appointment"
      ]
    },
    {
      "cell_type": "code",
      "metadata": {
        "colab": {
          "base_uri": "https://localhost:8080/"
        },
        "id": "SvFs5ceeAKA0",
        "outputId": "07263472-464c-49fb-b2f9-b32808588f8d"
      },
      "source": [
        "prop_female_show = (gender_show.F/gender_total.F)*100\n",
        "prop_female_show"
      ],
      "execution_count": 36,
      "outputs": [
        {
          "output_type": "execute_result",
          "data": {
            "text/plain": [
              "79.68845704103792"
            ]
          },
          "metadata": {
            "tags": []
          },
          "execution_count": 36
        }
      ]
    },
    {
      "cell_type": "code",
      "metadata": {
        "colab": {
          "base_uri": "https://localhost:8080/"
        },
        "id": "nLy6LF7vAy0S",
        "outputId": "8ff4f25f-d669-4934-c46d-017846755867"
      },
      "source": [
        "prop_male_show = (gender_show.M/gender_total.M)*100\n",
        "prop_male_show"
      ],
      "execution_count": 37,
      "outputs": [
        {
          "output_type": "execute_result",
          "data": {
            "text/plain": [
              "80.0361897376244"
            ]
          },
          "metadata": {
            "tags": []
          },
          "execution_count": 37
        }
      ]
    },
    {
      "cell_type": "code",
      "metadata": {
        "colab": {
          "base_uri": "https://localhost:8080/",
          "height": 436
        },
        "id": "kLGmuDLdiSW5",
        "outputId": "cc501f17-28ab-4288-f424-7cf6ffeb5a11"
      },
      "source": [
        "gend = ['Females','Males']\n",
        "prop = [prop_female_show,prop_male_show]\n",
        "title = '\\nProportion of male and female that showed up \\nfor scheduled appointments\\n\\n'\n",
        "\n",
        "horizontal_bars(gend,prop,title)"
      ],
      "execution_count": 38,
      "outputs": [
        {
          "output_type": "display_data",
          "data": {
            "image/png": "[encoded data removed]",
            "text/plain": [
              "<Figure size 720x360 with 1 Axes>"
            ]
          },
          "metadata": {
            "tags": [],
            "needs_background": "light"
          }
        }
      ]
    },
    {
      "cell_type": "markdown",
      "metadata": {
        "id": "Vvf1k8jF6sFU"
      },
      "source": [
        "### Converting males and femlaes to quantative variable to find correlation with other features in dataset"
      ]
    },
    {
      "cell_type": "code",
      "metadata": {
        "id": "ObodAt255Fhy",
        "colab": {
          "base_uri": "https://localhost:8080/",
          "height": 348
        },
        "outputId": "1293d45b-7169-4f99-df10-fa88c58edf9e"
      },
      "source": [
        "df_new = df.copy()\n",
        "df_new.gender = df_new.gender.map({'F':1,'M':0})\n",
        "df_new.corr().iloc[2:,2:]"
      ],
      "execution_count": 39,
      "outputs": [
        {
          "output_type": "execute_result",
          "data": {
            "text/html": [
              "<div>\n",
              "<style scoped>\n",
              "    .dataframe tbody tr th:only-of-type {\n",
              "        vertical-align: middle;\n",
              "    }\n",
              "\n",
              "    .dataframe tbody tr th {\n",
              "        vertical-align: top;\n",
              "    }\n",
              "\n",
              "    .dataframe thead th {\n",
              "        text-align: right;\n",
              "    }\n",
              "</style>\n",
              "<table border=\"1\" class=\"dataframe\">\n",
              "  <thead>\n",
              "    <tr style=\"text-align: right;\">\n",
              "      <th></th>\n",
              "      <th>gender</th>\n",
              "      <th>age</th>\n",
              "      <th>scholarship</th>\n",
              "      <th>hypertension</th>\n",
              "      <th>diabetes</th>\n",
              "      <th>alcoholism</th>\n",
              "      <th>handicap</th>\n",
              "      <th>sms_received</th>\n",
              "      <th>show</th>\n",
              "    </tr>\n",
              "  </thead>\n",
              "  <tbody>\n",
              "    <tr>\n",
              "      <th>gender</th>\n",
              "      <td>1.000000</td>\n",
              "      <td>0.106439</td>\n",
              "      <td>0.114297</td>\n",
              "      <td>0.055721</td>\n",
              "      <td>0.032555</td>\n",
              "      <td>-0.106170</td>\n",
              "      <td>-0.022787</td>\n",
              "      <td>0.046301</td>\n",
              "      <td>-0.004132</td>\n",
              "    </tr>\n",
              "    <tr>\n",
              "      <th>age</th>\n",
              "      <td>0.106439</td>\n",
              "      <td>1.000000</td>\n",
              "      <td>-0.092469</td>\n",
              "      <td>0.504599</td>\n",
              "      <td>0.292398</td>\n",
              "      <td>0.095811</td>\n",
              "      <td>0.078101</td>\n",
              "      <td>0.012629</td>\n",
              "      <td>0.060320</td>\n",
              "    </tr>\n",
              "    <tr>\n",
              "      <th>scholarship</th>\n",
              "      <td>0.114297</td>\n",
              "      <td>-0.092469</td>\n",
              "      <td>1.000000</td>\n",
              "      <td>-0.019738</td>\n",
              "      <td>-0.024899</td>\n",
              "      <td>0.035019</td>\n",
              "      <td>-0.008555</td>\n",
              "      <td>0.001182</td>\n",
              "      <td>-0.029166</td>\n",
              "    </tr>\n",
              "    <tr>\n",
              "      <th>hypertension</th>\n",
              "      <td>0.055721</td>\n",
              "      <td>0.504599</td>\n",
              "      <td>-0.019738</td>\n",
              "      <td>1.000000</td>\n",
              "      <td>0.433082</td>\n",
              "      <td>0.087967</td>\n",
              "      <td>0.080162</td>\n",
              "      <td>-0.006285</td>\n",
              "      <td>0.035662</td>\n",
              "    </tr>\n",
              "    <tr>\n",
              "      <th>diabetes</th>\n",
              "      <td>0.032555</td>\n",
              "      <td>0.292398</td>\n",
              "      <td>-0.024899</td>\n",
              "      <td>0.433082</td>\n",
              "      <td>1.000000</td>\n",
              "      <td>0.018471</td>\n",
              "      <td>0.057578</td>\n",
              "      <td>-0.014561</td>\n",
              "      <td>0.015158</td>\n",
              "    </tr>\n",
              "    <tr>\n",
              "      <th>alcoholism</th>\n",
              "      <td>-0.106170</td>\n",
              "      <td>0.095811</td>\n",
              "      <td>0.035019</td>\n",
              "      <td>0.087967</td>\n",
              "      <td>0.018471</td>\n",
              "      <td>1.000000</td>\n",
              "      <td>0.004668</td>\n",
              "      <td>-0.026154</td>\n",
              "      <td>0.000181</td>\n",
              "    </tr>\n",
              "    <tr>\n",
              "      <th>handicap</th>\n",
              "      <td>-0.022787</td>\n",
              "      <td>0.078101</td>\n",
              "      <td>-0.008555</td>\n",
              "      <td>0.080162</td>\n",
              "      <td>0.057578</td>\n",
              "      <td>0.004668</td>\n",
              "      <td>1.000000</td>\n",
              "      <td>-0.024097</td>\n",
              "      <td>0.006290</td>\n",
              "    </tr>\n",
              "    <tr>\n",
              "      <th>sms_received</th>\n",
              "      <td>0.046301</td>\n",
              "      <td>0.012629</td>\n",
              "      <td>0.001182</td>\n",
              "      <td>-0.006285</td>\n",
              "      <td>-0.014561</td>\n",
              "      <td>-0.026154</td>\n",
              "      <td>-0.024097</td>\n",
              "      <td>1.000000</td>\n",
              "      <td>-0.126502</td>\n",
              "    </tr>\n",
              "    <tr>\n",
              "      <th>show</th>\n",
              "      <td>-0.004132</td>\n",
              "      <td>0.060320</td>\n",
              "      <td>-0.029166</td>\n",
              "      <td>0.035662</td>\n",
              "      <td>0.015158</td>\n",
              "      <td>0.000181</td>\n",
              "      <td>0.006290</td>\n",
              "      <td>-0.126502</td>\n",
              "      <td>1.000000</td>\n",
              "    </tr>\n",
              "  </tbody>\n",
              "</table>\n",
              "</div>"
            ],
            "text/plain": [
              "                gender       age  scholarship  ...  handicap  sms_received      show\n",
              "gender        1.000000  0.106439     0.114297  ... -0.022787      0.046301 -0.004132\n",
              "age           0.106439  1.000000    -0.092469  ...  0.078101      0.012629  0.060320\n",
              "scholarship   0.114297 -0.092469     1.000000  ... -0.008555      0.001182 -0.029166\n",
              "hypertension  0.055721  0.504599    -0.019738  ...  0.080162     -0.006285  0.035662\n",
              "diabetes      0.032555  0.292398    -0.024899  ...  0.057578     -0.014561  0.015158\n",
              "alcoholism   -0.106170  0.095811     0.035019  ...  0.004668     -0.026154  0.000181\n",
              "handicap     -0.022787  0.078101    -0.008555  ...  1.000000     -0.024097  0.006290\n",
              "sms_received  0.046301  0.012629     0.001182  ... -0.024097      1.000000 -0.126502\n",
              "show         -0.004132  0.060320    -0.029166  ...  0.006290     -0.126502  1.000000\n",
              "\n",
              "[9 rows x 9 columns]"
            ]
          },
          "metadata": {
            "tags": []
          },
          "execution_count": 39
        }
      ]
    },
    {
      "cell_type": "markdown",
      "metadata": {
        "id": "jA5nVEDt64nt"
      },
      "source": [
        "> There is no direct relation of gender with any other feature "
      ]
    },
    {
      "cell_type": "markdown",
      "metadata": {
        "id": "Bo37oz8VR6jn"
      },
      "source": [
        "### Function to find relationship b/w gender and different features"
      ]
    },
    {
      "cell_type": "code",
      "metadata": {
        "id": "xjUUhxWd6Rzy"
      },
      "source": [
        "def rel_with_gender(_feature,_title,legend_title):\n",
        "  extracted_df = pd.pivot_table(data=df,index=['gender',_feature],values='show')\n",
        "  extracted_df.show = extracted_df.show*100\n",
        "  extracted_df.reset_index(inplace=True)\n",
        "\n",
        "  display(extracted_df)\n",
        "\n",
        "  # To set figure size \n",
        "  plt.figure(figsize=(8,6),dpi=70)\n",
        "  \n",
        "  # To make bar plot\n",
        "  graph = sns.barplot(data=extracted_df,x='gender',y='show',hue=_feature,palette='Paired');\n",
        "  \n",
        "  # To add padding b/w axis and ticks\n",
        "  graph.xaxis.set_tick_params(pad = 10)\n",
        "  graph.yaxis.set_tick_params(pad = 3)\n",
        "\n",
        "  graph.set_xlabel('Gender',fontsize=13)\n",
        "  graph.set_ylabel('% of people who showed up\\n',fontsize=13)\n",
        "  graph.set_title(_title,fontsize=16)\n",
        "  graph.set_xticklabels(['Females','Males'],fontsize=11.5)\n",
        "\n",
        "  # To set y-axis limits\n",
        "  graph.set_ylim(0,90)\n",
        "\n",
        "  # To place legend outside top right corner of plot\n",
        "  plt.legend(title=legend_title,bbox_to_anchor=(1.02, 0.5), loc='upper left', borderaxespad=0)\n",
        "  # plt.legend(title='Consume Alcohol',bbox_to_anchor=(1.02, 1), loc='upper left', borderaxespad=0,labels=['No','Yes'])\n",
        "  # plt.legend(title='Alcoholism',labels=['A', 'A'], loc='upper left')\n",
        "\n",
        "  # To remove spines \n",
        "  sns.despine( left=True, bottom=True)\n",
        "\n",
        "  print('\\n')\n",
        "  # TO DO: Add padding between axes and labels\n",
        "  plt.show(graph)\n"
      ],
      "execution_count": 40,
      "outputs": []
    },
    {
      "cell_type": "markdown",
      "metadata": {
        "id": "7_wdoUDOR3z6"
      },
      "source": [
        "### Relation of showing up wrt gender and alcoholism "
      ]
    },
    {
      "cell_type": "code",
      "metadata": {
        "colab": {
          "base_uri": "https://localhost:8080/",
          "height": 613
        },
        "id": "6be5DfPRO_fp",
        "outputId": "427e6420-5e57-486b-bf67-b89e1ff73153"
      },
      "source": [
        "rel_with_gender(_feature='alcoholism',_title='Ratio of Showing-up based on alcoholism\\n',legend_title='Consume Alcohol')"
      ],
      "execution_count": 41,
      "outputs": [
        {
          "output_type": "display_data",
          "data": {
            "text/html": [
              "<div>\n",
              "<style scoped>\n",
              "    .dataframe tbody tr th:only-of-type {\n",
              "        vertical-align: middle;\n",
              "    }\n",
              "\n",
              "    .dataframe tbody tr th {\n",
              "        vertical-align: top;\n",
              "    }\n",
              "\n",
              "    .dataframe thead th {\n",
              "        text-align: right;\n",
              "    }\n",
              "</style>\n",
              "<table border=\"1\" class=\"dataframe\">\n",
              "  <thead>\n",
              "    <tr style=\"text-align: right;\">\n",
              "      <th></th>\n",
              "      <th>gender</th>\n",
              "      <th>alcoholism</th>\n",
              "      <th>show</th>\n",
              "    </tr>\n",
              "  </thead>\n",
              "  <tbody>\n",
              "    <tr>\n",
              "      <th>0</th>\n",
              "      <td>F</td>\n",
              "      <td>0</td>\n",
              "      <td>79.772846</td>\n",
              "    </tr>\n",
              "    <tr>\n",
              "      <th>1</th>\n",
              "      <td>F</td>\n",
              "      <td>1</td>\n",
              "      <td>74.816026</td>\n",
              "    </tr>\n",
              "    <tr>\n",
              "      <th>2</th>\n",
              "      <td>M</td>\n",
              "      <td>0</td>\n",
              "      <td>79.878516</td>\n",
              "    </tr>\n",
              "    <tr>\n",
              "      <th>3</th>\n",
              "      <td>M</td>\n",
              "      <td>1</td>\n",
              "      <td>82.732803</td>\n",
              "    </tr>\n",
              "  </tbody>\n",
              "</table>\n",
              "</div>"
            ],
            "text/plain": [
              "  gender  alcoholism       show\n",
              "0      F           0  79.772846\n",
              "1      F           1  74.816026\n",
              "2      M           0  79.878516\n",
              "3      M           1  82.732803"
            ]
          },
          "metadata": {
            "tags": []
          }
        },
        {
          "output_type": "stream",
          "text": [
            "\n",
            "\n"
          ],
          "name": "stdout"
        },
        {
          "output_type": "display_data",
          "data": {
            "image/png": "[encoded data removed]",
            "text/plain": [
              "<Figure size 560x420 with 1 Axes>"
            ]
          },
          "metadata": {
            "tags": [],
            "needs_background": "light"
          }
        }
      ]
    },
    {
      "cell_type": "markdown",
      "metadata": {
        "id": "UHk7p-6PfwDo"
      },
      "source": [
        "> There is no signifigant relation of showing up with alcoholism wrt gender. \n",
        "\n",
        "> There is an increase of 3.6% in show up rate of males who consume alcohol.\n",
        "\n",
        "> On the other hand there is decrease of 6.2% in show up rate with females who consume alcohol.\n",
        "\n",
        ">So we can't conclude that alcoholism wrt gender determines showing up for appointment"
      ]
    },
    {
      "cell_type": "markdown",
      "metadata": {
        "id": "tEShAcy__WCg"
      },
      "source": [
        "### Relation of showing up wrt gender and diabetes "
      ]
    },
    {
      "cell_type": "code",
      "metadata": {
        "colab": {
          "base_uri": "https://localhost:8080/",
          "height": 613
        },
        "id": "kz1br-pPf5fY",
        "outputId": "fb6efe53-a744-46a9-9169-16eef42a8864"
      },
      "source": [
        "rel_with_gender(_feature='diabetes',_title='Relation of Showing-up based on diabetes\\n',legend_title='Diabetic')"
      ],
      "execution_count": 42,
      "outputs": [
        {
          "output_type": "display_data",
          "data": {
            "text/html": [
              "<div>\n",
              "<style scoped>\n",
              "    .dataframe tbody tr th:only-of-type {\n",
              "        vertical-align: middle;\n",
              "    }\n",
              "\n",
              "    .dataframe tbody tr th {\n",
              "        vertical-align: top;\n",
              "    }\n",
              "\n",
              "    .dataframe thead th {\n",
              "        text-align: right;\n",
              "    }\n",
              "</style>\n",
              "<table border=\"1\" class=\"dataframe\">\n",
              "  <thead>\n",
              "    <tr style=\"text-align: right;\">\n",
              "      <th></th>\n",
              "      <th>gender</th>\n",
              "      <th>diabetes</th>\n",
              "      <th>show</th>\n",
              "    </tr>\n",
              "  </thead>\n",
              "  <tbody>\n",
              "    <tr>\n",
              "      <th>0</th>\n",
              "      <td>F</td>\n",
              "      <td>0</td>\n",
              "      <td>79.504756</td>\n",
              "    </tr>\n",
              "    <tr>\n",
              "      <th>1</th>\n",
              "      <td>F</td>\n",
              "      <td>1</td>\n",
              "      <td>81.858723</td>\n",
              "    </tr>\n",
              "    <tr>\n",
              "      <th>2</th>\n",
              "      <td>M</td>\n",
              "      <td>0</td>\n",
              "      <td>79.888852</td>\n",
              "    </tr>\n",
              "    <tr>\n",
              "      <th>3</th>\n",
              "      <td>M</td>\n",
              "      <td>1</td>\n",
              "      <td>82.327771</td>\n",
              "    </tr>\n",
              "  </tbody>\n",
              "</table>\n",
              "</div>"
            ],
            "text/plain": [
              "  gender  diabetes       show\n",
              "0      F         0  79.504756\n",
              "1      F         1  81.858723\n",
              "2      M         0  79.888852\n",
              "3      M         1  82.327771"
            ]
          },
          "metadata": {
            "tags": []
          }
        },
        {
          "output_type": "stream",
          "text": [
            "\n",
            "\n"
          ],
          "name": "stdout"
        },
        {
          "output_type": "display_data",
          "data": {
            "image/png": "[encoded data removed]",
            "text/plain": [
              "<Figure size 560x420 with 1 Axes>"
            ]
          },
          "metadata": {
            "tags": [],
            "needs_background": "light"
          }
        }
      ]
    },
    {
      "cell_type": "markdown",
      "metadata": {
        "id": "9xW7fuUWf8rG"
      },
      "source": [
        "> There is an increase of show-up rate with diabetic males and females who "
      ]
    },
    {
      "cell_type": "markdown",
      "metadata": {
        "id": "Wcqb-5dXJAmG"
      },
      "source": [
        "### Relation of showing up wrt gender and hypertension"
      ]
    },
    {
      "cell_type": "code",
      "metadata": {
        "colab": {
          "base_uri": "https://localhost:8080/",
          "height": 613
        },
        "id": "ygG8QOvwRQaF",
        "outputId": "8cc6583e-7769-4cdf-e9c9-a65e2774e0d2"
      },
      "source": [
        "rel_with_gender(_feature='hypertension',_title='Relation of Showing-up based on hypertension\\n',legend_title='Hypertension')"
      ],
      "execution_count": 43,
      "outputs": [
        {
          "output_type": "display_data",
          "data": {
            "text/html": [
              "<div>\n",
              "<style scoped>\n",
              "    .dataframe tbody tr th:only-of-type {\n",
              "        vertical-align: middle;\n",
              "    }\n",
              "\n",
              "    .dataframe tbody tr th {\n",
              "        vertical-align: top;\n",
              "    }\n",
              "\n",
              "    .dataframe thead th {\n",
              "        text-align: right;\n",
              "    }\n",
              "</style>\n",
              "<table border=\"1\" class=\"dataframe\">\n",
              "  <thead>\n",
              "    <tr style=\"text-align: right;\">\n",
              "      <th></th>\n",
              "      <th>gender</th>\n",
              "      <th>hypertension</th>\n",
              "      <th>show</th>\n",
              "    </tr>\n",
              "  </thead>\n",
              "  <tbody>\n",
              "    <tr>\n",
              "      <th>0</th>\n",
              "      <td>F</td>\n",
              "      <td>0</td>\n",
              "      <td>78.876755</td>\n",
              "    </tr>\n",
              "    <tr>\n",
              "      <th>1</th>\n",
              "      <td>F</td>\n",
              "      <td>1</td>\n",
              "      <td>82.678141</td>\n",
              "    </tr>\n",
              "    <tr>\n",
              "      <th>2</th>\n",
              "      <td>M</td>\n",
              "      <td>0</td>\n",
              "      <td>79.492909</td>\n",
              "    </tr>\n",
              "    <tr>\n",
              "      <th>3</th>\n",
              "      <td>M</td>\n",
              "      <td>1</td>\n",
              "      <td>82.745280</td>\n",
              "    </tr>\n",
              "  </tbody>\n",
              "</table>\n",
              "</div>"
            ],
            "text/plain": [
              "  gender  hypertension       show\n",
              "0      F             0  78.876755\n",
              "1      F             1  82.678141\n",
              "2      M             0  79.492909\n",
              "3      M             1  82.745280"
            ]
          },
          "metadata": {
            "tags": []
          }
        },
        {
          "output_type": "stream",
          "text": [
            "\n",
            "\n"
          ],
          "name": "stdout"
        },
        {
          "output_type": "display_data",
          "data": {
            "image/png": "[encoded data removed]",
            "text/plain": [
              "<Figure size 560x420 with 1 Axes>"
            ]
          },
          "metadata": {
            "tags": [],
            "needs_background": "light"
          }
        }
      ]
    },
    {
      "cell_type": "markdown",
      "metadata": {
        "id": "rZDZUa1IgEmT"
      },
      "source": [
        "> There is an increase of show-up rate with males and females who have hypertension"
      ]
    },
    {
      "cell_type": "markdown",
      "metadata": {
        "id": "MdBS29qlcb-l"
      },
      "source": [
        "### Relation of showing up wrt gender and Handicap\n"
      ]
    },
    {
      "cell_type": "markdown",
      "metadata": {
        "id": "triGohxBj6gf"
      },
      "source": [
        "#### Converting values in handicap to boolean values(0-non-handicap and 1-handicap)"
      ]
    },
    {
      "cell_type": "code",
      "metadata": {
        "colab": {
          "base_uri": "https://localhost:8080/"
        },
        "id": "2o43UASzcpUN",
        "outputId": "6005592b-200d-4dcb-f9ef-5d2fc1d7337d"
      },
      "source": [
        "df.handicap.unique()"
      ],
      "execution_count": 44,
      "outputs": [
        {
          "output_type": "execute_result",
          "data": {
            "text/plain": [
              "array([0, 1, 2, 3, 4])"
            ]
          },
          "metadata": {
            "tags": []
          },
          "execution_count": 44
        }
      ]
    },
    {
      "cell_type": "code",
      "metadata": {
        "id": "xGYp-0Wkc8Pz"
      },
      "source": [
        "df.handicap = df.handicap.map({0:0, 1:1, 2:1, 3:1, 4:1})"
      ],
      "execution_count": 45,
      "outputs": []
    },
    {
      "cell_type": "code",
      "metadata": {
        "colab": {
          "base_uri": "https://localhost:8080/"
        },
        "id": "LrLWEzEFdWn-",
        "outputId": "f9b39421-f001-46cd-9349-8ce4973d93f4"
      },
      "source": [
        "df.handicap.unique()"
      ],
      "execution_count": 46,
      "outputs": [
        {
          "output_type": "execute_result",
          "data": {
            "text/plain": [
              "array([0, 1])"
            ]
          },
          "metadata": {
            "tags": []
          },
          "execution_count": 46
        }
      ]
    },
    {
      "cell_type": "code",
      "metadata": {
        "colab": {
          "base_uri": "https://localhost:8080/",
          "height": 613
        },
        "id": "cSEcMxd3dZO5",
        "outputId": "9b158e7b-6efd-48ef-f37c-3a6dd5d4b06a"
      },
      "source": [
        "rel_with_gender(_feature='handicap',_title='Relation of Showing-up based on handicap\\n',legend_title='Handicap')"
      ],
      "execution_count": 47,
      "outputs": [
        {
          "output_type": "display_data",
          "data": {
            "text/html": [
              "<div>\n",
              "<style scoped>\n",
              "    .dataframe tbody tr th:only-of-type {\n",
              "        vertical-align: middle;\n",
              "    }\n",
              "\n",
              "    .dataframe tbody tr th {\n",
              "        vertical-align: top;\n",
              "    }\n",
              "\n",
              "    .dataframe thead th {\n",
              "        text-align: right;\n",
              "    }\n",
              "</style>\n",
              "<table border=\"1\" class=\"dataframe\">\n",
              "  <thead>\n",
              "    <tr style=\"text-align: right;\">\n",
              "      <th></th>\n",
              "      <th>gender</th>\n",
              "      <th>handicap</th>\n",
              "      <th>show</th>\n",
              "    </tr>\n",
              "  </thead>\n",
              "  <tbody>\n",
              "    <tr>\n",
              "      <th>0</th>\n",
              "      <td>F</td>\n",
              "      <td>0</td>\n",
              "      <td>79.660368</td>\n",
              "    </tr>\n",
              "    <tr>\n",
              "      <th>1</th>\n",
              "      <td>F</td>\n",
              "      <td>1</td>\n",
              "      <td>81.225756</td>\n",
              "    </tr>\n",
              "    <tr>\n",
              "      <th>2</th>\n",
              "      <td>M</td>\n",
              "      <td>0</td>\n",
              "      <td>79.965549</td>\n",
              "    </tr>\n",
              "    <tr>\n",
              "      <th>3</th>\n",
              "      <td>M</td>\n",
              "      <td>1</td>\n",
              "      <td>82.842105</td>\n",
              "    </tr>\n",
              "  </tbody>\n",
              "</table>\n",
              "</div>"
            ],
            "text/plain": [
              "  gender  handicap       show\n",
              "0      F         0  79.660368\n",
              "1      F         1  81.225756\n",
              "2      M         0  79.965549\n",
              "3      M         1  82.842105"
            ]
          },
          "metadata": {
            "tags": []
          }
        },
        {
          "output_type": "stream",
          "text": [
            "\n",
            "\n"
          ],
          "name": "stdout"
        },
        {
          "output_type": "display_data",
          "data": {
            "image/png": "[encoded data removed]",
            "text/plain": [
              "<Figure size 560x420 with 1 Axes>"
            ]
          },
          "metadata": {
            "tags": [],
            "needs_background": "light"
          }
        }
      ]
    },
    {
      "cell_type": "markdown",
      "metadata": {
        "id": "n9zXSqXojrY3"
      },
      "source": [
        "> There is an increase of show-up rate with males and females who have disabilities"
      ]
    },
    {
      "cell_type": "markdown",
      "metadata": {
        "id": "l0wvEBQqjWuy"
      },
      "source": [
        "### Relation of showing up wrt gender and scholarship"
      ]
    },
    {
      "cell_type": "code",
      "metadata": {
        "colab": {
          "base_uri": "https://localhost:8080/",
          "height": 613
        },
        "id": "H45B85TkjWS6",
        "outputId": "33f7a9e5-e31e-43c7-8481-5b2da9f4af8b"
      },
      "source": [
        "rel_with_gender(_feature='scholarship',_title='Relation of Showing-up based on scholarship\\n',legend_title='Scholarship')"
      ],
      "execution_count": 48,
      "outputs": [
        {
          "output_type": "display_data",
          "data": {
            "text/html": [
              "<div>\n",
              "<style scoped>\n",
              "    .dataframe tbody tr th:only-of-type {\n",
              "        vertical-align: middle;\n",
              "    }\n",
              "\n",
              "    .dataframe tbody tr th {\n",
              "        vertical-align: top;\n",
              "    }\n",
              "\n",
              "    .dataframe thead th {\n",
              "        text-align: right;\n",
              "    }\n",
              "</style>\n",
              "<table border=\"1\" class=\"dataframe\">\n",
              "  <thead>\n",
              "    <tr style=\"text-align: right;\">\n",
              "      <th></th>\n",
              "      <th>gender</th>\n",
              "      <th>scholarship</th>\n",
              "      <th>show</th>\n",
              "    </tr>\n",
              "  </thead>\n",
              "  <tbody>\n",
              "    <tr>\n",
              "      <th>0</th>\n",
              "      <td>F</td>\n",
              "      <td>0</td>\n",
              "      <td>80.177191</td>\n",
              "    </tr>\n",
              "    <tr>\n",
              "      <th>1</th>\n",
              "      <td>F</td>\n",
              "      <td>1</td>\n",
              "      <td>76.211454</td>\n",
              "    </tr>\n",
              "    <tr>\n",
              "      <th>2</th>\n",
              "      <td>M</td>\n",
              "      <td>0</td>\n",
              "      <td>80.230117</td>\n",
              "    </tr>\n",
              "    <tr>\n",
              "      <th>3</th>\n",
              "      <td>M</td>\n",
              "      <td>1</td>\n",
              "      <td>76.494024</td>\n",
              "    </tr>\n",
              "  </tbody>\n",
              "</table>\n",
              "</div>"
            ],
            "text/plain": [
              "  gender  scholarship       show\n",
              "0      F            0  80.177191\n",
              "1      F            1  76.211454\n",
              "2      M            0  80.230117\n",
              "3      M            1  76.494024"
            ]
          },
          "metadata": {
            "tags": []
          }
        },
        {
          "output_type": "stream",
          "text": [
            "\n",
            "\n"
          ],
          "name": "stdout"
        },
        {
          "output_type": "display_data",
          "data": {
            "image/png": "[encoded data removed]",
            "text/plain": [
              "<Figure size 560x420 with 1 Axes>"
            ]
          },
          "metadata": {
            "tags": [],
            "needs_background": "light"
          }
        }
      ]
    },
    {
      "cell_type": "markdown",
      "metadata": {
        "id": "TdHSsVZEjhGG"
      },
      "source": [
        "> People with scholarship irrespective of their gender are more tend to not show-up for appointment"
      ]
    },
    {
      "cell_type": "markdown",
      "metadata": {
        "id": "vUAnn8KShqH2"
      },
      "source": [
        "### Relation of showing up wrt gender and sms reminder"
      ]
    },
    {
      "cell_type": "code",
      "metadata": {
        "colab": {
          "base_uri": "https://localhost:8080/",
          "height": 613
        },
        "id": "KpN_EOsQhaOo",
        "outputId": "0ca2f96f-1b96-4013-a040-037e6ab80ba4"
      },
      "source": [
        "rel_with_gender('sms_received','Relation of showing-up based on sms-received\\n','SMS received')"
      ],
      "execution_count": 49,
      "outputs": [
        {
          "output_type": "display_data",
          "data": {
            "text/html": [
              "<div>\n",
              "<style scoped>\n",
              "    .dataframe tbody tr th:only-of-type {\n",
              "        vertical-align: middle;\n",
              "    }\n",
              "\n",
              "    .dataframe tbody tr th {\n",
              "        vertical-align: top;\n",
              "    }\n",
              "\n",
              "    .dataframe thead th {\n",
              "        text-align: right;\n",
              "    }\n",
              "</style>\n",
              "<table border=\"1\" class=\"dataframe\">\n",
              "  <thead>\n",
              "    <tr style=\"text-align: right;\">\n",
              "      <th></th>\n",
              "      <th>gender</th>\n",
              "      <th>sms_received</th>\n",
              "      <th>show</th>\n",
              "    </tr>\n",
              "  </thead>\n",
              "  <tbody>\n",
              "    <tr>\n",
              "      <th>0</th>\n",
              "      <td>F</td>\n",
              "      <td>0</td>\n",
              "      <td>83.476089</td>\n",
              "    </tr>\n",
              "    <tr>\n",
              "      <th>1</th>\n",
              "      <td>F</td>\n",
              "      <td>1</td>\n",
              "      <td>72.233700</td>\n",
              "    </tr>\n",
              "    <tr>\n",
              "      <th>2</th>\n",
              "      <td>M</td>\n",
              "      <td>0</td>\n",
              "      <td>82.999453</td>\n",
              "    </tr>\n",
              "    <tr>\n",
              "      <th>3</th>\n",
              "      <td>M</td>\n",
              "      <td>1</td>\n",
              "      <td>72.836879</td>\n",
              "    </tr>\n",
              "  </tbody>\n",
              "</table>\n",
              "</div>"
            ],
            "text/plain": [
              "  gender  sms_received       show\n",
              "0      F             0  83.476089\n",
              "1      F             1  72.233700\n",
              "2      M             0  82.999453\n",
              "3      M             1  72.836879"
            ]
          },
          "metadata": {
            "tags": []
          }
        },
        {
          "output_type": "stream",
          "text": [
            "\n",
            "\n"
          ],
          "name": "stdout"
        },
        {
          "output_type": "display_data",
          "data": {
            "image/png": "[encoded data removed]",
            "text/plain": [
              "<Figure size 560x420 with 1 Axes>"
            ]
          },
          "metadata": {
            "tags": [],
            "needs_background": "light"
          }
        }
      ]
    },
    {
      "cell_type": "markdown",
      "metadata": {
        "id": "91l1OF4PiI_3"
      },
      "source": [
        "> It is evident from above graph people who got sms reminders irrespective of their gender were the ones with less show-up rate"
      ]
    },
    {
      "cell_type": "markdown",
      "metadata": {
        "id": "I_CNHEcq1hLx"
      },
      "source": [
        "# Age \n",
        "How age can determine not showing to the appointment"
      ]
    },
    {
      "cell_type": "code",
      "metadata": {
        "colab": {
          "base_uri": "https://localhost:8080/"
        },
        "id": "BRbJd_mel34m",
        "outputId": "3edcb221-e078-4dc0-caf6-4291985f072e"
      },
      "source": [
        "df.age.describe()"
      ],
      "execution_count": 50,
      "outputs": [
        {
          "output_type": "execute_result",
          "data": {
            "text/plain": [
              "count    110521.000000\n",
              "mean         37.089386\n",
              "std          23.109885\n",
              "min           0.000000\n",
              "25%          18.000000\n",
              "50%          37.000000\n",
              "75%          55.000000\n",
              "max         115.000000\n",
              "Name: age, dtype: float64"
            ]
          },
          "metadata": {
            "tags": []
          },
          "execution_count": 50
        }
      ]
    },
    {
      "cell_type": "markdown",
      "metadata": {
        "id": "3RnWhPpTbQaq"
      },
      "source": [
        "## Patients with age above 100 are total 7. \n",
        "Considering patients with age above 100 as an outlier "
      ]
    },
    {
      "cell_type": "code",
      "metadata": {
        "colab": {
          "base_uri": "https://localhost:8080/"
        },
        "id": "n4skx18faY05",
        "outputId": "f9caa183-2207-4551-e3c7-ccf44bbe6305"
      },
      "source": [
        "df.query(\"age > 100\").patient_id.count()"
      ],
      "execution_count": 51,
      "outputs": [
        {
          "output_type": "execute_result",
          "data": {
            "text/plain": [
              "7"
            ]
          },
          "metadata": {
            "tags": []
          },
          "execution_count": 51
        }
      ]
    },
    {
      "cell_type": "code",
      "metadata": {
        "id": "WOxM8uhi6PE2"
      },
      "source": [
        "def ranges(feature,bins_edges,bins_names):\n",
        "  arr = df[feature]\n",
        "  df[feature] = pd.cut(x=arr,bins=bins_edges,labels=bins_names)"
      ],
      "execution_count": 52,
      "outputs": []
    },
    {
      "cell_type": "code",
      "metadata": {
        "id": "Hj-oUMJO_zo7"
      },
      "source": [
        "def create_bar_plot(_feature,_title,x_label):\n",
        "  extracted_df = pd.pivot_table(data=df,index=_feature,values='show')\n",
        "  extracted_df.show = extracted_df.show*100\n",
        "  extracted_df.reset_index(inplace=True)\n",
        "\n",
        "  display(extracted_df)\n",
        "\n",
        "  # To set figure size \n",
        "  plt.figure(figsize=(8,6),dpi=70)\n",
        "  \n",
        "  # To make bar plot\n",
        "  graph = sns.barplot(data=extracted_df,x=_feature,y='show',palette=\"crest\");\n",
        "\n",
        "  # To add padding b/w axis and ticks\n",
        "  graph.xaxis.set_tick_params(pad = 9)\n",
        "  graph.yaxis.set_tick_params(pad = 3)\n",
        "  graph.tick_params(bottom=False)\n",
        "\n",
        "  if _feature == 'waiting_days':\n",
        "    plt.xticks(rotation=45)\n",
        "\n",
        "  graph.set_xlabel(x_label,fontsize=13)\n",
        "  graph.set_ylabel('% of people who showed up\\n',fontsize=13)\n",
        "  graph.set_title(_title,fontsize=16)\n",
        "\n",
        "  # To set y-axis limits\n",
        "  graph.set_ylim(0,90)\n",
        "\n",
        "  # To remove spines \n",
        "  sns.despine( left=True, bottom=True)\n",
        "\n",
        "  print('\\n')\n",
        "  # TO DO: Add padding between axes and labels\n",
        "  plt.show(graph)\n"
      ],
      "execution_count": 53,
      "outputs": []
    },
    {
      "cell_type": "markdown",
      "metadata": {
        "id": "mpgjV5QsDq7P"
      },
      "source": [
        "## Converting ages column from numerical to categorical "
      ]
    },
    {
      "cell_type": "markdown",
      "metadata": {
        "id": "cvFpVqUyqZXS"
      },
      "source": [
        "Ranges on the basis of standard deviation i.e. 23"
      ]
    },
    {
      "cell_type": "code",
      "metadata": {
        "colab": {
          "base_uri": "https://localhost:8080/",
          "height": 644
        },
        "id": "03L8_z7_qMQN",
        "outputId": "a8e42950-b2df-4b35-ded5-04309bec322e"
      },
      "source": [
        "feature = 'age'\n",
        "bins_edges = [0,23,46,69,101]\n",
        "bins_names = ['Children','Youth','Adult','Senior']\n",
        "print('Children(0-22),Youth(23-45),Adult(46-68),Senior(69-100)')\n",
        "ranges(feature,bins_edges,bins_names)\n",
        "create_bar_plot(_feature=feature,_title='Relation of Showing-up based on different age groups\\n',x_label='\\nDifferent Age Groups')"
      ],
      "execution_count": 54,
      "outputs": [
        {
          "output_type": "stream",
          "text": [
            "Children(0-22),Youth(23-45),Adult(46-68),Senior(69-100)\n"
          ],
          "name": "stdout"
        },
        {
          "output_type": "display_data",
          "data": {
            "text/html": [
              "<div>\n",
              "<style scoped>\n",
              "    .dataframe tbody tr th:only-of-type {\n",
              "        vertical-align: middle;\n",
              "    }\n",
              "\n",
              "    .dataframe tbody tr th {\n",
              "        vertical-align: top;\n",
              "    }\n",
              "\n",
              "    .dataframe thead th {\n",
              "        text-align: right;\n",
              "    }\n",
              "</style>\n",
              "<table border=\"1\" class=\"dataframe\">\n",
              "  <thead>\n",
              "    <tr style=\"text-align: right;\">\n",
              "      <th></th>\n",
              "      <th>age</th>\n",
              "      <th>show</th>\n",
              "    </tr>\n",
              "  </thead>\n",
              "  <tbody>\n",
              "    <tr>\n",
              "      <th>0</th>\n",
              "      <td>Children</td>\n",
              "      <td>76.901764</td>\n",
              "    </tr>\n",
              "    <tr>\n",
              "      <th>1</th>\n",
              "      <td>Youth</td>\n",
              "      <td>77.833974</td>\n",
              "    </tr>\n",
              "    <tr>\n",
              "      <th>2</th>\n",
              "      <td>Adult</td>\n",
              "      <td>83.215262</td>\n",
              "    </tr>\n",
              "    <tr>\n",
              "      <th>3</th>\n",
              "      <td>Senior</td>\n",
              "      <td>84.411670</td>\n",
              "    </tr>\n",
              "  </tbody>\n",
              "</table>\n",
              "</div>"
            ],
            "text/plain": [
              "        age       show\n",
              "0  Children  76.901764\n",
              "1     Youth  77.833974\n",
              "2     Adult  83.215262\n",
              "3    Senior  84.411670"
            ]
          },
          "metadata": {
            "tags": []
          }
        },
        {
          "output_type": "stream",
          "text": [
            "\n",
            "\n"
          ],
          "name": "stdout"
        },
        {
          "output_type": "display_data",
          "data": {
            "image/png": "[encoded data removed]",
            "text/plain": [
              "<Figure size 560x420 with 1 Axes>"
            ]
          },
          "metadata": {
            "tags": [],
            "needs_background": "light"
          }
        }
      ]
    },
    {
      "cell_type": "markdown",
      "metadata": {
        "id": "sJLu0SWRatit"
      },
      "source": [
        "# Waiting Days"
      ]
    },
    {
      "cell_type": "code",
      "metadata": {
        "id": "N8J5_mXnawGQ"
      },
      "source": [
        "df['waiting_days'] = df.appointment_day - df.scheduled_day"
      ],
      "execution_count": 55,
      "outputs": []
    },
    {
      "cell_type": "code",
      "metadata": {
        "colab": {
          "base_uri": "https://localhost:8080/"
        },
        "id": "ZDPxF4o0kr_H",
        "outputId": "316a6242-1d8f-47b4-9d56-8675fd5caf9c"
      },
      "source": [
        "df.waiting_days.dtypes"
      ],
      "execution_count": 56,
      "outputs": [
        {
          "output_type": "execute_result",
          "data": {
            "text/plain": [
              "dtype('<m8[ns]')"
            ]
          },
          "metadata": {
            "tags": []
          },
          "execution_count": 56
        }
      ]
    },
    {
      "cell_type": "code",
      "metadata": {
        "id": "Z6IWSa-leMou"
      },
      "source": [
        "df.waiting_days = df.waiting_days.astype('str')\n",
        "df.waiting_days = df.waiting_days.apply(lambda x: x.split()[0])\n",
        "df.waiting_days = df.waiting_days.astype('int')"
      ],
      "execution_count": 57,
      "outputs": []
    },
    {
      "cell_type": "code",
      "metadata": {
        "colab": {
          "base_uri": "https://localhost:8080/"
        },
        "id": "bAdHKYIXiqvL",
        "outputId": "473ff02e-0e18-4dd8-a6a4-fcbab7a8c604"
      },
      "source": [
        "df.waiting_days.dtypes"
      ],
      "execution_count": 58,
      "outputs": [
        {
          "output_type": "execute_result",
          "data": {
            "text/plain": [
              "dtype('int64')"
            ]
          },
          "metadata": {
            "tags": []
          },
          "execution_count": 58
        }
      ]
    },
    {
      "cell_type": "code",
      "metadata": {
        "colab": {
          "base_uri": "https://localhost:8080/"
        },
        "id": "t13SxstAk5a5",
        "outputId": "1a39d927-26d2-4a8a-c7ae-10dcad0f1455"
      },
      "source": [
        "df.waiting_days.describe()"
      ],
      "execution_count": 59,
      "outputs": [
        {
          "output_type": "execute_result",
          "data": {
            "text/plain": [
              "count    110521.000000\n",
              "mean         10.184345\n",
              "std          15.255153\n",
              "min           0.000000\n",
              "25%           0.000000\n",
              "50%           4.000000\n",
              "75%          15.000000\n",
              "max         179.000000\n",
              "Name: waiting_days, dtype: float64"
            ]
          },
          "metadata": {
            "tags": []
          },
          "execution_count": 59
        }
      ]
    },
    {
      "cell_type": "code",
      "metadata": {
        "colab": {
          "base_uri": "https://localhost:8080/",
          "height": 886
        },
        "id": "C-UIQ2OnlGqn",
        "outputId": "53a1d099-0030-4668-94b9-7038e247d730"
      },
      "source": [
        "print('Note: Here waiting days are delay in days of appointment and scheduled day')\n",
        "feature = 'waiting_days'\n",
        "bins_edges = [-1,16,31,46,61,76,91,116,131,146,161,180]\n",
        "bins_names = ['0-15','16-30','31-45','46-60','61-75','76-90','91-115','116-130','131-145','146-160','161-179']\n",
        "ranges(feature,bins_edges,bins_names)\n",
        "create_bar_plot(_feature=feature,_title='Relation of Showing-up based on waiting days\\n',x_label='\\nDelay in days')"
      ],
      "execution_count": 79,
      "outputs": [
        {
          "output_type": "stream",
          "text": [
            "Note: Here waiting days are delay in days of appointment and scheduled day\n"
          ],
          "name": "stdout"
        },
        {
          "output_type": "display_data",
          "data": {
            "text/html": [
              "<div>\n",
              "<style scoped>\n",
              "    .dataframe tbody tr th:only-of-type {\n",
              "        vertical-align: middle;\n",
              "    }\n",
              "\n",
              "    .dataframe tbody tr th {\n",
              "        vertical-align: top;\n",
              "    }\n",
              "\n",
              "    .dataframe thead th {\n",
              "        text-align: right;\n",
              "    }\n",
              "</style>\n",
              "<table border=\"1\" class=\"dataframe\">\n",
              "  <thead>\n",
              "    <tr style=\"text-align: right;\">\n",
              "      <th></th>\n",
              "      <th>waiting_days</th>\n",
              "      <th>show</th>\n",
              "    </tr>\n",
              "  </thead>\n",
              "  <tbody>\n",
              "    <tr>\n",
              "      <th>0</th>\n",
              "      <td>0-15</td>\n",
              "      <td>83.516728</td>\n",
              "    </tr>\n",
              "    <tr>\n",
              "      <th>1</th>\n",
              "      <td>16-30</td>\n",
              "      <td>67.327312</td>\n",
              "    </tr>\n",
              "    <tr>\n",
              "      <th>2</th>\n",
              "      <td>31-45</td>\n",
              "      <td>65.317434</td>\n",
              "    </tr>\n",
              "    <tr>\n",
              "      <th>3</th>\n",
              "      <td>46-60</td>\n",
              "      <td>67.912946</td>\n",
              "    </tr>\n",
              "    <tr>\n",
              "      <th>4</th>\n",
              "      <td>61-75</td>\n",
              "      <td>70.997846</td>\n",
              "    </tr>\n",
              "    <tr>\n",
              "      <th>5</th>\n",
              "      <td>76-90</td>\n",
              "      <td>71.182266</td>\n",
              "    </tr>\n",
              "    <tr>\n",
              "      <th>6</th>\n",
              "      <td>91-115</td>\n",
              "      <td>78.873239</td>\n",
              "    </tr>\n",
              "    <tr>\n",
              "      <th>7</th>\n",
              "      <td>116-130</td>\n",
              "      <td>91.666667</td>\n",
              "    </tr>\n",
              "    <tr>\n",
              "      <th>8</th>\n",
              "      <td>131-145</td>\n",
              "      <td>54.545455</td>\n",
              "    </tr>\n",
              "    <tr>\n",
              "      <th>9</th>\n",
              "      <td>146-160</td>\n",
              "      <td>36.363636</td>\n",
              "    </tr>\n",
              "    <tr>\n",
              "      <th>10</th>\n",
              "      <td>161-179</td>\n",
              "      <td>75.555556</td>\n",
              "    </tr>\n",
              "  </tbody>\n",
              "</table>\n",
              "</div>"
            ],
            "text/plain": [
              "   waiting_days       show\n",
              "0          0-15  83.516728\n",
              "1         16-30  67.327312\n",
              "2         31-45  65.317434\n",
              "3         46-60  67.912946\n",
              "4         61-75  70.997846\n",
              "5         76-90  71.182266\n",
              "6        91-115  78.873239\n",
              "7       116-130  91.666667\n",
              "8       131-145  54.545455\n",
              "9       146-160  36.363636\n",
              "10      161-179  75.555556"
            ]
          },
          "metadata": {
            "tags": []
          }
        },
        {
          "output_type": "stream",
          "text": [
            "\n",
            "\n"
          ],
          "name": "stdout"
        },
        {
          "output_type": "display_data",
          "data": {
            "image/png": "[encoded data removed]",
            "text/plain": [
              "<Figure size 560x420 with 1 Axes>"
            ]
          },
          "metadata": {
            "tags": [],
            "needs_background": "light"
          }
        }
      ]
    },
    {
      "cell_type": "markdown",
      "metadata": {
        "id": "0dVtWStAILex"
      },
      "source": [
        ">There is no direct relation of No-Show with waiting days"
      ]
    },
    {
      "cell_type": "markdown",
      "metadata": {
        "id": "dRe7WyNYFttN"
      },
      "source": [
        "# Neighbourhood\n",
        "Place where patient comes from"
      ]
    },
    {
      "cell_type": "code",
      "metadata": {
        "id": "6sqa2LisS4ht"
      },
      "source": [
        "neighbour_df = pd.DataFrame()"
      ],
      "execution_count": 61,
      "outputs": []
    },
    {
      "cell_type": "code",
      "metadata": {
        "id": "-XOVh9m5SMrf"
      },
      "source": [
        "neighbour_df['total_appointments'] = df.groupby(by='neighbourhood').show.count()\n",
        "neighbour_df['show_appointments'] = df.groupby(by='neighbourhood').show.sum()\n",
        "neighbour_df['show_prop'] = df.groupby(by='neighbourhood').show.mean()\n",
        "neighbour_df.reset_index(inplace=True)"
      ],
      "execution_count": 62,
      "outputs": []
    },
    {
      "cell_type": "code",
      "metadata": {
        "colab": {
          "base_uri": "https://localhost:8080/",
          "height": 359
        },
        "id": "qmP8dZ52TPOs",
        "outputId": "cf426b10-4083-4e28-a671-42c474f3d97a"
      },
      "source": [
        "neighbour_df.sample(10)"
      ],
      "execution_count": 63,
      "outputs": [
        {
          "output_type": "execute_result",
          "data": {
            "text/html": [
              "<div>\n",
              "<style scoped>\n",
              "    .dataframe tbody tr th:only-of-type {\n",
              "        vertical-align: middle;\n",
              "    }\n",
              "\n",
              "    .dataframe tbody tr th {\n",
              "        vertical-align: top;\n",
              "    }\n",
              "\n",
              "    .dataframe thead th {\n",
              "        text-align: right;\n",
              "    }\n",
              "</style>\n",
              "<table border=\"1\" class=\"dataframe\">\n",
              "  <thead>\n",
              "    <tr style=\"text-align: right;\">\n",
              "      <th></th>\n",
              "      <th>neighbourhood</th>\n",
              "      <th>total_appointments</th>\n",
              "      <th>show_appointments</th>\n",
              "      <th>show_prop</th>\n",
              "    </tr>\n",
              "  </thead>\n",
              "  <tbody>\n",
              "    <tr>\n",
              "      <th>32</th>\n",
              "      <td>ILHA DO FRADE</td>\n",
              "      <td>10</td>\n",
              "      <td>8</td>\n",
              "      <td>0.800000</td>\n",
              "    </tr>\n",
              "    <tr>\n",
              "      <th>77</th>\n",
              "      <td>SÃO PEDRO</td>\n",
              "      <td>2448</td>\n",
              "      <td>1933</td>\n",
              "      <td>0.789624</td>\n",
              "    </tr>\n",
              "    <tr>\n",
              "      <th>46</th>\n",
              "      <td>MONTE BELO</td>\n",
              "      <td>824</td>\n",
              "      <td>658</td>\n",
              "      <td>0.798544</td>\n",
              "    </tr>\n",
              "    <tr>\n",
              "      <th>23</th>\n",
              "      <td>FORTE SÃO JOÃO</td>\n",
              "      <td>1889</td>\n",
              "      <td>1543</td>\n",
              "      <td>0.816834</td>\n",
              "    </tr>\n",
              "    <tr>\n",
              "      <th>22</th>\n",
              "      <td>FONTE GRANDE</td>\n",
              "      <td>682</td>\n",
              "      <td>533</td>\n",
              "      <td>0.781525</td>\n",
              "    </tr>\n",
              "    <tr>\n",
              "      <th>3</th>\n",
              "      <td>ARIOVALDO FAVALESSA</td>\n",
              "      <td>282</td>\n",
              "      <td>220</td>\n",
              "      <td>0.780142</td>\n",
              "    </tr>\n",
              "    <tr>\n",
              "      <th>21</th>\n",
              "      <td>ESTRELINHA</td>\n",
              "      <td>538</td>\n",
              "      <td>432</td>\n",
              "      <td>0.802974</td>\n",
              "    </tr>\n",
              "    <tr>\n",
              "      <th>59</th>\n",
              "      <td>RESISTÊNCIA</td>\n",
              "      <td>4430</td>\n",
              "      <td>3525</td>\n",
              "      <td>0.795711</td>\n",
              "    </tr>\n",
              "    <tr>\n",
              "      <th>42</th>\n",
              "      <td>JUCUTUQUARA</td>\n",
              "      <td>694</td>\n",
              "      <td>561</td>\n",
              "      <td>0.808357</td>\n",
              "    </tr>\n",
              "    <tr>\n",
              "      <th>41</th>\n",
              "      <td>JOANA D´ARC</td>\n",
              "      <td>1427</td>\n",
              "      <td>1169</td>\n",
              "      <td>0.819201</td>\n",
              "    </tr>\n",
              "  </tbody>\n",
              "</table>\n",
              "</div>"
            ],
            "text/plain": [
              "          neighbourhood  total_appointments  show_appointments  show_prop\n",
              "32        ILHA DO FRADE                  10                  8   0.800000\n",
              "77            SÃO PEDRO                2448               1933   0.789624\n",
              "46           MONTE BELO                 824                658   0.798544\n",
              "23       FORTE SÃO JOÃO                1889               1543   0.816834\n",
              "22         FONTE GRANDE                 682                533   0.781525\n",
              "3   ARIOVALDO FAVALESSA                 282                220   0.780142\n",
              "21           ESTRELINHA                 538                432   0.802974\n",
              "59          RESISTÊNCIA                4430               3525   0.795711\n",
              "42          JUCUTUQUARA                 694                561   0.808357\n",
              "41          JOANA D´ARC                1427               1169   0.819201"
            ]
          },
          "metadata": {
            "tags": []
          },
          "execution_count": 63
        }
      ]
    },
    {
      "cell_type": "code",
      "metadata": {
        "colab": {
          "base_uri": "https://localhost:8080/",
          "height": 383
        },
        "id": "yhzVZINnT81K",
        "outputId": "d4394cf4-5a13-4518-ca7c-3476d0f955c9"
      },
      "source": [
        "plt.figure(figsize=(50,25),dpi=70)\n",
        "sns.barplot(data=neighbour_df,x='neighbourhood',y='total_appointments',color='red')\n",
        "sns.barplot(data=neighbour_df,x='neighbourhood',y='show_appointments',color='blue')\n",
        "\n",
        "sns.despine( left=True, bottom=True)\n",
        "plt.xticks(rotation=75);\n",
        "\n",
        "plt.legend(title='Neighbouhood',bbox_to_anchor=(1.02, 0.5), loc='upper left', borderaxespad=0)"
      ],
      "execution_count": 94,
      "outputs": [
        {
          "output_type": "stream",
          "text": [
            "No handles with labels found to put in legend.\n"
          ],
          "name": "stderr"
        },
        {
          "output_type": "execute_result",
          "data": {
            "text/plain": [
              "<matplotlib.legend.Legend at 0x7f03f1bcf290>"
            ]
          },
          "metadata": {
            "tags": []
          },
          "execution_count": 94
        },
        {
          "output_type": "display_data",
          "data": {
            "image/png": "[encoded data removed]",
            "text/plain": [
              "<Figure size 3500x1750 with 1 Axes>"
            ]
          },
          "metadata": {
            "tags": [],
            "needs_background": "light"
          }
        }
      ]
    },
    {
      "cell_type": "markdown",
      "metadata": {
        "id": "sow26gafNr2p"
      },
      "source": [
        "## Sorting dataframe on the basis of show-up rate"
      ]
    },
    {
      "cell_type": "markdown",
      "metadata": {
        "id": "WQD_HHoHMmGy"
      },
      "source": [
        "## Neighbourhood where show-up rate is high"
      ]
    },
    {
      "cell_type": "code",
      "metadata": {
        "id": "ELUh3UQ4Ms-W",
        "colab": {
          "base_uri": "https://localhost:8080/",
          "height": 297
        },
        "outputId": "a8c290cb-ee70-40f7-c7a3-04d14a41f4a9"
      },
      "source": [
        "neigh_high_show = neighbour_df.nlargest(n=8,columns='show_prop')\n",
        "neigh_high_show.show_prop = neigh_high_show.show_prop*100\n",
        "neigh_high_show"
      ],
      "execution_count": 141,
      "outputs": [
        {
          "output_type": "execute_result",
          "data": {
            "text/html": [
              "<div>\n",
              "<style scoped>\n",
              "    .dataframe tbody tr th:only-of-type {\n",
              "        vertical-align: middle;\n",
              "    }\n",
              "\n",
              "    .dataframe tbody tr th {\n",
              "        vertical-align: top;\n",
              "    }\n",
              "\n",
              "    .dataframe thead th {\n",
              "        text-align: right;\n",
              "    }\n",
              "</style>\n",
              "<table border=\"1\" class=\"dataframe\">\n",
              "  <thead>\n",
              "    <tr style=\"text-align: right;\">\n",
              "      <th></th>\n",
              "      <th>neighbourhood</th>\n",
              "      <th>total_appointments</th>\n",
              "      <th>show_appointments</th>\n",
              "      <th>show_prop</th>\n",
              "    </tr>\n",
              "  </thead>\n",
              "  <tbody>\n",
              "    <tr>\n",
              "      <th>51</th>\n",
              "      <td>PARQUE INDUSTRIAL</td>\n",
              "      <td>1</td>\n",
              "      <td>1</td>\n",
              "      <td>100.000000</td>\n",
              "    </tr>\n",
              "    <tr>\n",
              "      <th>31</th>\n",
              "      <td>ILHA DO BOI</td>\n",
              "      <td>35</td>\n",
              "      <td>32</td>\n",
              "      <td>91.428571</td>\n",
              "    </tr>\n",
              "    <tr>\n",
              "      <th>0</th>\n",
              "      <td>AEROPORTO</td>\n",
              "      <td>8</td>\n",
              "      <td>7</td>\n",
              "      <td>87.500000</td>\n",
              "    </tr>\n",
              "    <tr>\n",
              "      <th>48</th>\n",
              "      <td>MÁRIO CYPRESTE</td>\n",
              "      <td>371</td>\n",
              "      <td>317</td>\n",
              "      <td>85.444744</td>\n",
              "    </tr>\n",
              "    <tr>\n",
              "      <th>73</th>\n",
              "      <td>SOLON BORGES</td>\n",
              "      <td>469</td>\n",
              "      <td>400</td>\n",
              "      <td>85.287846</td>\n",
              "    </tr>\n",
              "    <tr>\n",
              "      <th>16</th>\n",
              "      <td>DE LOURDES</td>\n",
              "      <td>305</td>\n",
              "      <td>258</td>\n",
              "      <td>84.590164</td>\n",
              "    </tr>\n",
              "    <tr>\n",
              "      <th>17</th>\n",
              "      <td>DO CABRAL</td>\n",
              "      <td>560</td>\n",
              "      <td>472</td>\n",
              "      <td>84.285714</td>\n",
              "    </tr>\n",
              "    <tr>\n",
              "      <th>66</th>\n",
              "      <td>SANTA MARTHA</td>\n",
              "      <td>3131</td>\n",
              "      <td>2635</td>\n",
              "      <td>84.158416</td>\n",
              "    </tr>\n",
              "  </tbody>\n",
              "</table>\n",
              "</div>"
            ],
            "text/plain": [
              "        neighbourhood  total_appointments  show_appointments   show_prop\n",
              "51  PARQUE INDUSTRIAL                   1                  1  100.000000\n",
              "31        ILHA DO BOI                  35                 32   91.428571\n",
              "0           AEROPORTO                   8                  7   87.500000\n",
              "48     MÁRIO CYPRESTE                 371                317   85.444744\n",
              "73       SOLON BORGES                 469                400   85.287846\n",
              "16         DE LOURDES                 305                258   84.590164\n",
              "17          DO CABRAL                 560                472   84.285714\n",
              "66       SANTA MARTHA                3131               2635   84.158416"
            ]
          },
          "metadata": {
            "tags": []
          },
          "execution_count": 141
        }
      ]
    },
    {
      "cell_type": "markdown",
      "metadata": {
        "id": "kMjqVaHVJh8y"
      },
      "source": [
        "> Removing first 3 rows beacuse total appointments are very less from other neighbouhoods so concluding high show up rate in first three nighbourhood will be inappropriate"
      ]
    },
    {
      "cell_type": "code",
      "metadata": {
        "colab": {
          "base_uri": "https://localhost:8080/",
          "height": 204
        },
        "id": "ctmk9S-BJ3SN",
        "outputId": "15853e61-3004-48f5-fa45-2a56cca24222"
      },
      "source": [
        "neigh_high_show = neigh_high_show.iloc[3:]\n",
        "neigh_high_show"
      ],
      "execution_count": 142,
      "outputs": [
        {
          "output_type": "execute_result",
          "data": {
            "text/html": [
              "<div>\n",
              "<style scoped>\n",
              "    .dataframe tbody tr th:only-of-type {\n",
              "        vertical-align: middle;\n",
              "    }\n",
              "\n",
              "    .dataframe tbody tr th {\n",
              "        vertical-align: top;\n",
              "    }\n",
              "\n",
              "    .dataframe thead th {\n",
              "        text-align: right;\n",
              "    }\n",
              "</style>\n",
              "<table border=\"1\" class=\"dataframe\">\n",
              "  <thead>\n",
              "    <tr style=\"text-align: right;\">\n",
              "      <th></th>\n",
              "      <th>neighbourhood</th>\n",
              "      <th>total_appointments</th>\n",
              "      <th>show_appointments</th>\n",
              "      <th>show_prop</th>\n",
              "    </tr>\n",
              "  </thead>\n",
              "  <tbody>\n",
              "    <tr>\n",
              "      <th>48</th>\n",
              "      <td>MÁRIO CYPRESTE</td>\n",
              "      <td>371</td>\n",
              "      <td>317</td>\n",
              "      <td>85.444744</td>\n",
              "    </tr>\n",
              "    <tr>\n",
              "      <th>73</th>\n",
              "      <td>SOLON BORGES</td>\n",
              "      <td>469</td>\n",
              "      <td>400</td>\n",
              "      <td>85.287846</td>\n",
              "    </tr>\n",
              "    <tr>\n",
              "      <th>16</th>\n",
              "      <td>DE LOURDES</td>\n",
              "      <td>305</td>\n",
              "      <td>258</td>\n",
              "      <td>84.590164</td>\n",
              "    </tr>\n",
              "    <tr>\n",
              "      <th>17</th>\n",
              "      <td>DO CABRAL</td>\n",
              "      <td>560</td>\n",
              "      <td>472</td>\n",
              "      <td>84.285714</td>\n",
              "    </tr>\n",
              "    <tr>\n",
              "      <th>66</th>\n",
              "      <td>SANTA MARTHA</td>\n",
              "      <td>3131</td>\n",
              "      <td>2635</td>\n",
              "      <td>84.158416</td>\n",
              "    </tr>\n",
              "  </tbody>\n",
              "</table>\n",
              "</div>"
            ],
            "text/plain": [
              "     neighbourhood  total_appointments  show_appointments  show_prop\n",
              "48  MÁRIO CYPRESTE                 371                317  85.444744\n",
              "73    SOLON BORGES                 469                400  85.287846\n",
              "16      DE LOURDES                 305                258  84.590164\n",
              "17       DO CABRAL                 560                472  84.285714\n",
              "66    SANTA MARTHA                3131               2635  84.158416"
            ]
          },
          "metadata": {
            "tags": []
          },
          "execution_count": 142
        }
      ]
    },
    {
      "cell_type": "code",
      "metadata": {
        "colab": {
          "base_uri": "https://localhost:8080/",
          "height": 456
        },
        "id": "1fkULEB8J86E",
        "outputId": "8fffb418-ba28-48a6-e6a3-09a9260224fc"
      },
      "source": [
        "plt.figure(figsize=(8,6),dpi=70)\n",
        "graph = sns.barplot(data=neigh_high_show,x='neighbourhood',y='show_prop',color='forestgreen')\n",
        "graph.set_xlabel('Neighbourhood',fontsize=13.5)\n",
        "graph.set_ylabel('% of people who showed up\\n',fontsize=13.5)\n",
        "graph.set_title('Neighbourhood with high Show-up',fontsize=16)\n",
        "sns.despine( left=True, bottom=True)\n",
        "plt.xticks(rotation=45);"
      ],
      "execution_count": 174,
      "outputs": [
        {
          "output_type": "display_data",
          "data": {
            "image/png": "[encoded data removed]",
            "text/plain": [
              "<Figure size 560x420 with 1 Axes>"
            ]
          },
          "metadata": {
            "tags": [],
            "needs_background": "light"
          }
        }
      ]
    },
    {
      "cell_type": "markdown",
      "metadata": {
        "id": "EmJdhv9WMv2h"
      },
      "source": [
        "## Neighbourhood where show-up rate is low"
      ]
    },
    {
      "cell_type": "code",
      "metadata": {
        "colab": {
          "base_uri": "https://localhost:8080/",
          "height": 252
        },
        "id": "YBaEVqn5GDgU",
        "outputId": "9946fe9d-2eed-48bc-e2cd-284f5a539c31"
      },
      "source": [
        "neigh_low_show = neighbour_df.nsmallest(n=6,columns='show_prop')\n",
        "neigh_low_show.show_prop = neigh_low_show.show_prop*100\n",
        "neigh_low_show"
      ],
      "execution_count": 144,
      "outputs": [
        {
          "output_type": "execute_result",
          "data": {
            "text/html": [
              "<div>\n",
              "<style scoped>\n",
              "    .dataframe tbody tr th:only-of-type {\n",
              "        vertical-align: middle;\n",
              "    }\n",
              "\n",
              "    .dataframe tbody tr th {\n",
              "        vertical-align: top;\n",
              "    }\n",
              "\n",
              "    .dataframe thead th {\n",
              "        text-align: right;\n",
              "    }\n",
              "</style>\n",
              "<table border=\"1\" class=\"dataframe\">\n",
              "  <thead>\n",
              "    <tr style=\"text-align: right;\">\n",
              "      <th></th>\n",
              "      <th>neighbourhood</th>\n",
              "      <th>total_appointments</th>\n",
              "      <th>show_appointments</th>\n",
              "      <th>show_prop</th>\n",
              "    </tr>\n",
              "  </thead>\n",
              "  <tbody>\n",
              "    <tr>\n",
              "      <th>34</th>\n",
              "      <td>ILHAS OCEÂNICAS DE TRINDADE</td>\n",
              "      <td>2</td>\n",
              "      <td>0</td>\n",
              "      <td>0.000000</td>\n",
              "    </tr>\n",
              "    <tr>\n",
              "      <th>70</th>\n",
              "      <td>SANTOS DUMONT</td>\n",
              "      <td>1276</td>\n",
              "      <td>907</td>\n",
              "      <td>71.081505</td>\n",
              "    </tr>\n",
              "    <tr>\n",
              "      <th>61</th>\n",
              "      <td>SANTA CECÍLIA</td>\n",
              "      <td>448</td>\n",
              "      <td>325</td>\n",
              "      <td>72.544643</td>\n",
              "    </tr>\n",
              "    <tr>\n",
              "      <th>62</th>\n",
              "      <td>SANTA CLARA</td>\n",
              "      <td>506</td>\n",
              "      <td>372</td>\n",
              "      <td>73.517787</td>\n",
              "    </tr>\n",
              "    <tr>\n",
              "      <th>36</th>\n",
              "      <td>ITARARÉ</td>\n",
              "      <td>3514</td>\n",
              "      <td>2591</td>\n",
              "      <td>73.733637</td>\n",
              "    </tr>\n",
              "    <tr>\n",
              "      <th>40</th>\n",
              "      <td>JESUS DE NAZARETH</td>\n",
              "      <td>2853</td>\n",
              "      <td>2157</td>\n",
              "      <td>75.604627</td>\n",
              "    </tr>\n",
              "  </tbody>\n",
              "</table>\n",
              "</div>"
            ],
            "text/plain": [
              "                  neighbourhood  ...  show_prop\n",
              "34  ILHAS OCEÂNICAS DE TRINDADE  ...   0.000000\n",
              "70                SANTOS DUMONT  ...  71.081505\n",
              "61                SANTA CECÍLIA  ...  72.544643\n",
              "62                  SANTA CLARA  ...  73.517787\n",
              "36                      ITARARÉ  ...  73.733637\n",
              "40            JESUS DE NAZARETH  ...  75.604627\n",
              "\n",
              "[6 rows x 4 columns]"
            ]
          },
          "metadata": {
            "tags": []
          },
          "execution_count": 144
        }
      ]
    },
    {
      "cell_type": "markdown",
      "metadata": {
        "id": "CyirLpBiSean"
      },
      "source": [
        "> ILHAS OCEÂNICAS DE TRINDADE has only two appointments that is very less than other neighbourhoods so concluding low show-up rate of ILHAS OCEÂNICAS DE TRINDADE on the basis of only 2 appointments will be inappropriate"
      ]
    },
    {
      "cell_type": "code",
      "metadata": {
        "colab": {
          "base_uri": "https://localhost:8080/",
          "height": 204
        },
        "id": "UXMCJk1ERD1K",
        "outputId": "4aee9a57-a71d-4424-efb6-ef161e7fbe42"
      },
      "source": [
        "neigh_low_show = neigh_low_show.iloc[1:]\n",
        "neigh_low_show"
      ],
      "execution_count": 145,
      "outputs": [
        {
          "output_type": "execute_result",
          "data": {
            "text/html": [
              "<div>\n",
              "<style scoped>\n",
              "    .dataframe tbody tr th:only-of-type {\n",
              "        vertical-align: middle;\n",
              "    }\n",
              "\n",
              "    .dataframe tbody tr th {\n",
              "        vertical-align: top;\n",
              "    }\n",
              "\n",
              "    .dataframe thead th {\n",
              "        text-align: right;\n",
              "    }\n",
              "</style>\n",
              "<table border=\"1\" class=\"dataframe\">\n",
              "  <thead>\n",
              "    <tr style=\"text-align: right;\">\n",
              "      <th></th>\n",
              "      <th>neighbourhood</th>\n",
              "      <th>total_appointments</th>\n",
              "      <th>show_appointments</th>\n",
              "      <th>show_prop</th>\n",
              "    </tr>\n",
              "  </thead>\n",
              "  <tbody>\n",
              "    <tr>\n",
              "      <th>70</th>\n",
              "      <td>SANTOS DUMONT</td>\n",
              "      <td>1276</td>\n",
              "      <td>907</td>\n",
              "      <td>71.081505</td>\n",
              "    </tr>\n",
              "    <tr>\n",
              "      <th>61</th>\n",
              "      <td>SANTA CECÍLIA</td>\n",
              "      <td>448</td>\n",
              "      <td>325</td>\n",
              "      <td>72.544643</td>\n",
              "    </tr>\n",
              "    <tr>\n",
              "      <th>62</th>\n",
              "      <td>SANTA CLARA</td>\n",
              "      <td>506</td>\n",
              "      <td>372</td>\n",
              "      <td>73.517787</td>\n",
              "    </tr>\n",
              "    <tr>\n",
              "      <th>36</th>\n",
              "      <td>ITARARÉ</td>\n",
              "      <td>3514</td>\n",
              "      <td>2591</td>\n",
              "      <td>73.733637</td>\n",
              "    </tr>\n",
              "    <tr>\n",
              "      <th>40</th>\n",
              "      <td>JESUS DE NAZARETH</td>\n",
              "      <td>2853</td>\n",
              "      <td>2157</td>\n",
              "      <td>75.604627</td>\n",
              "    </tr>\n",
              "  </tbody>\n",
              "</table>\n",
              "</div>"
            ],
            "text/plain": [
              "        neighbourhood  total_appointments  show_appointments  show_prop\n",
              "70      SANTOS DUMONT                1276                907  71.081505\n",
              "61      SANTA CECÍLIA                 448                325  72.544643\n",
              "62        SANTA CLARA                 506                372  73.517787\n",
              "36            ITARARÉ                3514               2591  73.733637\n",
              "40  JESUS DE NAZARETH                2853               2157  75.604627"
            ]
          },
          "metadata": {
            "tags": []
          },
          "execution_count": 145
        }
      ]
    },
    {
      "cell_type": "code",
      "metadata": {
        "colab": {
          "base_uri": "https://localhost:8080/",
          "height": 468
        },
        "id": "VSqsiwmiToU4",
        "outputId": "17f71b08-d68b-4d24-fbc4-ad3c2d32fc71"
      },
      "source": [
        "plt.figure(figsize=(8,6),dpi=70)\n",
        "graph = sns.barplot(data=neigh_low_show,x='neighbourhood',y='show_prop',color='limegreen')\n",
        "graph.set_xlabel('Neighbourhood',fontsize=13.5)\n",
        "graph.set_ylabel('% of people who showed up\\n',fontsize=13.5)\n",
        "graph.set_title('Neighbourhood with low Show-up',fontsize=16)\n",
        "sns.despine( left=True, bottom=True)\n",
        "plt.xticks(rotation=45);"
      ],
      "execution_count": 173,
      "outputs": [
        {
          "output_type": "display_data",
          "data": {
            "image/png": "[encoded data removed]",
            "text/plain": [
              "<Figure size 560x420 with 1 Axes>"
            ]
          },
          "metadata": {
            "tags": [],
            "needs_background": "light"
          }
        }
      ]
    },
    {
      "cell_type": "markdown",
      "metadata": {
        "id": "mwH-m6BSLNcd"
      },
      "source": [
        "# Day of the week\n",
        "Day at which appointment is booked"
      ]
    },
    {
      "cell_type": "code",
      "metadata": {
        "id": "XzylkUPtDAFV"
      },
      "source": [
        "appointment_day_of_week = pd.DataFrame()"
      ],
      "execution_count": 67,
      "outputs": []
    },
    {
      "cell_type": "code",
      "metadata": {
        "id": "izoQL7E9DG-F"
      },
      "source": [
        "appointment_day_of_week['total_dow'] = df.groupby('appointment_dow').show.count()\n",
        "appointment_day_of_week['show_dow'] = df.groupby('appointment_dow').show.sum()\n",
        "appointment_day_of_week['show_prop'] = df.groupby('appointment_dow').show.mean()\n",
        "appointment_day_of_week.reset_index(inplace=True)"
      ],
      "execution_count": 68,
      "outputs": []
    },
    {
      "cell_type": "code",
      "metadata": {
        "colab": {
          "base_uri": "https://localhost:8080/",
          "height": 235
        },
        "id": "XTZbuoXjD4Vm",
        "outputId": "bd9d4794-4cc5-41fb-dd4c-c38bc07735a3"
      },
      "source": [
        "appointment_day_of_week"
      ],
      "execution_count": 69,
      "outputs": [
        {
          "output_type": "execute_result",
          "data": {
            "text/html": [
              "<div>\n",
              "<style scoped>\n",
              "    .dataframe tbody tr th:only-of-type {\n",
              "        vertical-align: middle;\n",
              "    }\n",
              "\n",
              "    .dataframe tbody tr th {\n",
              "        vertical-align: top;\n",
              "    }\n",
              "\n",
              "    .dataframe thead th {\n",
              "        text-align: right;\n",
              "    }\n",
              "</style>\n",
              "<table border=\"1\" class=\"dataframe\">\n",
              "  <thead>\n",
              "    <tr style=\"text-align: right;\">\n",
              "      <th></th>\n",
              "      <th>appointment_dow</th>\n",
              "      <th>total_dow</th>\n",
              "      <th>show_dow</th>\n",
              "      <th>show_prop</th>\n",
              "    </tr>\n",
              "  </thead>\n",
              "  <tbody>\n",
              "    <tr>\n",
              "      <th>0</th>\n",
              "      <td>Friday</td>\n",
              "      <td>19019</td>\n",
              "      <td>14982</td>\n",
              "      <td>0.787739</td>\n",
              "    </tr>\n",
              "    <tr>\n",
              "      <th>1</th>\n",
              "      <td>Monday</td>\n",
              "      <td>22713</td>\n",
              "      <td>18024</td>\n",
              "      <td>0.793554</td>\n",
              "    </tr>\n",
              "    <tr>\n",
              "      <th>2</th>\n",
              "      <td>Saturday</td>\n",
              "      <td>39</td>\n",
              "      <td>30</td>\n",
              "      <td>0.769231</td>\n",
              "    </tr>\n",
              "    <tr>\n",
              "      <th>3</th>\n",
              "      <td>Thursday</td>\n",
              "      <td>17246</td>\n",
              "      <td>13909</td>\n",
              "      <td>0.806506</td>\n",
              "    </tr>\n",
              "    <tr>\n",
              "      <th>4</th>\n",
              "      <td>Tuesday</td>\n",
              "      <td>25638</td>\n",
              "      <td>20488</td>\n",
              "      <td>0.799126</td>\n",
              "    </tr>\n",
              "    <tr>\n",
              "      <th>5</th>\n",
              "      <td>Wednesday</td>\n",
              "      <td>25866</td>\n",
              "      <td>20774</td>\n",
              "      <td>0.803139</td>\n",
              "    </tr>\n",
              "  </tbody>\n",
              "</table>\n",
              "</div>"
            ],
            "text/plain": [
              "  appointment_dow  total_dow  show_dow  show_prop\n",
              "0          Friday      19019     14982   0.787739\n",
              "1          Monday      22713     18024   0.793554\n",
              "2        Saturday         39        30   0.769231\n",
              "3        Thursday      17246     13909   0.806506\n",
              "4         Tuesday      25638     20488   0.799126\n",
              "5       Wednesday      25866     20774   0.803139"
            ]
          },
          "metadata": {
            "tags": []
          },
          "execution_count": 69
        }
      ]
    },
    {
      "cell_type": "code",
      "metadata": {
        "colab": {
          "base_uri": "https://localhost:8080/",
          "height": 436
        },
        "id": "u4_rGeYhFdBl",
        "outputId": "f9ce2366-c3a6-48b8-e05b-1bbd5e262675"
      },
      "source": [
        "plt.figure(figsize=(8,6),dpi=70)\n",
        "graph = sns.barplot(data=appointment_day_of_week,x='appointment_dow',y='total_dow',color='orange')\n",
        "graph = sns.barplot(data=appointment_day_of_week,x='appointment_dow',y='show_dow',color='khaki')\n",
        "graph.set_xlabel('Day of the week',fontsize=13.5)\n",
        "graph.set_ylabel('% of people who showed up\\n',fontsize=13.5)\n",
        "graph.set_title('Neighbourhood with Low Show-up',fontsize=16)\n",
        "sns.despine( left=True, bottom=True)\n",
        "plt.xticks(rotation=45);"
      ],
      "execution_count": 170,
      "outputs": [
        {
          "output_type": "display_data",
          "data": {
            "image/png": "[encoded data removed]",
            "text/plain": [
              "<Figure size 560x420 with 1 Axes>"
            ]
          },
          "metadata": {
            "tags": [],
            "needs_background": "light"
          }
        }
      ]
    },
    {
      "cell_type": "markdown",
      "metadata": {
        "id": "ug0Vyon3YWAO"
      },
      "source": [
        "> Saturday's have lowest appointments and Show-up rate"
      ]
    },
    {
      "cell_type": "code",
      "metadata": {
        "id": "Ytg80q00Gzrj"
      },
      "source": [
        "appointment_day_of_week['no_show_prop'] = 1 - appointment_day_of_week['show_prop']"
      ],
      "execution_count": 71,
      "outputs": []
    },
    {
      "cell_type": "code",
      "metadata": {
        "colab": {
          "base_uri": "https://localhost:8080/",
          "height": 235
        },
        "id": "RDR8gVIqIpl_",
        "outputId": "510a6b1a-5995-442a-f3aa-2e0854a4a419"
      },
      "source": [
        "appointment_day_of_week"
      ],
      "execution_count": 72,
      "outputs": [
        {
          "output_type": "execute_result",
          "data": {
            "text/html": [
              "<div>\n",
              "<style scoped>\n",
              "    .dataframe tbody tr th:only-of-type {\n",
              "        vertical-align: middle;\n",
              "    }\n",
              "\n",
              "    .dataframe tbody tr th {\n",
              "        vertical-align: top;\n",
              "    }\n",
              "\n",
              "    .dataframe thead th {\n",
              "        text-align: right;\n",
              "    }\n",
              "</style>\n",
              "<table border=\"1\" class=\"dataframe\">\n",
              "  <thead>\n",
              "    <tr style=\"text-align: right;\">\n",
              "      <th></th>\n",
              "      <th>appointment_dow</th>\n",
              "      <th>total_dow</th>\n",
              "      <th>show_dow</th>\n",
              "      <th>show_prop</th>\n",
              "      <th>no_show_prop</th>\n",
              "    </tr>\n",
              "  </thead>\n",
              "  <tbody>\n",
              "    <tr>\n",
              "      <th>0</th>\n",
              "      <td>Friday</td>\n",
              "      <td>19019</td>\n",
              "      <td>14982</td>\n",
              "      <td>0.787739</td>\n",
              "      <td>0.212261</td>\n",
              "    </tr>\n",
              "    <tr>\n",
              "      <th>1</th>\n",
              "      <td>Monday</td>\n",
              "      <td>22713</td>\n",
              "      <td>18024</td>\n",
              "      <td>0.793554</td>\n",
              "      <td>0.206446</td>\n",
              "    </tr>\n",
              "    <tr>\n",
              "      <th>2</th>\n",
              "      <td>Saturday</td>\n",
              "      <td>39</td>\n",
              "      <td>30</td>\n",
              "      <td>0.769231</td>\n",
              "      <td>0.230769</td>\n",
              "    </tr>\n",
              "    <tr>\n",
              "      <th>3</th>\n",
              "      <td>Thursday</td>\n",
              "      <td>17246</td>\n",
              "      <td>13909</td>\n",
              "      <td>0.806506</td>\n",
              "      <td>0.193494</td>\n",
              "    </tr>\n",
              "    <tr>\n",
              "      <th>4</th>\n",
              "      <td>Tuesday</td>\n",
              "      <td>25638</td>\n",
              "      <td>20488</td>\n",
              "      <td>0.799126</td>\n",
              "      <td>0.200874</td>\n",
              "    </tr>\n",
              "    <tr>\n",
              "      <th>5</th>\n",
              "      <td>Wednesday</td>\n",
              "      <td>25866</td>\n",
              "      <td>20774</td>\n",
              "      <td>0.803139</td>\n",
              "      <td>0.196861</td>\n",
              "    </tr>\n",
              "  </tbody>\n",
              "</table>\n",
              "</div>"
            ],
            "text/plain": [
              "  appointment_dow  total_dow  show_dow  show_prop  no_show_prop\n",
              "0          Friday      19019     14982   0.787739      0.212261\n",
              "1          Monday      22713     18024   0.793554      0.206446\n",
              "2        Saturday         39        30   0.769231      0.230769\n",
              "3        Thursday      17246     13909   0.806506      0.193494\n",
              "4         Tuesday      25638     20488   0.799126      0.200874\n",
              "5       Wednesday      25866     20774   0.803139      0.196861"
            ]
          },
          "metadata": {
            "tags": []
          },
          "execution_count": 72
        }
      ]
    },
    {
      "cell_type": "code",
      "metadata": {
        "colab": {
          "base_uri": "https://localhost:8080/",
          "height": 436
        },
        "id": "ghyAA0NrIyf5",
        "outputId": "956d19f5-5d04-45ef-f7d7-1c21d1c83ffa"
      },
      "source": [
        "plt.figure(figsize=(8,6),dpi=70)\n",
        "values = appointment_day_of_week.no_show_prop\n",
        "clrs = ['palegreen' if (x < max(values)) else 'darkgreen' for x in values ]\n",
        "graph = sns.barplot(data=appointment_day_of_week,x='appointment_dow',y='no_show_prop',palette=clrs)\n",
        "graph.set_xlabel('Day of the week',fontsize=13.5)\n",
        "graph.set_ylabel('% of No-Show\\n',fontsize=13.5)\n",
        "graph.set_title('Neighbourhood with Low Show-up',fontsize=16)\n",
        "sns.despine( left=True, bottom=True)\n",
        "plt.xticks(rotation=45);"
      ],
      "execution_count": 172,
      "outputs": [
        {
          "output_type": "display_data",
          "data": {
            "image/png": "[encoded data removed]",
            "text/plain": [
              "<Figure size 560x420 with 1 Axes>"
            ]
          },
          "metadata": {
            "tags": [],
            "needs_background": "light"
          }
        }
      ]
    },
    {
      "cell_type": "markdown",
      "metadata": {
        "id": "sChF1FaaYmhS"
      },
      "source": [
        "> Saturday's have highest No-show ratio"
      ]
    },
    {
      "cell_type": "markdown",
      "metadata": {
        "id": "EoemVexZp7Fa"
      },
      "source": [
        "# Relation of showing up with month"
      ]
    },
    {
      "cell_type": "code",
      "metadata": {
        "colab": {
          "base_uri": "https://localhost:8080/"
        },
        "id": "4I34ml7Fp-Xh",
        "outputId": "cf35fba5-e804-42a1-9279-6cfdb7b33991"
      },
      "source": [
        "months = df.appointment_month.unique()\n",
        "print(months)"
      ],
      "execution_count": 177,
      "outputs": [
        {
          "output_type": "stream",
          "text": [
            "['April' 'May' 'June']\n"
          ],
          "name": "stdout"
        }
      ]
    },
    {
      "cell_type": "code",
      "metadata": {
        "id": "d33QrNppnuOl"
      },
      "source": [
        "appointment_month = pd.DataFrame()"
      ],
      "execution_count": 178,
      "outputs": []
    },
    {
      "cell_type": "code",
      "metadata": {
        "id": "JmOO0yownw86"
      },
      "source": [
        "appointment_month['total_appointments'] = df.groupby('appointment_month').show.count()\n",
        "appointment_month['show_appointments'] = df.groupby('appointment_month').show.sum()\n",
        "appointment_month['show_prop'] = df.groupby('appointment_month').show.mean()\n",
        "appointment_month.reset_index(inplace=True)\n",
        "appointment_month.show_prop = appointment_month.show_prop*100;"
      ],
      "execution_count": 179,
      "outputs": []
    },
    {
      "cell_type": "code",
      "metadata": {
        "colab": {
          "base_uri": "https://localhost:8080/",
          "height": 142
        },
        "id": "UZd98Mt9oTzD",
        "outputId": "e1a9ea02-8728-4f47-89f3-76ecca91fdb1"
      },
      "source": [
        "appointment_month"
      ],
      "execution_count": 180,
      "outputs": [
        {
          "output_type": "execute_result",
          "data": {
            "text/html": [
              "<div>\n",
              "<style scoped>\n",
              "    .dataframe tbody tr th:only-of-type {\n",
              "        vertical-align: middle;\n",
              "    }\n",
              "\n",
              "    .dataframe tbody tr th {\n",
              "        vertical-align: top;\n",
              "    }\n",
              "\n",
              "    .dataframe thead th {\n",
              "        text-align: right;\n",
              "    }\n",
              "</style>\n",
              "<table border=\"1\" class=\"dataframe\">\n",
              "  <thead>\n",
              "    <tr style=\"text-align: right;\">\n",
              "      <th></th>\n",
              "      <th>appointment_month</th>\n",
              "      <th>total_appointments</th>\n",
              "      <th>show_appointments</th>\n",
              "      <th>show_prop</th>\n",
              "    </tr>\n",
              "  </thead>\n",
              "  <tbody>\n",
              "    <tr>\n",
              "      <th>0</th>\n",
              "      <td>April</td>\n",
              "      <td>3235</td>\n",
              "      <td>2602</td>\n",
              "      <td>80.432767</td>\n",
              "    </tr>\n",
              "    <tr>\n",
              "      <th>1</th>\n",
              "      <td>June</td>\n",
              "      <td>26450</td>\n",
              "      <td>21568</td>\n",
              "      <td>81.542533</td>\n",
              "    </tr>\n",
              "    <tr>\n",
              "      <th>2</th>\n",
              "      <td>May</td>\n",
              "      <td>80836</td>\n",
              "      <td>64037</td>\n",
              "      <td>79.218418</td>\n",
              "    </tr>\n",
              "  </tbody>\n",
              "</table>\n",
              "</div>"
            ],
            "text/plain": [
              "  appointment_month  total_appointments  show_appointments  show_prop\n",
              "0             April                3235               2602  80.432767\n",
              "1              June               26450              21568  81.542533\n",
              "2               May               80836              64037  79.218418"
            ]
          },
          "metadata": {
            "tags": []
          },
          "execution_count": 180
        }
      ]
    },
    {
      "cell_type": "code",
      "metadata": {
        "colab": {
          "base_uri": "https://localhost:8080/",
          "height": 361
        },
        "id": "3t6MCAFmZOsH",
        "outputId": "a7ae19c5-ade9-4778-acaf-b2364ff6db1c"
      },
      "source": [
        "plt.figure(figsize=(7,5),dpi=70)\n",
        "graph = sns.barplot(data=appointment_month,x='appointment_month',y='show_prop',palette='Set2')\n",
        "graph.set_xlabel('\\nMonths',fontsize=13.5)\n",
        "graph.set_ylabel('% of people who showed up\\n',fontsize=13.5)\n",
        "graph.set_title('Monthly Show-up ratio',fontsize=16)\n",
        "sns.despine( left=True, bottom=True)"
      ],
      "execution_count": 187,
      "outputs": [
        {
          "output_type": "display_data",
          "data": {
            "image/png": "[encoded data removed]",
            "text/plain": [
              "<Figure size 490x350 with 1 Axes>"
            ]
          },
          "metadata": {
            "tags": [],
            "needs_background": "light"
          }
        }
      ]
    },
    {
      "cell_type": "markdown",
      "metadata": {
        "id": "F3IhW9v_qNJn"
      },
      "source": [
        "> Show up rates for all three months are approx similar.\n",
        "\n",
        "> We can notice that number of appointments in month of May is almost three times from June and 26 times from April. "
      ]
    },
    {
      "cell_type": "markdown",
      "metadata": {
        "id": "_jWkcJ9e05Fq"
      },
      "source": [
        "# Conclusion"
      ]
    },
    {
      "cell_type": "markdown",
      "metadata": {
        "id": "6QdaSperKHOb"
      },
      "source": [
        "# Limitations"
      ]
    },
    {
      "cell_type": "markdown",
      "metadata": {
        "id": "-WrRKbrfEa78"
      },
      "source": [
        "\n",
        ">Appointment Time in all the rows is same that is 00:00:00.\n",
        ">>If appointment time was specified properly then we could have \n",
        "find time intervals over which people prefer to miss scheduled appointment"
      ]
    },
    {
      "cell_type": "markdown",
      "metadata": {
        "id": "QJGgAiP_EkhE"
      },
      "source": [
        "> Handicap section has five different values(0,1,2,3,4) but on Kaggle author describes it as column with boolean values where 0 represents person with no-handicap and 1 with handicap.\n",
        ">> We have assumed that 1,2,3,4 are handicaps and changed them all to 1 to represent person with handicap. While 0 represents person with no handicap."
      ]
    },
    {
      "cell_type": "markdown",
      "metadata": {
        "id": "6eV9jNZqZguv"
      },
      "source": [
        "> Distance from neighbourhood to the hospital is not given"
      ]
    },
    {
      "cell_type": "markdown",
      "metadata": {
        "id": "BSy4AoW4owuI"
      },
      "source": [
        "> Dataset only have data for month **April, May and June**. \n",
        ">> If data for other months was provided then we could have find months with least show-up rates."
      ]
    },
    {
      "cell_type": "code",
      "metadata": {
        "id": "G3Gsdoa-pJGa"
      },
      "source": [
        ""
      ],
      "execution_count": 77,
      "outputs": []
    }
  ]
}